{
 "cells": [
  {
   "cell_type": "code",
   "execution_count": 1,
   "metadata": {},
   "outputs": [],
   "source": [
    "import pandas as pd\n",
    "import numpy as np\n",
    "import datetime\n",
    "from datetime import datetime, date"
   ]
  },
  {
   "cell_type": "markdown",
   "metadata": {},
   "source": [
    "# Series\n",
    "-1차원 배열 같은 자료구조\n",
    "  \n",
    "-numpy자료형 저장가능\n",
    "\n",
    "-index 이름을 가지고 있음"
   ]
  },
  {
   "cell_type": "code",
   "execution_count": 2,
   "metadata": {},
   "outputs": [],
   "source": [
    "s =  pd.Series([10, 11, 12, 13, 14])"
   ]
  },
  {
   "cell_type": "code",
   "execution_count": 3,
   "metadata": {},
   "outputs": [
    {
     "data": {
      "text/plain": [
       "11"
      ]
     },
     "execution_count": 3,
     "metadata": {},
     "output_type": "execute_result"
    }
   ],
   "source": [
    "s[1]"
   ]
  },
  {
   "cell_type": "code",
   "execution_count": 4,
   "metadata": {},
   "outputs": [
    {
     "data": {
      "text/plain": [
       "0    10\n",
       "1    11\n",
       "2    12\n",
       "3    13\n",
       "4    14\n",
       "dtype: int64"
      ]
     },
     "execution_count": 4,
     "metadata": {},
     "output_type": "execute_result"
    }
   ],
   "source": [
    "s"
   ]
  },
  {
   "cell_type": "code",
   "execution_count": 5,
   "metadata": {},
   "outputs": [
    {
     "data": {
      "text/plain": [
       "0      삼성전자\n",
       "1      엘지전자\n",
       "2    SK하이닉스\n",
       "3      엘지화학\n",
       "dtype: object"
      ]
     },
     "execution_count": 5,
     "metadata": {},
     "output_type": "execute_result"
    }
   ],
   "source": [
    "pd.Series(['삼성전자', '엘지전자', 'SK하이닉스', '엘지화학'])"
   ]
  },
  {
   "cell_type": "code",
   "execution_count": 6,
   "metadata": {},
   "outputs": [
    {
     "data": {
      "text/plain": [
       "[2, 2, 2, 2, 2]"
      ]
     },
     "execution_count": 6,
     "metadata": {},
     "output_type": "execute_result"
    }
   ],
   "source": [
    "[2]*5"
   ]
  },
  {
   "cell_type": "code",
   "execution_count": 7,
   "metadata": {},
   "outputs": [
    {
     "data": {
      "text/plain": [
       "0    2\n",
       "1    2\n",
       "2    2\n",
       "3    2\n",
       "4    2\n",
       "dtype: int64"
      ]
     },
     "execution_count": 7,
     "metadata": {},
     "output_type": "execute_result"
    }
   ],
   "source": [
    "pd.Series([2]* 5)"
   ]
  },
  {
   "cell_type": "code",
   "execution_count": 8,
   "metadata": {},
   "outputs": [
    {
     "data": {
      "text/plain": [
       "pandas.core.series.Series"
      ]
     },
     "execution_count": 8,
     "metadata": {},
     "output_type": "execute_result"
    }
   ],
   "source": [
    "type(s)"
   ]
  },
  {
   "cell_type": "code",
   "execution_count": 9,
   "metadata": {},
   "outputs": [],
   "source": [
    "a = {\n",
    "    '삼성전자':'가전',\n",
    "    '엘지화학':'화학',\n",
    "    '신세계':'유통'\n",
    "}"
   ]
  },
  {
   "cell_type": "code",
   "execution_count": 10,
   "metadata": {},
   "outputs": [
    {
     "data": {
      "text/plain": [
       "'유통'"
      ]
     },
     "execution_count": 10,
     "metadata": {},
     "output_type": "execute_result"
    }
   ],
   "source": [
    "a['신세계']"
   ]
  },
  {
   "cell_type": "code",
   "execution_count": 11,
   "metadata": {},
   "outputs": [],
   "source": [
    "b = pd.Series(a)"
   ]
  },
  {
   "cell_type": "code",
   "execution_count": 12,
   "metadata": {},
   "outputs": [
    {
     "data": {
      "text/plain": [
       "삼성전자    가전\n",
       "엘지화학    화학\n",
       "신세계     유통\n",
       "dtype: object"
      ]
     },
     "execution_count": 12,
     "metadata": {},
     "output_type": "execute_result"
    }
   ],
   "source": [
    "b"
   ]
  },
  {
   "cell_type": "code",
   "execution_count": 13,
   "metadata": {},
   "outputs": [
    {
     "data": {
      "text/plain": [
       "'유통'"
      ]
     },
     "execution_count": 13,
     "metadata": {},
     "output_type": "execute_result"
    }
   ],
   "source": [
    "b['신세계']"
   ]
  },
  {
   "cell_type": "code",
   "execution_count": 14,
   "metadata": {},
   "outputs": [
    {
     "data": {
      "text/plain": [
       "0    4\n",
       "1    5\n",
       "2    6\n",
       "3    7\n",
       "4    8\n",
       "dtype: int64"
      ]
     },
     "execution_count": 14,
     "metadata": {},
     "output_type": "execute_result"
    }
   ],
   "source": [
    "pd.Series(np.arange(4, 9))"
   ]
  },
  {
   "cell_type": "code",
   "execution_count": 15,
   "metadata": {},
   "outputs": [
    {
     "data": {
      "text/plain": [
       "0    0.00\n",
       "1    2.25\n",
       "2    4.50\n",
       "3    6.75\n",
       "4    9.00\n",
       "dtype: float64"
      ]
     },
     "execution_count": 15,
     "metadata": {},
     "output_type": "execute_result"
    }
   ],
   "source": [
    "pd.Series(np.linspace(0,  9, 5))"
   ]
  },
  {
   "cell_type": "code",
   "execution_count": 16,
   "metadata": {},
   "outputs": [
    {
     "data": {
      "text/plain": [
       "0    0.496714\n",
       "1   -0.138264\n",
       "2    0.647689\n",
       "3    1.523030\n",
       "4   -0.234153\n",
       "dtype: float64"
      ]
     },
     "execution_count": 16,
     "metadata": {},
     "output_type": "execute_result"
    }
   ],
   "source": [
    "np.random.seed(42)\n",
    "pd.Series(np.random.normal(size = 5))"
   ]
  },
  {
   "cell_type": "code",
   "execution_count": 17,
   "metadata": {},
   "outputs": [],
   "source": [
    "c = pd.Series([1,2,3])"
   ]
  },
  {
   "cell_type": "code",
   "execution_count": 18,
   "metadata": {},
   "outputs": [
    {
     "data": {
      "text/plain": [
       "array([1, 2, 3])"
      ]
     },
     "execution_count": 18,
     "metadata": {},
     "output_type": "execute_result"
    }
   ],
   "source": [
    "c.values"
   ]
  },
  {
   "cell_type": "code",
   "execution_count": 19,
   "metadata": {},
   "outputs": [
    {
     "data": {
      "text/plain": [
       "RangeIndex(start=0, stop=3, step=1)"
      ]
     },
     "execution_count": 19,
     "metadata": {},
     "output_type": "execute_result"
    }
   ],
   "source": [
    " c.index"
   ]
  },
  {
   "cell_type": "code",
   "execution_count": 20,
   "metadata": {},
   "outputs": [
    {
     "data": {
      "text/plain": [
       "3"
      ]
     },
     "execution_count": 20,
     "metadata": {},
     "output_type": "execute_result"
    }
   ],
   "source": [
    "c.size"
   ]
  },
  {
   "cell_type": "code",
   "execution_count": 21,
   "metadata": {},
   "outputs": [
    {
     "data": {
      "text/plain": [
       "3"
      ]
     },
     "execution_count": 21,
     "metadata": {},
     "output_type": "execute_result"
    }
   ],
   "source": [
    "len(c)"
   ]
  },
  {
   "cell_type": "code",
   "execution_count": 22,
   "metadata": {},
   "outputs": [
    {
     "data": {
      "text/plain": [
       "(3,)"
      ]
     },
     "execution_count": 22,
     "metadata": {},
     "output_type": "execute_result"
    }
   ],
   "source": [
    "c.shape"
   ]
  },
  {
   "cell_type": "code",
   "execution_count": 23,
   "metadata": {},
   "outputs": [],
   "source": [
    "labels = ['choi', 'young', 'min']\n",
    "role = ['first', 'second', 'third']"
   ]
  },
  {
   "cell_type": "code",
   "execution_count": 24,
   "metadata": {},
   "outputs": [],
   "source": [
    "s = pd.Series(labels, index=role)"
   ]
  },
  {
   "cell_type": "code",
   "execution_count": 25,
   "metadata": {},
   "outputs": [
    {
     "data": {
      "text/plain": [
       "first      choi\n",
       "second    young\n",
       "third       min\n",
       "dtype: object"
      ]
     },
     "execution_count": 25,
     "metadata": {},
     "output_type": "execute_result"
    }
   ],
   "source": [
    "s"
   ]
  },
  {
   "cell_type": "code",
   "execution_count": 26,
   "metadata": {},
   "outputs": [
    {
     "data": {
      "text/plain": [
       "first      choi\n",
       "second    young\n",
       "dtype: object"
      ]
     },
     "execution_count": 26,
     "metadata": {},
     "output_type": "execute_result"
    }
   ],
   "source": [
    "s.head(2)"
   ]
  },
  {
   "cell_type": "code",
   "execution_count": 27,
   "metadata": {},
   "outputs": [
    {
     "data": {
      "text/plain": [
       "second    young\n",
       "third       min\n",
       "dtype: object"
      ]
     },
     "execution_count": 27,
     "metadata": {},
     "output_type": "execute_result"
    }
   ],
   "source": [
    "s.tail(2)"
   ]
  },
  {
   "cell_type": "code",
   "execution_count": 28,
   "metadata": {},
   "outputs": [
    {
     "data": {
      "text/plain": [
       "(3,)"
      ]
     },
     "execution_count": 28,
     "metadata": {},
     "output_type": "execute_result"
    }
   ],
   "source": [
    "s.shape"
   ]
  },
  {
   "cell_type": "code",
   "execution_count": 29,
   "metadata": {},
   "outputs": [],
   "source": [
    "s1 = pd.Series(np.arange(10, 15), index = list('abcde'))"
   ]
  },
  {
   "cell_type": "code",
   "execution_count": 30,
   "metadata": {},
   "outputs": [
    {
     "data": {
      "text/plain": [
       "a    10\n",
       "b    11\n",
       "c    12\n",
       "d    13\n",
       "e    14\n",
       "dtype: int64"
      ]
     },
     "execution_count": 30,
     "metadata": {},
     "output_type": "execute_result"
    }
   ],
   "source": [
    "s1"
   ]
  },
  {
   "cell_type": "code",
   "execution_count": 31,
   "metadata": {},
   "outputs": [
    {
     "data": {
      "text/plain": [
       "Index(['a', 'b', 'c', 'd', 'e'], dtype='object')"
      ]
     },
     "execution_count": 31,
     "metadata": {},
     "output_type": "execute_result"
    }
   ],
   "source": [
    "s1.index"
   ]
  },
  {
   "cell_type": "markdown",
   "metadata": {},
   "source": [
    "## series 는 index의 이름을 사용하여 데이터를 접근"
   ]
  },
  {
   "cell_type": "code",
   "execution_count": 32,
   "metadata": {},
   "outputs": [
    {
     "data": {
      "text/plain": [
       "13"
      ]
     },
     "execution_count": 32,
     "metadata": {},
     "output_type": "execute_result"
    }
   ],
   "source": [
    "s1['d']"
   ]
  },
  {
   "cell_type": "code",
   "execution_count": 33,
   "metadata": {},
   "outputs": [
    {
     "data": {
      "text/plain": [
       "a    10\n",
       "d    13\n",
       "dtype: int64"
      ]
     },
     "execution_count": 33,
     "metadata": {},
     "output_type": "execute_result"
    }
   ],
   "source": [
    "s1[['a', 'd']]"
   ]
  },
  {
   "cell_type": "code",
   "execution_count": 34,
   "metadata": {},
   "outputs": [],
   "source": [
    "s2 = pd.Series(np.arange(10, 15), index=range(1, 6))"
   ]
  },
  {
   "cell_type": "code",
   "execution_count": 35,
   "metadata": {},
   "outputs": [
    {
     "data": {
      "text/plain": [
       "1    10\n",
       "2    11\n",
       "3    12\n",
       "4    13\n",
       "5    14\n",
       "dtype: int64"
      ]
     },
     "execution_count": 35,
     "metadata": {},
     "output_type": "execute_result"
    }
   ],
   "source": [
    "s2"
   ]
  },
  {
   "cell_type": "code",
   "execution_count": 36,
   "metadata": {},
   "outputs": [
    {
     "data": {
      "text/plain": [
       "12"
      ]
     },
     "execution_count": 36,
     "metadata": {},
     "output_type": "execute_result"
    }
   ],
   "source": [
    "s2[3]"
   ]
  },
  {
   "cell_type": "code",
   "execution_count": 37,
   "metadata": {},
   "outputs": [
    {
     "data": {
      "text/plain": [
       "1    10\n",
       "3    12\n",
       "dtype: int64"
      ]
     },
     "execution_count": 37,
     "metadata": {},
     "output_type": "execute_result"
    }
   ],
   "source": [
    "s2[[1, 3]]"
   ]
  },
  {
   "cell_type": "code",
   "execution_count": 38,
   "metadata": {},
   "outputs": [],
   "source": [
    "#s2[0]\n",
    "#error 이유는 index에 0이 없다"
   ]
  },
  {
   "cell_type": "markdown",
   "metadata": {},
   "source": [
    "# DataFrame"
   ]
  },
  {
   "cell_type": "code",
   "execution_count": 39,
   "metadata": {},
   "outputs": [],
   "source": [
    "df_1 = pd.DataFrame(np.arange(1, 10))"
   ]
  },
  {
   "cell_type": "code",
   "execution_count": 40,
   "metadata": {},
   "outputs": [
    {
     "data": {
      "text/html": [
       "<div>\n",
       "<style scoped>\n",
       "    .dataframe tbody tr th:only-of-type {\n",
       "        vertical-align: middle;\n",
       "    }\n",
       "\n",
       "    .dataframe tbody tr th {\n",
       "        vertical-align: top;\n",
       "    }\n",
       "\n",
       "    .dataframe thead th {\n",
       "        text-align: right;\n",
       "    }\n",
       "</style>\n",
       "<table border=\"1\" class=\"dataframe\">\n",
       "  <thead>\n",
       "    <tr style=\"text-align: right;\">\n",
       "      <th></th>\n",
       "      <th>0</th>\n",
       "    </tr>\n",
       "  </thead>\n",
       "  <tbody>\n",
       "    <tr>\n",
       "      <th>0</th>\n",
       "      <td>1</td>\n",
       "    </tr>\n",
       "    <tr>\n",
       "      <th>1</th>\n",
       "      <td>2</td>\n",
       "    </tr>\n",
       "    <tr>\n",
       "      <th>2</th>\n",
       "      <td>3</td>\n",
       "    </tr>\n",
       "    <tr>\n",
       "      <th>3</th>\n",
       "      <td>4</td>\n",
       "    </tr>\n",
       "    <tr>\n",
       "      <th>4</th>\n",
       "      <td>5</td>\n",
       "    </tr>\n",
       "    <tr>\n",
       "      <th>5</th>\n",
       "      <td>6</td>\n",
       "    </tr>\n",
       "    <tr>\n",
       "      <th>6</th>\n",
       "      <td>7</td>\n",
       "    </tr>\n",
       "    <tr>\n",
       "      <th>7</th>\n",
       "      <td>8</td>\n",
       "    </tr>\n",
       "    <tr>\n",
       "      <th>8</th>\n",
       "      <td>9</td>\n",
       "    </tr>\n",
       "  </tbody>\n",
       "</table>\n",
       "</div>"
      ],
      "text/plain": [
       "   0\n",
       "0  1\n",
       "1  2\n",
       "2  3\n",
       "3  4\n",
       "4  5\n",
       "5  6\n",
       "6  7\n",
       "7  8\n",
       "8  9"
      ]
     },
     "execution_count": 40,
     "metadata": {},
     "output_type": "execute_result"
    }
   ],
   "source": [
    "df_1"
   ]
  },
  {
   "cell_type": "code",
   "execution_count": 41,
   "metadata": {},
   "outputs": [
    {
     "data": {
      "text/plain": [
       "(9, 1)"
      ]
     },
     "execution_count": 41,
     "metadata": {},
     "output_type": "execute_result"
    }
   ],
   "source": [
    "df_1.shape"
   ]
  },
  {
   "cell_type": "code",
   "execution_count": 42,
   "metadata": {},
   "outputs": [],
   "source": [
    "df = pd.DataFrame(np.array([[10 ,11], [20,21]]))"
   ]
  },
  {
   "cell_type": "code",
   "execution_count": 43,
   "metadata": {},
   "outputs": [
    {
     "data": {
      "text/html": [
       "<div>\n",
       "<style scoped>\n",
       "    .dataframe tbody tr th:only-of-type {\n",
       "        vertical-align: middle;\n",
       "    }\n",
       "\n",
       "    .dataframe tbody tr th {\n",
       "        vertical-align: top;\n",
       "    }\n",
       "\n",
       "    .dataframe thead th {\n",
       "        text-align: right;\n",
       "    }\n",
       "</style>\n",
       "<table border=\"1\" class=\"dataframe\">\n",
       "  <thead>\n",
       "    <tr style=\"text-align: right;\">\n",
       "      <th></th>\n",
       "      <th>0</th>\n",
       "      <th>1</th>\n",
       "    </tr>\n",
       "  </thead>\n",
       "  <tbody>\n",
       "    <tr>\n",
       "      <th>0</th>\n",
       "      <td>10</td>\n",
       "      <td>11</td>\n",
       "    </tr>\n",
       "    <tr>\n",
       "      <th>1</th>\n",
       "      <td>20</td>\n",
       "      <td>21</td>\n",
       "    </tr>\n",
       "  </tbody>\n",
       "</table>\n",
       "</div>"
      ],
      "text/plain": [
       "    0   1\n",
       "0  10  11\n",
       "1  20  21"
      ]
     },
     "execution_count": 43,
     "metadata": {},
     "output_type": "execute_result"
    }
   ],
   "source": [
    "df"
   ]
  },
  {
   "cell_type": "code",
   "execution_count": 44,
   "metadata": {},
   "outputs": [],
   "source": [
    "df = pd.DataFrame(np.array([[50, 51], [60, 61]]), columns=['A', 'B'])"
   ]
  },
  {
   "cell_type": "markdown",
   "metadata": {},
   "source": [
    "## dict 형식으로 DataFrame 만들기"
   ]
  },
  {
   "cell_type": "code",
   "execution_count": 45,
   "metadata": {},
   "outputs": [],
   "source": [
    "df_dict = {'A': [50, 51], 'B':[60,61]}"
   ]
  },
  {
   "cell_type": "code",
   "execution_count": 46,
   "metadata": {},
   "outputs": [
    {
     "data": {
      "text/plain": [
       "{'A': [50, 51], 'B': [60, 61]}"
      ]
     },
     "execution_count": 46,
     "metadata": {},
     "output_type": "execute_result"
    }
   ],
   "source": [
    "df_dict"
   ]
  },
  {
   "cell_type": "code",
   "execution_count": 47,
   "metadata": {},
   "outputs": [
    {
     "data": {
      "text/html": [
       "<div>\n",
       "<style scoped>\n",
       "    .dataframe tbody tr th:only-of-type {\n",
       "        vertical-align: middle;\n",
       "    }\n",
       "\n",
       "    .dataframe tbody tr th {\n",
       "        vertical-align: top;\n",
       "    }\n",
       "\n",
       "    .dataframe thead th {\n",
       "        text-align: right;\n",
       "    }\n",
       "</style>\n",
       "<table border=\"1\" class=\"dataframe\">\n",
       "  <thead>\n",
       "    <tr style=\"text-align: right;\">\n",
       "      <th></th>\n",
       "      <th>A</th>\n",
       "      <th>B</th>\n",
       "    </tr>\n",
       "  </thead>\n",
       "  <tbody>\n",
       "    <tr>\n",
       "      <th>0</th>\n",
       "      <td>50</td>\n",
       "      <td>60</td>\n",
       "    </tr>\n",
       "    <tr>\n",
       "      <th>1</th>\n",
       "      <td>51</td>\n",
       "      <td>61</td>\n",
       "    </tr>\n",
       "  </tbody>\n",
       "</table>\n",
       "</div>"
      ],
      "text/plain": [
       "    A   B\n",
       "0  50  60\n",
       "1  51  61"
      ]
     },
     "execution_count": 47,
     "metadata": {},
     "output_type": "execute_result"
    }
   ],
   "source": [
    "pd.DataFrame(df_dict)"
   ]
  },
  {
   "cell_type": "markdown",
   "metadata": {},
   "source": [
    "## 컬럼 이름 변경 혹은 붙이기"
   ]
  },
  {
   "cell_type": "code",
   "execution_count": 48,
   "metadata": {},
   "outputs": [
    {
     "data": {
      "text/plain": [
       "Index(['A', 'B'], dtype='object')"
      ]
     },
     "execution_count": 48,
     "metadata": {},
     "output_type": "execute_result"
    }
   ],
   "source": [
    "df.columns"
   ]
  },
  {
   "cell_type": "code",
   "execution_count": 49,
   "metadata": {},
   "outputs": [],
   "source": [
    "df.columns = ['A', 'B']"
   ]
  },
  {
   "cell_type": "code",
   "execution_count": 50,
   "metadata": {},
   "outputs": [
    {
     "data": {
      "text/html": [
       "<div>\n",
       "<style scoped>\n",
       "    .dataframe tbody tr th:only-of-type {\n",
       "        vertical-align: middle;\n",
       "    }\n",
       "\n",
       "    .dataframe tbody tr th {\n",
       "        vertical-align: top;\n",
       "    }\n",
       "\n",
       "    .dataframe thead th {\n",
       "        text-align: right;\n",
       "    }\n",
       "</style>\n",
       "<table border=\"1\" class=\"dataframe\">\n",
       "  <thead>\n",
       "    <tr style=\"text-align: right;\">\n",
       "      <th></th>\n",
       "      <th>A</th>\n",
       "      <th>B</th>\n",
       "    </tr>\n",
       "  </thead>\n",
       "  <tbody>\n",
       "    <tr>\n",
       "      <th>0</th>\n",
       "      <td>50</td>\n",
       "      <td>51</td>\n",
       "    </tr>\n",
       "    <tr>\n",
       "      <th>1</th>\n",
       "      <td>60</td>\n",
       "      <td>61</td>\n",
       "    </tr>\n",
       "  </tbody>\n",
       "</table>\n",
       "</div>"
      ],
      "text/plain": [
       "    A   B\n",
       "0  50  51\n",
       "1  60  61"
      ]
     },
     "execution_count": 50,
     "metadata": {},
     "output_type": "execute_result"
    }
   ],
   "source": [
    "df"
   ]
  },
  {
   "cell_type": "markdown",
   "metadata": {},
   "source": [
    "## 웹에 있는 데이터를  DataFrame으로 만들기"
   ]
  },
  {
   "cell_type": "code",
   "execution_count": 51,
   "metadata": {},
   "outputs": [],
   "source": [
    "kb = pd.read_html(\"https://finance.naver.com/item/sise_day.nhn?code=105560&page=3\")[0]"
   ]
  },
  {
   "cell_type": "code",
   "execution_count": 52,
   "metadata": {},
   "outputs": [
    {
     "data": {
      "text/html": [
       "<div>\n",
       "<style scoped>\n",
       "    .dataframe tbody tr th:only-of-type {\n",
       "        vertical-align: middle;\n",
       "    }\n",
       "\n",
       "    .dataframe tbody tr th {\n",
       "        vertical-align: top;\n",
       "    }\n",
       "\n",
       "    .dataframe thead th {\n",
       "        text-align: right;\n",
       "    }\n",
       "</style>\n",
       "<table border=\"1\" class=\"dataframe\">\n",
       "  <thead>\n",
       "    <tr style=\"text-align: right;\">\n",
       "      <th></th>\n",
       "      <th>날짜</th>\n",
       "      <th>종가</th>\n",
       "      <th>전일비</th>\n",
       "      <th>시가</th>\n",
       "      <th>고가</th>\n",
       "      <th>저가</th>\n",
       "      <th>거래량</th>\n",
       "    </tr>\n",
       "  </thead>\n",
       "  <tbody>\n",
       "    <tr>\n",
       "      <th>0</th>\n",
       "      <td>NaN</td>\n",
       "      <td>NaN</td>\n",
       "      <td>NaN</td>\n",
       "      <td>NaN</td>\n",
       "      <td>NaN</td>\n",
       "      <td>NaN</td>\n",
       "      <td>NaN</td>\n",
       "    </tr>\n",
       "    <tr>\n",
       "      <th>1</th>\n",
       "      <td>2019.11.28</td>\n",
       "      <td>46550.0</td>\n",
       "      <td>450.0</td>\n",
       "      <td>45750.0</td>\n",
       "      <td>46600.0</td>\n",
       "      <td>45650.0</td>\n",
       "      <td>540476.0</td>\n",
       "    </tr>\n",
       "    <tr>\n",
       "      <th>2</th>\n",
       "      <td>2019.11.27</td>\n",
       "      <td>46100.0</td>\n",
       "      <td>250.0</td>\n",
       "      <td>46000.0</td>\n",
       "      <td>46500.0</td>\n",
       "      <td>45750.0</td>\n",
       "      <td>753439.0</td>\n",
       "    </tr>\n",
       "    <tr>\n",
       "      <th>3</th>\n",
       "      <td>2019.11.26</td>\n",
       "      <td>45850.0</td>\n",
       "      <td>200.0</td>\n",
       "      <td>45950.0</td>\n",
       "      <td>46350.0</td>\n",
       "      <td>45400.0</td>\n",
       "      <td>2137333.0</td>\n",
       "    </tr>\n",
       "    <tr>\n",
       "      <th>4</th>\n",
       "      <td>2019.11.25</td>\n",
       "      <td>46050.0</td>\n",
       "      <td>150.0</td>\n",
       "      <td>46700.0</td>\n",
       "      <td>46700.0</td>\n",
       "      <td>45850.0</td>\n",
       "      <td>1217858.0</td>\n",
       "    </tr>\n",
       "    <tr>\n",
       "      <th>5</th>\n",
       "      <td>2019.11.22</td>\n",
       "      <td>46200.0</td>\n",
       "      <td>550.0</td>\n",
       "      <td>46050.0</td>\n",
       "      <td>46200.0</td>\n",
       "      <td>45850.0</td>\n",
       "      <td>1097164.0</td>\n",
       "    </tr>\n",
       "    <tr>\n",
       "      <th>6</th>\n",
       "      <td>NaN</td>\n",
       "      <td>NaN</td>\n",
       "      <td>NaN</td>\n",
       "      <td>NaN</td>\n",
       "      <td>NaN</td>\n",
       "      <td>NaN</td>\n",
       "      <td>NaN</td>\n",
       "    </tr>\n",
       "    <tr>\n",
       "      <th>7</th>\n",
       "      <td>NaN</td>\n",
       "      <td>NaN</td>\n",
       "      <td>NaN</td>\n",
       "      <td>NaN</td>\n",
       "      <td>NaN</td>\n",
       "      <td>NaN</td>\n",
       "      <td>NaN</td>\n",
       "    </tr>\n",
       "    <tr>\n",
       "      <th>8</th>\n",
       "      <td>NaN</td>\n",
       "      <td>NaN</td>\n",
       "      <td>NaN</td>\n",
       "      <td>NaN</td>\n",
       "      <td>NaN</td>\n",
       "      <td>NaN</td>\n",
       "      <td>NaN</td>\n",
       "    </tr>\n",
       "    <tr>\n",
       "      <th>9</th>\n",
       "      <td>2019.11.21</td>\n",
       "      <td>45650.0</td>\n",
       "      <td>300.0</td>\n",
       "      <td>46400.0</td>\n",
       "      <td>46450.0</td>\n",
       "      <td>45150.0</td>\n",
       "      <td>1686894.0</td>\n",
       "    </tr>\n",
       "    <tr>\n",
       "      <th>10</th>\n",
       "      <td>2019.11.20</td>\n",
       "      <td>45950.0</td>\n",
       "      <td>1050.0</td>\n",
       "      <td>44800.0</td>\n",
       "      <td>46550.0</td>\n",
       "      <td>44650.0</td>\n",
       "      <td>2402413.0</td>\n",
       "    </tr>\n",
       "    <tr>\n",
       "      <th>11</th>\n",
       "      <td>2019.11.19</td>\n",
       "      <td>44900.0</td>\n",
       "      <td>900.0</td>\n",
       "      <td>44050.0</td>\n",
       "      <td>44950.0</td>\n",
       "      <td>43650.0</td>\n",
       "      <td>1834999.0</td>\n",
       "    </tr>\n",
       "    <tr>\n",
       "      <th>12</th>\n",
       "      <td>2019.11.18</td>\n",
       "      <td>44000.0</td>\n",
       "      <td>300.0</td>\n",
       "      <td>43600.0</td>\n",
       "      <td>44000.0</td>\n",
       "      <td>43400.0</td>\n",
       "      <td>738224.0</td>\n",
       "    </tr>\n",
       "    <tr>\n",
       "      <th>13</th>\n",
       "      <td>2019.11.15</td>\n",
       "      <td>43700.0</td>\n",
       "      <td>0.0</td>\n",
       "      <td>43400.0</td>\n",
       "      <td>44200.0</td>\n",
       "      <td>43300.0</td>\n",
       "      <td>1154688.0</td>\n",
       "    </tr>\n",
       "    <tr>\n",
       "      <th>14</th>\n",
       "      <td>NaN</td>\n",
       "      <td>NaN</td>\n",
       "      <td>NaN</td>\n",
       "      <td>NaN</td>\n",
       "      <td>NaN</td>\n",
       "      <td>NaN</td>\n",
       "      <td>NaN</td>\n",
       "    </tr>\n",
       "  </tbody>\n",
       "</table>\n",
       "</div>"
      ],
      "text/plain": [
       "            날짜       종가     전일비       시가       고가       저가        거래량\n",
       "0          NaN      NaN     NaN      NaN      NaN      NaN        NaN\n",
       "1   2019.11.28  46550.0   450.0  45750.0  46600.0  45650.0   540476.0\n",
       "2   2019.11.27  46100.0   250.0  46000.0  46500.0  45750.0   753439.0\n",
       "3   2019.11.26  45850.0   200.0  45950.0  46350.0  45400.0  2137333.0\n",
       "4   2019.11.25  46050.0   150.0  46700.0  46700.0  45850.0  1217858.0\n",
       "5   2019.11.22  46200.0   550.0  46050.0  46200.0  45850.0  1097164.0\n",
       "6          NaN      NaN     NaN      NaN      NaN      NaN        NaN\n",
       "7          NaN      NaN     NaN      NaN      NaN      NaN        NaN\n",
       "8          NaN      NaN     NaN      NaN      NaN      NaN        NaN\n",
       "9   2019.11.21  45650.0   300.0  46400.0  46450.0  45150.0  1686894.0\n",
       "10  2019.11.20  45950.0  1050.0  44800.0  46550.0  44650.0  2402413.0\n",
       "11  2019.11.19  44900.0   900.0  44050.0  44950.0  43650.0  1834999.0\n",
       "12  2019.11.18  44000.0   300.0  43600.0  44000.0  43400.0   738224.0\n",
       "13  2019.11.15  43700.0     0.0  43400.0  44200.0  43300.0  1154688.0\n",
       "14         NaN      NaN     NaN      NaN      NaN      NaN        NaN"
      ]
     },
     "execution_count": 52,
     "metadata": {},
     "output_type": "execute_result"
    }
   ],
   "source": [
    "kb"
   ]
  },
  {
   "cell_type": "code",
   "execution_count": 53,
   "metadata": {},
   "outputs": [
    {
     "data": {
      "text/plain": [
       "날짜     5\n",
       "종가     5\n",
       "전일비    5\n",
       "시가     5\n",
       "고가     5\n",
       "저가     5\n",
       "거래량    5\n",
       "dtype: int64"
      ]
     },
     "execution_count": 53,
     "metadata": {},
     "output_type": "execute_result"
    }
   ],
   "source": [
    "kb.isnull().sum()"
   ]
  },
  {
   "cell_type": "code",
   "execution_count": 54,
   "metadata": {},
   "outputs": [
    {
     "data": {
      "text/html": [
       "<div>\n",
       "<style scoped>\n",
       "    .dataframe tbody tr th:only-of-type {\n",
       "        vertical-align: middle;\n",
       "    }\n",
       "\n",
       "    .dataframe tbody tr th {\n",
       "        vertical-align: top;\n",
       "    }\n",
       "\n",
       "    .dataframe thead th {\n",
       "        text-align: right;\n",
       "    }\n",
       "</style>\n",
       "<table border=\"1\" class=\"dataframe\">\n",
       "  <thead>\n",
       "    <tr style=\"text-align: right;\">\n",
       "      <th></th>\n",
       "      <th>날짜</th>\n",
       "      <th>종가</th>\n",
       "      <th>전일비</th>\n",
       "      <th>시가</th>\n",
       "      <th>고가</th>\n",
       "      <th>저가</th>\n",
       "      <th>거래량</th>\n",
       "    </tr>\n",
       "  </thead>\n",
       "  <tbody>\n",
       "    <tr>\n",
       "      <th>1</th>\n",
       "      <td>2019.11.28</td>\n",
       "      <td>46550.0</td>\n",
       "      <td>450.0</td>\n",
       "      <td>45750.0</td>\n",
       "      <td>46600.0</td>\n",
       "      <td>45650.0</td>\n",
       "      <td>540476.0</td>\n",
       "    </tr>\n",
       "    <tr>\n",
       "      <th>2</th>\n",
       "      <td>2019.11.27</td>\n",
       "      <td>46100.0</td>\n",
       "      <td>250.0</td>\n",
       "      <td>46000.0</td>\n",
       "      <td>46500.0</td>\n",
       "      <td>45750.0</td>\n",
       "      <td>753439.0</td>\n",
       "    </tr>\n",
       "    <tr>\n",
       "      <th>3</th>\n",
       "      <td>2019.11.26</td>\n",
       "      <td>45850.0</td>\n",
       "      <td>200.0</td>\n",
       "      <td>45950.0</td>\n",
       "      <td>46350.0</td>\n",
       "      <td>45400.0</td>\n",
       "      <td>2137333.0</td>\n",
       "    </tr>\n",
       "    <tr>\n",
       "      <th>4</th>\n",
       "      <td>2019.11.25</td>\n",
       "      <td>46050.0</td>\n",
       "      <td>150.0</td>\n",
       "      <td>46700.0</td>\n",
       "      <td>46700.0</td>\n",
       "      <td>45850.0</td>\n",
       "      <td>1217858.0</td>\n",
       "    </tr>\n",
       "    <tr>\n",
       "      <th>5</th>\n",
       "      <td>2019.11.22</td>\n",
       "      <td>46200.0</td>\n",
       "      <td>550.0</td>\n",
       "      <td>46050.0</td>\n",
       "      <td>46200.0</td>\n",
       "      <td>45850.0</td>\n",
       "      <td>1097164.0</td>\n",
       "    </tr>\n",
       "    <tr>\n",
       "      <th>9</th>\n",
       "      <td>2019.11.21</td>\n",
       "      <td>45650.0</td>\n",
       "      <td>300.0</td>\n",
       "      <td>46400.0</td>\n",
       "      <td>46450.0</td>\n",
       "      <td>45150.0</td>\n",
       "      <td>1686894.0</td>\n",
       "    </tr>\n",
       "    <tr>\n",
       "      <th>10</th>\n",
       "      <td>2019.11.20</td>\n",
       "      <td>45950.0</td>\n",
       "      <td>1050.0</td>\n",
       "      <td>44800.0</td>\n",
       "      <td>46550.0</td>\n",
       "      <td>44650.0</td>\n",
       "      <td>2402413.0</td>\n",
       "    </tr>\n",
       "    <tr>\n",
       "      <th>11</th>\n",
       "      <td>2019.11.19</td>\n",
       "      <td>44900.0</td>\n",
       "      <td>900.0</td>\n",
       "      <td>44050.0</td>\n",
       "      <td>44950.0</td>\n",
       "      <td>43650.0</td>\n",
       "      <td>1834999.0</td>\n",
       "    </tr>\n",
       "    <tr>\n",
       "      <th>12</th>\n",
       "      <td>2019.11.18</td>\n",
       "      <td>44000.0</td>\n",
       "      <td>300.0</td>\n",
       "      <td>43600.0</td>\n",
       "      <td>44000.0</td>\n",
       "      <td>43400.0</td>\n",
       "      <td>738224.0</td>\n",
       "    </tr>\n",
       "    <tr>\n",
       "      <th>13</th>\n",
       "      <td>2019.11.15</td>\n",
       "      <td>43700.0</td>\n",
       "      <td>0.0</td>\n",
       "      <td>43400.0</td>\n",
       "      <td>44200.0</td>\n",
       "      <td>43300.0</td>\n",
       "      <td>1154688.0</td>\n",
       "    </tr>\n",
       "  </tbody>\n",
       "</table>\n",
       "</div>"
      ],
      "text/plain": [
       "            날짜       종가     전일비       시가       고가       저가        거래량\n",
       "1   2019.11.28  46550.0   450.0  45750.0  46600.0  45650.0   540476.0\n",
       "2   2019.11.27  46100.0   250.0  46000.0  46500.0  45750.0   753439.0\n",
       "3   2019.11.26  45850.0   200.0  45950.0  46350.0  45400.0  2137333.0\n",
       "4   2019.11.25  46050.0   150.0  46700.0  46700.0  45850.0  1217858.0\n",
       "5   2019.11.22  46200.0   550.0  46050.0  46200.0  45850.0  1097164.0\n",
       "9   2019.11.21  45650.0   300.0  46400.0  46450.0  45150.0  1686894.0\n",
       "10  2019.11.20  45950.0  1050.0  44800.0  46550.0  44650.0  2402413.0\n",
       "11  2019.11.19  44900.0   900.0  44050.0  44950.0  43650.0  1834999.0\n",
       "12  2019.11.18  44000.0   300.0  43600.0  44000.0  43400.0   738224.0\n",
       "13  2019.11.15  43700.0     0.0  43400.0  44200.0  43300.0  1154688.0"
      ]
     },
     "execution_count": 54,
     "metadata": {},
     "output_type": "execute_result"
    }
   ],
   "source": [
    "kb.dropna()"
   ]
  },
  {
   "cell_type": "code",
   "execution_count": 55,
   "metadata": {},
   "outputs": [],
   "source": [
    "kb_stock = pd.DataFrame()\n",
    "for x in range(1,4):\n",
    "    tmp = pd.read_html(\"https://finance.naver.com/item/sise_day.nhn?code=105560&page={}\".format(x))[0]\n",
    "    tmp = tmp.dropna()\n",
    "    kb_stock = kb_stock.append(tmp)"
   ]
  },
  {
   "cell_type": "code",
   "execution_count": 56,
   "metadata": {},
   "outputs": [],
   "source": [
    "kb_stock.reset_index(inplace=True)"
   ]
  },
  {
   "cell_type": "code",
   "execution_count": 57,
   "metadata": {},
   "outputs": [
    {
     "data": {
      "text/plain": [
       "Index(['index', '날짜', '종가', '전일비', '시가', '고가', '저가', '거래량'], dtype='object')"
      ]
     },
     "execution_count": 57,
     "metadata": {},
     "output_type": "execute_result"
    }
   ],
   "source": [
    "kb_stock.columns"
   ]
  },
  {
   "cell_type": "code",
   "execution_count": 58,
   "metadata": {},
   "outputs": [
    {
     "data": {
      "text/plain": [
       "0     48050.0\n",
       "1     49400.0\n",
       "2     49450.0\n",
       "3     49900.0\n",
       "4     49050.0\n",
       "5     49400.0\n",
       "6     49400.0\n",
       "7     47950.0\n",
       "8     49050.0\n",
       "9     50000.0\n",
       "10    48350.0\n",
       "11    48000.0\n",
       "12    48300.0\n",
       "13    48050.0\n",
       "14    47000.0\n",
       "15    46650.0\n",
       "16    46050.0\n",
       "17    45850.0\n",
       "18    45950.0\n",
       "19    46050.0\n",
       "20    46550.0\n",
       "21    46100.0\n",
       "22    45850.0\n",
       "23    46050.0\n",
       "24    46200.0\n",
       "25    45650.0\n",
       "26    45950.0\n",
       "27    44900.0\n",
       "28    44000.0\n",
       "29    43700.0\n",
       "Name: 종가, dtype: float64"
      ]
     },
     "execution_count": 58,
     "metadata": {},
     "output_type": "execute_result"
    }
   ],
   "source": [
    "kb_stock['종가']"
   ]
  },
  {
   "cell_type": "code",
   "execution_count": 59,
   "metadata": {},
   "outputs": [],
   "source": [
    "kb_close = kb_stock['종가']"
   ]
  },
  {
   "cell_type": "code",
   "execution_count": 60,
   "metadata": {},
   "outputs": [
    {
     "data": {
      "text/plain": [
       "0     48050.0\n",
       "1     49400.0\n",
       "2     49450.0\n",
       "3     49900.0\n",
       "4     49050.0\n",
       "5     49400.0\n",
       "6     49400.0\n",
       "7     47950.0\n",
       "8     49050.0\n",
       "9     50000.0\n",
       "10    48350.0\n",
       "11    48000.0\n",
       "12    48300.0\n",
       "13    48050.0\n",
       "14    47000.0\n",
       "15    46650.0\n",
       "16    46050.0\n",
       "17    45850.0\n",
       "18    45950.0\n",
       "19    46050.0\n",
       "20    46550.0\n",
       "21    46100.0\n",
       "22    45850.0\n",
       "23    46050.0\n",
       "24    46200.0\n",
       "25    45650.0\n",
       "26    45950.0\n",
       "27    44900.0\n",
       "28    44000.0\n",
       "29    43700.0\n",
       "Name: 종가, dtype: float64"
      ]
     },
     "execution_count": 60,
     "metadata": {},
     "output_type": "execute_result"
    }
   ],
   "source": [
    "kb_close"
   ]
  },
  {
   "cell_type": "code",
   "execution_count": 61,
   "metadata": {},
   "outputs": [
    {
     "data": {
      "text/plain": [
       "pandas.core.series.Series"
      ]
     },
     "execution_count": 61,
     "metadata": {},
     "output_type": "execute_result"
    }
   ],
   "source": [
    "type(kb_close)"
   ]
  },
  {
   "cell_type": "code",
   "execution_count": 62,
   "metadata": {},
   "outputs": [
    {
     "data": {
      "text/plain": [
       "dtype('float64')"
      ]
     },
     "execution_count": 62,
     "metadata": {},
     "output_type": "execute_result"
    }
   ],
   "source": [
    "kb_close.dtype"
   ]
  },
  {
   "cell_type": "code",
   "execution_count": 63,
   "metadata": {},
   "outputs": [
    {
     "data": {
      "text/plain": [
       "0     48050\n",
       "1     49400\n",
       "2     49450\n",
       "3     49900\n",
       "4     49050\n",
       "5     49400\n",
       "6     49400\n",
       "7     47950\n",
       "8     49050\n",
       "9     50000\n",
       "10    48350\n",
       "11    48000\n",
       "12    48300\n",
       "13    48050\n",
       "14    47000\n",
       "15    46650\n",
       "16    46050\n",
       "17    45850\n",
       "18    45950\n",
       "19    46050\n",
       "20    46550\n",
       "21    46100\n",
       "22    45850\n",
       "23    46050\n",
       "24    46200\n",
       "25    45650\n",
       "26    45950\n",
       "27    44900\n",
       "28    44000\n",
       "29    43700\n",
       "Name: 종가, dtype: int32"
      ]
     },
     "execution_count": 63,
     "metadata": {},
     "output_type": "execute_result"
    }
   ],
   "source": [
    "kb_close.astype('int32')"
   ]
  },
  {
   "cell_type": "code",
   "execution_count": 64,
   "metadata": {},
   "outputs": [
    {
     "data": {
      "text/plain": [
       "0     48050.0\n",
       "1     49400.0\n",
       "2     49450.0\n",
       "3     49900.0\n",
       "4     49050.0\n",
       "5     49400.0\n",
       "6     49400.0\n",
       "7     47950.0\n",
       "8     49050.0\n",
       "9     50000.0\n",
       "10    48350.0\n",
       "11    48000.0\n",
       "12    48300.0\n",
       "13    48050.0\n",
       "14    47000.0\n",
       "15    46650.0\n",
       "16    46050.0\n",
       "17    45850.0\n",
       "18    45950.0\n",
       "19    46050.0\n",
       "20    46550.0\n",
       "21    46100.0\n",
       "22    45850.0\n",
       "23    46050.0\n",
       "24    46200.0\n",
       "25    45650.0\n",
       "26    45950.0\n",
       "27    44900.0\n",
       "28    44000.0\n",
       "29    43700.0\n",
       "Name: 종가, dtype: float64"
      ]
     },
     "execution_count": 64,
     "metadata": {},
     "output_type": "execute_result"
    }
   ],
   "source": [
    "kb_close"
   ]
  },
  {
   "cell_type": "markdown",
   "metadata": {},
   "source": [
    "**http://fisis.fss.or.kr/fss/fsiview/indexw.html**"
   ]
  },
  {
   "cell_type": "code",
   "execution_count": 65,
   "metadata": {},
   "outputs": [],
   "source": [
    "text = \"\"\"{\"result\":{\"err_cd\":\"000\",\"err_msg\":\"정상\",\"total_count\":\"56\",\"description\":[{\"column_id\":\"a\",\"column_nm\":\"임직원수\"}],\"date_of_settlement\":\"12/31\",\"unit\":\"명\",\"list\":[{\"base_month\":\"201806\",\"finance_cd\":\"0010927\",\"finance_nm\":\"국민은행\",\"account_cd\":\"A1\",\"account_nm\":\"임원\",\"a\":\"62\"},{\"base_month\":\"201806\",\"finance_cd\":\"0010927\",\"finance_nm\":\"국민은행\",\"account_cd\":\"A11\",\"account_nm\":\"임원_상임임원\",\"a\":\"2\"},{\"base_month\":\"201806\",\"finance_cd\":\"0010927\",\"finance_nm\":\"국민은행\",\"account_cd\":\"A12\",\"account_nm\":\"임원_비상임임원\",\"a\":\"4\"},{\"base_month\":\"201806\",\"finance_cd\":\"0010927\",\"finance_nm\":\"국민은행\",\"account_cd\":\"A13\",\"account_nm\":\"임원_이사대우\",\"a\":\"56\"},{\"base_month\":\"201806\",\"finance_cd\":\"0010927\",\"finance_nm\":\"국민은행\",\"account_cd\":\"A2\",\"account_nm\":\"일반직원\",\"a\":\"16438\"},{\"base_month\":\"201806\",\"finance_cd\":\"0010927\",\"finance_nm\":\"국민은행\",\"account_cd\":\"A21\",\"account_nm\":\"일반직원_책임자\",\"a\":\"9631\"},{\"base_month\":\"201806\",\"finance_cd\":\"0010927\",\"finance_nm\":\"국민은행\",\"account_cd\":\"A22\",\"account_nm\":\"일반직원_행원\",\"a\":\"6807\"},{\"base_month\":\"201806\",\"finance_cd\":\"0010927\",\"finance_nm\":\"국민은행\",\"account_cd\":\"A3\",\"account_nm\":\"서무직원\",\"a\":\"0\"},{\"base_month\":\"201806\",\"finance_cd\":\"0010927\",\"finance_nm\":\"국민은행\",\"account_cd\":\"A4\",\"account_nm\":\"별정직원\",\"a\":\"0\"},{\"base_month\":\"201806\",\"finance_cd\":\"0010927\",\"finance_nm\":\"국민은행\",\"account_cd\":\"A5\",\"account_nm\":\"무기계약직원\",\"a\":\"364\"},{\"base_month\":\"201806\",\"finance_cd\":\"0010927\",\"finance_nm\":\"국민은행\",\"account_cd\":\"A\",\"account_nm\":\"총임직원\",\"a\":\"16864\"},{\"base_month\":\"201806\",\"finance_cd\":\"0010927\",\"finance_nm\":\"국민은행\",\"account_cd\":\"B\",\"account_nm\":\"해외근무임직원\",\"a\":\"118\"},{\"base_month\":\"201806\",\"finance_cd\":\"0010927\",\"finance_nm\":\"국민은행\",\"account_cd\":\"C\",\"account_nm\":\"현지채용임직원\",\"a\":\"86\"},{\"base_month\":\"201806\",\"finance_cd\":\"0010927\",\"finance_nm\":\"국민은행\",\"account_cd\":\"D\",\"account_nm\":\"직원외인원\",\"a\":\"2106\"},{\"base_month\":\"201809\",\"finance_cd\":\"0010927\",\"finance_nm\":\"국민은행\",\"account_cd\":\"A1\",\"account_nm\":\"임원\",\"a\":\"62\"},{\"base_month\":\"201809\",\"finance_cd\":\"0010927\",\"finance_nm\":\"국민은행\",\"account_cd\":\"A11\",\"account_nm\":\"임원_상임임원\",\"a\":\"2\"},{\"base_month\":\"201809\",\"finance_cd\":\"0010927\",\"finance_nm\":\"국민은행\",\"account_cd\":\"A12\",\"account_nm\":\"임원_비상임임원\",\"a\":\"4\"},{\"base_month\":\"201809\",\"finance_cd\":\"0010927\",\"finance_nm\":\"국민은행\",\"account_cd\":\"A13\",\"account_nm\":\"임원_이사대우\",\"a\":\"56\"},{\"base_month\":\"201809\",\"finance_cd\":\"0010927\",\"finance_nm\":\"국민은행\",\"account_cd\":\"A2\",\"account_nm\":\"일반직원\",\"a\":\"16435\"},{\"base_month\":\"201809\",\"finance_cd\":\"0010927\",\"finance_nm\":\"국민은행\",\"account_cd\":\"A21\",\"account_nm\":\"일반직원_책임자\",\"a\":\"9624\"},{\"base_month\":\"201809\",\"finance_cd\":\"0010927\",\"finance_nm\":\"국민은행\",\"account_cd\":\"A22\",\"account_nm\":\"일반직원_행원\",\"a\":\"6811\"},{\"base_month\":\"201809\",\"finance_cd\":\"0010927\",\"finance_nm\":\"국민은행\",\"account_cd\":\"A3\",\"account_nm\":\"서무직원\",\"a\":\"0\"},{\"base_month\":\"201809\",\"finance_cd\":\"0010927\",\"finance_nm\":\"국민은행\",\"account_cd\":\"A4\",\"account_nm\":\"별정직원\",\"a\":\"0\"},{\"base_month\":\"201809\",\"finance_cd\":\"0010927\",\"finance_nm\":\"국민은행\",\"account_cd\":\"A5\",\"account_nm\":\"무기계약직원\",\"a\":\"361\"},{\"base_month\":\"201809\",\"finance_cd\":\"0010927\",\"finance_nm\":\"국민은행\",\"account_cd\":\"A\",\"account_nm\":\"총임직원\",\"a\":\"16858\"},{\"base_month\":\"201809\",\"finance_cd\":\"0010927\",\"finance_nm\":\"국민은행\",\"account_cd\":\"B\",\"account_nm\":\"해외근무임직원\",\"a\":\"120\"},{\"base_month\":\"201809\",\"finance_cd\":\"0010927\",\"finance_nm\":\"국민은행\",\"account_cd\":\"C\",\"account_nm\":\"현지채용임직원\",\"a\":\"87\"},{\"base_month\":\"201809\",\"finance_cd\":\"0010927\",\"finance_nm\":\"국민은행\",\"account_cd\":\"D\",\"account_nm\":\"직원외인원\",\"a\":\"2108\"},{\"base_month\":\"201812\",\"finance_cd\":\"0010927\",\"finance_nm\":\"국민은행\",\"account_cd\":\"A1\",\"account_nm\":\"임원\",\"a\":\"62\"},{\"base_month\":\"201812\",\"finance_cd\":\"0010927\",\"finance_nm\":\"국민은행\",\"account_cd\":\"A11\",\"account_nm\":\"임원_상임임원\",\"a\":\" \"},{\"base_month\":\"201812\",\"finance_cd\":\"0010927\",\"finance_nm\":\"국민은행\",\"account_cd\":\"A12\",\"account_nm\":\"임원_비상임임원\",\"a\":\" \"},{\"base_month\":\"201812\",\"finance_cd\":\"0010927\",\"finance_nm\":\"국민은행\",\"account_cd\":\"A13\",\"account_nm\":\"임원_이사대우\",\"a\":\"56\"},{\"base_month\":\"201812\",\"finance_cd\":\"0010927\",\"finance_nm\":\"국민은행\",\"account_cd\":\"A2\",\"account_nm\":\"일반직원\",\"a\":\" \"},{\"base_month\":\"201812\",\"finance_cd\":\"0010927\",\"finance_nm\":\"국민은행\",\"account_cd\":\"A21\",\"account_nm\":\"일반직원_책임자\",\"a\":\" \"},{\"base_month\":\"201812\",\"finance_cd\":\"0010927\",\"finance_nm\":\"국민은행\",\"account_cd\":\"A22\",\"account_nm\":\"일반직원_행원\",\"a\":\" \"},{\"base_month\":\"201812\",\"finance_cd\":\"0010927\",\"finance_nm\":\"국민은행\",\"account_cd\":\"A3\",\"account_nm\":\"서무직원\",\"a\":\" \"},{\"base_month\":\"201812\",\"finance_cd\":\"0010927\",\"finance_nm\":\"국민은행\",\"account_cd\":\"A4\",\"account_nm\":\"별정직원\",\"a\":\" \"},{\"base_month\":\"201812\",\"finance_cd\":\"0010927\",\"finance_nm\":\"국민은행\",\"account_cd\":\"A5\",\"account_nm\":\"무기계약직원\",\"a\":\" \"},{\"base_month\":\"201812\",\"finance_cd\":\"0010927\",\"finance_nm\":\"국민은행\",\"account_cd\":\"A\",\"account_nm\":\"총임직원\",\"a\":\"18173\"},{\"base_month\":\"201812\",\"finance_cd\":\"0010927\",\"finance_nm\":\"국민은행\",\"account_cd\":\"B\",\"account_nm\":\"해외근무임직원\",\"a\":\"129\"},{\"base_month\":\"201812\",\"finance_cd\":\"0010927\",\"finance_nm\":\"국민은행\",\"account_cd\":\"C\",\"account_nm\":\"현지채용임직원\",\"a\":\" \"},{\"base_month\":\"201812\",\"finance_cd\":\"0010927\",\"finance_nm\":\"국민은행\",\"account_cd\":\"D\",\"account_nm\":\"직원외인원\",\"a\":\"5014\"},{\"base_month\":\"201903\",\"finance_cd\":\"0010927\",\"finance_nm\":\"국민은행\",\"account_cd\":\"A1\",\"account_nm\":\"임원\",\"a\":\"63\"},{\"base_month\":\"201903\",\"finance_cd\":\"0010927\",\"finance_nm\":\"국민은행\",\"account_cd\":\"A11\",\"account_nm\":\"임원_상임임원\",\"a\":\" \"},{\"base_month\":\"201903\",\"finance_cd\":\"0010927\",\"finance_nm\":\"국민은행\",\"account_cd\":\"A12\",\"account_nm\":\"임원_비상임임원\",\"a\":\" \"},{\"base_month\":\"201903\",\"finance_cd\":\"0010927\",\"finance_nm\":\"국민은행\",\"account_cd\":\"A13\",\"account_nm\":\"임원_이사대우\",\"a\":\"55\"},{\"base_month\":\"201903\",\"finance_cd\":\"0010927\",\"finance_nm\":\"국민은행\",\"account_cd\":\"A2\",\"account_nm\":\"일반직원\",\"a\":\" \"},{\"base_month\":\"201903\",\"finance_cd\":\"0010927\",\"finance_nm\":\"국민은행\",\"account_cd\":\"A21\",\"account_nm\":\"일반직원_책임자\",\"a\":\" \"},{\"base_month\":\"201903\",\"finance_cd\":\"0010927\",\"finance_nm\":\"국민은행\",\"account_cd\":\"A22\",\"account_nm\":\"일반직원_행원\",\"a\":\" \"},{\"base_month\":\"201903\",\"finance_cd\":\"0010927\",\"finance_nm\":\"국민은행\",\"account_cd\":\"A3\",\"account_nm\":\"서무직원\",\"a\":\" \"},{\"base_month\":\"201903\",\"finance_cd\":\"0010927\",\"finance_nm\":\"국민은행\",\"account_cd\":\"A4\",\"account_nm\":\"별정직원\",\"a\":\" \"},{\"base_month\":\"201903\",\"finance_cd\":\"0010927\",\"finance_nm\":\"국민은행\",\"account_cd\":\"A5\",\"account_nm\":\"무기계약직원\",\"a\":\" \"},{\"base_month\":\"201903\",\"finance_cd\":\"0010927\",\"finance_nm\":\"국민은행\",\"account_cd\":\"A\",\"account_nm\":\"총임직원\",\"a\":\"17650\"},{\"base_month\":\"201903\",\"finance_cd\":\"0010927\",\"finance_nm\":\"국민은행\",\"account_cd\":\"B\",\"account_nm\":\"해외근무임직원\",\"a\":\"161\"},{\"base_month\":\"201903\",\"finance_cd\":\"0010927\",\"finance_nm\":\"국민은행\",\"account_cd\":\"C\",\"account_nm\":\"현지채용임직원\",\"a\":\" \"},{\"base_month\":\"201903\",\"finance_cd\":\"0010927\",\"finance_nm\":\"국민은행\",\"account_cd\":\"D\",\"account_nm\":\"직원외인원\",\"a\":\"5007\"}]}}\"\"\""
   ]
  },
  {
   "cell_type": "code",
   "execution_count": 66,
   "metadata": {},
   "outputs": [],
   "source": [
    "import json"
   ]
  },
  {
   "cell_type": "code",
   "execution_count": 67,
   "metadata": {},
   "outputs": [
    {
     "data": {
      "text/plain": [
       "{'result': {'err_cd': '000',\n",
       "  'err_msg': '정상',\n",
       "  'total_count': '56',\n",
       "  'description': [{'column_id': 'a', 'column_nm': '임직원수'}],\n",
       "  'date_of_settlement': '12/31',\n",
       "  'unit': '명',\n",
       "  'list': [{'base_month': '201806',\n",
       "    'finance_cd': '0010927',\n",
       "    'finance_nm': '국민은행',\n",
       "    'account_cd': 'A1',\n",
       "    'account_nm': '임원',\n",
       "    'a': '62'},\n",
       "   {'base_month': '201806',\n",
       "    'finance_cd': '0010927',\n",
       "    'finance_nm': '국민은행',\n",
       "    'account_cd': 'A11',\n",
       "    'account_nm': '임원_상임임원',\n",
       "    'a': '2'},\n",
       "   {'base_month': '201806',\n",
       "    'finance_cd': '0010927',\n",
       "    'finance_nm': '국민은행',\n",
       "    'account_cd': 'A12',\n",
       "    'account_nm': '임원_비상임임원',\n",
       "    'a': '4'},\n",
       "   {'base_month': '201806',\n",
       "    'finance_cd': '0010927',\n",
       "    'finance_nm': '국민은행',\n",
       "    'account_cd': 'A13',\n",
       "    'account_nm': '임원_이사대우',\n",
       "    'a': '56'},\n",
       "   {'base_month': '201806',\n",
       "    'finance_cd': '0010927',\n",
       "    'finance_nm': '국민은행',\n",
       "    'account_cd': 'A2',\n",
       "    'account_nm': '일반직원',\n",
       "    'a': '16438'},\n",
       "   {'base_month': '201806',\n",
       "    'finance_cd': '0010927',\n",
       "    'finance_nm': '국민은행',\n",
       "    'account_cd': 'A21',\n",
       "    'account_nm': '일반직원_책임자',\n",
       "    'a': '9631'},\n",
       "   {'base_month': '201806',\n",
       "    'finance_cd': '0010927',\n",
       "    'finance_nm': '국민은행',\n",
       "    'account_cd': 'A22',\n",
       "    'account_nm': '일반직원_행원',\n",
       "    'a': '6807'},\n",
       "   {'base_month': '201806',\n",
       "    'finance_cd': '0010927',\n",
       "    'finance_nm': '국민은행',\n",
       "    'account_cd': 'A3',\n",
       "    'account_nm': '서무직원',\n",
       "    'a': '0'},\n",
       "   {'base_month': '201806',\n",
       "    'finance_cd': '0010927',\n",
       "    'finance_nm': '국민은행',\n",
       "    'account_cd': 'A4',\n",
       "    'account_nm': '별정직원',\n",
       "    'a': '0'},\n",
       "   {'base_month': '201806',\n",
       "    'finance_cd': '0010927',\n",
       "    'finance_nm': '국민은행',\n",
       "    'account_cd': 'A5',\n",
       "    'account_nm': '무기계약직원',\n",
       "    'a': '364'},\n",
       "   {'base_month': '201806',\n",
       "    'finance_cd': '0010927',\n",
       "    'finance_nm': '국민은행',\n",
       "    'account_cd': 'A',\n",
       "    'account_nm': '총임직원',\n",
       "    'a': '16864'},\n",
       "   {'base_month': '201806',\n",
       "    'finance_cd': '0010927',\n",
       "    'finance_nm': '국민은행',\n",
       "    'account_cd': 'B',\n",
       "    'account_nm': '해외근무임직원',\n",
       "    'a': '118'},\n",
       "   {'base_month': '201806',\n",
       "    'finance_cd': '0010927',\n",
       "    'finance_nm': '국민은행',\n",
       "    'account_cd': 'C',\n",
       "    'account_nm': '현지채용임직원',\n",
       "    'a': '86'},\n",
       "   {'base_month': '201806',\n",
       "    'finance_cd': '0010927',\n",
       "    'finance_nm': '국민은행',\n",
       "    'account_cd': 'D',\n",
       "    'account_nm': '직원외인원',\n",
       "    'a': '2106'},\n",
       "   {'base_month': '201809',\n",
       "    'finance_cd': '0010927',\n",
       "    'finance_nm': '국민은행',\n",
       "    'account_cd': 'A1',\n",
       "    'account_nm': '임원',\n",
       "    'a': '62'},\n",
       "   {'base_month': '201809',\n",
       "    'finance_cd': '0010927',\n",
       "    'finance_nm': '국민은행',\n",
       "    'account_cd': 'A11',\n",
       "    'account_nm': '임원_상임임원',\n",
       "    'a': '2'},\n",
       "   {'base_month': '201809',\n",
       "    'finance_cd': '0010927',\n",
       "    'finance_nm': '국민은행',\n",
       "    'account_cd': 'A12',\n",
       "    'account_nm': '임원_비상임임원',\n",
       "    'a': '4'},\n",
       "   {'base_month': '201809',\n",
       "    'finance_cd': '0010927',\n",
       "    'finance_nm': '국민은행',\n",
       "    'account_cd': 'A13',\n",
       "    'account_nm': '임원_이사대우',\n",
       "    'a': '56'},\n",
       "   {'base_month': '201809',\n",
       "    'finance_cd': '0010927',\n",
       "    'finance_nm': '국민은행',\n",
       "    'account_cd': 'A2',\n",
       "    'account_nm': '일반직원',\n",
       "    'a': '16435'},\n",
       "   {'base_month': '201809',\n",
       "    'finance_cd': '0010927',\n",
       "    'finance_nm': '국민은행',\n",
       "    'account_cd': 'A21',\n",
       "    'account_nm': '일반직원_책임자',\n",
       "    'a': '9624'},\n",
       "   {'base_month': '201809',\n",
       "    'finance_cd': '0010927',\n",
       "    'finance_nm': '국민은행',\n",
       "    'account_cd': 'A22',\n",
       "    'account_nm': '일반직원_행원',\n",
       "    'a': '6811'},\n",
       "   {'base_month': '201809',\n",
       "    'finance_cd': '0010927',\n",
       "    'finance_nm': '국민은행',\n",
       "    'account_cd': 'A3',\n",
       "    'account_nm': '서무직원',\n",
       "    'a': '0'},\n",
       "   {'base_month': '201809',\n",
       "    'finance_cd': '0010927',\n",
       "    'finance_nm': '국민은행',\n",
       "    'account_cd': 'A4',\n",
       "    'account_nm': '별정직원',\n",
       "    'a': '0'},\n",
       "   {'base_month': '201809',\n",
       "    'finance_cd': '0010927',\n",
       "    'finance_nm': '국민은행',\n",
       "    'account_cd': 'A5',\n",
       "    'account_nm': '무기계약직원',\n",
       "    'a': '361'},\n",
       "   {'base_month': '201809',\n",
       "    'finance_cd': '0010927',\n",
       "    'finance_nm': '국민은행',\n",
       "    'account_cd': 'A',\n",
       "    'account_nm': '총임직원',\n",
       "    'a': '16858'},\n",
       "   {'base_month': '201809',\n",
       "    'finance_cd': '0010927',\n",
       "    'finance_nm': '국민은행',\n",
       "    'account_cd': 'B',\n",
       "    'account_nm': '해외근무임직원',\n",
       "    'a': '120'},\n",
       "   {'base_month': '201809',\n",
       "    'finance_cd': '0010927',\n",
       "    'finance_nm': '국민은행',\n",
       "    'account_cd': 'C',\n",
       "    'account_nm': '현지채용임직원',\n",
       "    'a': '87'},\n",
       "   {'base_month': '201809',\n",
       "    'finance_cd': '0010927',\n",
       "    'finance_nm': '국민은행',\n",
       "    'account_cd': 'D',\n",
       "    'account_nm': '직원외인원',\n",
       "    'a': '2108'},\n",
       "   {'base_month': '201812',\n",
       "    'finance_cd': '0010927',\n",
       "    'finance_nm': '국민은행',\n",
       "    'account_cd': 'A1',\n",
       "    'account_nm': '임원',\n",
       "    'a': '62'},\n",
       "   {'base_month': '201812',\n",
       "    'finance_cd': '0010927',\n",
       "    'finance_nm': '국민은행',\n",
       "    'account_cd': 'A11',\n",
       "    'account_nm': '임원_상임임원',\n",
       "    'a': ' '},\n",
       "   {'base_month': '201812',\n",
       "    'finance_cd': '0010927',\n",
       "    'finance_nm': '국민은행',\n",
       "    'account_cd': 'A12',\n",
       "    'account_nm': '임원_비상임임원',\n",
       "    'a': ' '},\n",
       "   {'base_month': '201812',\n",
       "    'finance_cd': '0010927',\n",
       "    'finance_nm': '국민은행',\n",
       "    'account_cd': 'A13',\n",
       "    'account_nm': '임원_이사대우',\n",
       "    'a': '56'},\n",
       "   {'base_month': '201812',\n",
       "    'finance_cd': '0010927',\n",
       "    'finance_nm': '국민은행',\n",
       "    'account_cd': 'A2',\n",
       "    'account_nm': '일반직원',\n",
       "    'a': ' '},\n",
       "   {'base_month': '201812',\n",
       "    'finance_cd': '0010927',\n",
       "    'finance_nm': '국민은행',\n",
       "    'account_cd': 'A21',\n",
       "    'account_nm': '일반직원_책임자',\n",
       "    'a': ' '},\n",
       "   {'base_month': '201812',\n",
       "    'finance_cd': '0010927',\n",
       "    'finance_nm': '국민은행',\n",
       "    'account_cd': 'A22',\n",
       "    'account_nm': '일반직원_행원',\n",
       "    'a': ' '},\n",
       "   {'base_month': '201812',\n",
       "    'finance_cd': '0010927',\n",
       "    'finance_nm': '국민은행',\n",
       "    'account_cd': 'A3',\n",
       "    'account_nm': '서무직원',\n",
       "    'a': ' '},\n",
       "   {'base_month': '201812',\n",
       "    'finance_cd': '0010927',\n",
       "    'finance_nm': '국민은행',\n",
       "    'account_cd': 'A4',\n",
       "    'account_nm': '별정직원',\n",
       "    'a': ' '},\n",
       "   {'base_month': '201812',\n",
       "    'finance_cd': '0010927',\n",
       "    'finance_nm': '국민은행',\n",
       "    'account_cd': 'A5',\n",
       "    'account_nm': '무기계약직원',\n",
       "    'a': ' '},\n",
       "   {'base_month': '201812',\n",
       "    'finance_cd': '0010927',\n",
       "    'finance_nm': '국민은행',\n",
       "    'account_cd': 'A',\n",
       "    'account_nm': '총임직원',\n",
       "    'a': '18173'},\n",
       "   {'base_month': '201812',\n",
       "    'finance_cd': '0010927',\n",
       "    'finance_nm': '국민은행',\n",
       "    'account_cd': 'B',\n",
       "    'account_nm': '해외근무임직원',\n",
       "    'a': '129'},\n",
       "   {'base_month': '201812',\n",
       "    'finance_cd': '0010927',\n",
       "    'finance_nm': '국민은행',\n",
       "    'account_cd': 'C',\n",
       "    'account_nm': '현지채용임직원',\n",
       "    'a': ' '},\n",
       "   {'base_month': '201812',\n",
       "    'finance_cd': '0010927',\n",
       "    'finance_nm': '국민은행',\n",
       "    'account_cd': 'D',\n",
       "    'account_nm': '직원외인원',\n",
       "    'a': '5014'},\n",
       "   {'base_month': '201903',\n",
       "    'finance_cd': '0010927',\n",
       "    'finance_nm': '국민은행',\n",
       "    'account_cd': 'A1',\n",
       "    'account_nm': '임원',\n",
       "    'a': '63'},\n",
       "   {'base_month': '201903',\n",
       "    'finance_cd': '0010927',\n",
       "    'finance_nm': '국민은행',\n",
       "    'account_cd': 'A11',\n",
       "    'account_nm': '임원_상임임원',\n",
       "    'a': ' '},\n",
       "   {'base_month': '201903',\n",
       "    'finance_cd': '0010927',\n",
       "    'finance_nm': '국민은행',\n",
       "    'account_cd': 'A12',\n",
       "    'account_nm': '임원_비상임임원',\n",
       "    'a': ' '},\n",
       "   {'base_month': '201903',\n",
       "    'finance_cd': '0010927',\n",
       "    'finance_nm': '국민은행',\n",
       "    'account_cd': 'A13',\n",
       "    'account_nm': '임원_이사대우',\n",
       "    'a': '55'},\n",
       "   {'base_month': '201903',\n",
       "    'finance_cd': '0010927',\n",
       "    'finance_nm': '국민은행',\n",
       "    'account_cd': 'A2',\n",
       "    'account_nm': '일반직원',\n",
       "    'a': ' '},\n",
       "   {'base_month': '201903',\n",
       "    'finance_cd': '0010927',\n",
       "    'finance_nm': '국민은행',\n",
       "    'account_cd': 'A21',\n",
       "    'account_nm': '일반직원_책임자',\n",
       "    'a': ' '},\n",
       "   {'base_month': '201903',\n",
       "    'finance_cd': '0010927',\n",
       "    'finance_nm': '국민은행',\n",
       "    'account_cd': 'A22',\n",
       "    'account_nm': '일반직원_행원',\n",
       "    'a': ' '},\n",
       "   {'base_month': '201903',\n",
       "    'finance_cd': '0010927',\n",
       "    'finance_nm': '국민은행',\n",
       "    'account_cd': 'A3',\n",
       "    'account_nm': '서무직원',\n",
       "    'a': ' '},\n",
       "   {'base_month': '201903',\n",
       "    'finance_cd': '0010927',\n",
       "    'finance_nm': '국민은행',\n",
       "    'account_cd': 'A4',\n",
       "    'account_nm': '별정직원',\n",
       "    'a': ' '},\n",
       "   {'base_month': '201903',\n",
       "    'finance_cd': '0010927',\n",
       "    'finance_nm': '국민은행',\n",
       "    'account_cd': 'A5',\n",
       "    'account_nm': '무기계약직원',\n",
       "    'a': ' '},\n",
       "   {'base_month': '201903',\n",
       "    'finance_cd': '0010927',\n",
       "    'finance_nm': '국민은행',\n",
       "    'account_cd': 'A',\n",
       "    'account_nm': '총임직원',\n",
       "    'a': '17650'},\n",
       "   {'base_month': '201903',\n",
       "    'finance_cd': '0010927',\n",
       "    'finance_nm': '국민은행',\n",
       "    'account_cd': 'B',\n",
       "    'account_nm': '해외근무임직원',\n",
       "    'a': '161'},\n",
       "   {'base_month': '201903',\n",
       "    'finance_cd': '0010927',\n",
       "    'finance_nm': '국민은행',\n",
       "    'account_cd': 'C',\n",
       "    'account_nm': '현지채용임직원',\n",
       "    'a': ' '},\n",
       "   {'base_month': '201903',\n",
       "    'finance_cd': '0010927',\n",
       "    'finance_nm': '국민은행',\n",
       "    'account_cd': 'D',\n",
       "    'account_nm': '직원외인원',\n",
       "    'a': '5007'}]}}"
      ]
     },
     "execution_count": 67,
     "metadata": {},
     "output_type": "execute_result"
    }
   ],
   "source": [
    "json.loads(text)"
   ]
  },
  {
   "cell_type": "code",
   "execution_count": 68,
   "metadata": {},
   "outputs": [],
   "source": [
    "pd.DataFrame(json.loads(text)['result']['list']).to_excel('./tmp.xlsx')"
   ]
  },
  {
   "cell_type": "code",
   "execution_count": 69,
   "metadata": {},
   "outputs": [],
   "source": [
    "kb = pd.DataFrame(json.loads(text)['result']['list'])"
   ]
  },
  {
   "cell_type": "code",
   "execution_count": 70,
   "metadata": {},
   "outputs": [
    {
     "name": "stdout",
     "output_type": "stream",
     "text": [
      "Help on package json:\n",
      "\n",
      "NAME\n",
      "    json\n",
      "\n",
      "MODULE REFERENCE\n",
      "    https://docs.python.org/3.7/library/json\n",
      "    \n",
      "    The following documentation is automatically generated from the Python\n",
      "    source files.  It may be incomplete, incorrect or include features that\n",
      "    are considered implementation detail and may vary between Python\n",
      "    implementations.  When in doubt, consult the module reference at the\n",
      "    location listed above.\n",
      "\n",
      "DESCRIPTION\n",
      "    JSON (JavaScript Object Notation) <http://json.org> is a subset of\n",
      "    JavaScript syntax (ECMA-262 3rd edition) used as a lightweight data\n",
      "    interchange format.\n",
      "    \n",
      "    :mod:`json` exposes an API familiar to users of the standard library\n",
      "    :mod:`marshal` and :mod:`pickle` modules.  It is derived from a\n",
      "    version of the externally maintained simplejson library.\n",
      "    \n",
      "    Encoding basic Python object hierarchies::\n",
      "    \n",
      "        >>> import json\n",
      "        >>> json.dumps(['foo', {'bar': ('baz', None, 1.0, 2)}])\n",
      "        '[\"foo\", {\"bar\": [\"baz\", null, 1.0, 2]}]'\n",
      "        >>> print(json.dumps(\"\\\"foo\\bar\"))\n",
      "        \"\\\"foo\\bar\"\n",
      "        >>> print(json.dumps('\\u1234'))\n",
      "        \"\\u1234\"\n",
      "        >>> print(json.dumps('\\\\'))\n",
      "        \"\\\\\"\n",
      "        >>> print(json.dumps({\"c\": 0, \"b\": 0, \"a\": 0}, sort_keys=True))\n",
      "        {\"a\": 0, \"b\": 0, \"c\": 0}\n",
      "        >>> from io import StringIO\n",
      "        >>> io = StringIO()\n",
      "        >>> json.dump(['streaming API'], io)\n",
      "        >>> io.getvalue()\n",
      "        '[\"streaming API\"]'\n",
      "    \n",
      "    Compact encoding::\n",
      "    \n",
      "        >>> import json\n",
      "        >>> mydict = {'4': 5, '6': 7}\n",
      "        >>> json.dumps([1,2,3,mydict], separators=(',', ':'))\n",
      "        '[1,2,3,{\"4\":5,\"6\":7}]'\n",
      "    \n",
      "    Pretty printing::\n",
      "    \n",
      "        >>> import json\n",
      "        >>> print(json.dumps({'4': 5, '6': 7}, sort_keys=True, indent=4))\n",
      "        {\n",
      "            \"4\": 5,\n",
      "            \"6\": 7\n",
      "        }\n",
      "    \n",
      "    Decoding JSON::\n",
      "    \n",
      "        >>> import json\n",
      "        >>> obj = ['foo', {'bar': ['baz', None, 1.0, 2]}]\n",
      "        >>> json.loads('[\"foo\", {\"bar\":[\"baz\", null, 1.0, 2]}]') == obj\n",
      "        True\n",
      "        >>> json.loads('\"\\\\\"foo\\\\bar\"') == '\"foo\\x08ar'\n",
      "        True\n",
      "        >>> from io import StringIO\n",
      "        >>> io = StringIO('[\"streaming API\"]')\n",
      "        >>> json.load(io)[0] == 'streaming API'\n",
      "        True\n",
      "    \n",
      "    Specializing JSON object decoding::\n",
      "    \n",
      "        >>> import json\n",
      "        >>> def as_complex(dct):\n",
      "        ...     if '__complex__' in dct:\n",
      "        ...         return complex(dct['real'], dct['imag'])\n",
      "        ...     return dct\n",
      "        ...\n",
      "        >>> json.loads('{\"__complex__\": true, \"real\": 1, \"imag\": 2}',\n",
      "        ...     object_hook=as_complex)\n",
      "        (1+2j)\n",
      "        >>> from decimal import Decimal\n",
      "        >>> json.loads('1.1', parse_float=Decimal) == Decimal('1.1')\n",
      "        True\n",
      "    \n",
      "    Specializing JSON object encoding::\n",
      "    \n",
      "        >>> import json\n",
      "        >>> def encode_complex(obj):\n",
      "        ...     if isinstance(obj, complex):\n",
      "        ...         return [obj.real, obj.imag]\n",
      "        ...     raise TypeError(f'Object of type {obj.__class__.__name__} '\n",
      "        ...                     f'is not JSON serializable')\n",
      "        ...\n",
      "        >>> json.dumps(2 + 1j, default=encode_complex)\n",
      "        '[2.0, 1.0]'\n",
      "        >>> json.JSONEncoder(default=encode_complex).encode(2 + 1j)\n",
      "        '[2.0, 1.0]'\n",
      "        >>> ''.join(json.JSONEncoder(default=encode_complex).iterencode(2 + 1j))\n",
      "        '[2.0, 1.0]'\n",
      "    \n",
      "    \n",
      "    Using json.tool from the shell to validate and pretty-print::\n",
      "    \n",
      "        $ echo '{\"json\":\"obj\"}' | python -m json.tool\n",
      "        {\n",
      "            \"json\": \"obj\"\n",
      "        }\n",
      "        $ echo '{ 1.2:3.4}' | python -m json.tool\n",
      "        Expecting property name enclosed in double quotes: line 1 column 3 (char 2)\n",
      "\n",
      "PACKAGE CONTENTS\n",
      "    decoder\n",
      "    encoder\n",
      "    scanner\n",
      "    tool\n",
      "\n",
      "CLASSES\n",
      "    builtins.ValueError(builtins.Exception)\n",
      "        json.decoder.JSONDecodeError\n",
      "    builtins.object\n",
      "        json.decoder.JSONDecoder\n",
      "        json.encoder.JSONEncoder\n",
      "    \n",
      "    class JSONDecodeError(builtins.ValueError)\n",
      "     |  JSONDecodeError(msg, doc, pos)\n",
      "     |  \n",
      "     |  Subclass of ValueError with the following additional properties:\n",
      "     |  \n",
      "     |  msg: The unformatted error message\n",
      "     |  doc: The JSON document being parsed\n",
      "     |  pos: The start index of doc where parsing failed\n",
      "     |  lineno: The line corresponding to pos\n",
      "     |  colno: The column corresponding to pos\n",
      "     |  \n",
      "     |  Method resolution order:\n",
      "     |      JSONDecodeError\n",
      "     |      builtins.ValueError\n",
      "     |      builtins.Exception\n",
      "     |      builtins.BaseException\n",
      "     |      builtins.object\n",
      "     |  \n",
      "     |  Methods defined here:\n",
      "     |  \n",
      "     |  __init__(self, msg, doc, pos)\n",
      "     |      Initialize self.  See help(type(self)) for accurate signature.\n",
      "     |  \n",
      "     |  __reduce__(self)\n",
      "     |      Helper for pickle.\n",
      "     |  \n",
      "     |  ----------------------------------------------------------------------\n",
      "     |  Data descriptors defined here:\n",
      "     |  \n",
      "     |  __weakref__\n",
      "     |      list of weak references to the object (if defined)\n",
      "     |  \n",
      "     |  ----------------------------------------------------------------------\n",
      "     |  Static methods inherited from builtins.ValueError:\n",
      "     |  \n",
      "     |  __new__(*args, **kwargs) from builtins.type\n",
      "     |      Create and return a new object.  See help(type) for accurate signature.\n",
      "     |  \n",
      "     |  ----------------------------------------------------------------------\n",
      "     |  Methods inherited from builtins.BaseException:\n",
      "     |  \n",
      "     |  __delattr__(self, name, /)\n",
      "     |      Implement delattr(self, name).\n",
      "     |  \n",
      "     |  __getattribute__(self, name, /)\n",
      "     |      Return getattr(self, name).\n",
      "     |  \n",
      "     |  __repr__(self, /)\n",
      "     |      Return repr(self).\n",
      "     |  \n",
      "     |  __setattr__(self, name, value, /)\n",
      "     |      Implement setattr(self, name, value).\n",
      "     |  \n",
      "     |  __setstate__(...)\n",
      "     |  \n",
      "     |  __str__(self, /)\n",
      "     |      Return str(self).\n",
      "     |  \n",
      "     |  with_traceback(...)\n",
      "     |      Exception.with_traceback(tb) --\n",
      "     |      set self.__traceback__ to tb and return self.\n",
      "     |  \n",
      "     |  ----------------------------------------------------------------------\n",
      "     |  Data descriptors inherited from builtins.BaseException:\n",
      "     |  \n",
      "     |  __cause__\n",
      "     |      exception cause\n",
      "     |  \n",
      "     |  __context__\n",
      "     |      exception context\n",
      "     |  \n",
      "     |  __dict__\n",
      "     |  \n",
      "     |  __suppress_context__\n",
      "     |  \n",
      "     |  __traceback__\n",
      "     |  \n",
      "     |  args\n",
      "    \n",
      "    class JSONDecoder(builtins.object)\n",
      "     |  JSONDecoder(*, object_hook=None, parse_float=None, parse_int=None, parse_constant=None, strict=True, object_pairs_hook=None)\n",
      "     |  \n",
      "     |  Simple JSON <http://json.org> decoder\n",
      "     |  \n",
      "     |  Performs the following translations in decoding by default:\n",
      "     |  \n",
      "     |  +---------------+-------------------+\n",
      "     |  | JSON          | Python            |\n",
      "     |  +===============+===================+\n",
      "     |  | object        | dict              |\n",
      "     |  +---------------+-------------------+\n",
      "     |  | array         | list              |\n",
      "     |  +---------------+-------------------+\n",
      "     |  | string        | str               |\n",
      "     |  +---------------+-------------------+\n",
      "     |  | number (int)  | int               |\n",
      "     |  +---------------+-------------------+\n",
      "     |  | number (real) | float             |\n",
      "     |  +---------------+-------------------+\n",
      "     |  | true          | True              |\n",
      "     |  +---------------+-------------------+\n",
      "     |  | false         | False             |\n",
      "     |  +---------------+-------------------+\n",
      "     |  | null          | None              |\n",
      "     |  +---------------+-------------------+\n",
      "     |  \n",
      "     |  It also understands ``NaN``, ``Infinity``, and ``-Infinity`` as\n",
      "     |  their corresponding ``float`` values, which is outside the JSON spec.\n",
      "     |  \n",
      "     |  Methods defined here:\n",
      "     |  \n",
      "     |  __init__(self, *, object_hook=None, parse_float=None, parse_int=None, parse_constant=None, strict=True, object_pairs_hook=None)\n",
      "     |      ``object_hook``, if specified, will be called with the result\n",
      "     |      of every JSON object decoded and its return value will be used in\n",
      "     |      place of the given ``dict``.  This can be used to provide custom\n",
      "     |      deserializations (e.g. to support JSON-RPC class hinting).\n",
      "     |      \n",
      "     |      ``object_pairs_hook``, if specified will be called with the result of\n",
      "     |      every JSON object decoded with an ordered list of pairs.  The return\n",
      "     |      value of ``object_pairs_hook`` will be used instead of the ``dict``.\n",
      "     |      This feature can be used to implement custom decoders.\n",
      "     |      If ``object_hook`` is also defined, the ``object_pairs_hook`` takes\n",
      "     |      priority.\n",
      "     |      \n",
      "     |      ``parse_float``, if specified, will be called with the string\n",
      "     |      of every JSON float to be decoded. By default this is equivalent to\n",
      "     |      float(num_str). This can be used to use another datatype or parser\n",
      "     |      for JSON floats (e.g. decimal.Decimal).\n",
      "     |      \n",
      "     |      ``parse_int``, if specified, will be called with the string\n",
      "     |      of every JSON int to be decoded. By default this is equivalent to\n",
      "     |      int(num_str). This can be used to use another datatype or parser\n",
      "     |      for JSON integers (e.g. float).\n",
      "     |      \n",
      "     |      ``parse_constant``, if specified, will be called with one of the\n",
      "     |      following strings: -Infinity, Infinity, NaN.\n",
      "     |      This can be used to raise an exception if invalid JSON numbers\n",
      "     |      are encountered.\n",
      "     |      \n",
      "     |      If ``strict`` is false (true is the default), then control\n",
      "     |      characters will be allowed inside strings.  Control characters in\n",
      "     |      this context are those with character codes in the 0-31 range,\n",
      "     |      including ``'\\t'`` (tab), ``'\\n'``, ``'\\r'`` and ``'\\0'``.\n",
      "     |  \n",
      "     |  decode(self, s, _w=<built-in method match of re.Pattern object at 0x7f3d638d2870>)\n",
      "     |      Return the Python representation of ``s`` (a ``str`` instance\n",
      "     |      containing a JSON document).\n",
      "     |  \n",
      "     |  raw_decode(self, s, idx=0)\n",
      "     |      Decode a JSON document from ``s`` (a ``str`` beginning with\n",
      "     |      a JSON document) and return a 2-tuple of the Python\n",
      "     |      representation and the index in ``s`` where the document ended.\n",
      "     |      \n",
      "     |      This can be used to decode a JSON document from a string that may\n",
      "     |      have extraneous data at the end.\n",
      "     |  \n",
      "     |  ----------------------------------------------------------------------\n",
      "     |  Data descriptors defined here:\n",
      "     |  \n",
      "     |  __dict__\n",
      "     |      dictionary for instance variables (if defined)\n",
      "     |  \n",
      "     |  __weakref__\n",
      "     |      list of weak references to the object (if defined)\n",
      "    \n",
      "    class JSONEncoder(builtins.object)\n",
      "     |  JSONEncoder(*, skipkeys=False, ensure_ascii=True, check_circular=True, allow_nan=True, sort_keys=False, indent=None, separators=None, default=None)\n",
      "     |  \n",
      "     |  Extensible JSON <http://json.org> encoder for Python data structures.\n",
      "     |  \n",
      "     |  Supports the following objects and types by default:\n",
      "     |  \n",
      "     |  +-------------------+---------------+\n",
      "     |  | Python            | JSON          |\n",
      "     |  +===================+===============+\n",
      "     |  | dict              | object        |\n",
      "     |  +-------------------+---------------+\n",
      "     |  | list, tuple       | array         |\n",
      "     |  +-------------------+---------------+\n",
      "     |  | str               | string        |\n",
      "     |  +-------------------+---------------+\n",
      "     |  | int, float        | number        |\n",
      "     |  +-------------------+---------------+\n",
      "     |  | True              | true          |\n",
      "     |  +-------------------+---------------+\n",
      "     |  | False             | false         |\n",
      "     |  +-------------------+---------------+\n",
      "     |  | None              | null          |\n",
      "     |  +-------------------+---------------+\n",
      "     |  \n",
      "     |  To extend this to recognize other objects, subclass and implement a\n",
      "     |  ``.default()`` method with another method that returns a serializable\n",
      "     |  object for ``o`` if possible, otherwise it should call the superclass\n",
      "     |  implementation (to raise ``TypeError``).\n",
      "     |  \n",
      "     |  Methods defined here:\n",
      "     |  \n",
      "     |  __init__(self, *, skipkeys=False, ensure_ascii=True, check_circular=True, allow_nan=True, sort_keys=False, indent=None, separators=None, default=None)\n",
      "     |      Constructor for JSONEncoder, with sensible defaults.\n",
      "     |      \n",
      "     |      If skipkeys is false, then it is a TypeError to attempt\n",
      "     |      encoding of keys that are not str, int, float or None.  If\n",
      "     |      skipkeys is True, such items are simply skipped.\n",
      "     |      \n",
      "     |      If ensure_ascii is true, the output is guaranteed to be str\n",
      "     |      objects with all incoming non-ASCII characters escaped.  If\n",
      "     |      ensure_ascii is false, the output can contain non-ASCII characters.\n",
      "     |      \n",
      "     |      If check_circular is true, then lists, dicts, and custom encoded\n",
      "     |      objects will be checked for circular references during encoding to\n",
      "     |      prevent an infinite recursion (which would cause an OverflowError).\n",
      "     |      Otherwise, no such check takes place.\n",
      "     |      \n",
      "     |      If allow_nan is true, then NaN, Infinity, and -Infinity will be\n",
      "     |      encoded as such.  This behavior is not JSON specification compliant,\n",
      "     |      but is consistent with most JavaScript based encoders and decoders.\n",
      "     |      Otherwise, it will be a ValueError to encode such floats.\n",
      "     |      \n",
      "     |      If sort_keys is true, then the output of dictionaries will be\n",
      "     |      sorted by key; this is useful for regression tests to ensure\n",
      "     |      that JSON serializations can be compared on a day-to-day basis.\n",
      "     |      \n",
      "     |      If indent is a non-negative integer, then JSON array\n",
      "     |      elements and object members will be pretty-printed with that\n",
      "     |      indent level.  An indent level of 0 will only insert newlines.\n",
      "     |      None is the most compact representation.\n",
      "     |      \n",
      "     |      If specified, separators should be an (item_separator, key_separator)\n",
      "     |      tuple.  The default is (', ', ': ') if *indent* is ``None`` and\n",
      "     |      (',', ': ') otherwise.  To get the most compact JSON representation,\n",
      "     |      you should specify (',', ':') to eliminate whitespace.\n",
      "     |      \n",
      "     |      If specified, default is a function that gets called for objects\n",
      "     |      that can't otherwise be serialized.  It should return a JSON encodable\n",
      "     |      version of the object or raise a ``TypeError``.\n",
      "     |  \n",
      "     |  default(self, o)\n",
      "     |      Implement this method in a subclass such that it returns\n",
      "     |      a serializable object for ``o``, or calls the base implementation\n",
      "     |      (to raise a ``TypeError``).\n",
      "     |      \n",
      "     |      For example, to support arbitrary iterators, you could\n",
      "     |      implement default like this::\n",
      "     |      \n",
      "     |          def default(self, o):\n",
      "     |              try:\n",
      "     |                  iterable = iter(o)\n",
      "     |              except TypeError:\n",
      "     |                  pass\n",
      "     |              else:\n",
      "     |                  return list(iterable)\n",
      "     |              # Let the base class default method raise the TypeError\n",
      "     |              return JSONEncoder.default(self, o)\n",
      "     |  \n",
      "     |  encode(self, o)\n",
      "     |      Return a JSON string representation of a Python data structure.\n",
      "     |      \n",
      "     |      >>> from json.encoder import JSONEncoder\n",
      "     |      >>> JSONEncoder().encode({\"foo\": [\"bar\", \"baz\"]})\n",
      "     |      '{\"foo\": [\"bar\", \"baz\"]}'\n",
      "     |  \n",
      "     |  iterencode(self, o, _one_shot=False)\n",
      "     |      Encode the given object and yield each string\n",
      "     |      representation as available.\n",
      "     |      \n",
      "     |      For example::\n",
      "     |      \n",
      "     |          for chunk in JSONEncoder().iterencode(bigobject):\n",
      "     |              mysocket.write(chunk)\n",
      "     |  \n",
      "     |  ----------------------------------------------------------------------\n",
      "     |  Data descriptors defined here:\n",
      "     |  \n",
      "     |  __dict__\n",
      "     |      dictionary for instance variables (if defined)\n",
      "     |  \n",
      "     |  __weakref__\n",
      "     |      list of weak references to the object (if defined)\n",
      "     |  \n",
      "     |  ----------------------------------------------------------------------\n",
      "     |  Data and other attributes defined here:\n",
      "     |  \n",
      "     |  item_separator = ', '\n",
      "     |  \n",
      "     |  key_separator = ': '\n",
      "\n",
      "FUNCTIONS\n",
      "    dump(obj, fp, *, skipkeys=False, ensure_ascii=True, check_circular=True, allow_nan=True, cls=None, indent=None, separators=None, default=None, sort_keys=False, **kw)\n",
      "        Serialize ``obj`` as a JSON formatted stream to ``fp`` (a\n",
      "        ``.write()``-supporting file-like object).\n",
      "        \n",
      "        If ``skipkeys`` is true then ``dict`` keys that are not basic types\n",
      "        (``str``, ``int``, ``float``, ``bool``, ``None``) will be skipped\n",
      "        instead of raising a ``TypeError``.\n",
      "        \n",
      "        If ``ensure_ascii`` is false, then the strings written to ``fp`` can\n",
      "        contain non-ASCII characters if they appear in strings contained in\n",
      "        ``obj``. Otherwise, all such characters are escaped in JSON strings.\n",
      "        \n",
      "        If ``check_circular`` is false, then the circular reference check\n",
      "        for container types will be skipped and a circular reference will\n",
      "        result in an ``OverflowError`` (or worse).\n",
      "        \n",
      "        If ``allow_nan`` is false, then it will be a ``ValueError`` to\n",
      "        serialize out of range ``float`` values (``nan``, ``inf``, ``-inf``)\n",
      "        in strict compliance of the JSON specification, instead of using the\n",
      "        JavaScript equivalents (``NaN``, ``Infinity``, ``-Infinity``).\n",
      "        \n",
      "        If ``indent`` is a non-negative integer, then JSON array elements and\n",
      "        object members will be pretty-printed with that indent level. An indent\n",
      "        level of 0 will only insert newlines. ``None`` is the most compact\n",
      "        representation.\n",
      "        \n",
      "        If specified, ``separators`` should be an ``(item_separator, key_separator)``\n",
      "        tuple.  The default is ``(', ', ': ')`` if *indent* is ``None`` and\n",
      "        ``(',', ': ')`` otherwise.  To get the most compact JSON representation,\n",
      "        you should specify ``(',', ':')`` to eliminate whitespace.\n",
      "        \n",
      "        ``default(obj)`` is a function that should return a serializable version\n",
      "        of obj or raise TypeError. The default simply raises TypeError.\n",
      "        \n",
      "        If *sort_keys* is true (default: ``False``), then the output of\n",
      "        dictionaries will be sorted by key.\n",
      "        \n",
      "        To use a custom ``JSONEncoder`` subclass (e.g. one that overrides the\n",
      "        ``.default()`` method to serialize additional types), specify it with\n",
      "        the ``cls`` kwarg; otherwise ``JSONEncoder`` is used.\n",
      "    \n",
      "    dumps(obj, *, skipkeys=False, ensure_ascii=True, check_circular=True, allow_nan=True, cls=None, indent=None, separators=None, default=None, sort_keys=False, **kw)\n",
      "        Serialize ``obj`` to a JSON formatted ``str``.\n",
      "        \n",
      "        If ``skipkeys`` is true then ``dict`` keys that are not basic types\n",
      "        (``str``, ``int``, ``float``, ``bool``, ``None``) will be skipped\n",
      "        instead of raising a ``TypeError``.\n",
      "        \n",
      "        If ``ensure_ascii`` is false, then the return value can contain non-ASCII\n",
      "        characters if they appear in strings contained in ``obj``. Otherwise, all\n",
      "        such characters are escaped in JSON strings.\n",
      "        \n",
      "        If ``check_circular`` is false, then the circular reference check\n",
      "        for container types will be skipped and a circular reference will\n",
      "        result in an ``OverflowError`` (or worse).\n",
      "        \n",
      "        If ``allow_nan`` is false, then it will be a ``ValueError`` to\n",
      "        serialize out of range ``float`` values (``nan``, ``inf``, ``-inf``) in\n",
      "        strict compliance of the JSON specification, instead of using the\n",
      "        JavaScript equivalents (``NaN``, ``Infinity``, ``-Infinity``).\n",
      "        \n",
      "        If ``indent`` is a non-negative integer, then JSON array elements and\n",
      "        object members will be pretty-printed with that indent level. An indent\n",
      "        level of 0 will only insert newlines. ``None`` is the most compact\n",
      "        representation.\n",
      "        \n",
      "        If specified, ``separators`` should be an ``(item_separator, key_separator)``\n",
      "        tuple.  The default is ``(', ', ': ')`` if *indent* is ``None`` and\n",
      "        ``(',', ': ')`` otherwise.  To get the most compact JSON representation,\n",
      "        you should specify ``(',', ':')`` to eliminate whitespace.\n",
      "        \n",
      "        ``default(obj)`` is a function that should return a serializable version\n",
      "        of obj or raise TypeError. The default simply raises TypeError.\n",
      "        \n",
      "        If *sort_keys* is true (default: ``False``), then the output of\n",
      "        dictionaries will be sorted by key.\n",
      "        \n",
      "        To use a custom ``JSONEncoder`` subclass (e.g. one that overrides the\n",
      "        ``.default()`` method to serialize additional types), specify it with\n",
      "        the ``cls`` kwarg; otherwise ``JSONEncoder`` is used.\n",
      "    \n",
      "    load(fp, *, cls=None, object_hook=None, parse_float=None, parse_int=None, parse_constant=None, object_pairs_hook=None, **kw)\n",
      "        Deserialize ``fp`` (a ``.read()``-supporting file-like object containing\n",
      "        a JSON document) to a Python object.\n",
      "        \n",
      "        ``object_hook`` is an optional function that will be called with the\n",
      "        result of any object literal decode (a ``dict``). The return value of\n",
      "        ``object_hook`` will be used instead of the ``dict``. This feature\n",
      "        can be used to implement custom decoders (e.g. JSON-RPC class hinting).\n",
      "        \n",
      "        ``object_pairs_hook`` is an optional function that will be called with the\n",
      "        result of any object literal decoded with an ordered list of pairs.  The\n",
      "        return value of ``object_pairs_hook`` will be used instead of the ``dict``.\n",
      "        This feature can be used to implement custom decoders.  If ``object_hook``\n",
      "        is also defined, the ``object_pairs_hook`` takes priority.\n",
      "        \n",
      "        To use a custom ``JSONDecoder`` subclass, specify it with the ``cls``\n",
      "        kwarg; otherwise ``JSONDecoder`` is used.\n",
      "    \n",
      "    loads(s, *, encoding=None, cls=None, object_hook=None, parse_float=None, parse_int=None, parse_constant=None, object_pairs_hook=None, **kw)\n",
      "        Deserialize ``s`` (a ``str``, ``bytes`` or ``bytearray`` instance\n",
      "        containing a JSON document) to a Python object.\n",
      "        \n",
      "        ``object_hook`` is an optional function that will be called with the\n",
      "        result of any object literal decode (a ``dict``). The return value of\n",
      "        ``object_hook`` will be used instead of the ``dict``. This feature\n",
      "        can be used to implement custom decoders (e.g. JSON-RPC class hinting).\n",
      "        \n",
      "        ``object_pairs_hook`` is an optional function that will be called with the\n",
      "        result of any object literal decoded with an ordered list of pairs.  The\n",
      "        return value of ``object_pairs_hook`` will be used instead of the ``dict``.\n",
      "        This feature can be used to implement custom decoders.  If ``object_hook``\n",
      "        is also defined, the ``object_pairs_hook`` takes priority.\n",
      "        \n",
      "        ``parse_float``, if specified, will be called with the string\n",
      "        of every JSON float to be decoded. By default this is equivalent to\n",
      "        float(num_str). This can be used to use another datatype or parser\n",
      "        for JSON floats (e.g. decimal.Decimal).\n",
      "        \n",
      "        ``parse_int``, if specified, will be called with the string\n",
      "        of every JSON int to be decoded. By default this is equivalent to\n",
      "        int(num_str). This can be used to use another datatype or parser\n",
      "        for JSON integers (e.g. float).\n",
      "        \n",
      "        ``parse_constant``, if specified, will be called with one of the\n",
      "        following strings: -Infinity, Infinity, NaN.\n",
      "        This can be used to raise an exception if invalid JSON numbers\n",
      "        are encountered.\n",
      "        \n",
      "        To use a custom ``JSONDecoder`` subclass, specify it with the ``cls``\n",
      "        kwarg; otherwise ``JSONDecoder`` is used.\n",
      "        \n",
      "        The ``encoding`` argument is ignored and deprecated.\n",
      "\n",
      "DATA\n",
      "    __all__ = ['dump', 'dumps', 'load', 'loads', 'JSONDecoder', 'JSONDecod...\n",
      "\n",
      "VERSION\n",
      "    2.0.9\n",
      "\n",
      "AUTHOR\n",
      "    Bob Ippolito <bob@redivi.com>\n",
      "\n",
      "FILE\n",
      "    /usr/local/lib/python3.7/json/__init__.py\n",
      "\n",
      "\n"
     ]
    }
   ],
   "source": [
    "help(json)"
   ]
  },
  {
   "cell_type": "code",
   "execution_count": 71,
   "metadata": {},
   "outputs": [
    {
     "data": {
      "text/html": [
       "<div>\n",
       "<style scoped>\n",
       "    .dataframe tbody tr th:only-of-type {\n",
       "        vertical-align: middle;\n",
       "    }\n",
       "\n",
       "    .dataframe tbody tr th {\n",
       "        vertical-align: top;\n",
       "    }\n",
       "\n",
       "    .dataframe thead th {\n",
       "        text-align: right;\n",
       "    }\n",
       "</style>\n",
       "<table border=\"1\" class=\"dataframe\">\n",
       "  <thead>\n",
       "    <tr style=\"text-align: right;\">\n",
       "      <th></th>\n",
       "      <th>base_month</th>\n",
       "      <th>finance_cd</th>\n",
       "      <th>finance_nm</th>\n",
       "      <th>account_cd</th>\n",
       "      <th>account_nm</th>\n",
       "      <th>a</th>\n",
       "    </tr>\n",
       "  </thead>\n",
       "  <tbody>\n",
       "    <tr>\n",
       "      <th>0</th>\n",
       "      <td>201806</td>\n",
       "      <td>0010927</td>\n",
       "      <td>국민은행</td>\n",
       "      <td>A1</td>\n",
       "      <td>임원</td>\n",
       "      <td>62</td>\n",
       "    </tr>\n",
       "    <tr>\n",
       "      <th>1</th>\n",
       "      <td>201806</td>\n",
       "      <td>0010927</td>\n",
       "      <td>국민은행</td>\n",
       "      <td>A11</td>\n",
       "      <td>임원_상임임원</td>\n",
       "      <td>2</td>\n",
       "    </tr>\n",
       "    <tr>\n",
       "      <th>2</th>\n",
       "      <td>201806</td>\n",
       "      <td>0010927</td>\n",
       "      <td>국민은행</td>\n",
       "      <td>A12</td>\n",
       "      <td>임원_비상임임원</td>\n",
       "      <td>4</td>\n",
       "    </tr>\n",
       "    <tr>\n",
       "      <th>3</th>\n",
       "      <td>201806</td>\n",
       "      <td>0010927</td>\n",
       "      <td>국민은행</td>\n",
       "      <td>A13</td>\n",
       "      <td>임원_이사대우</td>\n",
       "      <td>56</td>\n",
       "    </tr>\n",
       "    <tr>\n",
       "      <th>4</th>\n",
       "      <td>201806</td>\n",
       "      <td>0010927</td>\n",
       "      <td>국민은행</td>\n",
       "      <td>A2</td>\n",
       "      <td>일반직원</td>\n",
       "      <td>16438</td>\n",
       "    </tr>\n",
       "    <tr>\n",
       "      <th>5</th>\n",
       "      <td>201806</td>\n",
       "      <td>0010927</td>\n",
       "      <td>국민은행</td>\n",
       "      <td>A21</td>\n",
       "      <td>일반직원_책임자</td>\n",
       "      <td>9631</td>\n",
       "    </tr>\n",
       "    <tr>\n",
       "      <th>6</th>\n",
       "      <td>201806</td>\n",
       "      <td>0010927</td>\n",
       "      <td>국민은행</td>\n",
       "      <td>A22</td>\n",
       "      <td>일반직원_행원</td>\n",
       "      <td>6807</td>\n",
       "    </tr>\n",
       "    <tr>\n",
       "      <th>7</th>\n",
       "      <td>201806</td>\n",
       "      <td>0010927</td>\n",
       "      <td>국민은행</td>\n",
       "      <td>A3</td>\n",
       "      <td>서무직원</td>\n",
       "      <td>0</td>\n",
       "    </tr>\n",
       "    <tr>\n",
       "      <th>8</th>\n",
       "      <td>201806</td>\n",
       "      <td>0010927</td>\n",
       "      <td>국민은행</td>\n",
       "      <td>A4</td>\n",
       "      <td>별정직원</td>\n",
       "      <td>0</td>\n",
       "    </tr>\n",
       "    <tr>\n",
       "      <th>9</th>\n",
       "      <td>201806</td>\n",
       "      <td>0010927</td>\n",
       "      <td>국민은행</td>\n",
       "      <td>A5</td>\n",
       "      <td>무기계약직원</td>\n",
       "      <td>364</td>\n",
       "    </tr>\n",
       "    <tr>\n",
       "      <th>10</th>\n",
       "      <td>201806</td>\n",
       "      <td>0010927</td>\n",
       "      <td>국민은행</td>\n",
       "      <td>A</td>\n",
       "      <td>총임직원</td>\n",
       "      <td>16864</td>\n",
       "    </tr>\n",
       "    <tr>\n",
       "      <th>11</th>\n",
       "      <td>201806</td>\n",
       "      <td>0010927</td>\n",
       "      <td>국민은행</td>\n",
       "      <td>B</td>\n",
       "      <td>해외근무임직원</td>\n",
       "      <td>118</td>\n",
       "    </tr>\n",
       "    <tr>\n",
       "      <th>12</th>\n",
       "      <td>201806</td>\n",
       "      <td>0010927</td>\n",
       "      <td>국민은행</td>\n",
       "      <td>C</td>\n",
       "      <td>현지채용임직원</td>\n",
       "      <td>86</td>\n",
       "    </tr>\n",
       "    <tr>\n",
       "      <th>13</th>\n",
       "      <td>201806</td>\n",
       "      <td>0010927</td>\n",
       "      <td>국민은행</td>\n",
       "      <td>D</td>\n",
       "      <td>직원외인원</td>\n",
       "      <td>2106</td>\n",
       "    </tr>\n",
       "    <tr>\n",
       "      <th>14</th>\n",
       "      <td>201809</td>\n",
       "      <td>0010927</td>\n",
       "      <td>국민은행</td>\n",
       "      <td>A1</td>\n",
       "      <td>임원</td>\n",
       "      <td>62</td>\n",
       "    </tr>\n",
       "    <tr>\n",
       "      <th>15</th>\n",
       "      <td>201809</td>\n",
       "      <td>0010927</td>\n",
       "      <td>국민은행</td>\n",
       "      <td>A11</td>\n",
       "      <td>임원_상임임원</td>\n",
       "      <td>2</td>\n",
       "    </tr>\n",
       "    <tr>\n",
       "      <th>16</th>\n",
       "      <td>201809</td>\n",
       "      <td>0010927</td>\n",
       "      <td>국민은행</td>\n",
       "      <td>A12</td>\n",
       "      <td>임원_비상임임원</td>\n",
       "      <td>4</td>\n",
       "    </tr>\n",
       "    <tr>\n",
       "      <th>17</th>\n",
       "      <td>201809</td>\n",
       "      <td>0010927</td>\n",
       "      <td>국민은행</td>\n",
       "      <td>A13</td>\n",
       "      <td>임원_이사대우</td>\n",
       "      <td>56</td>\n",
       "    </tr>\n",
       "    <tr>\n",
       "      <th>18</th>\n",
       "      <td>201809</td>\n",
       "      <td>0010927</td>\n",
       "      <td>국민은행</td>\n",
       "      <td>A2</td>\n",
       "      <td>일반직원</td>\n",
       "      <td>16435</td>\n",
       "    </tr>\n",
       "    <tr>\n",
       "      <th>19</th>\n",
       "      <td>201809</td>\n",
       "      <td>0010927</td>\n",
       "      <td>국민은행</td>\n",
       "      <td>A21</td>\n",
       "      <td>일반직원_책임자</td>\n",
       "      <td>9624</td>\n",
       "    </tr>\n",
       "    <tr>\n",
       "      <th>20</th>\n",
       "      <td>201809</td>\n",
       "      <td>0010927</td>\n",
       "      <td>국민은행</td>\n",
       "      <td>A22</td>\n",
       "      <td>일반직원_행원</td>\n",
       "      <td>6811</td>\n",
       "    </tr>\n",
       "    <tr>\n",
       "      <th>21</th>\n",
       "      <td>201809</td>\n",
       "      <td>0010927</td>\n",
       "      <td>국민은행</td>\n",
       "      <td>A3</td>\n",
       "      <td>서무직원</td>\n",
       "      <td>0</td>\n",
       "    </tr>\n",
       "    <tr>\n",
       "      <th>22</th>\n",
       "      <td>201809</td>\n",
       "      <td>0010927</td>\n",
       "      <td>국민은행</td>\n",
       "      <td>A4</td>\n",
       "      <td>별정직원</td>\n",
       "      <td>0</td>\n",
       "    </tr>\n",
       "    <tr>\n",
       "      <th>23</th>\n",
       "      <td>201809</td>\n",
       "      <td>0010927</td>\n",
       "      <td>국민은행</td>\n",
       "      <td>A5</td>\n",
       "      <td>무기계약직원</td>\n",
       "      <td>361</td>\n",
       "    </tr>\n",
       "    <tr>\n",
       "      <th>24</th>\n",
       "      <td>201809</td>\n",
       "      <td>0010927</td>\n",
       "      <td>국민은행</td>\n",
       "      <td>A</td>\n",
       "      <td>총임직원</td>\n",
       "      <td>16858</td>\n",
       "    </tr>\n",
       "    <tr>\n",
       "      <th>25</th>\n",
       "      <td>201809</td>\n",
       "      <td>0010927</td>\n",
       "      <td>국민은행</td>\n",
       "      <td>B</td>\n",
       "      <td>해외근무임직원</td>\n",
       "      <td>120</td>\n",
       "    </tr>\n",
       "    <tr>\n",
       "      <th>26</th>\n",
       "      <td>201809</td>\n",
       "      <td>0010927</td>\n",
       "      <td>국민은행</td>\n",
       "      <td>C</td>\n",
       "      <td>현지채용임직원</td>\n",
       "      <td>87</td>\n",
       "    </tr>\n",
       "    <tr>\n",
       "      <th>27</th>\n",
       "      <td>201809</td>\n",
       "      <td>0010927</td>\n",
       "      <td>국민은행</td>\n",
       "      <td>D</td>\n",
       "      <td>직원외인원</td>\n",
       "      <td>2108</td>\n",
       "    </tr>\n",
       "    <tr>\n",
       "      <th>28</th>\n",
       "      <td>201812</td>\n",
       "      <td>0010927</td>\n",
       "      <td>국민은행</td>\n",
       "      <td>A1</td>\n",
       "      <td>임원</td>\n",
       "      <td>62</td>\n",
       "    </tr>\n",
       "    <tr>\n",
       "      <th>29</th>\n",
       "      <td>201812</td>\n",
       "      <td>0010927</td>\n",
       "      <td>국민은행</td>\n",
       "      <td>A11</td>\n",
       "      <td>임원_상임임원</td>\n",
       "      <td></td>\n",
       "    </tr>\n",
       "    <tr>\n",
       "      <th>30</th>\n",
       "      <td>201812</td>\n",
       "      <td>0010927</td>\n",
       "      <td>국민은행</td>\n",
       "      <td>A12</td>\n",
       "      <td>임원_비상임임원</td>\n",
       "      <td></td>\n",
       "    </tr>\n",
       "    <tr>\n",
       "      <th>31</th>\n",
       "      <td>201812</td>\n",
       "      <td>0010927</td>\n",
       "      <td>국민은행</td>\n",
       "      <td>A13</td>\n",
       "      <td>임원_이사대우</td>\n",
       "      <td>56</td>\n",
       "    </tr>\n",
       "    <tr>\n",
       "      <th>32</th>\n",
       "      <td>201812</td>\n",
       "      <td>0010927</td>\n",
       "      <td>국민은행</td>\n",
       "      <td>A2</td>\n",
       "      <td>일반직원</td>\n",
       "      <td></td>\n",
       "    </tr>\n",
       "    <tr>\n",
       "      <th>33</th>\n",
       "      <td>201812</td>\n",
       "      <td>0010927</td>\n",
       "      <td>국민은행</td>\n",
       "      <td>A21</td>\n",
       "      <td>일반직원_책임자</td>\n",
       "      <td></td>\n",
       "    </tr>\n",
       "    <tr>\n",
       "      <th>34</th>\n",
       "      <td>201812</td>\n",
       "      <td>0010927</td>\n",
       "      <td>국민은행</td>\n",
       "      <td>A22</td>\n",
       "      <td>일반직원_행원</td>\n",
       "      <td></td>\n",
       "    </tr>\n",
       "    <tr>\n",
       "      <th>35</th>\n",
       "      <td>201812</td>\n",
       "      <td>0010927</td>\n",
       "      <td>국민은행</td>\n",
       "      <td>A3</td>\n",
       "      <td>서무직원</td>\n",
       "      <td></td>\n",
       "    </tr>\n",
       "    <tr>\n",
       "      <th>36</th>\n",
       "      <td>201812</td>\n",
       "      <td>0010927</td>\n",
       "      <td>국민은행</td>\n",
       "      <td>A4</td>\n",
       "      <td>별정직원</td>\n",
       "      <td></td>\n",
       "    </tr>\n",
       "    <tr>\n",
       "      <th>37</th>\n",
       "      <td>201812</td>\n",
       "      <td>0010927</td>\n",
       "      <td>국민은행</td>\n",
       "      <td>A5</td>\n",
       "      <td>무기계약직원</td>\n",
       "      <td></td>\n",
       "    </tr>\n",
       "    <tr>\n",
       "      <th>38</th>\n",
       "      <td>201812</td>\n",
       "      <td>0010927</td>\n",
       "      <td>국민은행</td>\n",
       "      <td>A</td>\n",
       "      <td>총임직원</td>\n",
       "      <td>18173</td>\n",
       "    </tr>\n",
       "    <tr>\n",
       "      <th>39</th>\n",
       "      <td>201812</td>\n",
       "      <td>0010927</td>\n",
       "      <td>국민은행</td>\n",
       "      <td>B</td>\n",
       "      <td>해외근무임직원</td>\n",
       "      <td>129</td>\n",
       "    </tr>\n",
       "    <tr>\n",
       "      <th>40</th>\n",
       "      <td>201812</td>\n",
       "      <td>0010927</td>\n",
       "      <td>국민은행</td>\n",
       "      <td>C</td>\n",
       "      <td>현지채용임직원</td>\n",
       "      <td></td>\n",
       "    </tr>\n",
       "    <tr>\n",
       "      <th>41</th>\n",
       "      <td>201812</td>\n",
       "      <td>0010927</td>\n",
       "      <td>국민은행</td>\n",
       "      <td>D</td>\n",
       "      <td>직원외인원</td>\n",
       "      <td>5014</td>\n",
       "    </tr>\n",
       "    <tr>\n",
       "      <th>42</th>\n",
       "      <td>201903</td>\n",
       "      <td>0010927</td>\n",
       "      <td>국민은행</td>\n",
       "      <td>A1</td>\n",
       "      <td>임원</td>\n",
       "      <td>63</td>\n",
       "    </tr>\n",
       "    <tr>\n",
       "      <th>43</th>\n",
       "      <td>201903</td>\n",
       "      <td>0010927</td>\n",
       "      <td>국민은행</td>\n",
       "      <td>A11</td>\n",
       "      <td>임원_상임임원</td>\n",
       "      <td></td>\n",
       "    </tr>\n",
       "    <tr>\n",
       "      <th>44</th>\n",
       "      <td>201903</td>\n",
       "      <td>0010927</td>\n",
       "      <td>국민은행</td>\n",
       "      <td>A12</td>\n",
       "      <td>임원_비상임임원</td>\n",
       "      <td></td>\n",
       "    </tr>\n",
       "    <tr>\n",
       "      <th>45</th>\n",
       "      <td>201903</td>\n",
       "      <td>0010927</td>\n",
       "      <td>국민은행</td>\n",
       "      <td>A13</td>\n",
       "      <td>임원_이사대우</td>\n",
       "      <td>55</td>\n",
       "    </tr>\n",
       "    <tr>\n",
       "      <th>46</th>\n",
       "      <td>201903</td>\n",
       "      <td>0010927</td>\n",
       "      <td>국민은행</td>\n",
       "      <td>A2</td>\n",
       "      <td>일반직원</td>\n",
       "      <td></td>\n",
       "    </tr>\n",
       "    <tr>\n",
       "      <th>47</th>\n",
       "      <td>201903</td>\n",
       "      <td>0010927</td>\n",
       "      <td>국민은행</td>\n",
       "      <td>A21</td>\n",
       "      <td>일반직원_책임자</td>\n",
       "      <td></td>\n",
       "    </tr>\n",
       "    <tr>\n",
       "      <th>48</th>\n",
       "      <td>201903</td>\n",
       "      <td>0010927</td>\n",
       "      <td>국민은행</td>\n",
       "      <td>A22</td>\n",
       "      <td>일반직원_행원</td>\n",
       "      <td></td>\n",
       "    </tr>\n",
       "    <tr>\n",
       "      <th>49</th>\n",
       "      <td>201903</td>\n",
       "      <td>0010927</td>\n",
       "      <td>국민은행</td>\n",
       "      <td>A3</td>\n",
       "      <td>서무직원</td>\n",
       "      <td></td>\n",
       "    </tr>\n",
       "    <tr>\n",
       "      <th>50</th>\n",
       "      <td>201903</td>\n",
       "      <td>0010927</td>\n",
       "      <td>국민은행</td>\n",
       "      <td>A4</td>\n",
       "      <td>별정직원</td>\n",
       "      <td></td>\n",
       "    </tr>\n",
       "    <tr>\n",
       "      <th>51</th>\n",
       "      <td>201903</td>\n",
       "      <td>0010927</td>\n",
       "      <td>국민은행</td>\n",
       "      <td>A5</td>\n",
       "      <td>무기계약직원</td>\n",
       "      <td></td>\n",
       "    </tr>\n",
       "    <tr>\n",
       "      <th>52</th>\n",
       "      <td>201903</td>\n",
       "      <td>0010927</td>\n",
       "      <td>국민은행</td>\n",
       "      <td>A</td>\n",
       "      <td>총임직원</td>\n",
       "      <td>17650</td>\n",
       "    </tr>\n",
       "    <tr>\n",
       "      <th>53</th>\n",
       "      <td>201903</td>\n",
       "      <td>0010927</td>\n",
       "      <td>국민은행</td>\n",
       "      <td>B</td>\n",
       "      <td>해외근무임직원</td>\n",
       "      <td>161</td>\n",
       "    </tr>\n",
       "    <tr>\n",
       "      <th>54</th>\n",
       "      <td>201903</td>\n",
       "      <td>0010927</td>\n",
       "      <td>국민은행</td>\n",
       "      <td>C</td>\n",
       "      <td>현지채용임직원</td>\n",
       "      <td></td>\n",
       "    </tr>\n",
       "    <tr>\n",
       "      <th>55</th>\n",
       "      <td>201903</td>\n",
       "      <td>0010927</td>\n",
       "      <td>국민은행</td>\n",
       "      <td>D</td>\n",
       "      <td>직원외인원</td>\n",
       "      <td>5007</td>\n",
       "    </tr>\n",
       "  </tbody>\n",
       "</table>\n",
       "</div>"
      ],
      "text/plain": [
       "   base_month finance_cd finance_nm account_cd account_nm      a\n",
       "0      201806    0010927       국민은행         A1         임원     62\n",
       "1      201806    0010927       국민은행        A11    임원_상임임원      2\n",
       "2      201806    0010927       국민은행        A12   임원_비상임임원      4\n",
       "3      201806    0010927       국민은행        A13    임원_이사대우     56\n",
       "4      201806    0010927       국민은행         A2       일반직원  16438\n",
       "5      201806    0010927       국민은행        A21   일반직원_책임자   9631\n",
       "6      201806    0010927       국민은행        A22    일반직원_행원   6807\n",
       "7      201806    0010927       국민은행         A3       서무직원      0\n",
       "8      201806    0010927       국민은행         A4       별정직원      0\n",
       "9      201806    0010927       국민은행         A5     무기계약직원    364\n",
       "10     201806    0010927       국민은행          A       총임직원  16864\n",
       "11     201806    0010927       국민은행          B    해외근무임직원    118\n",
       "12     201806    0010927       국민은행          C    현지채용임직원     86\n",
       "13     201806    0010927       국민은행          D      직원외인원   2106\n",
       "14     201809    0010927       국민은행         A1         임원     62\n",
       "15     201809    0010927       국민은행        A11    임원_상임임원      2\n",
       "16     201809    0010927       국민은행        A12   임원_비상임임원      4\n",
       "17     201809    0010927       국민은행        A13    임원_이사대우     56\n",
       "18     201809    0010927       국민은행         A2       일반직원  16435\n",
       "19     201809    0010927       국민은행        A21   일반직원_책임자   9624\n",
       "20     201809    0010927       국민은행        A22    일반직원_행원   6811\n",
       "21     201809    0010927       국민은행         A3       서무직원      0\n",
       "22     201809    0010927       국민은행         A4       별정직원      0\n",
       "23     201809    0010927       국민은행         A5     무기계약직원    361\n",
       "24     201809    0010927       국민은행          A       총임직원  16858\n",
       "25     201809    0010927       국민은행          B    해외근무임직원    120\n",
       "26     201809    0010927       국민은행          C    현지채용임직원     87\n",
       "27     201809    0010927       국민은행          D      직원외인원   2108\n",
       "28     201812    0010927       국민은행         A1         임원     62\n",
       "29     201812    0010927       국민은행        A11    임원_상임임원       \n",
       "30     201812    0010927       국민은행        A12   임원_비상임임원       \n",
       "31     201812    0010927       국민은행        A13    임원_이사대우     56\n",
       "32     201812    0010927       국민은행         A2       일반직원       \n",
       "33     201812    0010927       국민은행        A21   일반직원_책임자       \n",
       "34     201812    0010927       국민은행        A22    일반직원_행원       \n",
       "35     201812    0010927       국민은행         A3       서무직원       \n",
       "36     201812    0010927       국민은행         A4       별정직원       \n",
       "37     201812    0010927       국민은행         A5     무기계약직원       \n",
       "38     201812    0010927       국민은행          A       총임직원  18173\n",
       "39     201812    0010927       국민은행          B    해외근무임직원    129\n",
       "40     201812    0010927       국민은행          C    현지채용임직원       \n",
       "41     201812    0010927       국민은행          D      직원외인원   5014\n",
       "42     201903    0010927       국민은행         A1         임원     63\n",
       "43     201903    0010927       국민은행        A11    임원_상임임원       \n",
       "44     201903    0010927       국민은행        A12   임원_비상임임원       \n",
       "45     201903    0010927       국민은행        A13    임원_이사대우     55\n",
       "46     201903    0010927       국민은행         A2       일반직원       \n",
       "47     201903    0010927       국민은행        A21   일반직원_책임자       \n",
       "48     201903    0010927       국민은행        A22    일반직원_행원       \n",
       "49     201903    0010927       국민은행         A3       서무직원       \n",
       "50     201903    0010927       국민은행         A4       별정직원       \n",
       "51     201903    0010927       국민은행         A5     무기계약직원       \n",
       "52     201903    0010927       국민은행          A       총임직원  17650\n",
       "53     201903    0010927       국민은행          B    해외근무임직원    161\n",
       "54     201903    0010927       국민은행          C    현지채용임직원       \n",
       "55     201903    0010927       국민은행          D      직원외인원   5007"
      ]
     },
     "execution_count": 71,
     "metadata": {},
     "output_type": "execute_result"
    }
   ],
   "source": [
    "kb"
   ]
  },
  {
   "cell_type": "code",
   "execution_count": 72,
   "metadata": {},
   "outputs": [
    {
     "data": {
      "text/plain": [
       "(56, 6)"
      ]
     },
     "execution_count": 72,
     "metadata": {},
     "output_type": "execute_result"
    }
   ],
   "source": [
    "kb.shape"
   ]
  },
  {
   "cell_type": "code",
   "execution_count": 73,
   "metadata": {},
   "outputs": [
    {
     "data": {
      "text/html": [
       "<div>\n",
       "<style scoped>\n",
       "    .dataframe tbody tr th:only-of-type {\n",
       "        vertical-align: middle;\n",
       "    }\n",
       "\n",
       "    .dataframe tbody tr th {\n",
       "        vertical-align: top;\n",
       "    }\n",
       "\n",
       "    .dataframe thead th {\n",
       "        text-align: right;\n",
       "    }\n",
       "</style>\n",
       "<table border=\"1\" class=\"dataframe\">\n",
       "  <thead>\n",
       "    <tr style=\"text-align: right;\">\n",
       "      <th></th>\n",
       "      <th>base_month</th>\n",
       "      <th>finance_cd</th>\n",
       "      <th>finance_nm</th>\n",
       "      <th>account_cd</th>\n",
       "      <th>account_nm</th>\n",
       "      <th>a</th>\n",
       "    </tr>\n",
       "  </thead>\n",
       "  <tbody>\n",
       "    <tr>\n",
       "      <th>0</th>\n",
       "      <td>201806</td>\n",
       "      <td>0010927</td>\n",
       "      <td>국민은행</td>\n",
       "      <td>A1</td>\n",
       "      <td>임원</td>\n",
       "      <td>62</td>\n",
       "    </tr>\n",
       "    <tr>\n",
       "      <th>1</th>\n",
       "      <td>201806</td>\n",
       "      <td>0010927</td>\n",
       "      <td>국민은행</td>\n",
       "      <td>A11</td>\n",
       "      <td>임원_상임임원</td>\n",
       "      <td>2</td>\n",
       "    </tr>\n",
       "    <tr>\n",
       "      <th>2</th>\n",
       "      <td>201806</td>\n",
       "      <td>0010927</td>\n",
       "      <td>국민은행</td>\n",
       "      <td>A12</td>\n",
       "      <td>임원_비상임임원</td>\n",
       "      <td>4</td>\n",
       "    </tr>\n",
       "    <tr>\n",
       "      <th>3</th>\n",
       "      <td>201806</td>\n",
       "      <td>0010927</td>\n",
       "      <td>국민은행</td>\n",
       "      <td>A13</td>\n",
       "      <td>임원_이사대우</td>\n",
       "      <td>56</td>\n",
       "    </tr>\n",
       "    <tr>\n",
       "      <th>4</th>\n",
       "      <td>201806</td>\n",
       "      <td>0010927</td>\n",
       "      <td>국민은행</td>\n",
       "      <td>A2</td>\n",
       "      <td>일반직원</td>\n",
       "      <td>16438</td>\n",
       "    </tr>\n",
       "  </tbody>\n",
       "</table>\n",
       "</div>"
      ],
      "text/plain": [
       "  base_month finance_cd finance_nm account_cd account_nm      a\n",
       "0     201806    0010927       국민은행         A1         임원     62\n",
       "1     201806    0010927       국민은행        A11    임원_상임임원      2\n",
       "2     201806    0010927       국민은행        A12   임원_비상임임원      4\n",
       "3     201806    0010927       국민은행        A13    임원_이사대우     56\n",
       "4     201806    0010927       국민은행         A2       일반직원  16438"
      ]
     },
     "execution_count": 73,
     "metadata": {},
     "output_type": "execute_result"
    }
   ],
   "source": [
    "kb.head()"
   ]
  },
  {
   "cell_type": "code",
   "execution_count": 74,
   "metadata": {},
   "outputs": [
    {
     "data": {
      "text/html": [
       "<div>\n",
       "<style scoped>\n",
       "    .dataframe tbody tr th:only-of-type {\n",
       "        vertical-align: middle;\n",
       "    }\n",
       "\n",
       "    .dataframe tbody tr th {\n",
       "        vertical-align: top;\n",
       "    }\n",
       "\n",
       "    .dataframe thead th {\n",
       "        text-align: right;\n",
       "    }\n",
       "</style>\n",
       "<table border=\"1\" class=\"dataframe\">\n",
       "  <thead>\n",
       "    <tr style=\"text-align: right;\">\n",
       "      <th></th>\n",
       "      <th>base_month</th>\n",
       "      <th>finance_cd</th>\n",
       "      <th>finance_nm</th>\n",
       "      <th>account_cd</th>\n",
       "      <th>account_nm</th>\n",
       "      <th>a</th>\n",
       "    </tr>\n",
       "  </thead>\n",
       "  <tbody>\n",
       "    <tr>\n",
       "      <th>51</th>\n",
       "      <td>201903</td>\n",
       "      <td>0010927</td>\n",
       "      <td>국민은행</td>\n",
       "      <td>A5</td>\n",
       "      <td>무기계약직원</td>\n",
       "      <td></td>\n",
       "    </tr>\n",
       "    <tr>\n",
       "      <th>52</th>\n",
       "      <td>201903</td>\n",
       "      <td>0010927</td>\n",
       "      <td>국민은행</td>\n",
       "      <td>A</td>\n",
       "      <td>총임직원</td>\n",
       "      <td>17650</td>\n",
       "    </tr>\n",
       "    <tr>\n",
       "      <th>53</th>\n",
       "      <td>201903</td>\n",
       "      <td>0010927</td>\n",
       "      <td>국민은행</td>\n",
       "      <td>B</td>\n",
       "      <td>해외근무임직원</td>\n",
       "      <td>161</td>\n",
       "    </tr>\n",
       "    <tr>\n",
       "      <th>54</th>\n",
       "      <td>201903</td>\n",
       "      <td>0010927</td>\n",
       "      <td>국민은행</td>\n",
       "      <td>C</td>\n",
       "      <td>현지채용임직원</td>\n",
       "      <td></td>\n",
       "    </tr>\n",
       "    <tr>\n",
       "      <th>55</th>\n",
       "      <td>201903</td>\n",
       "      <td>0010927</td>\n",
       "      <td>국민은행</td>\n",
       "      <td>D</td>\n",
       "      <td>직원외인원</td>\n",
       "      <td>5007</td>\n",
       "    </tr>\n",
       "  </tbody>\n",
       "</table>\n",
       "</div>"
      ],
      "text/plain": [
       "   base_month finance_cd finance_nm account_cd account_nm      a\n",
       "51     201903    0010927       국민은행         A5     무기계약직원       \n",
       "52     201903    0010927       국민은행          A       총임직원  17650\n",
       "53     201903    0010927       국민은행          B    해외근무임직원    161\n",
       "54     201903    0010927       국민은행          C    현지채용임직원       \n",
       "55     201903    0010927       국민은행          D      직원외인원   5007"
      ]
     },
     "execution_count": 74,
     "metadata": {},
     "output_type": "execute_result"
    }
   ],
   "source": [
    "kb.tail()"
   ]
  },
  {
   "cell_type": "code",
   "execution_count": 75,
   "metadata": {},
   "outputs": [
    {
     "data": {
      "text/plain": [
       "Index(['base_month', 'finance_cd', 'finance_nm', 'account_cd', 'account_nm',\n",
       "       'a'],\n",
       "      dtype='object')"
      ]
     },
     "execution_count": 75,
     "metadata": {},
     "output_type": "execute_result"
    }
   ],
   "source": [
    "kb.columns"
   ]
  },
  {
   "cell_type": "code",
   "execution_count": 76,
   "metadata": {},
   "outputs": [
    {
     "name": "stdout",
     "output_type": "stream",
     "text": [
      "base_month\n",
      "finance_cd\n",
      "finance_nm\n",
      "account_cd\n",
      "account_nm\n",
      "a\n"
     ]
    }
   ],
   "source": [
    "for x in kb.columns:\n",
    "    print(x)"
   ]
  },
  {
   "cell_type": "markdown",
   "metadata": {},
   "source": [
    "### column값 변경"
   ]
  },
  {
   "cell_type": "code",
   "execution_count": 77,
   "metadata": {},
   "outputs": [],
   "source": [
    "kb.rename(columns={'base_month': '날짜'}, inplace=True)#column값 변경"
   ]
  },
  {
   "cell_type": "code",
   "execution_count": 78,
   "metadata": {},
   "outputs": [
    {
     "data": {
      "text/html": [
       "<div>\n",
       "<style scoped>\n",
       "    .dataframe tbody tr th:only-of-type {\n",
       "        vertical-align: middle;\n",
       "    }\n",
       "\n",
       "    .dataframe tbody tr th {\n",
       "        vertical-align: top;\n",
       "    }\n",
       "\n",
       "    .dataframe thead th {\n",
       "        text-align: right;\n",
       "    }\n",
       "</style>\n",
       "<table border=\"1\" class=\"dataframe\">\n",
       "  <thead>\n",
       "    <tr style=\"text-align: right;\">\n",
       "      <th></th>\n",
       "      <th>날짜</th>\n",
       "      <th>finance_cd</th>\n",
       "      <th>finance_nm</th>\n",
       "      <th>account_cd</th>\n",
       "      <th>account_nm</th>\n",
       "      <th>a</th>\n",
       "    </tr>\n",
       "  </thead>\n",
       "  <tbody>\n",
       "    <tr>\n",
       "      <th>0</th>\n",
       "      <td>201806</td>\n",
       "      <td>0010927</td>\n",
       "      <td>국민은행</td>\n",
       "      <td>A1</td>\n",
       "      <td>임원</td>\n",
       "      <td>62</td>\n",
       "    </tr>\n",
       "    <tr>\n",
       "      <th>1</th>\n",
       "      <td>201806</td>\n",
       "      <td>0010927</td>\n",
       "      <td>국민은행</td>\n",
       "      <td>A11</td>\n",
       "      <td>임원_상임임원</td>\n",
       "      <td>2</td>\n",
       "    </tr>\n",
       "    <tr>\n",
       "      <th>2</th>\n",
       "      <td>201806</td>\n",
       "      <td>0010927</td>\n",
       "      <td>국민은행</td>\n",
       "      <td>A12</td>\n",
       "      <td>임원_비상임임원</td>\n",
       "      <td>4</td>\n",
       "    </tr>\n",
       "    <tr>\n",
       "      <th>3</th>\n",
       "      <td>201806</td>\n",
       "      <td>0010927</td>\n",
       "      <td>국민은행</td>\n",
       "      <td>A13</td>\n",
       "      <td>임원_이사대우</td>\n",
       "      <td>56</td>\n",
       "    </tr>\n",
       "    <tr>\n",
       "      <th>4</th>\n",
       "      <td>201806</td>\n",
       "      <td>0010927</td>\n",
       "      <td>국민은행</td>\n",
       "      <td>A2</td>\n",
       "      <td>일반직원</td>\n",
       "      <td>16438</td>\n",
       "    </tr>\n",
       "    <tr>\n",
       "      <th>5</th>\n",
       "      <td>201806</td>\n",
       "      <td>0010927</td>\n",
       "      <td>국민은행</td>\n",
       "      <td>A21</td>\n",
       "      <td>일반직원_책임자</td>\n",
       "      <td>9631</td>\n",
       "    </tr>\n",
       "    <tr>\n",
       "      <th>6</th>\n",
       "      <td>201806</td>\n",
       "      <td>0010927</td>\n",
       "      <td>국민은행</td>\n",
       "      <td>A22</td>\n",
       "      <td>일반직원_행원</td>\n",
       "      <td>6807</td>\n",
       "    </tr>\n",
       "    <tr>\n",
       "      <th>7</th>\n",
       "      <td>201806</td>\n",
       "      <td>0010927</td>\n",
       "      <td>국민은행</td>\n",
       "      <td>A3</td>\n",
       "      <td>서무직원</td>\n",
       "      <td>0</td>\n",
       "    </tr>\n",
       "    <tr>\n",
       "      <th>8</th>\n",
       "      <td>201806</td>\n",
       "      <td>0010927</td>\n",
       "      <td>국민은행</td>\n",
       "      <td>A4</td>\n",
       "      <td>별정직원</td>\n",
       "      <td>0</td>\n",
       "    </tr>\n",
       "    <tr>\n",
       "      <th>9</th>\n",
       "      <td>201806</td>\n",
       "      <td>0010927</td>\n",
       "      <td>국민은행</td>\n",
       "      <td>A5</td>\n",
       "      <td>무기계약직원</td>\n",
       "      <td>364</td>\n",
       "    </tr>\n",
       "    <tr>\n",
       "      <th>10</th>\n",
       "      <td>201806</td>\n",
       "      <td>0010927</td>\n",
       "      <td>국민은행</td>\n",
       "      <td>A</td>\n",
       "      <td>총임직원</td>\n",
       "      <td>16864</td>\n",
       "    </tr>\n",
       "    <tr>\n",
       "      <th>11</th>\n",
       "      <td>201806</td>\n",
       "      <td>0010927</td>\n",
       "      <td>국민은행</td>\n",
       "      <td>B</td>\n",
       "      <td>해외근무임직원</td>\n",
       "      <td>118</td>\n",
       "    </tr>\n",
       "    <tr>\n",
       "      <th>12</th>\n",
       "      <td>201806</td>\n",
       "      <td>0010927</td>\n",
       "      <td>국민은행</td>\n",
       "      <td>C</td>\n",
       "      <td>현지채용임직원</td>\n",
       "      <td>86</td>\n",
       "    </tr>\n",
       "    <tr>\n",
       "      <th>13</th>\n",
       "      <td>201806</td>\n",
       "      <td>0010927</td>\n",
       "      <td>국민은행</td>\n",
       "      <td>D</td>\n",
       "      <td>직원외인원</td>\n",
       "      <td>2106</td>\n",
       "    </tr>\n",
       "    <tr>\n",
       "      <th>14</th>\n",
       "      <td>201809</td>\n",
       "      <td>0010927</td>\n",
       "      <td>국민은행</td>\n",
       "      <td>A1</td>\n",
       "      <td>임원</td>\n",
       "      <td>62</td>\n",
       "    </tr>\n",
       "    <tr>\n",
       "      <th>15</th>\n",
       "      <td>201809</td>\n",
       "      <td>0010927</td>\n",
       "      <td>국민은행</td>\n",
       "      <td>A11</td>\n",
       "      <td>임원_상임임원</td>\n",
       "      <td>2</td>\n",
       "    </tr>\n",
       "    <tr>\n",
       "      <th>16</th>\n",
       "      <td>201809</td>\n",
       "      <td>0010927</td>\n",
       "      <td>국민은행</td>\n",
       "      <td>A12</td>\n",
       "      <td>임원_비상임임원</td>\n",
       "      <td>4</td>\n",
       "    </tr>\n",
       "    <tr>\n",
       "      <th>17</th>\n",
       "      <td>201809</td>\n",
       "      <td>0010927</td>\n",
       "      <td>국민은행</td>\n",
       "      <td>A13</td>\n",
       "      <td>임원_이사대우</td>\n",
       "      <td>56</td>\n",
       "    </tr>\n",
       "    <tr>\n",
       "      <th>18</th>\n",
       "      <td>201809</td>\n",
       "      <td>0010927</td>\n",
       "      <td>국민은행</td>\n",
       "      <td>A2</td>\n",
       "      <td>일반직원</td>\n",
       "      <td>16435</td>\n",
       "    </tr>\n",
       "    <tr>\n",
       "      <th>19</th>\n",
       "      <td>201809</td>\n",
       "      <td>0010927</td>\n",
       "      <td>국민은행</td>\n",
       "      <td>A21</td>\n",
       "      <td>일반직원_책임자</td>\n",
       "      <td>9624</td>\n",
       "    </tr>\n",
       "    <tr>\n",
       "      <th>20</th>\n",
       "      <td>201809</td>\n",
       "      <td>0010927</td>\n",
       "      <td>국민은행</td>\n",
       "      <td>A22</td>\n",
       "      <td>일반직원_행원</td>\n",
       "      <td>6811</td>\n",
       "    </tr>\n",
       "    <tr>\n",
       "      <th>21</th>\n",
       "      <td>201809</td>\n",
       "      <td>0010927</td>\n",
       "      <td>국민은행</td>\n",
       "      <td>A3</td>\n",
       "      <td>서무직원</td>\n",
       "      <td>0</td>\n",
       "    </tr>\n",
       "    <tr>\n",
       "      <th>22</th>\n",
       "      <td>201809</td>\n",
       "      <td>0010927</td>\n",
       "      <td>국민은행</td>\n",
       "      <td>A4</td>\n",
       "      <td>별정직원</td>\n",
       "      <td>0</td>\n",
       "    </tr>\n",
       "    <tr>\n",
       "      <th>23</th>\n",
       "      <td>201809</td>\n",
       "      <td>0010927</td>\n",
       "      <td>국민은행</td>\n",
       "      <td>A5</td>\n",
       "      <td>무기계약직원</td>\n",
       "      <td>361</td>\n",
       "    </tr>\n",
       "    <tr>\n",
       "      <th>24</th>\n",
       "      <td>201809</td>\n",
       "      <td>0010927</td>\n",
       "      <td>국민은행</td>\n",
       "      <td>A</td>\n",
       "      <td>총임직원</td>\n",
       "      <td>16858</td>\n",
       "    </tr>\n",
       "    <tr>\n",
       "      <th>25</th>\n",
       "      <td>201809</td>\n",
       "      <td>0010927</td>\n",
       "      <td>국민은행</td>\n",
       "      <td>B</td>\n",
       "      <td>해외근무임직원</td>\n",
       "      <td>120</td>\n",
       "    </tr>\n",
       "    <tr>\n",
       "      <th>26</th>\n",
       "      <td>201809</td>\n",
       "      <td>0010927</td>\n",
       "      <td>국민은행</td>\n",
       "      <td>C</td>\n",
       "      <td>현지채용임직원</td>\n",
       "      <td>87</td>\n",
       "    </tr>\n",
       "    <tr>\n",
       "      <th>27</th>\n",
       "      <td>201809</td>\n",
       "      <td>0010927</td>\n",
       "      <td>국민은행</td>\n",
       "      <td>D</td>\n",
       "      <td>직원외인원</td>\n",
       "      <td>2108</td>\n",
       "    </tr>\n",
       "    <tr>\n",
       "      <th>28</th>\n",
       "      <td>201812</td>\n",
       "      <td>0010927</td>\n",
       "      <td>국민은행</td>\n",
       "      <td>A1</td>\n",
       "      <td>임원</td>\n",
       "      <td>62</td>\n",
       "    </tr>\n",
       "    <tr>\n",
       "      <th>29</th>\n",
       "      <td>201812</td>\n",
       "      <td>0010927</td>\n",
       "      <td>국민은행</td>\n",
       "      <td>A11</td>\n",
       "      <td>임원_상임임원</td>\n",
       "      <td></td>\n",
       "    </tr>\n",
       "    <tr>\n",
       "      <th>30</th>\n",
       "      <td>201812</td>\n",
       "      <td>0010927</td>\n",
       "      <td>국민은행</td>\n",
       "      <td>A12</td>\n",
       "      <td>임원_비상임임원</td>\n",
       "      <td></td>\n",
       "    </tr>\n",
       "    <tr>\n",
       "      <th>31</th>\n",
       "      <td>201812</td>\n",
       "      <td>0010927</td>\n",
       "      <td>국민은행</td>\n",
       "      <td>A13</td>\n",
       "      <td>임원_이사대우</td>\n",
       "      <td>56</td>\n",
       "    </tr>\n",
       "    <tr>\n",
       "      <th>32</th>\n",
       "      <td>201812</td>\n",
       "      <td>0010927</td>\n",
       "      <td>국민은행</td>\n",
       "      <td>A2</td>\n",
       "      <td>일반직원</td>\n",
       "      <td></td>\n",
       "    </tr>\n",
       "    <tr>\n",
       "      <th>33</th>\n",
       "      <td>201812</td>\n",
       "      <td>0010927</td>\n",
       "      <td>국민은행</td>\n",
       "      <td>A21</td>\n",
       "      <td>일반직원_책임자</td>\n",
       "      <td></td>\n",
       "    </tr>\n",
       "    <tr>\n",
       "      <th>34</th>\n",
       "      <td>201812</td>\n",
       "      <td>0010927</td>\n",
       "      <td>국민은행</td>\n",
       "      <td>A22</td>\n",
       "      <td>일반직원_행원</td>\n",
       "      <td></td>\n",
       "    </tr>\n",
       "    <tr>\n",
       "      <th>35</th>\n",
       "      <td>201812</td>\n",
       "      <td>0010927</td>\n",
       "      <td>국민은행</td>\n",
       "      <td>A3</td>\n",
       "      <td>서무직원</td>\n",
       "      <td></td>\n",
       "    </tr>\n",
       "    <tr>\n",
       "      <th>36</th>\n",
       "      <td>201812</td>\n",
       "      <td>0010927</td>\n",
       "      <td>국민은행</td>\n",
       "      <td>A4</td>\n",
       "      <td>별정직원</td>\n",
       "      <td></td>\n",
       "    </tr>\n",
       "    <tr>\n",
       "      <th>37</th>\n",
       "      <td>201812</td>\n",
       "      <td>0010927</td>\n",
       "      <td>국민은행</td>\n",
       "      <td>A5</td>\n",
       "      <td>무기계약직원</td>\n",
       "      <td></td>\n",
       "    </tr>\n",
       "    <tr>\n",
       "      <th>38</th>\n",
       "      <td>201812</td>\n",
       "      <td>0010927</td>\n",
       "      <td>국민은행</td>\n",
       "      <td>A</td>\n",
       "      <td>총임직원</td>\n",
       "      <td>18173</td>\n",
       "    </tr>\n",
       "    <tr>\n",
       "      <th>39</th>\n",
       "      <td>201812</td>\n",
       "      <td>0010927</td>\n",
       "      <td>국민은행</td>\n",
       "      <td>B</td>\n",
       "      <td>해외근무임직원</td>\n",
       "      <td>129</td>\n",
       "    </tr>\n",
       "    <tr>\n",
       "      <th>40</th>\n",
       "      <td>201812</td>\n",
       "      <td>0010927</td>\n",
       "      <td>국민은행</td>\n",
       "      <td>C</td>\n",
       "      <td>현지채용임직원</td>\n",
       "      <td></td>\n",
       "    </tr>\n",
       "    <tr>\n",
       "      <th>41</th>\n",
       "      <td>201812</td>\n",
       "      <td>0010927</td>\n",
       "      <td>국민은행</td>\n",
       "      <td>D</td>\n",
       "      <td>직원외인원</td>\n",
       "      <td>5014</td>\n",
       "    </tr>\n",
       "    <tr>\n",
       "      <th>42</th>\n",
       "      <td>201903</td>\n",
       "      <td>0010927</td>\n",
       "      <td>국민은행</td>\n",
       "      <td>A1</td>\n",
       "      <td>임원</td>\n",
       "      <td>63</td>\n",
       "    </tr>\n",
       "    <tr>\n",
       "      <th>43</th>\n",
       "      <td>201903</td>\n",
       "      <td>0010927</td>\n",
       "      <td>국민은행</td>\n",
       "      <td>A11</td>\n",
       "      <td>임원_상임임원</td>\n",
       "      <td></td>\n",
       "    </tr>\n",
       "    <tr>\n",
       "      <th>44</th>\n",
       "      <td>201903</td>\n",
       "      <td>0010927</td>\n",
       "      <td>국민은행</td>\n",
       "      <td>A12</td>\n",
       "      <td>임원_비상임임원</td>\n",
       "      <td></td>\n",
       "    </tr>\n",
       "    <tr>\n",
       "      <th>45</th>\n",
       "      <td>201903</td>\n",
       "      <td>0010927</td>\n",
       "      <td>국민은행</td>\n",
       "      <td>A13</td>\n",
       "      <td>임원_이사대우</td>\n",
       "      <td>55</td>\n",
       "    </tr>\n",
       "    <tr>\n",
       "      <th>46</th>\n",
       "      <td>201903</td>\n",
       "      <td>0010927</td>\n",
       "      <td>국민은행</td>\n",
       "      <td>A2</td>\n",
       "      <td>일반직원</td>\n",
       "      <td></td>\n",
       "    </tr>\n",
       "    <tr>\n",
       "      <th>47</th>\n",
       "      <td>201903</td>\n",
       "      <td>0010927</td>\n",
       "      <td>국민은행</td>\n",
       "      <td>A21</td>\n",
       "      <td>일반직원_책임자</td>\n",
       "      <td></td>\n",
       "    </tr>\n",
       "    <tr>\n",
       "      <th>48</th>\n",
       "      <td>201903</td>\n",
       "      <td>0010927</td>\n",
       "      <td>국민은행</td>\n",
       "      <td>A22</td>\n",
       "      <td>일반직원_행원</td>\n",
       "      <td></td>\n",
       "    </tr>\n",
       "    <tr>\n",
       "      <th>49</th>\n",
       "      <td>201903</td>\n",
       "      <td>0010927</td>\n",
       "      <td>국민은행</td>\n",
       "      <td>A3</td>\n",
       "      <td>서무직원</td>\n",
       "      <td></td>\n",
       "    </tr>\n",
       "    <tr>\n",
       "      <th>50</th>\n",
       "      <td>201903</td>\n",
       "      <td>0010927</td>\n",
       "      <td>국민은행</td>\n",
       "      <td>A4</td>\n",
       "      <td>별정직원</td>\n",
       "      <td></td>\n",
       "    </tr>\n",
       "    <tr>\n",
       "      <th>51</th>\n",
       "      <td>201903</td>\n",
       "      <td>0010927</td>\n",
       "      <td>국민은행</td>\n",
       "      <td>A5</td>\n",
       "      <td>무기계약직원</td>\n",
       "      <td></td>\n",
       "    </tr>\n",
       "    <tr>\n",
       "      <th>52</th>\n",
       "      <td>201903</td>\n",
       "      <td>0010927</td>\n",
       "      <td>국민은행</td>\n",
       "      <td>A</td>\n",
       "      <td>총임직원</td>\n",
       "      <td>17650</td>\n",
       "    </tr>\n",
       "    <tr>\n",
       "      <th>53</th>\n",
       "      <td>201903</td>\n",
       "      <td>0010927</td>\n",
       "      <td>국민은행</td>\n",
       "      <td>B</td>\n",
       "      <td>해외근무임직원</td>\n",
       "      <td>161</td>\n",
       "    </tr>\n",
       "    <tr>\n",
       "      <th>54</th>\n",
       "      <td>201903</td>\n",
       "      <td>0010927</td>\n",
       "      <td>국민은행</td>\n",
       "      <td>C</td>\n",
       "      <td>현지채용임직원</td>\n",
       "      <td></td>\n",
       "    </tr>\n",
       "    <tr>\n",
       "      <th>55</th>\n",
       "      <td>201903</td>\n",
       "      <td>0010927</td>\n",
       "      <td>국민은행</td>\n",
       "      <td>D</td>\n",
       "      <td>직원외인원</td>\n",
       "      <td>5007</td>\n",
       "    </tr>\n",
       "  </tbody>\n",
       "</table>\n",
       "</div>"
      ],
      "text/plain": [
       "        날짜 finance_cd finance_nm account_cd account_nm      a\n",
       "0   201806    0010927       국민은행         A1         임원     62\n",
       "1   201806    0010927       국민은행        A11    임원_상임임원      2\n",
       "2   201806    0010927       국민은행        A12   임원_비상임임원      4\n",
       "3   201806    0010927       국민은행        A13    임원_이사대우     56\n",
       "4   201806    0010927       국민은행         A2       일반직원  16438\n",
       "5   201806    0010927       국민은행        A21   일반직원_책임자   9631\n",
       "6   201806    0010927       국민은행        A22    일반직원_행원   6807\n",
       "7   201806    0010927       국민은행         A3       서무직원      0\n",
       "8   201806    0010927       국민은행         A4       별정직원      0\n",
       "9   201806    0010927       국민은행         A5     무기계약직원    364\n",
       "10  201806    0010927       국민은행          A       총임직원  16864\n",
       "11  201806    0010927       국민은행          B    해외근무임직원    118\n",
       "12  201806    0010927       국민은행          C    현지채용임직원     86\n",
       "13  201806    0010927       국민은행          D      직원외인원   2106\n",
       "14  201809    0010927       국민은행         A1         임원     62\n",
       "15  201809    0010927       국민은행        A11    임원_상임임원      2\n",
       "16  201809    0010927       국민은행        A12   임원_비상임임원      4\n",
       "17  201809    0010927       국민은행        A13    임원_이사대우     56\n",
       "18  201809    0010927       국민은행         A2       일반직원  16435\n",
       "19  201809    0010927       국민은행        A21   일반직원_책임자   9624\n",
       "20  201809    0010927       국민은행        A22    일반직원_행원   6811\n",
       "21  201809    0010927       국민은행         A3       서무직원      0\n",
       "22  201809    0010927       국민은행         A4       별정직원      0\n",
       "23  201809    0010927       국민은행         A5     무기계약직원    361\n",
       "24  201809    0010927       국민은행          A       총임직원  16858\n",
       "25  201809    0010927       국민은행          B    해외근무임직원    120\n",
       "26  201809    0010927       국민은행          C    현지채용임직원     87\n",
       "27  201809    0010927       국민은행          D      직원외인원   2108\n",
       "28  201812    0010927       국민은행         A1         임원     62\n",
       "29  201812    0010927       국민은행        A11    임원_상임임원       \n",
       "30  201812    0010927       국민은행        A12   임원_비상임임원       \n",
       "31  201812    0010927       국민은행        A13    임원_이사대우     56\n",
       "32  201812    0010927       국민은행         A2       일반직원       \n",
       "33  201812    0010927       국민은행        A21   일반직원_책임자       \n",
       "34  201812    0010927       국민은행        A22    일반직원_행원       \n",
       "35  201812    0010927       국민은행         A3       서무직원       \n",
       "36  201812    0010927       국민은행         A4       별정직원       \n",
       "37  201812    0010927       국민은행         A5     무기계약직원       \n",
       "38  201812    0010927       국민은행          A       총임직원  18173\n",
       "39  201812    0010927       국민은행          B    해외근무임직원    129\n",
       "40  201812    0010927       국민은행          C    현지채용임직원       \n",
       "41  201812    0010927       국민은행          D      직원외인원   5014\n",
       "42  201903    0010927       국민은행         A1         임원     63\n",
       "43  201903    0010927       국민은행        A11    임원_상임임원       \n",
       "44  201903    0010927       국민은행        A12   임원_비상임임원       \n",
       "45  201903    0010927       국민은행        A13    임원_이사대우     55\n",
       "46  201903    0010927       국민은행         A2       일반직원       \n",
       "47  201903    0010927       국민은행        A21   일반직원_책임자       \n",
       "48  201903    0010927       국민은행        A22    일반직원_행원       \n",
       "49  201903    0010927       국민은행         A3       서무직원       \n",
       "50  201903    0010927       국민은행         A4       별정직원       \n",
       "51  201903    0010927       국민은행         A5     무기계약직원       \n",
       "52  201903    0010927       국민은행          A       총임직원  17650\n",
       "53  201903    0010927       국민은행          B    해외근무임직원    161\n",
       "54  201903    0010927       국민은행          C    현지채용임직원       \n",
       "55  201903    0010927       국민은행          D      직원외인원   5007"
      ]
     },
     "execution_count": 78,
     "metadata": {},
     "output_type": "execute_result"
    }
   ],
   "source": [
    "kb"
   ]
  },
  {
   "cell_type": "markdown",
   "metadata": {},
   "source": [
    "# indexing을 위해서 기억해야 할 2가지 method"
   ]
  },
  {
   "cell_type": "markdown",
   "metadata": {},
   "source": [
    "## iloc(), loc()"
   ]
  },
  {
   "cell_type": "code",
   "execution_count": 79,
   "metadata": {},
   "outputs": [],
   "source": [
    "s1 = pd.Series(np.arange(10, 15), index=list('abcde'))"
   ]
  },
  {
   "cell_type": "code",
   "execution_count": 80,
   "metadata": {},
   "outputs": [
    {
     "data": {
      "text/plain": [
       "a    10\n",
       "b    11\n",
       "c    12\n",
       "d    13\n",
       "e    14\n",
       "dtype: int64"
      ]
     },
     "execution_count": 80,
     "metadata": {},
     "output_type": "execute_result"
    }
   ],
   "source": [
    "s1"
   ]
  },
  {
   "cell_type": "code",
   "execution_count": 81,
   "metadata": {},
   "outputs": [
    {
     "data": {
      "text/plain": [
       "a    10\n",
       "c    12\n",
       "dtype: int64"
      ]
     },
     "execution_count": 81,
     "metadata": {},
     "output_type": "execute_result"
    }
   ],
   "source": [
    "s1.iloc[[0,2]]# index로 슬라이싱"
   ]
  },
  {
   "cell_type": "code",
   "execution_count": 82,
   "metadata": {},
   "outputs": [
    {
     "data": {
      "text/plain": [
       "a    10\n",
       "b    11\n",
       "dtype: int64"
      ]
     },
     "execution_count": 82,
     "metadata": {},
     "output_type": "execute_result"
    }
   ],
   "source": [
    "s1.loc[['a', 'b']]"
   ]
  },
  {
   "cell_type": "code",
   "execution_count": 83,
   "metadata": {},
   "outputs": [],
   "source": [
    "s = pd.Series(np.arange(100, 110), index = np.arange(10,20))"
   ]
  },
  {
   "cell_type": "code",
   "execution_count": 84,
   "metadata": {},
   "outputs": [
    {
     "data": {
      "text/plain": [
       "11    101\n",
       "12    102\n",
       "13    103\n",
       "14    104\n",
       "15    105\n",
       "dtype: int64"
      ]
     },
     "execution_count": 84,
     "metadata": {},
     "output_type": "execute_result"
    }
   ],
   "source": [
    "s[1:6]"
   ]
  },
  {
   "cell_type": "code",
   "execution_count": 85,
   "metadata": {},
   "outputs": [
    {
     "data": {
      "text/plain": [
       "10    100\n",
       "11    101\n",
       "12    102\n",
       "13    103\n",
       "14    104\n",
       "15    105\n",
       "16    106\n",
       "17    107\n",
       "18    108\n",
       "19    109\n",
       "dtype: int64"
      ]
     },
     "execution_count": 85,
     "metadata": {},
     "output_type": "execute_result"
    }
   ],
   "source": [
    "s[:]"
   ]
  },
  {
   "cell_type": "code",
   "execution_count": 86,
   "metadata": {},
   "outputs": [
    {
     "data": {
      "text/plain": [
       "10    100\n",
       "11    101\n",
       "12    102\n",
       "13    103\n",
       "14    104\n",
       "dtype: int64"
      ]
     },
     "execution_count": 86,
     "metadata": {},
     "output_type": "execute_result"
    }
   ],
   "source": [
    "s.iloc[[0,1,2,3,4]]"
   ]
  },
  {
   "cell_type": "code",
   "execution_count": 87,
   "metadata": {},
   "outputs": [
    {
     "data": {
      "text/plain": [
       "10    100\n",
       "11    101\n",
       "12    102\n",
       "13    103\n",
       "14    104\n",
       "15    105\n",
       "16    106\n",
       "17    107\n",
       "18    108\n",
       "19    109\n",
       "dtype: int64"
      ]
     },
     "execution_count": 87,
     "metadata": {},
     "output_type": "execute_result"
    }
   ],
   "source": [
    "s"
   ]
  },
  {
   "cell_type": "code",
   "execution_count": 88,
   "metadata": {},
   "outputs": [
    {
     "data": {
      "text/plain": [
       "10    100\n",
       "11    101\n",
       "12    102\n",
       "19    109\n",
       "dtype: int64"
      ]
     },
     "execution_count": 88,
     "metadata": {},
     "output_type": "execute_result"
    }
   ],
   "source": [
    "s.loc[[10,11,12,19]]"
   ]
  },
  {
   "cell_type": "code",
   "execution_count": 89,
   "metadata": {},
   "outputs": [
    {
     "data": {
      "text/plain": [
       "10    100\n",
       "13    103\n",
       "16    106\n",
       "19    109\n",
       "dtype: int64"
      ]
     },
     "execution_count": 89,
     "metadata": {},
     "output_type": "execute_result"
    }
   ],
   "source": [
    "s[::3]"
   ]
  },
  {
   "cell_type": "code",
   "execution_count": 91,
   "metadata": {},
   "outputs": [],
   "source": [
    "s3 = pd.Series(np.arange(0,5), index=list('abcde'))"
   ]
  },
  {
   "cell_type": "code",
   "execution_count": null,
   "metadata": {},
   "outputs": [],
   "source": []
  }
 ],
 "metadata": {
  "kernelspec": {
   "display_name": "Python 3",
   "language": "python",
   "name": "python3"
  },
  "language_info": {
   "codemirror_mode": {
    "name": "ipython",
    "version": 3
   },
   "file_extension": ".py",
   "mimetype": "text/x-python",
   "name": "python",
   "nbconvert_exporter": "python",
   "pygments_lexer": "ipython3",
   "version": "3.7.4"
  }
 },
 "nbformat": 4,
 "nbformat_minor": 2
}
