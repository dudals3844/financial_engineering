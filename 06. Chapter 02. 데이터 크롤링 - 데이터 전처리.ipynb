{
  "cells": [
    {
      "metadata": {},
      "cell_type": "markdown",
      "source": "# 데이터 전처리"
    },
    {
      "metadata": {
        "trusted": false
      },
      "cell_type": "code",
      "source": "import pandas as pd",
      "execution_count": 100,
      "outputs": []
    },
    {
      "metadata": {},
      "cell_type": "markdown",
      "source": "* RAW 데이터를 DICT형태로 저장합니다."
    },
    {
      "metadata": {
        "trusted": false
      },
      "cell_type": "code",
      "source": "stock_dict = [{'날짜': '2019-05-07',\n              '종목': '삼성전자',\n              '시가': '45,250',\n              '종가': '44,850'},\n              {'날짜': '2019-05-07',\n              '종목': 'LG전자',\n              '시가': '75,200',\n              '종가': '77,000'},\n              {'날짜': '2019-05-07',\n              '종목': 'SK텔레콤',\n              '시가': '254,500'},\n              {'날짜': '2019-05-07',\n              '종목': 'SK하이닉스',\n              '시가': '79,200',\n              '종가': '79,900'}]            ",
      "execution_count": 101,
      "outputs": []
    },
    {
      "metadata": {},
      "cell_type": "markdown",
      "source": "* DataFrame() 함수 안에 dict형태의 데이터를 전달하면 DataFrame 형식 데이터가 생성됩니다.\n* 컬럼 순서가 눈에 보이는 순서가 아니기 때문에 columns 매개변수에 컬럼 순서를 지정하여 전달합니다."
    },
    {
      "metadata": {
        "trusted": false
      },
      "cell_type": "code",
      "source": "data = pd.DataFrame(stock_dict, columns=['날짜', '종목', '시가', '종가'])",
      "execution_count": 102,
      "outputs": []
    },
    {
      "metadata": {
        "trusted": false
      },
      "cell_type": "code",
      "source": "data",
      "execution_count": 103,
      "outputs": [
        {
          "data": {
            "text/html": "<div>\n<style scoped>\n    .dataframe tbody tr th:only-of-type {\n        vertical-align: middle;\n    }\n\n    .dataframe tbody tr th {\n        vertical-align: top;\n    }\n\n    .dataframe thead th {\n        text-align: right;\n    }\n</style>\n<table border=\"1\" class=\"dataframe\">\n  <thead>\n    <tr style=\"text-align: right;\">\n      <th></th>\n      <th>날짜</th>\n      <th>종목</th>\n      <th>시가</th>\n      <th>종가</th>\n    </tr>\n  </thead>\n  <tbody>\n    <tr>\n      <th>0</th>\n      <td>2019-05-07</td>\n      <td>삼성전자</td>\n      <td>45,250</td>\n      <td>44,850</td>\n    </tr>\n    <tr>\n      <th>1</th>\n      <td>2019-05-07</td>\n      <td>LG전자</td>\n      <td>75,200</td>\n      <td>77,000</td>\n    </tr>\n    <tr>\n      <th>2</th>\n      <td>2019-05-07</td>\n      <td>SK텔레콤</td>\n      <td>254,500</td>\n      <td>NaN</td>\n    </tr>\n    <tr>\n      <th>3</th>\n      <td>2019-05-07</td>\n      <td>SK하이닉스</td>\n      <td>79,200</td>\n      <td>79,900</td>\n    </tr>\n  </tbody>\n</table>\n</div>",
            "text/plain": "           날짜      종목       시가      종가\n0  2019-05-07    삼성전자   45,250  44,850\n1  2019-05-07    LG전자   75,200  77,000\n2  2019-05-07   SK텔레콤  254,500     NaN\n3  2019-05-07  SK하이닉스   79,200  79,900"
          },
          "execution_count": 103,
          "metadata": {},
          "output_type": "execute_result"
        }
      ]
    },
    {
      "metadata": {},
      "cell_type": "markdown",
      "source": "* DataFrame이 차지하고 있는 용량을 확인해보겠습니다"
    },
    {
      "metadata": {
        "trusted": false
      },
      "cell_type": "code",
      "source": "data.info()",
      "execution_count": 104,
      "outputs": [
        {
          "name": "stdout",
          "output_type": "stream",
          "text": "<class 'pandas.core.frame.DataFrame'>\nRangeIndex: 4 entries, 0 to 3\nData columns (total 4 columns):\n날짜    4 non-null object\n종목    4 non-null object\n시가    4 non-null object\n종가    3 non-null object\ndtypes: object(4)\nmemory usage: 104.0+ bytes\n"
        }
      ]
    },
    {
      "metadata": {},
      "cell_type": "markdown",
      "source": "* fillna() 메소드를 사용하여 결측치를 0으로 치환하겠습니다."
    },
    {
      "metadata": {
        "trusted": false
      },
      "cell_type": "code",
      "source": "data.fillna(0)",
      "execution_count": 107,
      "outputs": [
        {
          "data": {
            "text/html": "<div>\n<style scoped>\n    .dataframe tbody tr th:only-of-type {\n        vertical-align: middle;\n    }\n\n    .dataframe tbody tr th {\n        vertical-align: top;\n    }\n\n    .dataframe thead th {\n        text-align: right;\n    }\n</style>\n<table border=\"1\" class=\"dataframe\">\n  <thead>\n    <tr style=\"text-align: right;\">\n      <th></th>\n      <th>날짜</th>\n      <th>종목</th>\n      <th>시가</th>\n      <th>종가</th>\n    </tr>\n  </thead>\n  <tbody>\n    <tr>\n      <th>0</th>\n      <td>2019-05-07</td>\n      <td>삼성전자</td>\n      <td>45,250</td>\n      <td>44,850</td>\n    </tr>\n    <tr>\n      <th>1</th>\n      <td>2019-05-07</td>\n      <td>LG전자</td>\n      <td>75,200</td>\n      <td>77,000</td>\n    </tr>\n    <tr>\n      <th>2</th>\n      <td>2019-05-07</td>\n      <td>SK텔레콤</td>\n      <td>254,500</td>\n      <td>0</td>\n    </tr>\n    <tr>\n      <th>3</th>\n      <td>2019-05-07</td>\n      <td>SK하이닉스</td>\n      <td>79,200</td>\n      <td>79,900</td>\n    </tr>\n  </tbody>\n</table>\n</div>",
            "text/plain": "           날짜      종목       시가      종가\n0  2019-05-07    삼성전자   45,250  44,850\n1  2019-05-07    LG전자   75,200  77,000\n2  2019-05-07   SK텔레콤  254,500       0\n3  2019-05-07  SK하이닉스   79,200  79,900"
          },
          "execution_count": 107,
          "metadata": {},
          "output_type": "execute_result"
        }
      ]
    },
    {
      "metadata": {},
      "cell_type": "markdown",
      "source": "* data를 다시 확인해보면 다시 원복되었습니다. inplace=True 매개변수를 넘기면 적용하고 자기자신의 데이터에 적용합니다. "
    },
    {
      "metadata": {
        "trusted": false
      },
      "cell_type": "code",
      "source": "data",
      "execution_count": 110,
      "outputs": [
        {
          "data": {
            "text/html": "<div>\n<style scoped>\n    .dataframe tbody tr th:only-of-type {\n        vertical-align: middle;\n    }\n\n    .dataframe tbody tr th {\n        vertical-align: top;\n    }\n\n    .dataframe thead th {\n        text-align: right;\n    }\n</style>\n<table border=\"1\" class=\"dataframe\">\n  <thead>\n    <tr style=\"text-align: right;\">\n      <th></th>\n      <th>날짜</th>\n      <th>종목</th>\n      <th>시가</th>\n      <th>종가</th>\n    </tr>\n  </thead>\n  <tbody>\n    <tr>\n      <th>0</th>\n      <td>2019-05-07</td>\n      <td>삼성전자</td>\n      <td>45,250</td>\n      <td>44,850</td>\n    </tr>\n    <tr>\n      <th>1</th>\n      <td>2019-05-07</td>\n      <td>LG전자</td>\n      <td>75,200</td>\n      <td>77,000</td>\n    </tr>\n    <tr>\n      <th>2</th>\n      <td>2019-05-07</td>\n      <td>SK텔레콤</td>\n      <td>254,500</td>\n      <td>NaN</td>\n    </tr>\n    <tr>\n      <th>3</th>\n      <td>2019-05-07</td>\n      <td>SK하이닉스</td>\n      <td>79,200</td>\n      <td>79,900</td>\n    </tr>\n  </tbody>\n</table>\n</div>",
            "text/plain": "           날짜      종목       시가      종가\n0  2019-05-07    삼성전자   45,250  44,850\n1  2019-05-07    LG전자   75,200  77,000\n2  2019-05-07   SK텔레콤  254,500     NaN\n3  2019-05-07  SK하이닉스   79,200  79,900"
          },
          "execution_count": 110,
          "metadata": {},
          "output_type": "execute_result"
        }
      ]
    },
    {
      "metadata": {
        "trusted": false
      },
      "cell_type": "code",
      "source": "data.dropna()",
      "execution_count": 109,
      "outputs": [
        {
          "data": {
            "text/html": "<div>\n<style scoped>\n    .dataframe tbody tr th:only-of-type {\n        vertical-align: middle;\n    }\n\n    .dataframe tbody tr th {\n        vertical-align: top;\n    }\n\n    .dataframe thead th {\n        text-align: right;\n    }\n</style>\n<table border=\"1\" class=\"dataframe\">\n  <thead>\n    <tr style=\"text-align: right;\">\n      <th></th>\n      <th>날짜</th>\n      <th>종목</th>\n      <th>시가</th>\n      <th>종가</th>\n    </tr>\n  </thead>\n  <tbody>\n    <tr>\n      <th>0</th>\n      <td>2019-05-07</td>\n      <td>삼성전자</td>\n      <td>45,250</td>\n      <td>44,850</td>\n    </tr>\n    <tr>\n      <th>1</th>\n      <td>2019-05-07</td>\n      <td>LG전자</td>\n      <td>75,200</td>\n      <td>77,000</td>\n    </tr>\n    <tr>\n      <th>3</th>\n      <td>2019-05-07</td>\n      <td>SK하이닉스</td>\n      <td>79,200</td>\n      <td>79,900</td>\n    </tr>\n  </tbody>\n</table>\n</div>",
            "text/plain": "           날짜      종목      시가      종가\n0  2019-05-07    삼성전자  45,250  44,850\n1  2019-05-07    LG전자  75,200  77,000\n3  2019-05-07  SK하이닉스  79,200  79,900"
          },
          "execution_count": 109,
          "metadata": {},
          "output_type": "execute_result"
        }
      ]
    },
    {
      "metadata": {
        "trusted": false
      },
      "cell_type": "code",
      "source": "data.fillna(0)",
      "execution_count": 93,
      "outputs": [
        {
          "data": {
            "text/html": "<div>\n<style scoped>\n    .dataframe tbody tr th:only-of-type {\n        vertical-align: middle;\n    }\n\n    .dataframe tbody tr th {\n        vertical-align: top;\n    }\n\n    .dataframe thead th {\n        text-align: right;\n    }\n</style>\n<table border=\"1\" class=\"dataframe\">\n  <thead>\n    <tr style=\"text-align: right;\">\n      <th></th>\n      <th>날짜</th>\n      <th>종목</th>\n      <th>시가</th>\n      <th>종가</th>\n    </tr>\n  </thead>\n  <tbody>\n    <tr>\n      <th>0</th>\n      <td>2019-05-07</td>\n      <td>삼성전자</td>\n      <td>45,250</td>\n      <td>44,850</td>\n    </tr>\n    <tr>\n      <th>1</th>\n      <td>2019-05-07</td>\n      <td>LG전자</td>\n      <td>75,200</td>\n      <td>77,000</td>\n    </tr>\n    <tr>\n      <th>2</th>\n      <td>2019-05-07</td>\n      <td>SK텔레콤</td>\n      <td>254,500</td>\n      <td>0</td>\n    </tr>\n    <tr>\n      <th>3</th>\n      <td>2019-05-07</td>\n      <td>SK하이닉스</td>\n      <td>79,200</td>\n      <td>79,900</td>\n    </tr>\n  </tbody>\n</table>\n</div>",
            "text/plain": "          날짜      종목       시가      종가\n0 2019-05-07    삼성전자   45,250  44,850\n1 2019-05-07    LG전자   75,200  77,000\n2 2019-05-07   SK텔레콤  254,500       0\n3 2019-05-07  SK하이닉스   79,200  79,900"
          },
          "execution_count": 93,
          "metadata": {},
          "output_type": "execute_result"
        }
      ]
    },
    {
      "metadata": {
        "trusted": false
      },
      "cell_type": "code",
      "source": "data.fillna(method='ffill')",
      "execution_count": 111,
      "outputs": [
        {
          "data": {
            "text/html": "<div>\n<style scoped>\n    .dataframe tbody tr th:only-of-type {\n        vertical-align: middle;\n    }\n\n    .dataframe tbody tr th {\n        vertical-align: top;\n    }\n\n    .dataframe thead th {\n        text-align: right;\n    }\n</style>\n<table border=\"1\" class=\"dataframe\">\n  <thead>\n    <tr style=\"text-align: right;\">\n      <th></th>\n      <th>날짜</th>\n      <th>종목</th>\n      <th>시가</th>\n      <th>종가</th>\n    </tr>\n  </thead>\n  <tbody>\n    <tr>\n      <th>0</th>\n      <td>2019-05-07</td>\n      <td>삼성전자</td>\n      <td>45,250</td>\n      <td>44,850</td>\n    </tr>\n    <tr>\n      <th>1</th>\n      <td>2019-05-07</td>\n      <td>LG전자</td>\n      <td>75,200</td>\n      <td>77,000</td>\n    </tr>\n    <tr>\n      <th>2</th>\n      <td>2019-05-07</td>\n      <td>SK텔레콤</td>\n      <td>254,500</td>\n      <td>77,000</td>\n    </tr>\n    <tr>\n      <th>3</th>\n      <td>2019-05-07</td>\n      <td>SK하이닉스</td>\n      <td>79,200</td>\n      <td>79,900</td>\n    </tr>\n  </tbody>\n</table>\n</div>",
            "text/plain": "           날짜      종목       시가      종가\n0  2019-05-07    삼성전자   45,250  44,850\n1  2019-05-07    LG전자   75,200  77,000\n2  2019-05-07   SK텔레콤  254,500  77,000\n3  2019-05-07  SK하이닉스   79,200  79,900"
          },
          "execution_count": 111,
          "metadata": {},
          "output_type": "execute_result"
        }
      ]
    },
    {
      "metadata": {
        "trusted": false
      },
      "cell_type": "code",
      "source": "data.fillna(method='bfill')",
      "execution_count": 112,
      "outputs": [
        {
          "data": {
            "text/html": "<div>\n<style scoped>\n    .dataframe tbody tr th:only-of-type {\n        vertical-align: middle;\n    }\n\n    .dataframe tbody tr th {\n        vertical-align: top;\n    }\n\n    .dataframe thead th {\n        text-align: right;\n    }\n</style>\n<table border=\"1\" class=\"dataframe\">\n  <thead>\n    <tr style=\"text-align: right;\">\n      <th></th>\n      <th>날짜</th>\n      <th>종목</th>\n      <th>시가</th>\n      <th>종가</th>\n    </tr>\n  </thead>\n  <tbody>\n    <tr>\n      <th>0</th>\n      <td>2019-05-07</td>\n      <td>삼성전자</td>\n      <td>45,250</td>\n      <td>44,850</td>\n    </tr>\n    <tr>\n      <th>1</th>\n      <td>2019-05-07</td>\n      <td>LG전자</td>\n      <td>75,200</td>\n      <td>77,000</td>\n    </tr>\n    <tr>\n      <th>2</th>\n      <td>2019-05-07</td>\n      <td>SK텔레콤</td>\n      <td>254,500</td>\n      <td>79,900</td>\n    </tr>\n    <tr>\n      <th>3</th>\n      <td>2019-05-07</td>\n      <td>SK하이닉스</td>\n      <td>79,200</td>\n      <td>79,900</td>\n    </tr>\n  </tbody>\n</table>\n</div>",
            "text/plain": "           날짜      종목       시가      종가\n0  2019-05-07    삼성전자   45,250  44,850\n1  2019-05-07    LG전자   75,200  77,000\n2  2019-05-07   SK텔레콤  254,500  79,900\n3  2019-05-07  SK하이닉스   79,200  79,900"
          },
          "execution_count": 112,
          "metadata": {},
          "output_type": "execute_result"
        }
      ]
    },
    {
      "metadata": {
        "trusted": false
      },
      "cell_type": "code",
      "source": "data2 = data.copy()",
      "execution_count": 113,
      "outputs": []
    },
    {
      "metadata": {
        "trusted": false
      },
      "cell_type": "code",
      "source": "data2.dropna(inplace=True)",
      "execution_count": 114,
      "outputs": []
    },
    {
      "metadata": {
        "trusted": false
      },
      "cell_type": "code",
      "source": "data2",
      "execution_count": 115,
      "outputs": [
        {
          "data": {
            "text/html": "<div>\n<style scoped>\n    .dataframe tbody tr th:only-of-type {\n        vertical-align: middle;\n    }\n\n    .dataframe tbody tr th {\n        vertical-align: top;\n    }\n\n    .dataframe thead th {\n        text-align: right;\n    }\n</style>\n<table border=\"1\" class=\"dataframe\">\n  <thead>\n    <tr style=\"text-align: right;\">\n      <th></th>\n      <th>날짜</th>\n      <th>종목</th>\n      <th>시가</th>\n      <th>종가</th>\n    </tr>\n  </thead>\n  <tbody>\n    <tr>\n      <th>0</th>\n      <td>2019-05-07</td>\n      <td>삼성전자</td>\n      <td>45,250</td>\n      <td>44,850</td>\n    </tr>\n    <tr>\n      <th>1</th>\n      <td>2019-05-07</td>\n      <td>LG전자</td>\n      <td>75,200</td>\n      <td>77,000</td>\n    </tr>\n    <tr>\n      <th>3</th>\n      <td>2019-05-07</td>\n      <td>SK하이닉스</td>\n      <td>79,200</td>\n      <td>79,900</td>\n    </tr>\n  </tbody>\n</table>\n</div>",
            "text/plain": "           날짜      종목      시가      종가\n0  2019-05-07    삼성전자  45,250  44,850\n1  2019-05-07    LG전자  75,200  77,000\n3  2019-05-07  SK하이닉스  79,200  79,900"
          },
          "execution_count": 115,
          "metadata": {},
          "output_type": "execute_result"
        }
      ]
    },
    {
      "metadata": {},
      "cell_type": "markdown",
      "source": "## apply() 메소드를 이용하여 컬럼에 함수(사용자 함수포함) 적용하기"
    },
    {
      "metadata": {
        "trusted": false
      },
      "cell_type": "code",
      "source": "data2['시가'].apply(lambda x : int(x.replace(\",\", \"\")))",
      "execution_count": 116,
      "outputs": [
        {
          "data": {
            "text/plain": "0    45250\n1    75200\n3    79200\nName: 시가, dtype: int64"
          },
          "execution_count": 116,
          "metadata": {},
          "output_type": "execute_result"
        }
      ]
    },
    {
      "metadata": {
        "trusted": false
      },
      "cell_type": "code",
      "source": "data2['시가'] = data2['시가'].apply(lambda x : int(x.replace(\",\", \"\")))",
      "execution_count": 117,
      "outputs": []
    },
    {
      "metadata": {
        "trusted": false
      },
      "cell_type": "code",
      "source": "data2.info()",
      "execution_count": 118,
      "outputs": [
        {
          "name": "stdout",
          "output_type": "stream",
          "text": "<class 'pandas.core.frame.DataFrame'>\nInt64Index: 3 entries, 0 to 3\nData columns (total 4 columns):\n날짜    3 non-null object\n종목    3 non-null object\n시가    3 non-null int64\n종가    3 non-null object\ndtypes: int64(1), object(3)\nmemory usage: 84.0+ bytes\n"
        }
      ]
    },
    {
      "metadata": {
        "trusted": false
      },
      "cell_type": "code",
      "source": "data3 = data.copy()",
      "execution_count": 119,
      "outputs": []
    },
    {
      "metadata": {
        "trusted": false
      },
      "cell_type": "code",
      "source": "data3.dropna(inplace=True)",
      "execution_count": 120,
      "outputs": []
    },
    {
      "metadata": {},
      "cell_type": "markdown",
      "source": "## applymap() 메소드를 사용하여 여러 컬럼에 함수 적용하기"
    },
    {
      "metadata": {
        "trusted": false
      },
      "cell_type": "code",
      "source": "data3[['시가', '종가']] = data3[['시가', '종가']].applymap(lambda x : int(x.replace(\",\", \"\")))",
      "execution_count": 121,
      "outputs": []
    },
    {
      "metadata": {
        "trusted": false
      },
      "cell_type": "code",
      "source": "data3",
      "execution_count": 122,
      "outputs": [
        {
          "data": {
            "text/html": "<div>\n<style scoped>\n    .dataframe tbody tr th:only-of-type {\n        vertical-align: middle;\n    }\n\n    .dataframe tbody tr th {\n        vertical-align: top;\n    }\n\n    .dataframe thead th {\n        text-align: right;\n    }\n</style>\n<table border=\"1\" class=\"dataframe\">\n  <thead>\n    <tr style=\"text-align: right;\">\n      <th></th>\n      <th>날짜</th>\n      <th>종목</th>\n      <th>시가</th>\n      <th>종가</th>\n    </tr>\n  </thead>\n  <tbody>\n    <tr>\n      <th>0</th>\n      <td>2019-05-07</td>\n      <td>삼성전자</td>\n      <td>45250</td>\n      <td>44850</td>\n    </tr>\n    <tr>\n      <th>1</th>\n      <td>2019-05-07</td>\n      <td>LG전자</td>\n      <td>75200</td>\n      <td>77000</td>\n    </tr>\n    <tr>\n      <th>3</th>\n      <td>2019-05-07</td>\n      <td>SK하이닉스</td>\n      <td>79200</td>\n      <td>79900</td>\n    </tr>\n  </tbody>\n</table>\n</div>",
            "text/plain": "           날짜      종목     시가     종가\n0  2019-05-07    삼성전자  45250  44850\n1  2019-05-07    LG전자  75200  77000\n3  2019-05-07  SK하이닉스  79200  79900"
          },
          "execution_count": 122,
          "metadata": {},
          "output_type": "execute_result"
        }
      ]
    },
    {
      "metadata": {
        "trusted": false
      },
      "cell_type": "code",
      "source": "data3.info()",
      "execution_count": 123,
      "outputs": [
        {
          "name": "stdout",
          "output_type": "stream",
          "text": "<class 'pandas.core.frame.DataFrame'>\nInt64Index: 3 entries, 0 to 3\nData columns (total 4 columns):\n날짜    3 non-null object\n종목    3 non-null object\n시가    3 non-null int64\n종가    3 non-null int64\ndtypes: int64(2), object(2)\nmemory usage: 96.0+ bytes\n"
        }
      ]
    },
    {
      "metadata": {},
      "cell_type": "markdown",
      "source": "## to_datetime() 함수를 사용하여 날짜 데이터로 형변환하기\n* %Y-%m-%d %H:%M:%S --> 연도-월-일 시간-분-초"
    },
    {
      "metadata": {
        "trusted": false
      },
      "cell_type": "code",
      "source": "data3['날짜'] = pd.to_datetime(data3['날짜'], format='%Y-%m-%d %H:%M:%S')",
      "execution_count": 124,
      "outputs": []
    },
    {
      "metadata": {
        "trusted": false
      },
      "cell_type": "code",
      "source": "data3.info()",
      "execution_count": 125,
      "outputs": [
        {
          "name": "stdout",
          "output_type": "stream",
          "text": "<class 'pandas.core.frame.DataFrame'>\nInt64Index: 3 entries, 0 to 3\nData columns (total 4 columns):\n날짜    3 non-null datetime64[ns]\n종목    3 non-null object\n시가    3 non-null int64\n종가    3 non-null int64\ndtypes: datetime64[ns](1), int64(2), object(1)\nmemory usage: 108.0+ bytes\n"
        }
      ]
    },
    {
      "metadata": {},
      "cell_type": "markdown",
      "source": "## astype() 메소드를 사용하여 데이터 형 변환하기"
    },
    {
      "metadata": {
        "trusted": false
      },
      "cell_type": "code",
      "source": "data3['종가'] = data3['종가'].astype('int32')",
      "execution_count": 126,
      "outputs": []
    },
    {
      "metadata": {
        "trusted": false
      },
      "cell_type": "code",
      "source": "data3.info()",
      "execution_count": 127,
      "outputs": [
        {
          "name": "stdout",
          "output_type": "stream",
          "text": "<class 'pandas.core.frame.DataFrame'>\nInt64Index: 3 entries, 0 to 3\nData columns (total 4 columns):\n날짜    3 non-null datetime64[ns]\n종목    3 non-null object\n시가    3 non-null int64\n종가    3 non-null int32\ndtypes: datetime64[ns](1), int32(1), int64(1), object(1)\nmemory usage: 96.0+ bytes\n"
        }
      ]
    },
    {
      "metadata": {
        "trusted": false
      },
      "cell_type": "code",
      "source": "",
      "execution_count": null,
      "outputs": []
    }
  ],
  "metadata": {
    "kernelspec": {
      "name": "python3",
      "display_name": "Python 3",
      "language": "python"
    },
    "language_info": {
      "mimetype": "text/x-python",
      "nbconvert_exporter": "python",
      "name": "python",
      "pygments_lexer": "ipython3",
      "version": "3.5.4",
      "file_extension": ".py",
      "codemirror_mode": {
        "version": 3,
        "name": "ipython"
      }
    }
  },
  "nbformat": 4,
  "nbformat_minor": 2
}