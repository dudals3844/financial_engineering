{
  "cells": [
    {
      "metadata": {},
      "cell_type": "markdown",
      "source": "# 정규 표현식\n* 특수한 문자열 패턴으로 데이터를 추출하는 일종의 도구입니다. 그리고 다른 도구들처럼 특정한 문제를 해결할 목적으로 사용하는 도구\n* 파이썬에서는 표준 라이브러리 re 모듈을 제공 \n* PPT 자료와 함께 봐주세요."
    },
    {
      "metadata": {
        "trusted": false
      },
      "cell_type": "code",
      "source": "import re",
      "execution_count": 1,
      "outputs": []
    },
    {
      "metadata": {},
      "cell_type": "markdown",
      "source": "# search(), match() \n* 두 함수는 매칭되는 객체를 반환하지만 match()는 문자열이 시작되는 곳부터 일치하는지 검사하지만, search() 함수는 부분적으로 일치하는 문자열이 있는지만 검사합니다."
    },
    {
      "metadata": {},
      "cell_type": "markdown",
      "source": "* search() 함수는 중간에 패턴이 있다면 값을 찾고 리턴 "
    },
    {
      "metadata": {
        "trusted": false
      },
      "cell_type": "code",
      "source": "re.search(\"\\d+\", ' 12345 ')",
      "execution_count": 2,
      "outputs": [
        {
          "data": {
            "text/plain": "<re.Match object; span=(1, 6), match='12345'>"
          },
          "execution_count": 2,
          "metadata": {},
          "output_type": "execute_result"
        }
      ]
    },
    {
      "metadata": {},
      "cell_type": "markdown",
      "source": "* match() 함수로 같은 패턴을 검색하면 12345 앞에 공백문자가 존재하기 때문에 찾지 못합니다."
    },
    {
      "metadata": {
        "trusted": false
      },
      "cell_type": "code",
      "source": "re.match(\"\\d+\", ' 12345 ')",
      "execution_count": 3,
      "outputs": []
    },
    {
      "metadata": {},
      "cell_type": "markdown",
      "source": "* 만약 공백 문자가 없다면 match() 함수도 찾을수 있습니다."
    },
    {
      "metadata": {
        "trusted": false
      },
      "cell_type": "code",
      "source": "re.match(\"\\d+\", '12345 ')",
      "execution_count": 4,
      "outputs": [
        {
          "data": {
            "text/plain": "<re.Match object; span=(0, 5), match='12345'>"
          },
          "execution_count": 4,
          "metadata": {},
          "output_type": "execute_result"
        }
      ]
    },
    {
      "metadata": {},
      "cell_type": "markdown",
      "source": "* group() 메소드를 사용하여 패턴의 값을 추출합니다."
    },
    {
      "metadata": {
        "trusted": false
      },
      "cell_type": "code",
      "source": "re.search(\"\\d+\", ' 12345 ').group()",
      "execution_count": 6,
      "outputs": [
        {
          "data": {
            "text/plain": "'12345'"
          },
          "execution_count": 6,
          "metadata": {},
          "output_type": "execute_result"
        }
      ]
    },
    {
      "metadata": {
        "trusted": false
      },
      "cell_type": "code",
      "source": "re.search(\"\\d+\", ' 12345 ').group(0)",
      "execution_count": 7,
      "outputs": [
        {
          "data": {
            "text/plain": "'12345'"
          },
          "execution_count": 7,
          "metadata": {},
          "output_type": "execute_result"
        }
      ]
    },
    {
      "metadata": {
        "trusted": false
      },
      "cell_type": "code",
      "source": "re.search(\"\\d+\", ' 12345 ').start()",
      "execution_count": 8,
      "outputs": [
        {
          "data": {
            "text/plain": "1"
          },
          "execution_count": 8,
          "metadata": {},
          "output_type": "execute_result"
        }
      ]
    },
    {
      "metadata": {
        "trusted": false
      },
      "cell_type": "code",
      "source": "re.search(\"\\d+\", ' 12345 ').end()",
      "execution_count": 9,
      "outputs": [
        {
          "data": {
            "text/plain": "6"
          },
          "execution_count": 9,
          "metadata": {},
          "output_type": "execute_result"
        }
      ]
    },
    {
      "metadata": {
        "trusted": false
      },
      "cell_type": "code",
      "source": "re.search(\"\\d+\", ' 12345 ').span()",
      "execution_count": 10,
      "outputs": [
        {
          "data": {
            "text/plain": "(1, 6)"
          },
          "execution_count": 10,
          "metadata": {},
          "output_type": "execute_result"
        }
      ]
    },
    {
      "metadata": {},
      "cell_type": "markdown",
      "source": "## 수량자를 사용하여 href=\"index.html\"를 추출해 보겠습니다."
    },
    {
      "metadata": {
        "trusted": false
      },
      "cell_type": "code",
      "source": "print (re.search(r'href=\"(.*)\"', '<a href=\"index.html\">HERE</a><font size=\"10\">').group())",
      "execution_count": 117,
      "outputs": [
        {
          "name": "stdout",
          "output_type": "stream",
          "text": "href=\"index.html\">HERE</a><font size=\"10\"\n"
        }
      ]
    },
    {
      "metadata": {},
      "cell_type": "markdown",
      "source": "* 장표에서 설명되어 있듯이 정규식은 greedy-matching입니다. 그래서 전체 해당되는 값을 출력하지만 ? 을 붙여서 non-greedy matching으로 변경"
    },
    {
      "metadata": {
        "scrolled": true,
        "trusted": false
      },
      "cell_type": "code",
      "source": "print (re.search(r'href=\"(.*?)\"', '<a href=\"index.html\">HERE</a><font size=\"10\">').group())",
      "execution_count": 11,
      "outputs": [
        {
          "name": "stdout",
          "output_type": "stream",
          "text": "href=\"index.html\"\n"
        }
      ]
    },
    {
      "metadata": {},
      "cell_type": "markdown",
      "source": "## 예제\n* 아래 예제는 강사가 좋아하는 명언을 하나의 문자열로 만들어봤습니다. "
    },
    {
      "metadata": {
        "trusted": false
      },
      "cell_type": "code",
      "source": "txt = \"\"\"201901 Dost thou love life? Then do not squander time, for that is the stuff life is made of. (Benjamin Franklin) 그대는 인생을 사랑하는가? 그렇다면 시간을 낭비하지 말라, 시간이야말로 인생을 형성하는 재료이기 때문이다. (벤자민 프랭클린)  \n201902 Life is like riding a bicycle. To keep your balance you must keep moving. (Albert Einstein) 인생은 자전거를 타는 것과 같다. 균형을 잡으려면 움직여야 한다. (알버트 아인슈타인) \n201903 Life is a tragedy when seen in close-up, but a comedy in long-shot. (Charlie Chaplin)  인생은 가까이서 보면 비극이지만 멀리서 보면 희극이다 (찰리 채플린) \n201904 Dream as if you'll live forever. Live as if you'll die today. (James Dean) 영원히 살 것처럼 꿈꾸고 오늘 죽을 것처럼 살아라. (제임스 딘) \n201905 Life is an endless series of trainwrecks with only brief commercial like breaks of happiness. (Deadpool) 인생이란 괴로움의 연속이고, 행복은 광고처럼 짧다. (데드풀)\"\"\"",
      "execution_count": 15,
      "outputs": []
    },
    {
      "metadata": {
        "trusted": false
      },
      "cell_type": "code",
      "source": "print (txt)",
      "execution_count": 16,
      "outputs": [
        {
          "name": "stdout",
          "output_type": "stream",
          "text": "201901 Dost thou love life? Then do not squander time, for that is the stuff life is made of. (Benjamin Franklin) 그대는 인생을 사랑하는가? 그렇다면 시간을 낭비하지 말라, 시간이야말로 인생을 형성하는 재료이기 때문이다. (벤자민 프랭클린)  \n201902 Life is like riding a bicycle. To keep your balance you must keep moving. (Albert Einstein) 인생은 자전거를 타는 것과 같다. 균형을 잡으려면 움직여야 한다. (알버트 아인슈타인) \n201903 Life is a tragedy when seen in close-up, but a comedy in long-shot. (Charlie Chaplin)  인생은 가까이서 보면 비극이지만 멀리서 보면 희극이다 (찰리 채플린) \n201904 Dream as if you'll live forever. Live as if you'll die today. (James Dean) 영원히 살 것처럼 꿈꾸고 오늘 죽을 것처럼 살아라. (제임스 딘) \n201905 Life is an endless series of trainwrecks with only brief commercial like breaks of happiness. (Deadpool) 인생이란 괴로움의 연속이고, 행복은 광고처럼 짧다. (데드풀)\n"
        }
      ]
    },
    {
      "metadata": {},
      "cell_type": "markdown",
      "source": "* Lift로 시작하는 문장들을 출력해보겠습니다."
    },
    {
      "metadata": {
        "trusted": false
      },
      "cell_type": "code",
      "source": "rt = re.search(\"Life.*\", txt)",
      "execution_count": 17,
      "outputs": []
    },
    {
      "metadata": {
        "trusted": false
      },
      "cell_type": "code",
      "source": "rt.group()",
      "execution_count": 18,
      "outputs": [
        {
          "data": {
            "text/plain": "'Life is like riding a bicycle. To keep your balance you must keep moving. (Albert Einstein) 인생은 자전거를 타는 것과 같다. 균형을 잡으려면 움직여야 한다. (알버트 아인슈타인) '"
          },
          "execution_count": 18,
          "metadata": {},
          "output_type": "execute_result"
        }
      ]
    },
    {
      "metadata": {},
      "cell_type": "markdown",
      "source": "* Life로 시작하는 명언을 다 출력을 해보겠습니다."
    },
    {
      "metadata": {
        "trusted": false
      },
      "cell_type": "code",
      "source": "rt2 = re.compile(\"Life.*\")",
      "execution_count": 19,
      "outputs": []
    },
    {
      "metadata": {
        "trusted": false
      },
      "cell_type": "code",
      "source": "rt2.findall(txt)",
      "execution_count": 20,
      "outputs": [
        {
          "data": {
            "text/plain": "['Life is like riding a bicycle. To keep your balance you must keep moving. (Albert Einstein) 인생은 자전거를 타는 것과 같다. 균형을 잡으려면 움직여야 한다. (알버트 아인슈타인) ',\n 'Life is a tragedy when seen in close-up, but a comedy in long-shot. (Charlie Chaplin)  인생은 가까이서 보면 비극이지만 멀리서 보면 희극이다 (찰리 채플린) ',\n 'Life is an endless series of trainwrecks with only brief commercial like breaks of happiness. (Deadpool) 인생이란 괴로움의 연속이고, 행복은 광고처럼 짧다. (데드풀)']"
          },
          "execution_count": 20,
          "metadata": {},
          "output_type": "execute_result"
        }
      ]
    },
    {
      "metadata": {},
      "cell_type": "markdown",
      "source": "* greedy matching"
    },
    {
      "metadata": {
        "trusted": false
      },
      "cell_type": "code",
      "source": "rt2_1 = re.compile(\"[A-Za-z].+[A-Za-z][\\.\\?]\")",
      "execution_count": 21,
      "outputs": []
    },
    {
      "metadata": {
        "trusted": false
      },
      "cell_type": "code",
      "source": "rt2_1.findall(txt)",
      "execution_count": 22,
      "outputs": [
        {
          "data": {
            "text/plain": "['Dost thou love life? Then do not squander time, for that is the stuff life is made of.',\n 'Life is like riding a bicycle. To keep your balance you must keep moving.',\n 'Life is a tragedy when seen in close-up, but a comedy in long-shot.',\n \"Dream as if you'll live forever. Live as if you'll die today.\",\n 'Life is an endless series of trainwrecks with only brief commercial like breaks of happiness.']"
          },
          "execution_count": 22,
          "metadata": {},
          "output_type": "execute_result"
        }
      ]
    },
    {
      "metadata": {},
      "cell_type": "markdown",
      "source": "* 수량자를 사용하여 Non-greedy Matching"
    },
    {
      "metadata": {
        "trusted": false
      },
      "cell_type": "code",
      "source": "rt2_2 = re.compile(\"[A-Za-z].+?[A-Za-z][\\.\\?]\")",
      "execution_count": 23,
      "outputs": []
    },
    {
      "metadata": {
        "trusted": false
      },
      "cell_type": "code",
      "source": "rt2_2.findall(txt)",
      "execution_count": 24,
      "outputs": [
        {
          "data": {
            "text/plain": "['Dost thou love life?',\n 'Then do not squander time, for that is the stuff life is made of.',\n 'Life is like riding a bicycle.',\n 'To keep your balance you must keep moving.',\n 'Life is a tragedy when seen in close-up, but a comedy in long-shot.',\n \"Dream as if you'll live forever.\",\n \"Live as if you'll die today.\",\n 'Life is an endless series of trainwrecks with only brief commercial like breaks of happiness.']"
          },
          "execution_count": 24,
          "metadata": {},
          "output_type": "execute_result"
        }
      ]
    },
    {
      "metadata": {},
      "cell_type": "markdown",
      "source": "* 한글만 출력을 해보겠습니다."
    },
    {
      "metadata": {
        "trusted": false
      },
      "cell_type": "code",
      "source": "rt2_3 = re.compile(\"[가-힣].+?[가-힣][\\.\\?]\")",
      "execution_count": 25,
      "outputs": []
    },
    {
      "metadata": {
        "trusted": false
      },
      "cell_type": "code",
      "source": "rt2_3.findall(txt)",
      "execution_count": 26,
      "outputs": [
        {
          "data": {
            "text/plain": "['그대는 인생을 사랑하는가?',\n '그렇다면 시간을 낭비하지 말라, 시간이야말로 인생을 형성하는 재료이기 때문이다.',\n '인생은 자전거를 타는 것과 같다.',\n '균형을 잡으려면 움직여야 한다.',\n '영원히 살 것처럼 꿈꾸고 오늘 죽을 것처럼 살아라.',\n '인생이란 괴로움의 연속이고, 행복은 광고처럼 짧다.']"
          },
          "execution_count": 26,
          "metadata": {},
          "output_type": "execute_result"
        }
      ]
    },
    {
      "metadata": {},
      "cell_type": "markdown",
      "source": "* 괄호안에 명언의 저자 이름을 출력하는 정규식을 출력해보겠습니다."
    },
    {
      "metadata": {
        "trusted": false
      },
      "cell_type": "code",
      "source": "rt3 = re.compile('(?<=\\()[a-zA-Z\\s)]*(?=\\))')",
      "execution_count": 27,
      "outputs": []
    },
    {
      "metadata": {
        "trusted": false
      },
      "cell_type": "code",
      "source": "rt3.findall(txt)",
      "execution_count": 28,
      "outputs": [
        {
          "data": {
            "text/plain": "['Benjamin Franklin',\n 'Albert Einstein',\n 'Charlie Chaplin',\n 'James Dean',\n 'Deadpool']"
          },
          "execution_count": 28,
          "metadata": {},
          "output_type": "execute_result"
        }
      ]
    },
    {
      "metadata": {},
      "cell_type": "markdown",
      "source": "* 한글로 표현된 이름만 출력해보겠습니다."
    },
    {
      "metadata": {
        "trusted": false
      },
      "cell_type": "code",
      "source": "rt3 = re.compile('(?<=\\()[가-힣\\s^)]*(?=\\))')",
      "execution_count": 29,
      "outputs": []
    },
    {
      "metadata": {
        "trusted": false
      },
      "cell_type": "code",
      "source": "rt3.findall(txt)",
      "execution_count": 30,
      "outputs": [
        {
          "data": {
            "text/plain": "['벤자민 프랭클린', '알버트 아인슈타인', '찰리 채플린', '제임스 딘', '데드풀']"
          },
          "execution_count": 30,
          "metadata": {},
          "output_type": "execute_result"
        }
      ]
    },
    {
      "metadata": {},
      "cell_type": "markdown",
      "source": "## 플래그 사용"
    },
    {
      "metadata": {},
      "cell_type": "markdown",
      "source": "### MULTILINE 플래그"
    },
    {
      "metadata": {
        "trusted": false
      },
      "cell_type": "code",
      "source": "s = \"\"\"Beautiful Soup, so rich and green,\nWaiting in a hot tureen!\nWho for such dainties would not stoop?\nSoup of the evening, beautiful Soup! \"\"\"",
      "execution_count": 43,
      "outputs": []
    },
    {
      "metadata": {
        "trusted": false
      },
      "cell_type": "code",
      "source": "p = re.compile('^.+')",
      "execution_count": 44,
      "outputs": []
    },
    {
      "metadata": {
        "trusted": false
      },
      "cell_type": "code",
      "source": "p.findall(s)",
      "execution_count": 45,
      "outputs": [
        {
          "data": {
            "text/plain": "['Beautiful Soup, so rich and green,']"
          },
          "execution_count": 45,
          "metadata": {},
          "output_type": "execute_result"
        }
      ]
    },
    {
      "metadata": {
        "trusted": false
      },
      "cell_type": "code",
      "source": "p = re.compile('^.+', re.M)",
      "execution_count": 46,
      "outputs": []
    },
    {
      "metadata": {
        "trusted": false
      },
      "cell_type": "code",
      "source": "p.findall(s)",
      "execution_count": 47,
      "outputs": [
        {
          "data": {
            "text/plain": "['Beautiful Soup, so rich and green,',\n 'Waiting in a hot tureen!',\n 'Who for such dainties would not stoop?',\n 'Soup of the evening, beautiful Soup! ']"
          },
          "execution_count": 47,
          "metadata": {},
          "output_type": "execute_result"
        }
      ]
    },
    {
      "metadata": {},
      "cell_type": "markdown",
      "source": "### DOTALL"
    },
    {
      "metadata": {
        "trusted": false
      },
      "cell_type": "code",
      "source": "p = re.compile('green.+Waiting', re.S)\np.findall(s)",
      "execution_count": 36,
      "outputs": [
        {
          "data": {
            "text/plain": "['green,\\nWaiting']"
          },
          "execution_count": 36,
          "metadata": {},
          "output_type": "execute_result"
        }
      ]
    },
    {
      "metadata": {
        "trusted": false
      },
      "cell_type": "code",
      "source": "p = re.compile('green.+Waiting')\np.findall(s)",
      "execution_count": 37,
      "outputs": [
        {
          "data": {
            "text/plain": "[]"
          },
          "execution_count": 37,
          "metadata": {},
          "output_type": "execute_result"
        }
      ]
    },
    {
      "metadata": {},
      "cell_type": "markdown",
      "source": "### VERBOSE\n* 아래 예제는 VERBOSE 플래스를 사용하여 정규식 표현을 보기 편하게 만들어줍니다."
    },
    {
      "metadata": {
        "trusted": false
      },
      "cell_type": "code",
      "source": "rt3 = re.compile('''\n(?<=\\()\n[가-힣\\s^)]*\n(?=\\))''')\nrt3.findall(txt)",
      "execution_count": 41,
      "outputs": [
        {
          "data": {
            "text/plain": "[]"
          },
          "execution_count": 41,
          "metadata": {},
          "output_type": "execute_result"
        }
      ]
    },
    {
      "metadata": {
        "trusted": false
      },
      "cell_type": "code",
      "source": "rt3 = re.compile('''\n(?<=\\()\n[가-힣\\s^)]*\n(?=\\))''', re.X)\nrt3.findall(txt)",
      "execution_count": 42,
      "outputs": [
        {
          "data": {
            "text/plain": "['벤자민 프랭클린', '알버트 아인슈타인', '찰리 채플린', '제임스 딘', '데드풀']"
          },
          "execution_count": 42,
          "metadata": {},
          "output_type": "execute_result"
        }
      ]
    },
    {
      "metadata": {},
      "cell_type": "markdown",
      "source": "* 플래그 중첩"
    },
    {
      "metadata": {
        "trusted": false
      },
      "cell_type": "code",
      "source": "p = re.compile('green.+Waiting', re.S | re.M)\np.findall(s)",
      "execution_count": 40,
      "outputs": [
        {
          "data": {
            "text/plain": "['green,\\nWaiting']"
          },
          "execution_count": 40,
          "metadata": {},
          "output_type": "execute_result"
        }
      ]
    },
    {
      "metadata": {},
      "cell_type": "markdown",
      "source": "## 치환\n* sub() 함수를 사용하여 패턴의 값을 다른 값으로 치환해보겠습니다. \n* 아래 예제는 제 이름으로 치환하는 내용입니다."
    },
    {
      "metadata": {
        "trusted": false
      },
      "cell_type": "code",
      "source": "rt2_3 = re.compile(\"(?<=\\()[가-힣\\s^)]*(?=\\))\")\nrt2_3.sub(\"서찬웅\", txt)",
      "execution_count": 255,
      "outputs": [
        {
          "data": {
            "text/plain": "\"201901 Dost thou love life? Then do not squander time, for that is the stuff life is made of. (Benjamin Franklin) 그대는 인생을 사랑하는가? 그렇다면 시간을 낭비하지 말라, 시간이야말로 인생을 형성하는 재료이기 때문이다. (서찬웅)  \\n201902 Life is like riding a bicycle. To keep your balance you must keep moving. (Albert Einstein) 인생은 자전거를 타는 것과 같다. 균형을 잡으려면 움직여야 한다. (서찬웅) \\n201903 Life is a tragedy when seen in close-up, but a comedy in long-shot. (Charlie Chaplin)  인생은 가까이서 보면 비극이지만 멀리서 보면 희극이다 (서찬웅) \\n201904 Dream as if you'll live forever. Live as if you'll die today. (James Dean) 영원히 살 것처럼 꿈꾸고 오늘 죽을 것처럼 살아라. (서찬웅) \\n201905 Life is an endless series of trainwrecks with only brief commercial like breaks of happiness. (Deadpool) 인생이란 괴로움의 연속이고, 행복은 광고처럼 짧다. (서찬웅)\""
          },
          "execution_count": 255,
          "metadata": {},
          "output_type": "execute_result"
        }
      ]
    },
    {
      "metadata": {
        "trusted": false
      },
      "cell_type": "code",
      "source": "rt2_3 = re.compile(\"(?<=\\()[가-힣\\s^)]*(?=\\))\")\nrt2_3.sub(\"서찬웅\", txt, 2)",
      "execution_count": 256,
      "outputs": [
        {
          "data": {
            "text/plain": "\"201901 Dost thou love life? Then do not squander time, for that is the stuff life is made of. (Benjamin Franklin) 그대는 인생을 사랑하는가? 그렇다면 시간을 낭비하지 말라, 시간이야말로 인생을 형성하는 재료이기 때문이다. (서찬웅)  \\n201902 Life is like riding a bicycle. To keep your balance you must keep moving. (Albert Einstein) 인생은 자전거를 타는 것과 같다. 균형을 잡으려면 움직여야 한다. (서찬웅) \\n201903 Life is a tragedy when seen in close-up, but a comedy in long-shot. (Charlie Chaplin)  인생은 가까이서 보면 비극이지만 멀리서 보면 희극이다 (찰리 채플린) \\n201904 Dream as if you'll live forever. Live as if you'll die today. (James Dean) 영원히 살 것처럼 꿈꾸고 오늘 죽을 것처럼 살아라. (제임스 딘) \\n201905 Life is an endless series of trainwrecks with only brief commercial like breaks of happiness. (Deadpool) 인생이란 괴로움의 연속이고, 행복은 광고처럼 짧다. (데드풀)\""
          },
          "execution_count": 256,
          "metadata": {},
          "output_type": "execute_result"
        }
      ]
    },
    {
      "metadata": {
        "trusted": false
      },
      "cell_type": "code",
      "source": "",
      "execution_count": null,
      "outputs": []
    }
  ],
  "metadata": {
    "kernelspec": {
      "name": "python3",
      "display_name": "Python 3",
      "language": "python"
    },
    "language_info": {
      "mimetype": "text/x-python",
      "nbconvert_exporter": "python",
      "name": "python",
      "file_extension": ".py",
      "version": "3.5.4",
      "pygments_lexer": "ipython3",
      "codemirror_mode": {
        "version": 3,
        "name": "ipython"
      }
    }
  },
  "nbformat": 4,
  "nbformat_minor": 2
}