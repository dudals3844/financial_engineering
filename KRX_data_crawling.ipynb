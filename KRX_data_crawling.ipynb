{
 "cells": [
  {
   "cell_type": "code",
   "execution_count": 1,
   "metadata": {},
   "outputs": [
    {
     "name": "stdout",
     "output_type": "stream",
     "text": [
      "hello\n"
     ]
    }
   ],
   "source": [
    "print(\"hello\")"
   ]
  },
  {
   "cell_type": "code",
   "execution_count": 2,
   "metadata": {},
   "outputs": [
    {
     "name": "stdout",
     "output_type": "stream",
     "text": [
      "hello\n"
     ]
    }
   ],
   "source": [
    "print(\"hello\")"
   ]
  },
  {
   "cell_type": "code",
   "execution_count": 3,
   "metadata": {},
   "outputs": [],
   "source": [
    "import pandas  as pd\n",
    "from selenium import webdriver\n",
    "from selenium.webdriver.common.keys import Keys\n",
    "from bs4 import BeautifulSoup\n",
    "import requests \n",
    "import json\n",
    "import time"
   ]
  },
  {
   "cell_type": "code",
   "execution_count": 4,
   "metadata": {},
   "outputs": [
    {
     "name": "stderr",
     "output_type": "stream",
     "text": [
      "/usr/local/lib/python3.7/site-packages/ipykernel_launcher.py:7: DeprecationWarning: use options instead of chrome_options\n",
      "  import sys\n"
     ]
    }
   ],
   "source": [
    "#Gui가 없으므로 headless로 작동하게 설정\n",
    "chrome_options = webdriver.ChromeOptions()\n",
    "chrome_options.add_argument(\"--headless\")\n",
    "chrome_options.add_argument(\"--no-sandbox\")\n",
    "chrome_options.add_argument(\"--disable-dev-shm-usage\")\n",
    "\n",
    "driver = webdriver.Chrome(\"./chromedriver\", chrome_options = chrome_options)\n",
    "\n",
    "# driver.get('http://google.com')\n",
    "# driver.get_screenshot_as_file('screenshot.png')\n",
    "# driver.quit()"
   ]
  },
  {
   "cell_type": "code",
   "execution_count": 5,
   "metadata": {},
   "outputs": [],
   "source": [
    "url = \"http://marketdata.krx.co.kr/mdi#document=040201\""
   ]
  },
  {
   "cell_type": "code",
   "execution_count": 6,
   "metadata": {},
   "outputs": [],
   "source": [
    "driver.get(url)"
   ]
  },
  {
   "cell_type": "code",
   "execution_count": 8,
   "metadata": {},
   "outputs": [],
   "source": [
    "driver.find_elements_by_css_selector(\"#finderbtna87ff679a2f3e71d9181a67b7542122c\")[0].click()"
   ]
  },
  {
   "cell_type": "code",
   "execution_count": null,
   "metadata": {},
   "outputs": [],
   "source": [
    "driver.get_screenshot_as_file('screenshot.png')"
   ]
  },
  {
   "cell_type": "code",
   "execution_count": 9,
   "metadata": {},
   "outputs": [
    {
     "name": "stdout",
     "output_type": "stream",
     "text": [
      "<form action=\"/contents/MKD/99/MKD99000001.jspx\" autocomplete=\"off\" data-bld=\"COM/finder_stkisu\" data-code=\"\" id=\"form4e732ced3463d06de0ca9a15b6153677\" method=\"post\" onsubmit=\"return false;\">\n",
      "<input name=\"isuCd\" type=\"hidden\"/>\n",
      "<input name=\"no\" type=\"hidden\" value=\"P1\"/>\n",
      "<dl>\n",
      "<dt>시장구분</dt>\n",
      "<dd>\n",
      "<input checked=\"checked\" class=\"schdate\" id=\"mktsel6ea9ab1baa0efb9e19094440c317e21b\" name=\"mktsel\" type=\"radio\" value=\"ALL\"/><label for=\"mktsel6ea9ab1baa0efb9e19094440c317e21b\">전체</label><input class=\"schdate\" id=\"mktsel16ea9ab1baa0efb9e19094440c317e21b\" name=\"mktsel\" type=\"radio\" value=\"STK\"/><label for=\"mktsel16ea9ab1baa0efb9e19094440c317e21b\">KOSPI</label><input class=\"schdate\" id=\"mktsel26ea9ab1baa0efb9e19094440c317e21b\" name=\"mktsel\" type=\"radio\" value=\"KSQ\"/><label for=\"mktsel26ea9ab1baa0efb9e19094440c317e21b\">KOSDAQ</label><input class=\"schdate\" id=\"mktsel36ea9ab1baa0efb9e19094440c317e21b\" name=\"mktsel\" type=\"radio\" value=\"KNX\"/><label for=\"mktsel36ea9ab1baa0efb9e19094440c317e21b\">KONEX</label><input class=\"schdate\" id=\"mktsel46ea9ab1baa0efb9e19094440c317e21b\" name=\"mktsel\" type=\"radio\" value=\"BND\"/><label for=\"mktsel46ea9ab1baa0efb9e19094440c317e21b\">채권</label>\n",
      "<script>\n",
      "$('.schdate').keypress(function(e){\n",
      "\tif(e.which == 13){\n",
      "\t\treturn false;\n",
      "\t}\n",
      "});\n",
      "</script>\n",
      "</dd>\n",
      "</dl>\n",
      "<dl>\n",
      "<dt>검색</dt>\n",
      "<dd>\n",
      "<input class=\"func-finder-searchInput\" id=\"searchText4e732ced3463d06de0ca9a15b6153677\" name=\"searchText\" type=\"text\"/>\n",
      "<div class=\"text-button-group\">\n",
      "<button type=\"button\" value=\"1\">ㄱ</button>\n",
      "<button type=\"button\" value=\"2\">ㄴ</button>\n",
      "<button type=\"button\" value=\"3\">ㄷ</button>\n",
      "<button type=\"button\" value=\"4\">ㄹ</button>\n",
      "<button type=\"button\" value=\"5\">ㅁ</button>\n",
      "<button type=\"button\" value=\"6\">ㅂ</button>\n",
      "<button type=\"button\" value=\"7\">ㅅ</button>\n",
      "<button type=\"button\" value=\"8\">ㅇ</button>\n",
      "<button type=\"button\" value=\"9\">ㅈ</button>\n",
      "<button type=\"button\" value=\"10\">ㅊ</button>\n",
      "<button type=\"button\" value=\"11\">ㅋ</button>\n",
      "<button type=\"button\" value=\"12\">ㅌ</button>\n",
      "<button type=\"button\" value=\"13\">ㅍ</button>\n",
      "<button type=\"button\" value=\"14\">ㅎ</button>\n",
      "<button class=\"wid\" type=\"button\" value=\"15\">A-Z</button>\n",
      "</div>\n",
      "</dd>\n",
      "</dl>\n",
      "<div class=\"design-center\">\n",
      "<button class=\"btn-board btn-board-search\" disabled=\"\" id=\"btnid4e732ced3463d06de0ca9a15b6153677\" type=\"button\"><span></span>조회</button>\n",
      "<script>\n",
      "$(document).ready(function(){\n",
      "\tif(typeof sijangjiPdf == \"undefined\"){\n",
      "\t\t$('#btnid4e732ced3463d06de0ca9a15b6153677').on('click', function (event, params) {\n",
      "\t\t\t//event.preventDefault();\n",
      "\t\t\t\n",
      "\t\t\tvar $f =  $(this).closest('form');\n",
      "\t\t\tvar isChecked = $.func.checkPeriod($f);\n",
      "\t\t\tif (isChecked) {\n",
      "\t\t\t\tvar formData = $f.serializeArray();\n",
      "\t\t\t\tvar code = $.otpCode('form', {'bld' : $f.attr('data-bld')});\n",
      "\t\t\t\tformData.push({name:'code',value: code});\n",
      "\t\t\t\t\n",
      "\t\t\t\tvar isCurPageChk = true;\n",
      "\t\t\t\tvar isNaviEvtChk = false;\n",
      "\t\t\t\tif(params != undefined){\n",
      "\t\t\t\t\tformData.push(params);\n",
      "\t\t\t\t\t//페이지 처음호출이 아닌 두번째 조회버튼 클릭시 curPage를 초기화한다.\n",
      "\t\t\t\t\tif(params.name == 'pageFirstCall'){\n",
      "\t\t\t\t\t\tisCurPageChk = false;\n",
      "\t\t\t\t\t}\n",
      "\t\t\t\t\tif(params.name == 'naviBtnEvt'){\n",
      "\t\t\t\t\t\tisNaviEvtChk = true;\n",
      "\t\t\t\t\t\t//form의 값이 변경되고 페이징 버튼을 클릭한 경우\n",
      "\t\t\t\t\t\tif(params.value == 'R'){\n",
      "\t\t\t\t\t\t\tisNaviEvtChk = false;\n",
      "\t\t\t\t\t\t}\n",
      "\t\t\t\t\t}\n",
      "\t\t\t\t}\n",
      "\t\t\t\t\n",
      "\t\t\t\t//페이징을 하는경우 해당페이지의 페이지네비게이션 이벤트가 아닌경우 조회시 1로 초기화한다.\n",
      "\t\t\t\tif(isCurPageChk && $('input[name=curPage]',$f).length > 0){\n",
      "\t\t\t\t\tvar findObj = _.findWhere(formData,{name:'curPage'});\n",
      "\t\t\t\t\tif(isNaviEvtChk == false){\n",
      "\t\t\t\t\t\tvar curPageIdx = _.indexOf(formData, findObj);\n",
      "\t\t\t\t\t\tformData[curPageIdx] = {name:'curPage', value:1};\n",
      "\t\t\t\t\t\t$('input[name=curPage]',$f).val(1);\n",
      "\t\t\t\t\t}\n",
      "\t\t\t\t}\n",
      "\t\t\t\t\n",
      "\t\t\t\t$f.attr('data-code', code);\n",
      "\t\t\t\tvar ajaxSync = true;\n",
      "\t\t\t\t\n",
      "\t\t\t\t$.func.ajaxSubmit($f.attr('action'), formData, ajaxSync, 'json', false);\n",
      "\t\t\t\t\n",
      "\t\t\t\t//화면 조회\"WebContent/WEB-INF/tags/func/submitBtn.tag\"시 조회시간(time tag) 동기화\n",
      "\t\t\t\t//time tag는 일자, 일자+시간, 일자+시간+20분지연메시지(영문포함) 유형\n",
      "\t\t\t\t\n",
      "\t\t\t\t//시장정보 화면은 pageId 기준으로 찾음 pageId 가 없는 화면은 body에서 찾자\n",
      "\t\t\t\tvar $time = $('#page4e732ced3463d06de0ca9a15b6153677').find('.func-icon-time');\n",
      "\t\t\t\tvar syncTime = $time.find('span:eq(1)').html();\n",
      "\t\t\t\tvar nDay = $.nowTimeDate().getDateFormat('/');\n",
      "\t\t\t\tvar nTime = $.nowTimeDate().getTimeFormat(':');\n",
      "\t\t\t\t\n",
      "\t\t\t\tif (syncTime === undefined) {\n",
      "\t\t\t\t\tvar $b = $(this).closest('body');\n",
      "\t\t\t\t\t$time = $b.find('.func-icon-time');\n",
      "\t\t\t\t\tsyncTime = $time.find('span:eq(1)').html();\n",
      "\t\t\t\t}\n",
      "\t\t\t\t\n",
      "\t\t\t\tif ($time.length > 0) {\n",
      "\t\t\t\t\tsyncTime = syncTime.replace(syncTime.split(' ')[0], nDay).replace(syncTime.split(' ')[2], nTime);\n",
      "\t\t\t\t\t$time.find('span:eq(1)').html(syncTime);\n",
      "\t\t\t\t}\n",
      "\t\t\t\t$('#btnid4e732ced3463d06de0ca9a15b6153677').prop('disabled', true);\n",
      "\t\t\t} else {\n",
      "\t\t\t\talert('조회기간은 1년을 초과할 수 없습니다.');\n",
      "\t\t\t}\n",
      "\t\t});\n",
      "\t\t$(document).ready(function(){\n",
      "\t\t\tsetTimeout(function () {\n",
      "\t\t\t\t$('#btnid4e732ced3463d06de0ca9a15b6153677').trigger('click', {name:'pageFirstCall',value:'Y'});\n",
      "\t\t\t}, 300);\n",
      "\t\t});\n",
      "\t\t\n",
      "\t\t\n",
      "\t \t$(document).ajaxSuccess(function (event, xhr, settings) {\n",
      "\t\t\tvar $frm = $('#btnid4e732ced3463d06de0ca9a15b6153677').closest('form');\n",
      "\t\t\tif(settings.url == $frm.attr('action') && decodeURIComponent(settings.data).indexOf($frm.attr('data-code')) != -1){\n",
      "\t\t\t\tsetTimeout(function () {\n",
      "\t\t\t\t\t$('#btnid4e732ced3463d06de0ca9a15b6153677').prop('disabled', false);\n",
      "\t\t\t\t}, 1000);\n",
      "\t\t\t}\n",
      "\t\t}); \n",
      " \t\n",
      "\t}\n",
      "});\n",
      "</script>\n",
      "</div>\n",
      "<input name=\"pagePath\" type=\"hidden\" value=\"/contents/COM/FinderStkIsu.jsp\"/>\n",
      "</form>\n"
     ]
    }
   ],
   "source": [
    "bs = BeautifulSoup(driver.page_source, \"html.parser\") \n",
    "rt2 = bs.find(\"form\", {\"action\" : \"/contents/MKD/99/MKD99000001.jspx\", \n",
    "                       \"method\" : \"post\", \n",
    "                       \"data-bld\":\"COM/finder_stkisu\"})\n",
    "print(rt2)\n",
    "payload = {'no'\t: 'P1',\n",
    "           'mktsel' : 'ALL',\t\n",
    "           'pagePath' :\t'/contents/COM/FinderStkIsu.jsp'\n",
    "           }\n",
    "\n",
    "payload['code'] = rt2['data-code']"
   ]
  },
  {
   "cell_type": "code",
   "execution_count": 10,
   "metadata": {},
   "outputs": [
    {
     "name": "stdout",
     "output_type": "stream",
     "text": [
      "\n"
     ]
    }
   ],
   "source": [
    "print(payload['code'])"
   ]
  },
  {
   "cell_type": "code",
   "execution_count": 11,
   "metadata": {},
   "outputs": [
    {
     "data": {
      "text/plain": [
       "{'no': 'P1',\n",
       " 'mktsel': 'ALL',\n",
       " 'pagePath': '/contents/COM/FinderStkIsu.jsp',\n",
       " 'code': ''}"
      ]
     },
     "execution_count": 11,
     "metadata": {},
     "output_type": "execute_result"
    }
   ],
   "source": [
    "payload"
   ]
  },
  {
   "cell_type": "code",
   "execution_count": 12,
   "metadata": {},
   "outputs": [],
   "source": [
    "rt_list = []\n",
    "for cnt in range(1, 16):\n",
    "    payload['consonant'] = cnt\n",
    "    rt3 = requests.post(\"http://marketdata.krx.co.kr/contents/MKD/99/MKD99000001.jspx\", data=payload)\n",
    "    rt_list.append(rt3.text)"
   ]
  },
  {
   "cell_type": "code",
   "execution_count": 13,
   "metadata": {},
   "outputs": [
    {
     "data": {
      "text/plain": [
       "''"
      ]
     },
     "execution_count": 13,
     "metadata": {},
     "output_type": "execute_result"
    }
   ],
   "source": [
    "rt_list[0]"
   ]
  },
  {
   "cell_type": "code",
   "execution_count": null,
   "metadata": {},
   "outputs": [],
   "source": []
  },
  {
   "cell_type": "code",
   "execution_count": null,
   "metadata": {},
   "outputs": [],
   "source": []
  }
 ],
 "metadata": {
  "kernelspec": {
   "display_name": "Python 3",
   "language": "python",
   "name": "python3"
  },
  "language_info": {
   "codemirror_mode": {
    "name": "ipython",
    "version": 3
   },
   "file_extension": ".py",
   "mimetype": "text/x-python",
   "name": "python",
   "nbconvert_exporter": "python",
   "pygments_lexer": "ipython3",
   "version": "3.7.4"
  }
 },
 "nbformat": 4,
 "nbformat_minor": 2
}
