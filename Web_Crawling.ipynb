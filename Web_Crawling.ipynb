{
  "cells": [
    {
      "metadata": {
        "trusted": true
      },
      "cell_type": "code",
      "source": "print(\"hello\")",
      "execution_count": 1,
      "outputs": [
        {
          "output_type": "stream",
          "text": "hello\n",
          "name": "stdout"
        }
      ]
    },
    {
      "metadata": {
        "trusted": true
      },
      "cell_type": "code",
      "source": "import requests\nimport json",
      "execution_count": 2,
      "outputs": []
    },
    {
      "metadata": {},
      "cell_type": "markdown",
      "source": "POST방식 전달"
    },
    {
      "metadata": {
        "trusted": true
      },
      "cell_type": "code",
      "source": "url = 'http://dart.fss.or.kr/corp/searchCorpL.ax'\ndata = {\n    'currentPage':10,\n    'maxResults': None,\n    'maxLinks': None,\n    'searchIndex':0,\n    'textCrpNmAddPer':None,\n    'textCrpNm':None,\n    'corporationType':None\n}",
      "execution_count": 3,
      "outputs": []
    },
    {
      "metadata": {
        "trusted": true
      },
      "cell_type": "code",
      "source": "res = requests.post(url, data = data)",
      "execution_count": 4,
      "outputs": []
    },
    {
      "metadata": {
        "trusted": true
      },
      "cell_type": "code",
      "source": " r = requests.get('https://api.github.com/events')",
      "execution_count": 5,
      "outputs": []
    },
    {
      "metadata": {
        "trusted": true
      },
      "cell_type": "code",
      "source": "payload = {'key1':'value1', 'key2':'value2'}",
      "execution_count": 6,
      "outputs": []
    },
    {
      "metadata": {
        "trusted": true
      },
      "cell_type": "code",
      "source": "r = requests.get('https://httpbin.org/get', params=payload)",
      "execution_count": 7,
      "outputs": []
    },
    {
      "metadata": {
        "trusted": true
      },
      "cell_type": "code",
      "source": "r.status_code",
      "execution_count": 8,
      "outputs": [
        {
          "output_type": "execute_result",
          "execution_count": 8,
          "data": {
            "text/plain": "200"
          },
          "metadata": {}
        }
      ]
    },
    {
      "metadata": {
        "trusted": true
      },
      "cell_type": "code",
      "source": "r.url",
      "execution_count": 9,
      "outputs": [
        {
          "output_type": "execute_result",
          "execution_count": 9,
          "data": {
            "text/plain": "'https://httpbin.org/get?key1=value1&key2=value2'"
          },
          "metadata": {}
        }
      ]
    },
    {
      "metadata": {
        "trusted": true
      },
      "cell_type": "code",
      "source": "naver_data = {\n    'sm':'top_hty',\n    'fbm':1,\n    'ie':'utf8',\n    'query':'퀀트'\n}",
      "execution_count": 10,
      "outputs": []
    },
    {
      "metadata": {
        "trusted": true
      },
      "cell_type": "code",
      "source": "r = requests.get('https://search.naver.com/search.naver', params=naver_data)",
      "execution_count": 11,
      "outputs": []
    },
    {
      "metadata": {
        "trusted": true
      },
      "cell_type": "code",
      "source": "r.status_code",
      "execution_count": 12,
      "outputs": [
        {
          "output_type": "execute_result",
          "execution_count": 12,
          "data": {
            "text/plain": "200"
          },
          "metadata": {}
        }
      ]
    },
    {
      "metadata": {
        "trusted": true
      },
      "cell_type": "code",
      "source": "r.url",
      "execution_count": 13,
      "outputs": [
        {
          "output_type": "execute_result",
          "execution_count": 13,
          "data": {
            "text/plain": "'https://search.naver.com/search.naver?sm=top_hty&fbm=1&ie=utf8&query=%ED%80%80%ED%8A%B8'"
          },
          "metadata": {}
        }
      ]
    },
    {
      "metadata": {
        "trusted": true
      },
      "cell_type": "code",
      "source": "header = {'User-Agent':'Mozilla/5.0 (Windows NT 6.3; WOW64) AppleWebKit/537.36 (KHTML, like Gecko) Chrome/30.0.1599.101 Safari/537.36 '}",
      "execution_count": 14,
      "outputs": []
    },
    {
      "metadata": {
        "trusted": true
      },
      "cell_type": "code",
      "source": "url = 'http://www.useragentstring.com/'",
      "execution_count": 15,
      "outputs": []
    },
    {
      "metadata": {
        "trusted": true
      },
      "cell_type": "code",
      "source": "r = requests.get(url, headers = header )",
      "execution_count": 16,
      "outputs": []
    },
    {
      "metadata": {
        "trusted": true
      },
      "cell_type": "code",
      "source": "r.status_code",
      "execution_count": 17,
      "outputs": [
        {
          "output_type": "execute_result",
          "execution_count": 17,
          "data": {
            "text/plain": "200"
          },
          "metadata": {}
        }
      ]
    },
    {
      "metadata": {
        "trusted": true
      },
      "cell_type": "code",
      "source": "r.ok",
      "execution_count": 18,
      "outputs": [
        {
          "output_type": "execute_result",
          "execution_count": 18,
          "data": {
            "text/plain": "True"
          },
          "metadata": {}
        }
      ]
    },
    {
      "metadata": {
        "trusted": true
      },
      "cell_type": "code",
      "source": "r.text",
      "execution_count": 19,
      "outputs": [
        {
          "output_type": "execute_result",
          "execution_count": 19,
          "data": {
            "text/plain": "'\\n<?xml version=\"1.0\" encoding=\"iso-8859-1\"?><!DOCTYPE html PUBLIC \"-//W3C//DTD XHTML 1.0 Strict//EN\" \"http://www.w3.org/TR/xhtml1/DTD/xhtml1-strict.dtd\"><html xmlns=\"http://www.w3.org/1999/xhtml\" xml:lang=\"en\" lang=\"en\"><head><title>UserAgentString.com - Chrome version 30.0.1599.101</title><meta name=\"description\" content=\"Understand what information is contained in a Chrome user agent string. Get an analysis of your or any other user agent string. Find lists of user agent strings from browsers, crawlers, spiders, bots, validators and others..\" /><meta name=\"keywords\" content=\"Chrome,30.0.1599.101,user agent string,user agent,useragent ,user agents,user_agent,useragents , browser, crawler, spider, versions,msie,konqueror ,googlebot ,firefox,galeon\" /><meta http-equiv=\"Content-Type\" content=\"text/html; charset=iso-8859-1\" /><link rel=\"stylesheet\" type=\"text/css\" href=\"/css/useragentstring.css\" /><script  type=\"text/javascript\" src=\"/js/useragentstring.js\" ></script></head><body><h1 id=\"seitenTitel\">&nbsp;User Agent String.Com&nbsp;</h1><div id=\"balken\">&nbsp;</div><div id=\"kasten\"><div id=\"menu\"><a href=\\'/\\'>Home</a> | <a href=\\'/pages/useragentstring.php\\'>List of User Agent Strings</a> | <a href=\\'/pages/links.php\\'>Links</a> | <a href=\\'/pages/api.php\\'>API</a> | <div id=\"strich\">&nbsp;</div></div><div id=\"content\"><h2>User Agent String explained  :</h2><form id=\\'uas_form\\' method=\\'post\\' action=\\'/index.php\\' style=\\'margin-bottom:0px;\\'><div><textarea name=\\'uas\\' id=\\'uas_textfeld\\' rows=\\'4\\' cols=\\'30\\'>Mozilla/5.0 (Windows NT 6.3; WOW64) AppleWebKit/537.36 (KHTML, like Gecko) Chrome/30.0.1599.101 Safari/537.36</textarea><div style=\\'margin-top:10px;\\'><input type=\\'submit\\' value=\\'Analyze\\' class=\\'button\\' style=\\'float:right;\\' /><span style=\\'font-size:11px\\'>Copy/paste any user agent string in this field and click \\'Analyze\\'</span><br />&nbsp;</div></div></form><table border=\\'1\\' id=\\'dieTabelle\\'><tr><th colspan=\\'2\\'><img src=\\'/img//browser/chrome.png\\'  alt=\\'Chrome\\'  class=\\'uaIcon\\' />Chrome 30.0.1599.101</th></tr><tr><td class=\\'wort\\'>Mozilla</td><td class=\\'erklaerung\\'>MozillaProductSlice.  Claims to be a Mozilla based user agent, which is only true for Gecko browsers like Firefox and Netscape. For all other user agents it means \\'Mozilla-compatible\\'. In modern browsers, this is only used for historical reasons. It has no real meaning anymore</td></tr><tr><td class=\\'wort\\'>5.0</td><td class=\\'erklaerung\\'>Mozilla version</td></tr><tr><td class=\\'wort\\'>Windows NT 6.3</td><td class=\\'erklaerung\\'>Operating System: <br /><img src=\\'/img/os/windowsnt.png\\' alt=\\'icon\\' class=\\'uaIcon\\' /> <a href=\"http://www.microsoft.com/ntserver/\" rel=\"external\">Windows NT</a></td></tr><tr><td class=\\'wort\\'>WOW64</td><td class=\\'erklaerung\\'>(Windows-On-Windows 64-bit) A 32-bit application is running on a 64-bit processor</td></tr><tr><td class=\\'wort\\'>AppleWebKit</td><td class=\\'erklaerung\\'>The Web Kit provides a set of core classes to display web content in windows</td></tr><tr><td class=\\'wort\\'>537.36</td><td class=\\'erklaerung\\'>Web Kit build</td></tr><tr><td class=\\'wort\\'>KHTML</td><td class=\\'erklaerung\\'>  Open Source HTML layout engine developed by the KDE project </td></tr><tr><td class=\\'wort\\'>like Gecko</td><td class=\\'erklaerung\\'>like  Gecko... </td></tr><tr><td class=\\'wort\\'><a href=\\'http://www.google.com/chrome\\' rel=\\'external\\'>Chrome</a></td><td class=\\'erklaerung\\'>Name : <br /><img src=\\'/img//browser/chrome.png\\' alt=\\'\\' class=\\'uaIcon\\' /><a href=\\'http://www.google.com/chrome\\' rel=\\'external\\'>Chrome</a></td></tr><tr><td class=\\'wort\\'>30.0.1599.101</td><td class=\\'erklaerung\\'><a href=\\'http://www.google.com/chrome\\' rel=\\'external\\'>Chrome</a> version</td></tr><tr><td class=\\'wort\\'>Safari</td><td class=\\'erklaerung\\'>Based on Safari</td></tr><tr><td class=\\'wort\\'>537.36</td><td class=\\'erklaerung\\'>Safari build</td></tr><tr><td colspan=\\'2\\'>&nbsp;</td></tr><tr><td class=\\'wort\\'><em>Description:</em></td><td>Free open-source web browser developed by <a href=\\'http://www.google.com/\\' rel=\\'external\\'>Google</a>. \\r\\nChromium is the name of the open source project behind <a href=\\'http://www.google.com/\\' rel=\\'external\\'>Google</a> <a href=\\'http://www.google.com/chrome\\' rel=\\'external\\'>Chrome</a>, released under the BSD license.</td></tr><tr><td colspan=\\'2\\' style=\\'text-align:center;padding:15px;\\'><script type=\"text/javascript\"><!--\\n          google_ad_client = \"pub-5947346838678041\";\\n          google_ad_width = 468;\\n          google_ad_height = 15;\\n          google_ad_format = \"468x15_0ads_al\";\\n          google_ad_channel =\"2826724361\";\\n          google_color_border = \"FFFFFF\";\\n          google_color_bg = \"FFFFFF\";\\n          google_color_link = \"0000FF\";\\n          google_color_text = \"000000\";\\n          google_color_url = \"002E3F\";\\n          //--></script>\\n          <script type=\"text/javascript\"\\n            src=\"http://pagead2.googlesyndication.com/pagead/show_ads.js\">\\n          </script>\\n          </td></tr><tr><td class=\\'wort\\' style=\\'text-align:center\\' colspan=\\'2\\'><br /><a href=\\'pages/Chrome/\\' >All Chrome user agent strings </a></td></tr></table></div><br /><div style=\"font-size:10px;text-align:center;position:absolute; bottom:5px;width:100%;\"><br /><hr style=\"color:white;border:none;width:95%;border-bottom:1px solid #333;\" />&copy; 2005 - 2018 <a href=\"http://www.useragentstring.com\">UserAgentString.com</a><br /><a href=\"http://www.wordconstructor.com\" rel=\"external\">Wordconstructor - Random Word Generator</a> <br /></div><br /></div><script src=\"http://www.google-analytics.com/urchin.js\" type=\"text/javascript\"></script><script type=\"text/javascript\">_uacct = \"UA-424553-2\";urchinTracker();</script></body></html>'"
          },
          "metadata": {}
        }
      ]
    },
    {
      "metadata": {
        "trusted": true
      },
      "cell_type": "code",
      "source": "r.json",
      "execution_count": 20,
      "outputs": [
        {
          "output_type": "execute_result",
          "execution_count": 20,
          "data": {
            "text/plain": "<bound method Response.json of <Response [200]>>"
          },
          "metadata": {}
        }
      ]
    },
    {
      "metadata": {
        "trusted": true
      },
      "cell_type": "code",
      "source": "payload = {'key1': 'value1', 'key2': 'value2'}",
      "execution_count": 21,
      "outputs": []
    },
    {
      "metadata": {
        "trusted": true
      },
      "cell_type": "code",
      "source": "r = requests.post('https://httpbin.org/post', data=payload)",
      "execution_count": 22,
      "outputs": []
    },
    {
      "metadata": {
        "trusted": true
      },
      "cell_type": "code",
      "source": "r.text",
      "execution_count": 23,
      "outputs": [
        {
          "output_type": "execute_result",
          "execution_count": 23,
          "data": {
            "text/plain": "'{\\n  \"args\": {}, \\n  \"data\": \"\", \\n  \"files\": {}, \\n  \"form\": {\\n    \"key1\": \"value1\", \\n    \"key2\": \"value2\"\\n  }, \\n  \"headers\": {\\n    \"Accept\": \"*/*\", \\n    \"Accept-Encoding\": \"gzip, deflate\", \\n    \"Content-Length\": \"23\", \\n    \"Content-Type\": \"application/x-www-form-urlencoded\", \\n    \"Host\": \"httpbin.org\", \\n    \"User-Agent\": \"python-requests/2.22.0\"\\n  }, \\n  \"json\": null, \\n  \"origin\": \"13.66.7.10, 13.66.7.10\", \\n  \"url\": \"https://httpbin.org/post\"\\n}\\n'"
          },
          "metadata": {}
        }
      ]
    },
    {
      "metadata": {
        "trusted": true
      },
      "cell_type": "code",
      "source": "s = requests.Session()",
      "execution_count": 24,
      "outputs": []
    },
    {
      "metadata": {
        "trusted": true
      },
      "cell_type": "code",
      "source": "s.headers.update({'user-agent':'Mozilla/5.0 (Windows NT 6.1) AppleWebKit/537.36 (KHTML, like Gecko) Chrome/78.0.3904.108 Safari/537.36'})",
      "execution_count": 29,
      "outputs": []
    },
    {
      "metadata": {
        "trusted": true
      },
      "cell_type": "code",
      "source": "r = s.get('http://naver.com')",
      "execution_count": 30,
      "outputs": []
    },
    {
      "metadata": {
        "trusted": true
      },
      "cell_type": "code",
      "source": "r = s.get('http://daum.net')",
      "execution_count": 31,
      "outputs": []
    },
    {
      "metadata": {},
      "cell_type": "markdown",
      "source": "한번 Session을 만들면 여러번 사용이 가능하다."
    },
    {
      "metadata": {
        "trusted": true
      },
      "cell_type": "code",
      "source": "with requests.Session() as s:\n    s.headers.update({'user-agent':'Mozilla/5.0 (Windows NT 6.1) AppleWebKit/537.36 (KHTML, like Gecko) Chrome/78.0.3904.108 Safari/537.36'})\n    r = s.get('http://naver.com')\n    r = s.get('http://daum.net')",
      "execution_count": 32,
      "outputs": []
    },
    {
      "metadata": {
        "trusted": true
      },
      "cell_type": "code",
      "source": "!pip3 install bs4",
      "execution_count": 33,
      "outputs": [
        {
          "output_type": "stream",
          "text": "Collecting bs4\n  Downloading https://files.pythonhosted.org/packages/10/ed/7e8b97591f6f456174139ec089c769f89a94a1a4025fe967691de971f314/bs4-0.0.1.tar.gz\nRequirement already satisfied: beautifulsoup4 in /home/nbuser/anaconda3_501/lib/python3.6/site-packages (from bs4) (4.6.3)\nBuilding wheels for collected packages: bs4\n  Building wheel for bs4 (setup.py) ... \u001b[?25ldone\n\u001b[?25h  Created wheel for bs4: filename=bs4-0.0.1-cp36-none-any.whl size=2248 sha256=e171e288f24086443a495257380aed67d7357d73ba5fb7a244150368ca888362\n  Stored in directory: /home/nbuser/.cache/pip/wheels/a0/b0/b2/4f80b9456b87abedbc0bf2d52235414c3467d8889be38dd472\nSuccessfully built bs4\nInstalling collected packages: bs4\nSuccessfully installed bs4-0.0.1\n",
          "name": "stdout"
        }
      ]
    },
    {
      "metadata": {
        "trusted": true
      },
      "cell_type": "code",
      "source": "",
      "execution_count": null,
      "outputs": []
    },
    {
      "metadata": {
        "trusted": true
      },
      "cell_type": "code",
      "source": "",
      "execution_count": null,
      "outputs": []
    },
    {
      "metadata": {
        "trusted": true
      },
      "cell_type": "code",
      "source": "",
      "execution_count": null,
      "outputs": []
    },
    {
      "metadata": {
        "trusted": true
      },
      "cell_type": "code",
      "source": "",
      "execution_count": null,
      "outputs": []
    },
    {
      "metadata": {
        "trusted": true
      },
      "cell_type": "code",
      "source": "",
      "execution_count": null,
      "outputs": []
    },
    {
      "metadata": {
        "trusted": true
      },
      "cell_type": "code",
      "source": "",
      "execution_count": null,
      "outputs": []
    },
    {
      "metadata": {
        "trusted": true
      },
      "cell_type": "code",
      "source": "",
      "execution_count": null,
      "outputs": []
    },
    {
      "metadata": {
        "trusted": true
      },
      "cell_type": "code",
      "source": "",
      "execution_count": null,
      "outputs": []
    },
    {
      "metadata": {
        "trusted": true
      },
      "cell_type": "code",
      "source": "",
      "execution_count": null,
      "outputs": []
    },
    {
      "metadata": {
        "trusted": true
      },
      "cell_type": "code",
      "source": "",
      "execution_count": null,
      "outputs": []
    },
    {
      "metadata": {
        "trusted": true
      },
      "cell_type": "code",
      "source": "",
      "execution_count": null,
      "outputs": []
    }
  ],
  "metadata": {
    "kernelspec": {
      "name": "python36",
      "display_name": "Python 3.6",
      "language": "python"
    },
    "language_info": {
      "mimetype": "text/x-python",
      "nbconvert_exporter": "python",
      "name": "python",
      "pygments_lexer": "ipython3",
      "version": "3.6.6",
      "file_extension": ".py",
      "codemirror_mode": {
        "version": 3,
        "name": "ipython"
      }
    }
  },
  "nbformat": 4,
  "nbformat_minor": 2
}