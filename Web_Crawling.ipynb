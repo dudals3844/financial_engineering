{
  "cells": [
    {
      "metadata": {
        "trusted": true
      },
      "cell_type": "code",
      "source": "print(\"hello\")",
      "execution_count": 1,
      "outputs": [
        {
          "output_type": "stream",
          "text": "hello\n",
          "name": "stdout"
        }
      ]
    },
    {
      "metadata": {
        "trusted": true
      },
      "cell_type": "code",
      "source": "import requests\nimport json",
      "execution_count": 2,
      "outputs": []
    },
    {
      "metadata": {},
      "cell_type": "markdown",
      "source": "POST방식 전달"
    },
    {
      "metadata": {
        "trusted": true
      },
      "cell_type": "code",
      "source": "url = 'http://dart.fss.or.kr/corp/searchCorpL.ax'\ndata = {\n    'currentPage':10,\n    'maxResults': None,\n    'maxLinks': None,\n    'searchIndex':0,\n    'textCrpNmAddPer':None,\n    'textCrpNm':None,\n    'corporationType':None\n}",
      "execution_count": 3,
      "outputs": []
    },
    {
      "metadata": {
        "trusted": true
      },
      "cell_type": "code",
      "source": "res = requests.post(url, data = data)",
      "execution_count": 4,
      "outputs": []
    },
    {
      "metadata": {
        "trusted": true
      },
      "cell_type": "code",
      "source": " r = requests.get('https://api.github.com/events')",
      "execution_count": 5,
      "outputs": []
    },
    {
      "metadata": {
        "trusted": true
      },
      "cell_type": "code",
      "source": "payload = {'key1':'value1', 'key2':'value2'}",
      "execution_count": 6,
      "outputs": []
    },
    {
      "metadata": {
        "trusted": true
      },
      "cell_type": "code",
      "source": "r = requests.get('https://httpbin.org/get', params=payload)",
      "execution_count": 7,
      "outputs": []
    },
    {
      "metadata": {
        "trusted": true
      },
      "cell_type": "code",
      "source": "r.status_code",
      "execution_count": 8,
      "outputs": [
        {
          "output_type": "execute_result",
          "execution_count": 8,
          "data": {
            "text/plain": "200"
          },
          "metadata": {}
        }
      ]
    },
    {
      "metadata": {
        "trusted": true
      },
      "cell_type": "code",
      "source": "r.url",
      "execution_count": 9,
      "outputs": [
        {
          "output_type": "execute_result",
          "execution_count": 9,
          "data": {
            "text/plain": "'https://httpbin.org/get?key1=value1&key2=value2'"
          },
          "metadata": {}
        }
      ]
    },
    {
      "metadata": {
        "trusted": true
      },
      "cell_type": "code",
      "source": "naver_data = {\n    'sm':'top_hty',\n    'fbm':1,\n    'ie':'utf8',\n    'query':'퀀트'\n}",
      "execution_count": 10,
      "outputs": []
    },
    {
      "metadata": {
        "trusted": true
      },
      "cell_type": "code",
      "source": "r = requests.get('https://search.naver.com/search.naver', params=naver_data)",
      "execution_count": 11,
      "outputs": []
    },
    {
      "metadata": {
        "trusted": true
      },
      "cell_type": "code",
      "source": "r.status_code",
      "execution_count": 12,
      "outputs": [
        {
          "output_type": "execute_result",
          "execution_count": 12,
          "data": {
            "text/plain": "200"
          },
          "metadata": {}
        }
      ]
    },
    {
      "metadata": {
        "trusted": true
      },
      "cell_type": "code",
      "source": "r.url",
      "execution_count": 13,
      "outputs": [
        {
          "output_type": "execute_result",
          "execution_count": 13,
          "data": {
            "text/plain": "'https://search.naver.com/search.naver?sm=top_hty&fbm=1&ie=utf8&query=%ED%80%80%ED%8A%B8'"
          },
          "metadata": {}
        }
      ]
    },
    {
      "metadata": {
        "trusted": true
      },
      "cell_type": "code",
      "source": "header = {'User-Agent':'Mozilla/5.0 (Windows NT 6.3; WOW64) AppleWebKit/537.36 (KHTML, like Gecko) Chrome/30.0.1599.101 Safari/537.36 '}",
      "execution_count": 14,
      "outputs": []
    },
    {
      "metadata": {
        "trusted": true
      },
      "cell_type": "code",
      "source": "url = 'http://www.useragentstring.com/'",
      "execution_count": 15,
      "outputs": []
    },
    {
      "metadata": {
        "trusted": true
      },
      "cell_type": "code",
      "source": "r = requests.get(url, headers = header )",
      "execution_count": 16,
      "outputs": []
    },
    {
      "metadata": {
        "trusted": true
      },
      "cell_type": "code",
      "source": "r.status_code",
      "execution_count": 17,
      "outputs": [
        {
          "output_type": "execute_result",
          "execution_count": 17,
          "data": {
            "text/plain": "200"
          },
          "metadata": {}
        }
      ]
    },
    {
      "metadata": {
        "trusted": true
      },
      "cell_type": "code",
      "source": "r.ok",
      "execution_count": 18,
      "outputs": [
        {
          "output_type": "execute_result",
          "execution_count": 18,
          "data": {
            "text/plain": "True"
          },
          "metadata": {}
        }
      ]
    },
    {
      "metadata": {
        "trusted": true
      },
      "cell_type": "code",
      "source": "r.text",
      "execution_count": 19,
      "outputs": [
        {
          "output_type": "execute_result",
          "execution_count": 19,
          "data": {
            "text/plain": "'\\n<?xml version=\"1.0\" encoding=\"iso-8859-1\"?><!DOCTYPE html PUBLIC \"-//W3C//DTD XHTML 1.0 Strict//EN\" \"http://www.w3.org/TR/xhtml1/DTD/xhtml1-strict.dtd\"><html xmlns=\"http://www.w3.org/1999/xhtml\" xml:lang=\"en\" lang=\"en\"><head><title>UserAgentString.com - Chrome version 30.0.1599.101</title><meta name=\"description\" content=\"Understand what information is contained in a Chrome user agent string. Get an analysis of your or any other user agent string. Find lists of user agent strings from browsers, crawlers, spiders, bots, validators and others..\" /><meta name=\"keywords\" content=\"Chrome,30.0.1599.101,user agent string,user agent,useragent ,user agents,user_agent,useragents , browser, crawler, spider, versions,msie,konqueror ,googlebot ,firefox,galeon\" /><meta http-equiv=\"Content-Type\" content=\"text/html; charset=iso-8859-1\" /><link rel=\"stylesheet\" type=\"text/css\" href=\"/css/useragentstring.css\" /><script  type=\"text/javascript\" src=\"/js/useragentstring.js\" ></script></head><body><h1 id=\"seitenTitel\">&nbsp;User Agent String.Com&nbsp;</h1><div id=\"balken\">&nbsp;</div><div id=\"kasten\"><div id=\"menu\"><a href=\\'/\\'>Home</a> | <a href=\\'/pages/useragentstring.php\\'>List of User Agent Strings</a> | <a href=\\'/pages/links.php\\'>Links</a> | <a href=\\'/pages/api.php\\'>API</a> | <div id=\"strich\">&nbsp;</div></div><div id=\"content\"><h2>User Agent String explained  :</h2><form id=\\'uas_form\\' method=\\'post\\' action=\\'/index.php\\' style=\\'margin-bottom:0px;\\'><div><textarea name=\\'uas\\' id=\\'uas_textfeld\\' rows=\\'4\\' cols=\\'30\\'>Mozilla/5.0 (Windows NT 6.3; WOW64) AppleWebKit/537.36 (KHTML, like Gecko) Chrome/30.0.1599.101 Safari/537.36</textarea><div style=\\'margin-top:10px;\\'><input type=\\'submit\\' value=\\'Analyze\\' class=\\'button\\' style=\\'float:right;\\' /><span style=\\'font-size:11px\\'>Copy/paste any user agent string in this field and click \\'Analyze\\'</span><br />&nbsp;</div></div></form><table border=\\'1\\' id=\\'dieTabelle\\'><tr><th colspan=\\'2\\'><img src=\\'/img//browser/chrome.png\\'  alt=\\'Chrome\\'  class=\\'uaIcon\\' />Chrome 30.0.1599.101</th></tr><tr><td class=\\'wort\\'>Mozilla</td><td class=\\'erklaerung\\'>MozillaProductSlice.  Claims to be a Mozilla based user agent, which is only true for Gecko browsers like Firefox and Netscape. For all other user agents it means \\'Mozilla-compatible\\'. In modern browsers, this is only used for historical reasons. It has no real meaning anymore</td></tr><tr><td class=\\'wort\\'>5.0</td><td class=\\'erklaerung\\'>Mozilla version</td></tr><tr><td class=\\'wort\\'>Windows NT 6.3</td><td class=\\'erklaerung\\'>Operating System: <br /><img src=\\'/img/os/windowsnt.png\\' alt=\\'icon\\' class=\\'uaIcon\\' /> <a href=\"http://www.microsoft.com/ntserver/\" rel=\"external\">Windows NT</a></td></tr><tr><td class=\\'wort\\'>WOW64</td><td class=\\'erklaerung\\'>(Windows-On-Windows 64-bit) A 32-bit application is running on a 64-bit processor</td></tr><tr><td class=\\'wort\\'>AppleWebKit</td><td class=\\'erklaerung\\'>The Web Kit provides a set of core classes to display web content in windows</td></tr><tr><td class=\\'wort\\'>537.36</td><td class=\\'erklaerung\\'>Web Kit build</td></tr><tr><td class=\\'wort\\'>KHTML</td><td class=\\'erklaerung\\'>  Open Source HTML layout engine developed by the KDE project </td></tr><tr><td class=\\'wort\\'>like Gecko</td><td class=\\'erklaerung\\'>like  Gecko... </td></tr><tr><td class=\\'wort\\'><a href=\\'http://www.google.com/chrome\\' rel=\\'external\\'>Chrome</a></td><td class=\\'erklaerung\\'>Name : <br /><img src=\\'/img//browser/chrome.png\\' alt=\\'\\' class=\\'uaIcon\\' /><a href=\\'http://www.google.com/chrome\\' rel=\\'external\\'>Chrome</a></td></tr><tr><td class=\\'wort\\'>30.0.1599.101</td><td class=\\'erklaerung\\'><a href=\\'http://www.google.com/chrome\\' rel=\\'external\\'>Chrome</a> version</td></tr><tr><td class=\\'wort\\'>Safari</td><td class=\\'erklaerung\\'>Based on Safari</td></tr><tr><td class=\\'wort\\'>537.36</td><td class=\\'erklaerung\\'>Safari build</td></tr><tr><td colspan=\\'2\\'>&nbsp;</td></tr><tr><td class=\\'wort\\'><em>Description:</em></td><td>Free open-source web browser developed by <a href=\\'http://www.google.com/\\' rel=\\'external\\'>Google</a>. \\r\\nChromium is the name of the open source project behind <a href=\\'http://www.google.com/\\' rel=\\'external\\'>Google</a> <a href=\\'http://www.google.com/chrome\\' rel=\\'external\\'>Chrome</a>, released under the BSD license.</td></tr><tr><td colspan=\\'2\\' style=\\'text-align:center;padding:15px;\\'><script type=\"text/javascript\"><!--\\n          google_ad_client = \"pub-5947346838678041\";\\n          google_ad_width = 468;\\n          google_ad_height = 15;\\n          google_ad_format = \"468x15_0ads_al\";\\n          google_ad_channel =\"2826724361\";\\n          google_color_border = \"FFFFFF\";\\n          google_color_bg = \"FFFFFF\";\\n          google_color_link = \"0000FF\";\\n          google_color_text = \"000000\";\\n          google_color_url = \"002E3F\";\\n          //--></script>\\n          <script type=\"text/javascript\"\\n            src=\"http://pagead2.googlesyndication.com/pagead/show_ads.js\">\\n          </script>\\n          </td></tr><tr><td class=\\'wort\\' style=\\'text-align:center\\' colspan=\\'2\\'><br /><a href=\\'pages/Chrome/\\' >All Chrome user agent strings </a></td></tr></table></div><br /><div style=\"font-size:10px;text-align:center;position:absolute; bottom:5px;width:100%;\"><br /><hr style=\"color:white;border:none;width:95%;border-bottom:1px solid #333;\" />&copy; 2005 - 2018 <a href=\"http://www.useragentstring.com\">UserAgentString.com</a><br /><a href=\"http://www.wordconstructor.com\" rel=\"external\">Wordconstructor - Random Word Generator</a> <br /></div><br /></div><script src=\"http://www.google-analytics.com/urchin.js\" type=\"text/javascript\"></script><script type=\"text/javascript\">_uacct = \"UA-424553-2\";urchinTracker();</script></body></html>'"
          },
          "metadata": {}
        }
      ]
    },
    {
      "metadata": {
        "trusted": true
      },
      "cell_type": "code",
      "source": "r.json",
      "execution_count": 20,
      "outputs": [
        {
          "output_type": "execute_result",
          "execution_count": 20,
          "data": {
            "text/plain": "<bound method Response.json of <Response [200]>>"
          },
          "metadata": {}
        }
      ]
    },
    {
      "metadata": {
        "trusted": true
      },
      "cell_type": "code",
      "source": "payload = {'key1': 'value1', 'key2': 'value2'}",
      "execution_count": 21,
      "outputs": []
    },
    {
      "metadata": {
        "trusted": true
      },
      "cell_type": "code",
      "source": "r = requests.post('https://httpbin.org/post', data=payload)",
      "execution_count": 22,
      "outputs": []
    },
    {
      "metadata": {
        "trusted": true
      },
      "cell_type": "code",
      "source": "r.text",
      "execution_count": 23,
      "outputs": [
        {
          "output_type": "execute_result",
          "execution_count": 23,
          "data": {
            "text/plain": "'{\\n  \"args\": {}, \\n  \"data\": \"\", \\n  \"files\": {}, \\n  \"form\": {\\n    \"key1\": \"value1\", \\n    \"key2\": \"value2\"\\n  }, \\n  \"headers\": {\\n    \"Accept\": \"*/*\", \\n    \"Accept-Encoding\": \"gzip, deflate\", \\n    \"Content-Length\": \"23\", \\n    \"Content-Type\": \"application/x-www-form-urlencoded\", \\n    \"Host\": \"httpbin.org\", \\n    \"User-Agent\": \"python-requests/2.22.0\"\\n  }, \\n  \"json\": null, \\n  \"origin\": \"13.66.7.10, 13.66.7.10\", \\n  \"url\": \"https://httpbin.org/post\"\\n}\\n'"
          },
          "metadata": {}
        }
      ]
    },
    {
      "metadata": {
        "trusted": true
      },
      "cell_type": "code",
      "source": "s = requests.Session()",
      "execution_count": 24,
      "outputs": []
    },
    {
      "metadata": {
        "trusted": true
      },
      "cell_type": "code",
      "source": "s.headers.update({'user-agent':'Mozilla/5.0 (Windows NT 6.1) AppleWebKit/537.36 (KHTML, like Gecko) Chrome/78.0.3904.108 Safari/537.36'})",
      "execution_count": 29,
      "outputs": []
    },
    {
      "metadata": {
        "trusted": true
      },
      "cell_type": "code",
      "source": "r = s.get('http://naver.com')",
      "execution_count": 30,
      "outputs": []
    },
    {
      "metadata": {
        "trusted": true
      },
      "cell_type": "code",
      "source": "r = s.get('http://daum.net')",
      "execution_count": 31,
      "outputs": []
    },
    {
      "metadata": {},
      "cell_type": "markdown",
      "source": "한번 Session을 만들면 여러번 사용이 가능하다."
    },
    {
      "metadata": {
        "trusted": true
      },
      "cell_type": "code",
      "source": "with requests.Session() as s:\n    s.headers.update({'user-agent':'Mozilla/5.0 (Windows NT 6.1) AppleWebKit/537.36 (KHTML, like Gecko) Chrome/78.0.3904.108 Safari/537.36'})\n    r = s.get('http://naver.com')\n    r = s.get('http://daum.net')",
      "execution_count": 32,
      "outputs": []
    },
    {
      "metadata": {
        "trusted": true
      },
      "cell_type": "code",
      "source": "!pip3 install bs4",
      "execution_count": 33,
      "outputs": [
        {
          "output_type": "stream",
          "text": "Collecting bs4\n  Downloading https://files.pythonhosted.org/packages/10/ed/7e8b97591f6f456174139ec089c769f89a94a1a4025fe967691de971f314/bs4-0.0.1.tar.gz\nRequirement already satisfied: beautifulsoup4 in /home/nbuser/anaconda3_501/lib/python3.6/site-packages (from bs4) (4.6.3)\nBuilding wheels for collected packages: bs4\n  Building wheel for bs4 (setup.py) ... \u001b[?25ldone\n\u001b[?25h  Created wheel for bs4: filename=bs4-0.0.1-cp36-none-any.whl size=2248 sha256=e171e288f24086443a495257380aed67d7357d73ba5fb7a244150368ca888362\n  Stored in directory: /home/nbuser/.cache/pip/wheels/a0/b0/b2/4f80b9456b87abedbc0bf2d52235414c3467d8889be38dd472\nSuccessfully built bs4\nInstalling collected packages: bs4\nSuccessfully installed bs4-0.0.1\n",
          "name": "stdout"
        }
      ]
    },
    {
      "metadata": {
        "trusted": true
      },
      "cell_type": "code",
      "source": "from bs4 import BeautifulSoup",
      "execution_count": 34,
      "outputs": []
    },
    {
      "metadata": {
        "trusted": true
      },
      "cell_type": "code",
      "source": "soup = BeautifulSoup(html_doc, 'html.parser')",
      "execution_count": 36,
      "outputs": []
    },
    {
      "metadata": {
        "trusted": true
      },
      "cell_type": "code",
      "source": "print(soup.prettify())",
      "execution_count": 37,
      "outputs": [
        {
          "output_type": "stream",
          "text": "<!DOCTYPE doctype html>\n<html lang=\"ko\">\n <head>\n  <link href=\"https://t1.daumcdn.net/tistory_admin/lib/lightbox/css/lightbox.min.css\" rel=\"stylesheet\" type=\"text/css\"/>\n  <link href=\"https://t1.daumcdn.net/tistory_admin/assets/blog/cbaef5b36afa58209fd2fb20bcbd88c5494cdcba/blogs/style/content/font.css?_version_=cbaef5b36afa58209fd2fb20bcbd88c5494cdcba\" rel=\"stylesheet\" type=\"text/css\"/>\n  <link href=\"https://t1.daumcdn.net/tistory_admin/assets/blog/cbaef5b36afa58209fd2fb20bcbd88c5494cdcba/blogs/style/content/content.css?_version_=cbaef5b36afa58209fd2fb20bcbd88c5494cdcba\" rel=\"stylesheet\" type=\"text/css\"/>\n  <!--[if lt IE 9]><script src=\"https://t1.daumcdn.net/tistory_admin/lib/jquery/jquery-1.12.4.min.js\"></script><![endif]-->\n  <!--[if gte IE 9]>\n<!-->\n  <script src=\"https://t1.daumcdn.net/tistory_admin/lib/jquery/jquery-3.2.1.min.js\">\n  </script>\n  <!--<![endif]-->\n  <script src=\"https://t1.daumcdn.net/tistory_admin/lib/lightbox/js/lightbox-plus-jquery.min.js\">\n  </script>\n  <script>\n   lightbox.options.fadeDuration = 200;\nlightbox.options.resizeDuration = 200;\nlightbox.options.wrapAround = false;\nlightbox.options.albumLabel = \"%1 / %2\";\n  </script>\n  <script>\n   var tjQuery = jQuery.noConflict(true);\n  </script>\n  <style type=\"text/css\">\n   .tt_article_useless_p_margin p {padding-top:0 !important;padding-bottom:0 !important;margin-top:0 !important;margin-bottom:0 !important;}\n  </style>\n  <meta content=\"always\" name=\"referrer\"/>\n  <link href=\"//t1.daumcdn.net/tistory_admin/static/top/favicon_0630.ico\" rel=\"icon\"/>\n  <link href=\"//img1.daumcdn.net/thumb/C180x180/?fname=https%3A%2F%2Ftistory3.daumcdn.net%2Ftistory%2F2756523%2Fattach%2F04195511fc744007a6ff08aa679cc42e\" rel=\"apple-touch-icon\"/>\n  <link href=\"//img1.daumcdn.net/thumb/C76x76/?fname=https%3A%2F%2Ftistory3.daumcdn.net%2Ftistory%2F2756523%2Fattach%2F04195511fc744007a6ff08aa679cc42e\" rel=\"apple-touch-icon\" sizes=\"76x76\"/>\n  <link href=\"//img1.daumcdn.net/thumb/C120x120/?fname=https%3A%2F%2Ftistory3.daumcdn.net%2Ftistory%2F2756523%2Fattach%2F04195511fc744007a6ff08aa679cc42e\" rel=\"apple-touch-icon\" sizes=\"120x120\"/>\n  <link href=\"//img1.daumcdn.net/thumb/C152x152/?fname=https%3A%2F%2Ftistory3.daumcdn.net%2Ftistory%2F2756523%2Fattach%2F04195511fc744007a6ff08aa679cc42e\" rel=\"apple-touch-icon\" sizes=\"152x152\"/>\n  <meta content=\"웹에서 쿠키와 세션 (Cookie &amp; Session) 쿠키와 세션을 사용하는 이유 HTTP 프로토콜의 특징이자 약점을 보완하기 위해서 사용한다. HTTP 프로토콜의 특징 1) 비연결지향(Connectionless) HTTP는 먼저 클라이언트..\" name=\"description\"/>\n  <!-- BEGIN OPENGRAPH -->\n  <link href=\"https://jeong-pro.tistory.com/80\" rel=\"canonical\">\n   <meta content=\"article\" property=\"og:type\"/>\n   <meta content=\"https://jeong-pro.tistory.com/80\" property=\"og:url\"/>\n   <meta content=\"기본기를 쌓는 정아마추어 코딩블로그\" property=\"og:site_name\"/>\n   <meta content=\"Web - 쿠키와 세션의 차이, 용도, 사용법(cookie,session)\" property=\"og:title\"/>\n   <meta content=\"정아마추어 JEONG_AMATEUR\" name=\"by\"/>\n   <meta content=\"웹에서 쿠키와 세션 (Cookie &amp; Session) 쿠키와 세션을 사용하는 이유 HTTP 프로토콜의 특징이자 약점을 보완하기 위해서 사용한다. HTTP 프로토콜의 특징 1) 비연결지향(Connectionless) HTTP는 먼저 클라이언트..\" property=\"og:description\"/>\n   <meta content=\"https://t1.daumcdn.net/tistory_admin/static/images/openGraph/opengraph.png\" property=\"og:image\"/>\n   <meta content=\"IT 인터넷\" property=\"article:section\"/>\n   <!-- END OPENGRAPH -->\n   <!-- BEGIN TWITTERCARD -->\n   <meta content=\"summary_large_image\" name=\"twitter:card\"/>\n   <meta content=\"@TISTORY\" name=\"twitter:site\"/>\n   <meta content=\"Web - 쿠키와 세션의 차이, 용도, 사용법(cookie,session)\" name=\"twitter:title\"/>\n   <meta content=\"웹에서 쿠키와 세션 (Cookie &amp; Session) 쿠키와 세션을 사용하는 이유 HTTP 프로토콜의 특징이자 약점을 보완하기 위해서 사용한다. HTTP 프로토콜의 특징 1) 비연결지향(Connectionless) HTTP는 먼저 클라이언트..\" name=\"twitter:description\"/>\n   <meta content=\"https://t1.daumcdn.net/tistory_admin/static/images/openGraph/opengraph.png\" property=\"twitter:image\"/>\n   <!-- END TWITTERCARD -->\n   <!-- BEGIN DAUMAPP -->\n   <meta content=\"https://jeong-pro.tistory.com/80\" property=\"dg:plink\"/>\n   <meta content=\"https://jeong-pro.tistory.com/80\" name=\"plink\"/>\n   <meta content=\"Web - 쿠키와 세션의 차이, 용도, 사용법(cookie,session)\" name=\"title\"/>\n   <meta content=\"기본기를 쌓는 정아마추어 코딩블로그\" name=\"article:media_name\"/>\n   <meta content=\"https://jeong-pro.tistory.com/m/80\" property=\"article:mobile_url\"/>\n   <meta content=\"https://jeong-pro.tistory.com/80\" property=\"article:pc_url\"/>\n   <meta content=\"https://jeong-pro.tistory.com/m/80\" property=\"article:mobile_view_url\"/>\n   <meta content=\"https://jeong-pro.tistory.com/80\" property=\"article:pc_view_url\"/>\n   <meta content=\"https://jeong-pro.tistory.com/m/80\" property=\"article:talk_channel_view_url\"/>\n   <meta content=\"https://www.tistory.com\" property=\"article:pc_service_home\"/>\n   <meta content=\"https://www.tistory.com/m\" property=\"article:mobile_service_home\"/>\n   <meta content=\"2756523_80\" property=\"article:txid\">\n    <meta content=\"2017-10-21T23:27:59+09:00\" property=\"article:published_time\"/>\n    <meta content=\"20171021232759\" property=\"og:regDate\"/>\n    <meta content=\"2017-11-27T22:21:18+09:00\" property=\"article:modified_time\"/>\n    <!-- END DAUMAPP -->\n    <!-- BEGIN STRUCTURED_DATA -->\n    <script type=\"application/ld+json\">\n     {\"@context\":\"http:\\/\\/schema.org\",\"@type\":\"BlogPosting\",\"mainEntityOfPage\":{\"@id\":\"https:\\/\\/jeong-pro.tistory.com\\/80\"},\"url\":\"https:\\/\\/jeong-pro.tistory.com\\/80\",\"headline\":\"Web - 쿠키와 세션의 차이, 용도, 사용법(cookie,session)\",\"description\":\"웹에서 쿠키와 세션 (Cookie & Session) 쿠키와 세션을 사용하는 이유 HTTP 프로토콜의 특징이자 약점을 보완하기 위해서 사용한다. HTTP 프로토콜의 특징 1) 비연결지향(Connectionless) HTTP는 먼저 클라이언트..\",\"author\":{\"@type\":\"Person\",\"name\":\"정아마추어 JEONG_AMATEUR\"},\"image\":{\"@type\":\"ImageObject\",\"url\":\"https:\\/\\/t1.daumcdn.net\\/tistory_admin\\/static\\/images\\/openGraph\\/opengraph.png\",\"width\":\"800px\",\"height\":\"800px\"},\"datePublished\":\"20171021T23:27:59+09:00\",\"dateModified\":\"20171127T22:21:18+09:00\",\"publisher\":{\"@type\":\"Organization\",\"name\":\"TISTORY\",\"logo\":{\"@type\":\"ImageObject\",\"url\":\"https:\\/\\/t1.daumcdn.net\\/tistory_admin\\/static\\/images\\/openGraph\\/opengraph.png\",\"width\":\"800px\",\"height\":\"800px\"}}}\n    </script>\n    <!-- END STRUCTURED_DATA -->\n    <meta charset=\"utf-8\"/>\n    <meta content=\"user-scalable=no, initial-scale=1.0, maximum-scale=1.0, minimum-scale=1.0, width=device-width\" name=\"viewport\"/>\n    <meta content=\"7Md5j8QEVIDVpXu9cdmVhKRpLEfRRNfM4uJ63R_6jl0\" name=\"google-site-verification\">\n     <title>\n      Web - 쿠키와 세션의 차이, 용도, 사용법(cookie,session)\n     </title>\n     <script src=\"//t1.daumcdn.net/tistory_admin/lib/jquery/jquery-1.12.4.min.js\">\n     </script>\n     <!--highlight.js 신택스 하이라이터 적용 -->\n     <link href=\"https://cdnjs.cloudflare.com/ajax/libs/highlight.js/9.15.6/styles/androidstudio.min.css\" rel=\"stylesheet\"/>\n     <script src=\"//cdn.jsdelivr.net/gh/highlightjs/cdn-release@9.15.6/build/highlight.min.js\">\n     </script>\n     <script>\n      hljs.initHighlightingOnLoad();\n     </script>\n     <!-- 신택스하이라이터 끝 -->\n     <link href=\"https://tistory2.daumcdn.net/tistory/2756523/skin/style.css?_T_=1574950865\" rel=\"stylesheet\"/>\n     <link href=\"https://t1.daumcdn.net/tistory_admin/assets/blog/cbaef5b36afa58209fd2fb20bcbd88c5494cdcba/blogs/plugins/A_ShareEntryWithSNS/css/shareEntryWithSNS.css?_version_=cbaef5b36afa58209fd2fb20bcbd88c5494cdcba\" rel=\"stylesheet\" type=\"text/css\"/>\n     <script src=\"https://t1.daumcdn.net/tistory_admin/assets/blog/cbaef5b36afa58209fd2fb20bcbd88c5494cdcba/blogs/plugins/A_ShareEntryWithSNS/script/shareEntryWithSNS.js?_version_=cbaef5b36afa58209fd2fb20bcbd88c5494cdcba\" type=\"text/javascript\">\n     </script>\n     <style type=\"text/css\">\n      #daumSearchBox {\n\t\t\theight: 21px;\n\t\t\tbackground-image : url(//i1.daumcdn.net/imgsrc.search/search_all/show/tistory/plugin/bg_search2_2.gif);\n\t\t\tmargin: 5px auto ;\n\t\t\tpadding: 0;\n\t\t}\n\t\t#daumSearchBox input {\n\t\t\tbackground: none;\n\t\t\tmargin : 0;\n\t\t\tpadding : 0;\n\t\t\tborder : 0;\n\t\t}\n\t\t#daumSearchBox #daumLogo {\n\t\t\twidth: 34px;\n\t\t\theight: 21px;\n\t\t\tfloat: left;\n\t\t\tmargin-right: 5px;\n\t\t\tbackground-image : url(//i1.daumcdn.net/img-media/tistory/img/bg_search1_2_2010ci.gif);\n\t\t}\n\t\t#daumSearchBox #show_q {\n\t\t\tbackground-color: transparent;\n\t\t\tborder: none;\n\t\t\tfont: 12px Gulim, Sans-serif;\n\t\t\tcolor: #555;\n\t\t\tmargin-top: 4px;\n\t\t\tmargin-right: 15px;\n\t\t\tfloat: left;\n\t\t}\n\n\t\t#daumSearchBox #show_btn {\n\t\t\tbackground-image : url(//i1.daumcdn.net/imgsrc.search/search_all/show/tistory/plugin/bt_search_2.gif);\n\t\t\twidth: 37px;\n\t\t\theight: 21px;\n\t\t\tfloat: left;\n\t\t\tmargin:0;\n\t\t\tcursor:pointer;\n\t\t\ttext-indent:-1000em;\n\t\t}\n     </style>\n     <link href=\"https://t1.daumcdn.net/tistory_admin/assets/blog/cbaef5b36afa58209fd2fb20bcbd88c5494cdcba/blogs/plugins/TistoryProfileLayer/style.css?_version_=cbaef5b36afa58209fd2fb20bcbd88c5494cdcba\" rel=\"stylesheet\" type=\"text/css\">\n      <script src=\"https://t1.daumcdn.net/tistory_admin/assets/blog/cbaef5b36afa58209fd2fb20bcbd88c5494cdcba/blogs/plugins/TistoryProfileLayer/profile.js?_version_=cbaef5b36afa58209fd2fb20bcbd88c5494cdcba\" type=\"text/javascript\">\n      </script>\n      <style type=\"text/css\">\n       .another_category { border: 1px solid #E5E5E5; padding: 10px 10px 5px; margin:10px 0; clear: both; }\n\t\t.another_category h4 { font-size: 12px !important; margin: 0 !important; border-bottom: 1px solid #E5E5E5 !important; padding: 2px 0 6px !important; }\n\t\t.another_category h4 a { font-weight: bold !important; }\n\t\t.another_category table { table-layout: fixed; border-collapse: collapse; width: 100% !important; margin-top: 10px !important; }\n\t\t* html .another_category table { width: auto !important; }\n\t\t*:first-child+html .another_category table { width: auto !important; }\n\t\t.another_category th, .another_category td { padding: 0 0 4px !important; }\n\t\t.another_category th { text-align: left; font-size: 12px !important; font-weight: normal;  word-break: break-all; overflow: hidden; line-height: 1.5; }\n\t\t.another_category td { text-align: right; width: 80px; font-size: 11px; }\n\t\t.another_category th a { font-weight: normal; text-decoration: none; border: none !important; }\n\t\t.another_category th a.current{ font-weight: bold; text-decoration: none !important; border-bottom: 1px solid !important; }\n\t\t.another_category th span { font-weight: normal; text-decoration: none; font: 10px Tahoma, Sans-serif; border: none !important; }\n\n\t\t.another_category_color_gray, .another_category_color_gray h4 { border-color: #E5E5E5 !important; }\n\t\t.another_category_color_gray * { color: #909090 !important; }\n\t\t.another_category_color_gray th a.current{border-color:#909090 !important;}\n\t\t.another_category_color_gray h4, .another_category_color_gray h4 a { color: #737373 !important; }\n\n\n\t\t.another_category_color_red, .another_category_color_red h4 { border-color: #F6D4D3 !important;  }\n\t\t.another_category_color_red * { color: #E86869 !important; }\n\t\t.another_category_color_red th a.current{border-color:#E86869 !important;}\n\t\t.another_category_color_red h4, .another_category_color_red h4 a { color: #ED0908 !important; }\n\n\n\t\t.another_category_color_green, .another_category_color_green h4 { border-color: #CCE7C8 !important; }\n\t\t.another_category_color_green * { color: #64C05B !important; }\n\t\t.another_category_color_green th a.current{border-color:#64C05B !important;}\n\t\t.another_category_color_green h4, .another_category_color_green h4 a { color: #3EA731 !important; }\n\n\n\t\t.another_category_color_blue, .another_category_color_blue h4 { border-color: #C8DAF2 !important; }\n\t\t.another_category_color_blue * { color: #477FD6 !important; }\n\t\t.another_category_color_blue th a.current{border-color:#477FD6 !important;}\n\t\t.another_category_color_blue h4, .another_category_color_blue h4 a { color: #1960CA !important; }\n\n\n\t\t.another_category_color_violet, .another_category_color_violet h4 { border-color: #E1CEEC !important;  }\n\t\t.another_category_color_violet * { color:#9D64C5 !important; }\n\t\t.another_category_color_violet th a.current{border-color:#9D64C5 !important;}\n\t\t.another_category_color_violet h4, .another_category_color_violet h4 a { color: #7E2CB5 !important; }\n      </style>\n      <script type=\"text/javascript\">\n       window.TistoryBlog = {\n            basePath: \"\",\n            url: \"https://jeong-pro.tistory.com\",\n            tistoryUrl: \"https://jeong-pro.tistory.com\",\n\t\t\tmanageUrl: 'https://jeong-pro.tistory.com/manage',\n            token: 'jzVOVrPjSU63/q05lvJa5A=='\n        };\n        var servicePath = \"\";\n        var blogURL = \"\";\n      </script>\n      <script>\n       (function() { window.orgjQuery = window.jQuery; window.jQuery = tjQuery })()\n      </script>\n      <script src=\"https://t1.daumcdn.net/section/uoclike/news/uoclike.min.js\">\n      </script>\n      <script>\n       (function() { window.jQuery = window.orgjQuery; delete window.orgjQuery })()\n      </script>\n      <script>\n       (function($) {\n\t\t\t$.fn.extend({\n\t\t\t\tsize: function () {\n\t\t\t\t\treturn this.length\n\t\t\t\t}\n\t\t\t});\n\t\t\t$.fn.UOCLike.defaults.updateServiceCategory = true;\n\t\t\t\t\t})(tjQuery)\n      </script>\n      <script src=\"https://t1.daumcdn.net/tistory_admin/assets/blog/cbaef5b36afa58209fd2fb20bcbd88c5494cdcba/blogs/script/_/base.js?_version_=cbaef5b36afa58209fd2fb20bcbd88c5494cdcba\" type=\"text/javascript\">\n      </script>\n      <link href=\"https://t1.daumcdn.net/tistory_admin/assets/blog/cbaef5b36afa58209fd2fb20bcbd88c5494cdcba/blogs/style/dialog.css?_version_=cbaef5b36afa58209fd2fb20bcbd88c5494cdcba\" rel=\"stylesheet\" type=\"text/css\">\n       <link href=\"//t1.daumcdn.net/tistory_admin/www/style/top/font.css\" rel=\"stylesheet\" type=\"text/css\"/>\n       <link href=\"https://t1.daumcdn.net/tistory_admin/assets/blog/cbaef5b36afa58209fd2fb20bcbd88c5494cdcba/blogs/style/postBtn.css?_version_=cbaef5b36afa58209fd2fb20bcbd88c5494cdcba\" rel=\"stylesheet\" type=\"text/css\">\n        <link href=\"https://t1.daumcdn.net/tistory_admin/assets/blog/cbaef5b36afa58209fd2fb20bcbd88c5494cdcba/blogs/style/component/tistory.css?_version_=cbaef5b36afa58209fd2fb20bcbd88c5494cdcba\" rel=\"stylesheet\" type=\"text/css\">\n         <script src=\"//developers.kakao.com/sdk/js/kakao.min.js\">\n         </script>\n        </link>\n       </link>\n      </link>\n     </link>\n    </meta>\n   </meta>\n  </link>\n </head>\n <body class=\"color-gray post-type-text paging-view-more\" id=\"tt-body-page\">\n  <script type=\"text/javascript\">\n   (function() {\n\t\tif (!window.T) {\n\t\t\twindow.T = {}\n\t\t}\n\t\twindow.T.config = {\"TOP_SSL_URL\":\"https:\\/\\/www.tistory.com\",\"PREVIEW\":false,\"ROLE\":\"guest\",\"PREV_PAGE\":\"\\/81\",\"NEXT_PAGE\":\"\\/79\",\"BLOG\":{\"isDormancy\":false,\"title\":\"기본기를 쌓는 정아마추어 코딩블로그\"},\"NEED_COMMENT_LOGIN\":false,\"COMMENT_LOGIN_CONFIRM_MESSAGE\":\"\",\"LOGIN_URL\":\"https:\\/\\/www.tistory.com\\/auth\\/login\\/?redirectUrl=https%3A%2F%2Fjeong-pro.tistory.com%2F80\",\"DEFAULT_URL\":\"https:\\/\\/jeong-pro.tistory.com\",\"USER\":{\"name\":null,\"homepage\":null}};\n\t\twindow.appInfo = {\"domain\":\"tistory.com\",\"topUrl\":\"https:\\/\\/www.tistory.com\",\"loginUrl\":\"https:\\/\\/www.tistory.com\\/auth\\/login\",\"logoutUrl\":\"https:\\/\\/www.tistory.com\\/auth\\/logout\"};\n\n        window.initData = {};\n        \n\t})();\n  </script>\n  <script src=\"https://t1.daumcdn.net/tistory_admin/assets/blog/cbaef5b36afa58209fd2fb20bcbd88c5494cdcba/blogs/script/blog/common.js?_version_=cbaef5b36afa58209fd2fb20bcbd88c5494cdcba\" type=\"text/javascript\">\n  </script>\n  <div style=\"margin:0; padding:0; border:none; background:none; float:none; clear:none; z-index:0\">\n  </div>\n  <div id=\"acc-nav\">\n   <a href=\"#content\">\n    본문 바로가기\n   </a>\n  </div>\n  <div id=\"wrap\">\n   <header id=\"header\">\n    <h1>\n     <a href=\"/\">\n      기본기를 쌓는 정아마추어 코딩블로그\n     </a>\n    </h1>\n    <button class=\"mobile-menu\" type=\"button\">\n     <span>\n      메뉴\n     </span>\n    </button>\n    <div class=\"menu\">\n     <nav id=\"gnb\">\n      <ul class=\"tt_category\">\n       <li class=\"\">\n        <a class=\"link_tit\" href=\"/category\">\n         전체보기\n         <span class=\"c_cnt\">\n          (196)\n         </span>\n        </a>\n        <ul class=\"category_list\">\n         <li class=\"\">\n          <a class=\"link_item\" href=\"/category/Java\">\n           Java\n           <span class=\"c_cnt\">\n            (75)\n           </span>\n          </a>\n          <ul class=\"sub_category_list\">\n           <li class=\"\">\n            <a class=\"link_sub_item\" href=\"/category/Java/JAVA\">\n             JAVA\n             <span class=\"c_cnt\">\n              (41)\n             </span>\n            </a>\n           </li>\n           <li class=\"\">\n            <a class=\"link_sub_item\" href=\"/category/Java/Spring\">\n             Spring\n             <span class=\"c_cnt\">\n              (26)\n             </span>\n            </a>\n           </li>\n           <li class=\"\">\n            <a class=\"link_sub_item\" href=\"/category/Java/Java%20IO%2BNIO\">\n             Java IO+NIO\n             <span class=\"c_cnt\">\n              (6)\n             </span>\n            </a>\n           </li>\n           <li class=\"\">\n            <a class=\"link_sub_item\" href=\"/category/Java/JPA\">\n             JPA\n             <span class=\"c_cnt\">\n              (2)\n             </span>\n            </a>\n           </li>\n          </ul>\n         </li>\n         <li class=\"\">\n          <a class=\"link_item\" href=\"/category/Kotlin\">\n           Kotlin\n           <span class=\"c_cnt\">\n            (1)\n           </span>\n          </a>\n         </li>\n         <li class=\"\">\n          <a class=\"link_item\" href=\"/category/Javascript\">\n           Javascript\n           <span class=\"c_cnt\">\n            (43)\n           </span>\n          </a>\n          <ul class=\"sub_category_list\">\n           <li class=\"\">\n            <a class=\"link_sub_item\" href=\"/category/Javascript/Javascript%28ES6%29\">\n             Javascript(ES6)\n             <span class=\"c_cnt\">\n              (16)\n             </span>\n            </a>\n           </li>\n           <li class=\"\">\n            <a class=\"link_sub_item\" href=\"/category/Javascript/%ED%95%A8%EC%88%98%ED%98%95%20%ED%94%84%EB%A1%9C%EA%B7%B8%EB%9E%98%EB%B0%8D\">\n             함수형 프로그래밍\n             <span class=\"c_cnt\">\n              (6)\n             </span>\n            </a>\n           </li>\n           <li class=\"\">\n            <a class=\"link_sub_item\" href=\"/category/Javascript/Node.js\">\n             Node.js\n             <span class=\"c_cnt\">\n              (15)\n             </span>\n            </a>\n           </li>\n           <li class=\"\">\n            <a class=\"link_sub_item\" href=\"/category/Javascript/Vue\">\n             Vue\n             <span class=\"c_cnt\">\n              (1)\n             </span>\n            </a>\n           </li>\n           <li class=\"\">\n            <a class=\"link_sub_item\" href=\"/category/Javascript/React\">\n             React\n             <span class=\"c_cnt\">\n              (5)\n             </span>\n            </a>\n           </li>\n          </ul>\n         </li>\n         <li class=\"\">\n          <a class=\"link_item\" href=\"/category/DB\">\n           DB\n           <span class=\"c_cnt\">\n            (24)\n           </span>\n          </a>\n          <ul class=\"sub_category_list\">\n           <li class=\"\">\n            <a class=\"link_sub_item\" href=\"/category/DB/SQLD\">\n             SQLD\n             <span class=\"c_cnt\">\n              (18)\n             </span>\n            </a>\n           </li>\n           <li class=\"\">\n            <a class=\"link_sub_item\" href=\"/category/DB/SQLP\">\n             SQLP\n             <span class=\"c_cnt\">\n              (3)\n             </span>\n            </a>\n           </li>\n           <li class=\"\">\n            <a class=\"link_sub_item\" href=\"/category/DB/DB%20%ED%8A%9C%EB%8B%9D\">\n             DB 튜닝\n             <span class=\"c_cnt\">\n              (2)\n             </span>\n            </a>\n           </li>\n           <li class=\"\">\n            <a class=\"link_sub_item\" href=\"/category/DB/DB%20%ED%85%8C%EC%9D%B4%EB%B8%94%20%EC%84%A4%EA%B3%84\">\n             DB 테이블 설계\n             <span class=\"c_cnt\">\n              (1)\n             </span>\n            </a>\n           </li>\n          </ul>\n         </li>\n         <li class=\"\">\n          <a class=\"link_item\" href=\"/category/C%23\">\n           C#\n           <span class=\"c_cnt\">\n            (9)\n           </span>\n          </a>\n         </li>\n         <li class=\"\">\n          <a class=\"link_item\" href=\"/category/%EC%8B%A0%EC%9E%85%20%EA%B0%9C%EB%B0%9C%EC%9E%90%20%EB%A9%B4%EC%A0%91%20%EA%B8%B0%EC%B4%88\">\n           신입 개발자 면접 기초\n           <span class=\"c_cnt\">\n            (26)\n           </span>\n          </a>\n         </li>\n         <li class=\"\">\n          <a class=\"link_item\" href=\"/category/%EA%B8%B0%ED%83%80%20%EA%B0%9C%EB%B0%9C%20%EC%8A%A4%ED%82%AC\">\n           기타 개발 스킬\n           <span class=\"c_cnt\">\n            (7)\n           </span>\n          </a>\n         </li>\n         <li class=\"\">\n          <a class=\"link_item\" href=\"/category/Git%2BGithub\">\n           Git+Github\n           <span class=\"c_cnt\">\n            (7)\n           </span>\n          </a>\n         </li>\n         <li class=\"\">\n          <a class=\"link_item\" href=\"/category/%ED%8B%B0%EC%8A%A4%ED%86%A0%EB%A6%AC%20%EC%B4%88%EB%8C%80%EC%9E%A5\">\n           티스토리 초대장\n           <span class=\"c_cnt\">\n            (4)\n           </span>\n          </a>\n         </li>\n        </ul>\n       </li>\n      </ul>\n     </nav>\n     <div id=\"jdkGraph\">\n      <div style=\"overflow:hidden; width:100%; text-align:center\">\n       <img alt=\"Statistics Graph\" src=\"/plugins/StatGraph/count/count.php?owner=2756523\" title=\"Blog Visitors\"/>\n      </div>\n     </div>\n     <div class=\"social-link\">\n     </div>\n    </div>\n    <div class=\"search\">\n     <input name=\"search\" onkeypress=\"if (event.keyCode == 13) { try{window.location.href='/search/'+looseURIEncode(document.getElementsByName('search')[0].value);document.getElementsByName('search')[0].value='';return false;}catch(e){} }\" placeholder=\"검색내용을 입력하세요.\" type=\"text\" value=\"\"/>\n     <button onclick=\"try{window.location.href='/search/'+looseURIEncode(document.getElementsByName('search')[0].value);document.getElementsByName('search')[0].value='';return false;}catch(e){}\" type=\"submit\">\n      검색\n     </button>\n    </div>\n   </header>\n   <hr/>\n   <section class=\"container\">\n    <article id=\"content\">\n     <div class=\"inner\">\n      <div class=\"hgroup\">\n       <div class=\"category\">\n        신입 개발자 면접 기초\n       </div>\n       <h1>\n        Web - 쿠키와 세션의 차이, 용도, 사용법(cookie,session)\n       </h1>\n       <div class=\"post-meta\">\n        <span class=\"author\">\n         정아마추어 JEONG_AMATEUR\n        </span>\n        <span class=\"date\">\n         2017. 10. 21. 23:27\n        </span>\n       </div>\n      </div>\n      <div class=\"entry-content\">\n       <div class=\"tt_adsense_top\" style=\"margin-bottom:30px\">\n        <!-- 커스텀광고 -->\n        <ins class=\"adsbygoogle\" data-ad-client=\"ca-pub-3003138259390531\" data-ad-format=\"auto\" data-ad-slot=\"7323543178\" style=\"display:block\">\n        </ins>\n        <script>\n         (adsbygoogle = window.adsbygoogle || []).push({});\n        </script>\n       </div>\n       <blockquote class=\"tx-quote-tistory\">\n        <p>\n         <b>\n          <span style=\"font-size: 14pt;\">\n           웹에서 쿠키와 세션 (Cookie &amp; Session\n          </span>\n          <span style=\"font-size: 14pt;\">\n           )\n          </span>\n         </b>\n         <br/>\n        </p>\n       </blockquote>\n       <p>\n        <b>\n         <u>\n          쿠키와 세션을 사용하는 이유\n         </u>\n        </b>\n       </p>\n       <p>\n        HTTP 프로토콜의 특징이자 약점을 보완하기 위해서 사용한다.\n       </p>\n       <p>\n        <u>\n         <b>\n          HTTP 프로토콜의 특징\n         </b>\n        </u>\n       </p>\n       <p>\n        <b>\n         <span style=\"color: rgb(255, 0, 0);\">\n          1)\n         </span>\n         <span style=\"color: rgb(255, 0, 0);\">\n          비연결지향\n         </span>\n         <span style=\"color: rgb(255, 0, 0);\">\n          (Connectionless)\n         </span>\n        </b>\n       </p>\n       <p>\n        HTTP는 먼저 클라이언트가 request를 서버에 보내면, 서버는 클라이언트에게 요청에 맞는 response를 보내고 접속을 끊는 특성이 있다.\n       </p>\n       <p>\n        (* HTTP1.1 버전에서 커넥션을 계속 열어두고(연결을 유지하고) request에 재활용하는 기능이 추가되었다.\n       </p>\n       <p>\n        헤더에 keep-alive라는 값을 줘서 커넥션을 재활용하는데 HTTP1.1에서는 이것이 디폴트다.\n       </p>\n       <p>\n        HTTP가 tcp위에서 구현되었기 때문에 (tcp는 연결지향,udp는 비연결지향) 연결지향이라고 할 수도 있다는 얘기도 있고 논란이 있으나 아직까지는 네트워크 관점에서 keep-alive는 옵션으로 두고 connectionless의 연결비용을 줄이는 것이 명확한 장점이기 때문에 비연결지향으로 알아둔다. )\n       </p>\n       <p>\n        <b>\n         <span style=\"color: rgb(255, 0, 0);\">\n          2) 상태정보유지안함(Stateless)\n         </span>\n        </b>\n       </p>\n       <p>\n        연결을 끊는 순간 클라이언트와 서버의 통신이 끝나며 상태 정보는 유지하지 않는 특성이 있다.\n       </p>\n       <p>\n        HTTP의 이 두가지 특성을 보완하기 위해서 쿠키와 세션을 사용하게 되었다.\n       </p>\n       <p>\n        비연결지향이라는 특성 덕분에 계속해서 통신 연결을 유지하지 않기 때문에 리소스 낭비가 줄어드는 것은 아~~~~주 큰 장점이지만 통신할 때마다 새로 커넥션을 열기 때문에 클라이언트는 내가 누구인지 인증을 계속해야하는 단점이 생긴다.\n        <br/>\n       </p>\n       <p>\n        만약 쿠키와 세션이 없다면 어떤 페이지에서 옮겨다닐 때마다 로그인을 다시해야 한다.\n       </p>\n       <hr/>\n       <p>\n        <b>\n         <span style=\"font-size: 14pt;\">\n          - 쿠키(Cookie)\n         </span>\n        </b>\n       </p>\n       <p>\n        쿠키는 클라이언트\n        <b>\n         로컬에 저장\n        </b>\n        되는\n        <b>\n         키와 값\n        </b>\n        이 들어있는 작은 데이터\n        <b>\n         파일\n        </b>\n        이다.\n       </p>\n       <p>\n        쿠키에는 이름, 값, 만료날짜(쿠키 저장기간), 경로 정보가 들어있다.\n       </p>\n       <p>\n        쿠키는 일정시간동안 데이터를 저장할 수 있다. (로그인 상태 유지에 활용)\n       </p>\n       <p>\n        쿠키는 클라이언트의 상태 정보를 로컬에 저장했다가 참조한다.\n       </p>\n       <p>\n        <b>\n         - 쿠키 프로세스\n        </b>\n       </p>\n       <p>\n        1. 브라우저에서 웹페이지 접속\n       </p>\n       <p>\n        2. 클라이언트가 요청한 웹페이지를 받으면서 쿠키를 클라이언트 로컬(하드)에 저장\n       </p>\n       <p>\n        3. 클라이언트가 재 요청시 웹페이지 요청과 함께 쿠키값도 전송\n       </p>\n       <p>\n        4. 지속적으로 로그인 정보를 가지고 있는 것처럼 사용\n       </p>\n       <p>\n        <b>\n         - 쿠키 사용 사례\n        </b>\n       </p>\n       <p>\n        *\n        <u>\n         자동로그인, 팝업에서 \"오늘 더 이상 이 창을 보지 않음\" 체크, 쇼핑몰의 장바구니\n        </u>\n       </p>\n       <p>\n        <b>\n         - 쿠키의 제한\n        </b>\n       </p>\n       <p>\n        * 클라이언트에 300개까지 쿠키저장 가능, 하나의 도메인당 20개의 값만 가질 수 있음, 하나의 쿠키값은 4KB까지저장\n       </p>\n       <p>\n        Response Header에 Set-Cookie 속성을 사용하면 클라이언트에 쿠키를 만들 수 있다.\n       </p>\n       <p>\n        쿠키는 사용자가 따로 요청하지 않아도 브라우저가 Request시에 Request Header를 넣어서\n        <b>\n         자동으로 서버에 전송\n        </b>\n        한다.\n       </p>\n       <hr/>\n       <p>\n        <b>\n         <span style=\"font-size: 14pt;\">\n          - 세션(Session)\n         </span>\n        </b>\n       </p>\n       <p>\n        <b>\n         일정 시간동안\n        </b>\n        <b>\n         같은 브라우저로 부터\n        </b>\n        들어오는 일련의 요구를 하나의 상태로 보고 그\n        <b>\n         상태를 유지하는 기술\n        </b>\n       </p>\n       <p>\n        즉, 웹 브라우저를 통해 웹 서버에 접속한 이후로 브라우저를 종료할 때 까지 유지되는 상태\n       </p>\n       <p>\n        클라이언트가 Request를 보내면, 해당 서버의 엔진이 클라이언트에게 유일한 ID를 부여하는 데 이것이 세션ID다.\n       </p>\n       <p>\n        <b>\n         - 세션 프로세스\n        </b>\n       </p>\n       <p>\n        1. 클라이언트가 서버에 접속시 세션 ID를 발급\n       </p>\n       <p>\n        2. 서버에서는 클라이언트로 발급해준 세션 ID를 쿠키를 사용해 저장 (JSESSIONID)\n       </p>\n       <p>\n        3. 클라이언트는 다시 접속할 때, 이 쿠키(JSESSIONID)를 이용해서 세션ID값을 서버에 전달\n       </p>\n       <p>\n        즉, 세션을 구별하기 위해 ID가 필요하고 그 ID만 쿠키를 이용해서 저장해놓는다. (쿠키사용) 쿠키는 자동으로 서버에 전송되니까 서버에서 세션아이디에 따른 처리를 할 수 있음\n       </p>\n       <p>\n        예를들면 게시판에 글을 작성할 때 작성 버튼을 누르면 세션에 있는 아이디를 참조해서 작성자를 지정하게 한다.\n       </p>\n       <p>\n        -\n        <b>\n         세션 사용 사례\n        </b>\n       </p>\n       <p>\n        로그인 정보 유지\n       </p>\n       <hr/>\n       <p>\n        <b>\n         <span style=\"font-size: 14pt;\">\n          쿠키와 세션의 차이\n         </span>\n        </b>\n        <br/>\n       </p>\n       <p>\n        <u>\n         저장 위치\n        </u>\n        , 쿠키는 클라이언트에 파일로 저장, 세션은 서버에 저장\n       </p>\n       <p>\n        <u>\n         보안\n        </u>\n        , 쿠키는 클라이언트 로컬에 저장되기 때문에 변질되거나 request에서 스나이핑 당할 우려가 있어서 보안에 취약하지만 세션은 쿠키를 이용해서 sessionid 만 저장하고 그것으로 구분해서 서버에서 처리하기 때문에 비교적 보안성이 좋다.\n       </p>\n       <p>\n        <u>\n         라이프 사이클\n        </u>\n        , 쿠키도 만료시간이 있지만 파일로 저장되기 때문에 브라우저를 종료해도 계속해서 정보가 남아 있을 수 있다. 또한 만료기간을 넉넉하게 잡아두면 쿠키삭제를 할 때 까지 유지될 수도 있다.\n       </p>\n       <p>\n        반면에 세션도 만료시간을 정할 수 있지만 브라우저가 종료되면 만료시간에 상관없이 삭제된다.\n       </p>\n       <p>\n        <u>\n         속도\n        </u>\n        , 쿠키에 정보가 있기 때문에 서버에 요청시 속도가 빠르고 세션은 정보가 서버에 있기 때문에 처리가 요구되어 비교적 느린 속도를 낸다.\n       </p>\n       <p>\n        * 세션을 주로 사용하면 좋은데 왜 쿠키를 사용할까?\n       </p>\n       <p>\n        - 세션은 서버의 자원을 사용하기때문에 무분별하게 만들다보면 서버의 메모리가 감당할 수 없어질 수가 있고 속도가 느려질 수 있기 때문이다.\n       </p>\n       <p>\n        * 쿠키,세션은 캐시와 엄연히 다르다.\n       </p>\n       <p>\n        캐시는 이미지나 css, js파일 등이 사용자의 브라우저에 저장이 되는 것이다.\n       </p>\n       <p>\n        이를 이용해 자원이 아껴지는 것, 한번 캐시에 저장되면 브라우저를 참고하기 때문에 서버에서 변경이 되어도 사용자는 변경되지 않게 보일 수 있는데 이런 부분을 캐시를 지워주거나 서버에서 클라이언트로 응답을 보낼 때 header에 캐시 만료시간을 명시하는 방법등을 이용할 수 있다.\n       </p>\n       <p>\n        <u>\n         <br/>\n        </u>\n       </p>\n       <p>\n        <u>\n         * 보통 쿠키와 세션의 차이를 물어볼 때 저장위치와 보안에 대해서는 잘 말하는데 사실 중요한 것은 라이프사이클을 얘기하는 것이다.\n        </u>\n       </p>\n       <p>\n        <u>\n         또한 이런 이론적인 것 뿐만 아니라 실제로 쿠키, 세션을 사용해 보았는지가 중요하다.\n        </u>\n       </p>\n       <p>\n        참고사이트\n       </p>\n       <p>\n        http://88240.tistory.com/190\n       </p>\n       <p>\n        http://interconnection.tistory.com/74\n       </p>\n       <div style=\"text-align:center;margin:10px 0 10px 0;\">\n        <script async=\"\" src=\"//pagead2.googlesyndication.com/pagead/js/adsbygoogle.js\">\n        </script>\n        <!-- 커스텀광고 -->\n        <ins class=\"adsbygoogle\" data-ad-client=\"ca-pub-3003138259390531\" data-ad-format=\"auto\" data-ad-slot=\"7323543178\" style=\"display:block;width:728px;height:90px\">\n        </ins>\n        <script>\n         (adsbygoogle = window.adsbygoogle || []).push({});\n        </script>\n       </div>\n       <div class=\"tt_adsense_bottom\" style=\"margin-top:30px\">\n        <ins class=\"adsbygoogle\" data-ad-client=\"ca-pub-3003138259390531\" data-ad-format=\"autorelaxed\" data-ad-slot=\"1047060427\" style=\"display:block\">\n        </ins>\n        <script>\n         (adsbygoogle = window.adsbygoogle || []).push({});\n        </script>\n       </div>\n       <div class=\"container_postbtn #post_button_group\">\n        <div class=\"postbtn_like\">\n         <div class=\"wrap_btn\">\n          <button class=\"btn_post like_btn uoc-icon\" data-uoc-fetchurl=\"http://api.kakao.tistory.com/like/fetch?uid=2756523_80\" data-uoc-pcurl=\"https://jeong-pro.tistory.com/80\" data-uoc-sc=\"401\" data-uoc-svc=\"tistory\" data-uoc-uid=\"2756523_80\" type=\"button\">\n           <div class=\"uoc-icon\">\n            <span class=\"ico_postbtn ico_like\">\n             좋아요\n            </span>\n            <span class=\"txt_like uoc-text screen_out\">\n             공감\n            </span>\n            <span class=\"txt_like uoc-count\">\n            </span>\n           </div>\n          </button>\n         </div>\n         <div class=\"wrap_btn wrap_btn_share\">\n          <button class=\"btn_post sns_btn btn_share\" data-blog-title=\"기본기를 쌓는 정아마추어 코딩블로그\" data-description=\"웹에서 쿠키와 세션 (Cookie &amp; Session) 쿠키와 세션을 사용하는 이유 HTTP 프로토콜의 특징이자 약점을 보완하기 위해서 사용한다. HTTP 프로토콜의 특징 1) 비연결지향(Connectionless) HTTP는 먼저 클라이언트..\" data-pc-url=\"https://jeong-pro.tistory.com/80\" data-profile-image=\"https://tistory2.daumcdn.net/tistory/2756523/attach/04195511fc744007a6ff08aa679cc42e\" data-profile-name=\"정아마추어 JEONG_AMATEUR\" data-relative-pc-url=\"/80\" data-thumbnail-url=\"https://t1.daumcdn.net/tistory_admin/static/images/openGraph/opengraph.png\" data-title=\"Web - 쿠키와 세션의 차이, 용도, 사용법(cookie,session)\" type=\"button\">\n           <span class=\"ico_postbtn ico_share\">\n            공유하기\n           </span>\n          </button>\n         </div>\n         <div class=\"wrap_btn wrap_btn_etc\" data-category-visibility=\"public\" data-entry-id=\"80\" data-entry-visibility=\"public\">\n          <button class=\"btn_post btn_etc2\" type=\"button\">\n           <span class=\"ico_postbtn ico_etc\">\n            글 요소\n           </span>\n          </button>\n         </div>\n        </div>\n        <button class=\"btn_menu_toolbar btn_subscription #subscribe\" data-blog-id=\"2756523\" data-device=\"web_pc\" data-url=\"https://jeong-pro.tistory.com/80\" type=\"button\">\n         <em class=\"txt_state\">\n          구독하기\n         </em>\n         <strong class=\"txt_tool_id\">\n          기본기를 쌓는 정아마추어 코딩블로그\n         </strong>\n         <span class=\"img_common_tistory ico_check_type1\">\n         </span>\n        </button>\n        <div class=\"postbtn_ccl\" data-ccl-type=\"1\">\n         <a class=\"link_ccl\" href=\"https://creativecommons.org/licenses/by-nc-nd/4.0/deed.ko\" target=\"_blank\">\n          <span class=\"bundle_ccl\">\n           <span class=\"ico_postbtn ico_ccl1\">\n            저작자표시\n           </span>\n           <span class=\"ico_postbtn ico_ccl2\">\n            비영리\n           </span>\n           <span class=\"ico_postbtn ico_ccl3\">\n            변경금지\n           </span>\n          </span>\n         </a>\n        </div>\n        <!--\n<rdf:RDF xmlns=\"http://web.resource.org/cc/\" xmlns:dc=\"http://purl.org/dc/elements/1.1/\" xmlns:rdf=\"http://www.w3.org/1999/02/22-rdf-syntax-ns#\">\n    <Work rdf:about=\"\">\n        <license rdf:resource=\"http://creativecommons.org/licenses/by-nc-nd/2.0/kr/\" />\n    </Work>\n    <License rdf:about=\"http://creativecommons.org/licenses/by-nc-nd/\">\n        <permits rdf:resource=\"http://web.resource.org/cc/Reproduction\"/>\n        <permits rdf:resource=\"http://web.resource.org/cc/Distribution\"/>\n        <requires rdf:resource=\"http://web.resource.org/cc/Notice\"/>\n        <requires rdf:resource=\"http://web.resource.org/cc/Attribution\"/>\n                        <prohibits rdf:resource=\"http://web.resource.org/cc/CommercialUse\"/>\n            </License>\n</rdf:RDF>\n-->\n       </div>\n       <div class=\"tt-plugin tt-share-entry-with-sns tt-sns-icon-alignment-center tt-sns-icon-size-big\">\n        <div class=\"tt-sns-wrap\" id=\"ttSnsWrap-80\">\n         <ul class=\"tt-sns-service-default\">\n          <li class=\"tt-sns-service-kakaostory\">\n           <a href=\"javascript:;\" onclick=\"ShareEntryWithSNS.share('kakaostory', '80', 'Web%20-%20%EC%BF%A0%ED%82%A4%EC%99%80%20%EC%84%B8%EC%85%98%EC%9D%98%20%EC%B0%A8%EC%9D%B4%2C%20%EC%9A%A9%EB%8F%84%2C%20%EC%82%AC%EC%9A%A9%EB%B2%95%28cookie%2Csession%29');\">\n            카카오스토리\n           </a>\n          </li>\n          <li class=\"tt-sns-service-twitter\">\n           <a href=\"javascript:;\" onclick=\"ShareEntryWithSNS.share('twitter', '80', 'Web%20-%20%EC%BF%A0%ED%82%A4%EC%99%80%20%EC%84%B8%EC%85%98%EC%9D%98%20%EC%B0%A8%EC%9D%B4%2C%20%EC%9A%A9%EB%8F%84%2C%20%EC%82%AC%EC%9A%A9%EB%B2%95%28cookie%2Csession%29');\">\n            트위터\n           </a>\n          </li>\n          <li class=\"tt-sns-service-facebook\">\n           <a href=\"javascript:;\" onclick=\"ShareEntryWithSNS.share('facebook', '80', 'Web%20-%20%EC%BF%A0%ED%82%A4%EC%99%80%20%EC%84%B8%EC%85%98%EC%9D%98%20%EC%B0%A8%EC%9D%B4%2C%20%EC%9A%A9%EB%8F%84%2C%20%EC%82%AC%EC%9A%A9%EB%B2%95%28cookie%2Csession%29');\">\n            페이스북\n           </a>\n          </li>\n         </ul>\n        </div>\n        <div class=\"tt-sns-clear\">\n        </div>\n       </div>\n       <div style=\"text-align:left; padding-top:10px;clear:both\">\n        <iframe allowtransparency=\"true\" frameborder=\"0\" scrolling=\"no\" src=\"//www.facebook.com/plugins/like.php?href=https://jeong-pro.tistory.com/80&amp;layout=standard&amp;show_faces=true&amp;width=310&amp;action=like&amp;font=tahoma&amp;colorscheme=light&amp;height=65\" style=\"border:none; overflow:hidden; width:310px; height:65px;\">\n        </iframe>\n       </div>\n       <div class=\"another_category another_category_color_gray\">\n        <h4>\n         '\n         <a href=\"/category/신입%20개발자%20면접%20기초\">\n          신입 개발자 면접 기초\n         </a>\n         ' 카테고리의 다른 글\n        </h4>\n        <table>\n         <tr>\n          <th>\n           <a href=\"/87?category=793347\">\n            JAVA 컬렉션 (Vector, ArrayList, LinkedList, Set, Map)\n           </a>\n           <span>\n            (0)\n           </span>\n          </th>\n          <td>\n           2017.11.02\n          </td>\n         </tr>\n         <tr>\n          <th>\n           <a href=\"/86?category=793347\">\n            싱글톤 패턴(Singleton pattern)을 쓰는 이유와 문제점\n           </a>\n           <span>\n            (22)\n           </span>\n          </th>\n          <td>\n           2017.11.01\n          </td>\n         </tr>\n         <tr>\n          <th>\n           <a href=\"/85?category=793347\">\n            JAVA String, StringBuffer, StringBuilder 차이점\n           </a>\n           <span>\n            (13)\n           </span>\n          </th>\n          <td>\n           2017.10.30\n          </td>\n         </tr>\n         <tr>\n          <th>\n           <a href=\"/84?category=793347\">\n            WAS 와 웹 서버 차이 (WAS,Web Server) 그리고 아파치, 톰캣\n           </a>\n           <span>\n            (21)\n           </span>\n          </th>\n          <td>\n           2017.10.29\n          </td>\n         </tr>\n         <tr>\n          <th>\n           <a href=\"/82?category=793347\">\n            JAVA 인터페이스와 추상클래스 공통점, 차이점 정리\n           </a>\n           <span>\n            (8)\n           </span>\n          </th>\n          <td>\n           2017.10.24\n          </td>\n         </tr>\n         <tr>\n          <th>\n           <a class=\"current\" href=\"/80?category=793347\">\n            Web - 쿠키와 세션의 차이, 용도, 사용법(cookie,session)\n           </a>\n           <span>\n            (17)\n           </span>\n          </th>\n          <td>\n           2017.10.21\n          </td>\n         </tr>\n        </table>\n       </div>\n      </div>\n      <div id=\"entry80Comment\">\n       <div class=\"comments\">\n        <div class=\"comment-list\">\n         <ul>\n          <li id=\"comment13577199\">\n           <div class=\"author-meta\">\n            <img alt=\"\" class=\"avatar\" src=\"https://tistory1.daumcdn.net/tistory/user/3702177/profile/profileImg?v=1504726983949\"/>\n            <span class=\"nickname\">\n             <img alt=\"Favicon of https://defacto-standard.tistory.com\" height=\"16\" onerror=\"this.onerror=null;this.parentNode.removeChild(this)\" src=\"https://defacto-standard.tistory.com/favicon.ico\" width=\"16\">\n              <img alt=\"BlogIcon\" height=\"16\" onerror=\"this.parentNode.removeChild(this)\" src=\"https://defacto-standard.tistory.com/index.gif\" width=\"16\"/>\n              <a href=\"https://defacto-standard.tistory.com\" onclick=\"return openLinkInNewWindow(this)\">\n               defacto standard\n              </a>\n              <span class=\"tistoryProfileLayerTrigger\" onclick='TistoryProfile.show(event, this, {\"title\":\"DeFacto-Standard IT\",\"url\":\"https:\\/\\/defacto-standard.tistory.com\",\"nickname\":\"defacto standard\",\"items\":[]}); return false;'>\n              </span>\n             </img>\n            </span>\n            <span class=\"date\">\n             2018.03.29 21:49\n             <a href=\"/toolbar/popup/abuseReport/?entryId=80&amp;commentId=13577199\" onclick=\"window.open(this.href, 'tistoryThisBlogPopup', 'width=550, height=510, toolbar=no, menubar=no, status=no, scrollbars=no'); return false;\">\n              신고\n             </a>\n            </span>\n           </div>\n           <p>\n            명확하네요  라이프 사이클이 중요한지는 몰랐습니다\n           </p>\n           <div class=\"control\">\n            <a href=\"/80#comment13577199\">\n             댓글주소\n            </a>\n            <a href=\"#\" onclick=\"deleteComment(13577199);return false\">\n             수정/삭제\n            </a>\n            <a href=\"#\" onclick=\"commentComment(13577199); return false\">\n             댓글쓰기\n            </a>\n           </div>\n           <ul>\n            <li id=\"comment13577390\">\n             <div class=\"author-meta\">\n              <img alt=\"\" class=\"avatar\" src=\"https://tistory1.daumcdn.net/tistory/user/3685576/profile/profileImg?v=1504354488608\"/>\n              <span class=\"nickname\">\n               <img alt=\"Favicon of https://jeong-pro.tistory.com\" height=\"16\" onerror=\"this.onerror=null;this.parentNode.removeChild(this)\" src=\"https://jeong-pro.tistory.com/favicon.ico\" width=\"16\">\n                <img alt=\"BlogIcon\" height=\"16\" onerror=\"this.parentNode.removeChild(this)\" src=\"https://jeong-pro.tistory.com/index.gif\" width=\"16\"/>\n                <a href=\"https://jeong-pro.tistory.com\" onclick=\"return openLinkInNewWindow(this)\">\n                 정아마추어 JEONG_AMATEUR\n                </a>\n                <span class=\"tistoryProfileLayerTrigger\" onclick='TistoryProfile.show(event, this, {\"title\":\"기본기를 쌓는 정아마추어 코딩블로그\",\"url\":\"https:\\/\\/jeong-pro.tistory.com\",\"nickname\":\"JEONG_AMATEUR\",\"items\":[]}); return false;'>\n                </span>\n               </img>\n              </span>\n              <span class=\"date\">\n               2018.03.30 11:50\n               <a href=\"/toolbar/popup/abuseReport/?entryId=80&amp;commentId=13577390\" onclick=\"window.open(this.href, 'tistoryThisBlogPopup', 'width=550, height=510, toolbar=no, menubar=no, status=no, scrollbars=no'); return false;\">\n                신고\n               </a>\n              </span>\n             </div>\n             <p>\n              아는 지인이 다대다 면접볼 때 라이프사이클에 대해서 추가적으로 답변했다고 하더군요\n             </p>\n             <div class=\"control\">\n              <a href=\"/80#comment13577390\">\n               댓글주소\n              </a>\n              <a href=\"#\" onclick=\"deleteComment(13577390); return false;\">\n               수정/삭제\n              </a>\n             </div>\n            </li>\n           </ul>\n          </li>\n          <li id=\"comment13608809\">\n           <div class=\"author-meta\">\n            <img alt=\"\" class=\"avatar\" src=\"https://t1.daumcdn.net/tistory_admin/blog/admin/profile_default_03.png\"/>\n            <span class=\"nickname\">\n             sam\n            </span>\n            <span class=\"date\">\n             2018.05.31 15:25\n            </span>\n           </div>\n           <p>\n            감사합니다 :)\n           </p>\n           <div class=\"control\">\n            <a href=\"/80#comment13608809\">\n             댓글주소\n            </a>\n            <a href=\"#\" onclick=\"deleteComment(13608809);return false\">\n             수정/삭제\n            </a>\n            <a href=\"#\" onclick=\"commentComment(13608809); return false\">\n             댓글쓰기\n            </a>\n           </div>\n           <ul>\n            <li id=\"comment13610257\">\n             <div class=\"author-meta\">\n              <img alt=\"\" class=\"avatar\" src=\"https://tistory1.daumcdn.net/tistory/user/3685576/profile/profileImg?v=1504354488608\"/>\n              <span class=\"nickname\">\n               <img alt=\"Favicon of https://jeong-pro.tistory.com\" height=\"16\" onerror=\"this.onerror=null;this.parentNode.removeChild(this)\" src=\"https://jeong-pro.tistory.com/favicon.ico\" width=\"16\">\n                <img alt=\"BlogIcon\" height=\"16\" onerror=\"this.parentNode.removeChild(this)\" src=\"https://jeong-pro.tistory.com/index.gif\" width=\"16\">\n                 <a href=\"https://jeong-pro.tistory.com\" onclick=\"return openLinkInNewWindow(this)\">\n                  정아마추어 JEONG_AMATEUR\n                 </a>\n                 <span class=\"tistoryProfileLayerTrigger\" onclick='TistoryProfile.show(event, this, {\"title\":\"기본기를 쌓는 정아마추어 코딩블로그\",\"url\":\"https:\\/\\/jeong-pro.tistory.com\",\"nickname\":\"JEONG_AMATEUR\",\"items\":[]}); return false;'>\n                 </span>\n                </img>\n               </img>\n              </span>\n              <span class=\"date\">\n               2018.06.02 13:28\n               <a href=\"/toolbar/popup/abuseReport/?entryId=80&amp;commentId=13610257\" onclick=\"window.open(this.href, 'tistoryThisBlogPopup', 'width=550, height=510, toolbar=no, menubar=no, status=no, scrollbars=no'); return false;\">\n                신고\n               </a>\n              </span>\n             </div>\n             <p>\n              감사합니다ㅎ\n             </p>\n             <div class=\"control\">\n              <a href=\"/80#comment13610257\">\n               댓글주소\n              </a>\n              <a href=\"#\" onclick=\"deleteComment(13610257); return false;\">\n               수정/삭제\n              </a>\n             </div>\n            </li>\n           </ul>\n          </li>\n          <li id=\"comment13638101\">\n           <div class=\"author-meta\">\n            <img alt=\"\" class=\"avatar\" src=\"https://t1.daumcdn.net/tistory_admin/blog/admin/profile_default_04.png\"/>\n            <span class=\"nickname\">\n             띵구\n            </span>\n            <span class=\"date\">\n             2018.07.30 23:13\n            </span>\n           </div>\n           <p>\n            Node.js 서버구축부터 정말 잘 활용하고 있습니다. 가능하시다면 제가 정리하는 블로그에 세션 정의를 사용해도 될까요??\n           </p>\n           <div class=\"control\">\n            <a href=\"/80#comment13638101\">\n             댓글주소\n            </a>\n            <a href=\"#\" onclick=\"deleteComment(13638101);return false\">\n             수정/삭제\n            </a>\n            <a href=\"#\" onclick=\"commentComment(13638101); return false\">\n             댓글쓰기\n            </a>\n           </div>\n           <ul>\n            <li id=\"comment13639344\">\n             <div class=\"author-meta\">\n              <img alt=\"\" class=\"avatar\" src=\"https://tistory1.daumcdn.net/tistory/user/3685576/profile/profileImg?v=1504354488608\"/>\n              <span class=\"nickname\">\n               <img alt=\"Favicon of https://jeong-pro.tistory.com\" height=\"16\" onerror=\"this.onerror=null;this.parentNode.removeChild(this)\" src=\"https://jeong-pro.tistory.com/favicon.ico\" width=\"16\">\n                <img alt=\"BlogIcon\" height=\"16\" onerror=\"this.parentNode.removeChild(this)\" src=\"https://jeong-pro.tistory.com/index.gif\" width=\"16\">\n                 <a href=\"https://jeong-pro.tistory.com\" onclick=\"return openLinkInNewWindow(this)\">\n                  정아마추어 JEONG_AMATEUR\n                 </a>\n                 <span class=\"tistoryProfileLayerTrigger\" onclick='TistoryProfile.show(event, this, {\"title\":\"기본기를 쌓는 정아마추어 코딩블로그\",\"url\":\"https:\\/\\/jeong-pro.tistory.com\",\"nickname\":\"JEONG_AMATEUR\",\"items\":[]}); return false;'>\n                 </span>\n                </img>\n               </img>\n              </span>\n              <span class=\"date\">\n               2018.08.01 09:32\n               <a href=\"/toolbar/popup/abuseReport/?entryId=80&amp;commentId=13639344\" onclick=\"window.open(this.href, 'tistoryThisBlogPopup', 'width=550, height=510, toolbar=no, menubar=no, status=no, scrollbars=no'); return false;\">\n                신고\n               </a>\n              </span>\n             </div>\n             <p>\n              좋습니다.\n              <br/>\n              블로그 구경가고 싶은데 링크좀 남겨주세요ㅎㅎ\n             </p>\n             <div class=\"control\">\n              <a href=\"/80#comment13639344\">\n               댓글주소\n              </a>\n              <a href=\"#\" onclick=\"deleteComment(13639344); return false;\">\n               수정/삭제\n              </a>\n             </div>\n            </li>\n           </ul>\n          </li>\n          <li id=\"comment13655270\">\n           <div class=\"author-meta\">\n            <img alt=\"\" class=\"avatar\" src=\"https://t1.daumcdn.net/tistory_admin/blog/admin/profile_default_07.png\"/>\n            <span class=\"nickname\">\n             <img alt=\"Favicon of https://devhoma.tistory.com\" height=\"16\" onerror=\"this.onerror=null;this.parentNode.removeChild(this)\" src=\"https://devhoma.tistory.com/favicon.ico\" width=\"16\">\n              <img alt=\"BlogIcon\" height=\"16\" onerror=\"this.parentNode.removeChild(this)\" src=\"https://devhoma.tistory.com/index.gif\" width=\"16\"/>\n              <a href=\"https://devhoma.tistory.com\" onclick=\"return openLinkInNewWindow(this)\">\n               dolhim\n              </a>\n              <span class=\"tistoryProfileLayerTrigger\" onclick='TistoryProfile.show(event, this, {\"title\":\"두번째 뇌\",\"url\":\"https:\\/\\/devhoma.tistory.com\",\"nickname\":\"호마\",\"items\":[]}); return false;'>\n              </span>\n             </img>\n            </span>\n            <span class=\"date\">\n             2018.08.30 13:59\n             <a href=\"/toolbar/popup/abuseReport/?entryId=80&amp;commentId=13655270\" onclick=\"window.open(this.href, 'tistoryThisBlogPopup', 'width=550, height=510, toolbar=no, menubar=no, status=no, scrollbars=no'); return false;\">\n              신고\n             </a>\n            </span>\n           </div>\n           <p>\n            감사합니다 각 개념 이해하는데 도움이 되었어요!\n           </p>\n           <div class=\"control\">\n            <a href=\"/80#comment13655270\">\n             댓글주소\n            </a>\n            <a href=\"#\" onclick=\"deleteComment(13655270);return false\">\n             수정/삭제\n            </a>\n            <a href=\"#\" onclick=\"commentComment(13655270); return false\">\n             댓글쓰기\n            </a>\n           </div>\n           <ul>\n            <li id=\"comment13655885\">\n             <div class=\"author-meta\">\n              <img alt=\"\" class=\"avatar\" src=\"https://tistory1.daumcdn.net/tistory/user/3685576/profile/profileImg?v=1504354488608\"/>\n              <span class=\"nickname\">\n               <img alt=\"Favicon of https://jeong-pro.tistory.com\" height=\"16\" onerror=\"this.onerror=null;this.parentNode.removeChild(this)\" src=\"https://jeong-pro.tistory.com/favicon.ico\" width=\"16\">\n                <img alt=\"BlogIcon\" height=\"16\" onerror=\"this.parentNode.removeChild(this)\" src=\"https://jeong-pro.tistory.com/index.gif\" width=\"16\"/>\n                <a href=\"https://jeong-pro.tistory.com\" onclick=\"return openLinkInNewWindow(this)\">\n                 정아마추어 JEONG_AMATEUR\n                </a>\n                <span class=\"tistoryProfileLayerTrigger\" onclick='TistoryProfile.show(event, this, {\"title\":\"기본기를 쌓는 정아마추어 코딩블로그\",\"url\":\"https:\\/\\/jeong-pro.tistory.com\",\"nickname\":\"JEONG_AMATEUR\",\"items\":[]}); return false;'>\n                </span>\n               </img>\n              </span>\n              <span class=\"date\">\n               2018.08.31 13:29\n               <a href=\"/toolbar/popup/abuseReport/?entryId=80&amp;commentId=13655885\" onclick=\"window.open(this.href, 'tistoryThisBlogPopup', 'width=550, height=510, toolbar=no, menubar=no, status=no, scrollbars=no'); return false;\">\n                신고\n               </a>\n              </span>\n             </div>\n             <p>\n              댓글 감사합니다^^\n             </p>\n             <div class=\"control\">\n              <a href=\"/80#comment13655885\">\n               댓글주소\n              </a>\n              <a href=\"#\" onclick=\"deleteComment(13655885); return false;\">\n               수정/삭제\n              </a>\n             </div>\n            </li>\n           </ul>\n          </li>\n          <li id=\"comment13721032\">\n           <div class=\"author-meta\">\n            <img alt=\"\" class=\"avatar\" src=\"https://t1.daumcdn.net/tistory_admin/blog/admin/profile_default_02.png\"/>\n            <span class=\"nickname\">\n             Jaehee\n            </span>\n            <span class=\"date\">\n             2019.01.08 20:07\n            </span>\n           </div>\n           <p>\n            감사합니다! 잘 정리해주셔서 이해하기 좋았습니다 :-)\n           </p>\n           <div class=\"control\">\n            <a href=\"/80#comment13721032\">\n             댓글주소\n            </a>\n            <a href=\"#\" onclick=\"deleteComment(13721032);return false\">\n             수정/삭제\n            </a>\n            <a href=\"#\" onclick=\"commentComment(13721032); return false\">\n             댓글쓰기\n            </a>\n           </div>\n           <ul>\n            <li id=\"comment13721053\">\n             <div class=\"author-meta\">\n              <img alt=\"\" class=\"avatar\" src=\"https://tistory1.daumcdn.net/tistory/user/3685576/profile/profileImg?v=1504354488608\"/>\n              <span class=\"nickname\">\n               <img alt=\"Favicon of https://jeong-pro.tistory.com\" height=\"16\" onerror=\"this.onerror=null;this.parentNode.removeChild(this)\" src=\"https://jeong-pro.tistory.com/favicon.ico\" width=\"16\">\n                <img alt=\"BlogIcon\" height=\"16\" onerror=\"this.parentNode.removeChild(this)\" src=\"https://jeong-pro.tistory.com/index.gif\" width=\"16\">\n                 <a href=\"https://jeong-pro.tistory.com\" onclick=\"return openLinkInNewWindow(this)\">\n                  정아마추어 JEONG_AMATEUR\n                 </a>\n                 <span class=\"tistoryProfileLayerTrigger\" onclick='TistoryProfile.show(event, this, {\"title\":\"기본기를 쌓는 정아마추어 코딩블로그\",\"url\":\"https:\\/\\/jeong-pro.tistory.com\",\"nickname\":\"JEONG_AMATEUR\",\"items\":[]}); return false;'>\n                 </span>\n                </img>\n               </img>\n              </span>\n              <span class=\"date\">\n               2019.01.08 21:47\n               <a href=\"/toolbar/popup/abuseReport/?entryId=80&amp;commentId=13721053\" onclick=\"window.open(this.href, 'tistoryThisBlogPopup', 'width=550, height=510, toolbar=no, menubar=no, status=no, scrollbars=no'); return false;\">\n                신고\n               </a>\n              </span>\n             </div>\n             <p>\n              많은 분들에게 도움이 되고 있는 것같아 기분이 좋습니다^^\n             </p>\n             <div class=\"control\">\n              <a href=\"/80#comment13721053\">\n               댓글주소\n              </a>\n              <a href=\"#\" onclick=\"deleteComment(13721053); return false;\">\n               수정/삭제\n              </a>\n             </div>\n            </li>\n           </ul>\n          </li>\n          <li id=\"comment13751125\">\n           <div class=\"author-meta\">\n            <img alt=\"\" class=\"avatar\" src=\"https://t1.daumcdn.net/tistory_admin/blog/admin/profile_default_00.png\"/>\n            <span class=\"nickname\">\n             orionjeong\n            </span>\n            <span class=\"date\">\n             2019.03.12 15:32\n            </span>\n           </div>\n           <p>\n            항상 내용 잘보고 있습니다. 감사합니다 ㅎㅎ 질문이 있는데요, 세션이 브라우저 종료시 삭제된다고 햇는데 서버에서 브라우저의 종료를 알아차리고 삭제한다는 얘기인가요? 아니면 쿠키(sessionid)가 삭제된다는 것인가요? 쿠키가 삭제된다는 말이면 위에서 쿠키에 대한 설명으로 브라우저가 종료되어도 정보가 남아있을 수 있다고 하셨는데, 그럼 이것도 세션Id처럼 삭제시킬 수 있는건 아닌가요?? 좋은 내용을 읽다 갑자기 궁금증이 생겨 질문드립니다.\n           </p>\n           <div class=\"control\">\n            <a href=\"/80#comment13751125\">\n             댓글주소\n            </a>\n            <a href=\"#\" onclick=\"deleteComment(13751125);return false\">\n             수정/삭제\n            </a>\n            <a href=\"#\" onclick=\"commentComment(13751125); return false\">\n             댓글쓰기\n            </a>\n           </div>\n           <ul>\n            <li id=\"comment13751263\">\n             <div class=\"author-meta\">\n              <img alt=\"\" class=\"avatar\" src=\"https://tistory1.daumcdn.net/tistory/user/3685576/profile/profileImg?v=1504354488608\"/>\n              <span class=\"nickname\">\n               <img alt=\"Favicon of https://jeong-pro.tistory.com\" height=\"16\" onerror=\"this.onerror=null;this.parentNode.removeChild(this)\" src=\"https://jeong-pro.tistory.com/favicon.ico\" width=\"16\">\n                <img alt=\"BlogIcon\" height=\"16\" onerror=\"this.parentNode.removeChild(this)\" src=\"https://jeong-pro.tistory.com/index.gif\" width=\"16\">\n                 <a href=\"https://jeong-pro.tistory.com\" onclick=\"return openLinkInNewWindow(this)\">\n                  정아마추어 JEONG_AMATEUR\n                 </a>\n                 <span class=\"tistoryProfileLayerTrigger\" onclick='TistoryProfile.show(event, this, {\"title\":\"기본기를 쌓는 정아마추어 코딩블로그\",\"url\":\"https:\\/\\/jeong-pro.tistory.com\",\"nickname\":\"JEONG_AMATEUR\",\"items\":[]}); return false;'>\n                 </span>\n                </img>\n               </img>\n              </span>\n              <span class=\"date\">\n               2019.03.12 22:18\n               <a href=\"/toolbar/popup/abuseReport/?entryId=80&amp;commentId=13751263\" onclick=\"window.open(this.href, 'tistoryThisBlogPopup', 'width=550, height=510, toolbar=no, menubar=no, status=no, scrollbars=no'); return false;\">\n                신고\n               </a>\n              </span>\n             </div>\n             <p>\n              위에 본문에서 설명드리지 않았습니다만 쿠키에도 종류가 있습니다.\n              <br/>\n              Session Cookie, persistent Cookie, Secure Cookie, Third-Party Cookie 이렇게 있습니다.\n              <br/>\n              <br/>\n              Session 쿠키 -&gt; 브라우저 애플리케이션의 메모리에 저장됩니다. 메모리에 저장되기 때문에 브라우저 애플리케이션이 종료되면 사라지는 특성이 있습니다.\n              <br/>\n              Persistent 쿠키 -&gt; 오랜시간동안 유지되는 쿠키. 쿠키정보를 파일에 저장하기 때문에 브라우저가 종료되더라도 사용가능한 특성이 있습니다. (ex. 일주일동안 보지 않기, Max-Age 1주)\n              <br/>\n              <br/>\n              1. 세션이 브라우저 종료시 삭제된다고 한 것은 클라이언트 측면에서 브라우저에 있는 세션 정보(Session Cookie)가 종료때 사라지는 것으로 이해하신게 맞습니다.\n              <br/>\n              서버입장에서는 브라우저가 닫혔는지 모릅니다.\n              <br/>\n              서버는 발급한 세션아이디가 사용되지 않는지 확인하고 삭제해야하는 로직이 필요한 것이죠.\n              <br/>\n              <br/>\n              2. 브라우저가 종료되어도 사라지지 않는 쿠키는 persistent cookie로 등록된 것입니다.\n              <br/>\n              네이버나 구글에 로그인하기 전과 하신 후에 쿠키를 확인하시고 직접 세션정보가 담긴 쿠키를 삭제해보시면 더 이해가 잘될 것입니다. 구글은 SID, SSID등을 지워보시면되고 네이버는 NID를 지워보세요. 브라우저도 종료해보셨다가 다시 쿠키도 확인해보시면 좋을 것 같습니다.\n              <br/>\n              * 참고로 Session Cookie인지 Persistent Cookie인지는 Expires를 명시하거나 Max-Age를 명시한 경우 Persistent Cookie로 보고, 명시하지 않은 경우 Session Cookie로 봅니다.\n              <br/>\n              * 정확한 정보가 아닐 수 있습니다.\n             </p>\n             <div class=\"control\">\n              <a href=\"/80#comment13751263\">\n               댓글주소\n              </a>\n              <a href=\"#\" onclick=\"deleteComment(13751263); return false;\">\n               수정/삭제\n              </a>\n             </div>\n            </li>\n           </ul>\n          </li>\n          <li id=\"comment13751287\">\n           <div class=\"author-meta\">\n            <img alt=\"\" class=\"avatar\" src=\"https://t1.daumcdn.net/tistory_admin/blog/admin/profile_default_00.png\"/>\n            <span class=\"nickname\">\n             orionjeong\n            </span>\n            <span class=\"date\">\n             2019.03.12 23:23\n            </span>\n           </div>\n           <p>\n            오 좋은 정보 감사합니다. ㅎㅎ 한 번에 의문이 해소되었습니다. 더 자세히 찾아보고 정리해보도록 하겠습니다. 제가 정씨라 호기심에 들어온 이 블로그에서 많은 지식들을 얻어갑니다. 포스트들을 한 번씩은 다 본거 같네요 ㅎㅎ 더 자주 들리겠습니다!\n           </p>\n           <div class=\"control\">\n            <a href=\"/80#comment13751287\">\n             댓글주소\n            </a>\n            <a href=\"#\" onclick=\"deleteComment(13751287);return false\">\n             수정/삭제\n            </a>\n            <a href=\"#\" onclick=\"commentComment(13751287); return false\">\n             댓글쓰기\n            </a>\n           </div>\n           <ul>\n            <li id=\"comment13751519\">\n             <div class=\"author-meta\">\n              <img alt=\"\" class=\"avatar\" src=\"https://tistory1.daumcdn.net/tistory/user/3685576/profile/profileImg?v=1504354488608\"/>\n              <span class=\"nickname\">\n               <img alt=\"Favicon of https://jeong-pro.tistory.com\" height=\"16\" onerror=\"this.onerror=null;this.parentNode.removeChild(this)\" src=\"https://jeong-pro.tistory.com/favicon.ico\" width=\"16\">\n                <img alt=\"BlogIcon\" height=\"16\" onerror=\"this.parentNode.removeChild(this)\" src=\"https://jeong-pro.tistory.com/index.gif\" width=\"16\">\n                 <a href=\"https://jeong-pro.tistory.com\" onclick=\"return openLinkInNewWindow(this)\">\n                  정아마추어 JEONG_AMATEUR\n                 </a>\n                 <span class=\"tistoryProfileLayerTrigger\" onclick='TistoryProfile.show(event, this, {\"title\":\"기본기를 쌓는 정아마추어 코딩블로그\",\"url\":\"https:\\/\\/jeong-pro.tistory.com\",\"nickname\":\"JEONG_AMATEUR\",\"items\":[]}); return false;'>\n                 </span>\n                </img>\n               </img>\n              </span>\n              <span class=\"date\">\n               2019.03.13 13:39\n               <a href=\"/toolbar/popup/abuseReport/?entryId=80&amp;commentId=13751519\" onclick=\"window.open(this.href, 'tistoryThisBlogPopup', 'width=550, height=510, toolbar=no, menubar=no, status=no, scrollbars=no'); return false;\">\n                신고\n               </a>\n              </span>\n             </div>\n             <p>\n              말씀만으로도 정말 정말 감사합니다:)\n              <br/>\n              실례지만, 정리하시면서 여기에도 부족한 정보 흘려주실 수 있을까요?\n              <br/>\n              저도 공부해서 추가할 수 있으면 좋을 것 같습니다!\n             </p>\n             <div class=\"control\">\n              <a href=\"/80#comment13751519\">\n               댓글주소\n              </a>\n              <a href=\"#\" onclick=\"deleteComment(13751519); return false;\">\n               수정/삭제\n              </a>\n             </div>\n            </li>\n            <li id=\"comment13751579\">\n             <div class=\"author-meta\">\n              <img alt=\"\" class=\"avatar\" src=\"https://t1.daumcdn.net/tistory_admin/blog/admin/profile_default_00.png\"/>\n              <span class=\"nickname\">\n               orionjeong\n              </span>\n              <span class=\"date\">\n               2019.03.13 17:47\n              </span>\n             </div>\n             <p>\n              네~ 정리해서 올리면 링크 적어두도록 할게요 ㅎㅎ\n             </p>\n             <div class=\"control\">\n              <a href=\"/80#comment13751579\">\n               댓글주소\n              </a>\n              <a href=\"#\" onclick=\"deleteComment(13751579); return false;\">\n               수정/삭제\n              </a>\n             </div>\n            </li>\n           </ul>\n          </li>\n          <li id=\"comment13788723\">\n           <div class=\"author-meta\">\n            <img alt=\"\" class=\"avatar\" src=\"https://t1.daumcdn.net/tistory_admin/blog/admin/profile_default_01.png\"/>\n            <span class=\"nickname\">\n             <img alt=\"Favicon of https://studychfhd.tistory.com\" height=\"16\" onerror=\"this.onerror=null;this.parentNode.removeChild(this)\" src=\"https://studychfhd.tistory.com/favicon.ico\" width=\"16\">\n              <img alt=\"BlogIcon\" height=\"16\" onerror=\"this.parentNode.removeChild(this)\" src=\"https://studychfhd.tistory.com/index.gif\" width=\"16\">\n               <a href=\"https://studychfhd.tistory.com\" onclick=\"return openLinkInNewWindow(this)\">\n                초롱스쿨\n               </a>\n              </img>\n             </img>\n            </span>\n            <span class=\"date\">\n             2019.06.20 17:59\n             <a href=\"/toolbar/popup/abuseReport/?entryId=80&amp;commentId=13788723\" onclick=\"window.open(this.href, 'tistoryThisBlogPopup', 'width=550, height=510, toolbar=no, menubar=no, status=no, scrollbars=no'); return false;\">\n              신고\n             </a>\n            </span>\n           </div>\n           <p>\n            웹 공부하면서 정의가 잘되어 있어서 제 블로그에  사용하고자 하는데 가능할까요?!\n           </p>\n           <div class=\"control\">\n            <a href=\"/80#comment13788723\">\n             댓글주소\n            </a>\n            <a href=\"#\" onclick=\"deleteComment(13788723);return false\">\n             수정/삭제\n            </a>\n            <a href=\"#\" onclick=\"commentComment(13788723); return false\">\n             댓글쓰기\n            </a>\n           </div>\n           <ul>\n            <li id=\"comment13789423\">\n             <div class=\"author-meta\">\n              <img alt=\"\" class=\"avatar\" src=\"https://tistory1.daumcdn.net/tistory/user/3685576/profile/profileImg?v=1504354488608\"/>\n              <span class=\"nickname\">\n               <img alt=\"Favicon of https://jeong-pro.tistory.com\" height=\"16\" onerror=\"this.onerror=null;this.parentNode.removeChild(this)\" src=\"https://jeong-pro.tistory.com/favicon.ico\" width=\"16\">\n                <img alt=\"BlogIcon\" height=\"16\" onerror=\"this.parentNode.removeChild(this)\" src=\"https://jeong-pro.tistory.com/index.gif\" width=\"16\"/>\n                <a href=\"https://jeong-pro.tistory.com\" onclick=\"return openLinkInNewWindow(this)\">\n                 정아마추어 JEONG_AMATEUR\n                </a>\n                <span class=\"tistoryProfileLayerTrigger\" onclick='TistoryProfile.show(event, this, {\"title\":\"기본기를 쌓는 정아마추어 코딩블로그\",\"url\":\"https:\\/\\/jeong-pro.tistory.com\",\"nickname\":\"JEONG_AMATEUR\",\"items\":[]}); return false;'>\n                </span>\n               </img>\n              </span>\n              <span class=\"date\">\n               2019.06.23 14:50\n               <a href=\"/toolbar/popup/abuseReport/?entryId=80&amp;commentId=13789423\" onclick=\"window.open(this.href, 'tistoryThisBlogPopup', 'width=550, height=510, toolbar=no, menubar=no, status=no, scrollbars=no'); return false;\">\n                신고\n               </a>\n              </span>\n             </div>\n             <p>\n              출처 남겨주시면 가능합니다 :D\n             </p>\n             <div class=\"control\">\n              <a href=\"/80#comment13789423\">\n               댓글주소\n              </a>\n              <a href=\"#\" onclick=\"deleteComment(13789423); return false;\">\n               수정/삭제\n              </a>\n             </div>\n            </li>\n           </ul>\n          </li>\n         </ul>\n        </div>\n        <form action=\"/comment/add/80\" method=\"post\" onsubmit=\"return false\" style=\"margin: 0\">\n         <div class=\"comment-form\">\n          <div class=\"field\">\n           <input name=\"name\" placeholder=\"이름\" type=\"text\" value=\"\"/>\n           <input name=\"password\" placeholder=\"암호\" type=\"password\" value=\"\"/>\n           <div class=\"secret\">\n            <input id=\"secret\" name=\"secret\" type=\"checkbox\"/>\n            <label for=\"secret\" tabindex=\"0\">\n             Secret\n            </label>\n           </div>\n          </div>\n          <textarea cols=\"\" name=\"comment\" placeholder=\"여러분의 소중한 댓글을 입력해주세요.\" rows=\"4\"></textarea>\n          <div class=\"submit\">\n           <button class=\"btn\" onclick=\"addComment(this, 80); return false;\" type=\"submit\">\n            댓글달기\n           </button>\n          </div>\n         </div>\n        </form>\n       </div>\n      </div>\n      <script type=\"text/javascript\">\n       loadedComments[80]=true;findFragmentAndHighlight(80)\n      </script>\n      <div class=\"related-articles\">\n       <h2>\n        <strong>\n         '신입 개발자 면접 기초'\n        </strong>\n        Related Articles\n       </h2>\n       <ul>\n        <li>\n         <a href=\"/86?category=793347\">\n          <span class=\"thum\">\n          </span>\n          <span class=\"title\">\n           싱글톤 패턴(Singleton pattern)을 쓰는 이유와 문제점\n          </span>\n         </a>\n        </li>\n        <li>\n         <a href=\"/85?category=793347\">\n          <span class=\"thum\">\n          </span>\n          <span class=\"title\">\n           JAVA String, StringBuffer, StringBuilder 차이점\n          </span>\n         </a>\n        </li>\n        <li>\n         <a href=\"/84?category=793347\">\n          <span class=\"thum\">\n          </span>\n          <span class=\"title\">\n           WAS 와 웹 서버 차이 (WAS,Web Server) 그리고 아파치, 톰캣\n          </span>\n         </a>\n        </li>\n        <li>\n         <a href=\"/82?category=793347\">\n          <span class=\"thum\">\n          </span>\n          <span class=\"title\">\n           JAVA 인터페이스와 추상클래스 공통점, 차이점 정리\n          </span>\n         </a>\n        </li>\n       </ul>\n      </div>\n      <div class=\"tags\">\n       <h2>\n        태그\n       </h2>\n       <div class=\"items\">\n        <a href=\"/tag/cookie\" rel=\"tag\">\n         cookie\n        </a>\n        ,\n        <a href=\"/tag/Lifecycle\" rel=\"tag\">\n         Lifecycle\n        </a>\n        ,\n        <a href=\"/tag/session\" rel=\"tag\">\n         session\n        </a>\n        ,\n        <a href=\"/tag/web\" rel=\"tag\">\n         web\n        </a>\n        ,\n        <a href=\"/tag/%EC%84%B8%EC%85%98\" rel=\"tag\">\n         세션\n        </a>\n        ,\n        <a href=\"/tag/%EC%BF%A0%ED%82%A4\" rel=\"tag\">\n         쿠키\n        </a>\n       </div>\n      </div>\n      <!-- 여기가 원래 댓글 자리 -->\n     </div>\n     <div class=\"pagination\">\n      <a class=\"prev \" href=\"/81\">\n       이전\n      </a>\n      <a href=\"/201\">\n       <span>\n        1\n       </span>\n      </a>\n      <a>\n       <span>\n        ···\n       </span>\n      </a>\n      <a href=\"/84\">\n       <span>\n        115\n       </span>\n      </a>\n      <a href=\"/83\">\n       <span>\n        116\n       </span>\n      </a>\n      <a href=\"/82\">\n       <span>\n        117\n       </span>\n      </a>\n      <a href=\"/81\">\n       <span>\n        118\n       </span>\n      </a>\n      <a>\n       <span class=\"selected\">\n        119\n       </span>\n      </a>\n      <a href=\"/79\">\n       <span>\n        120\n       </span>\n      </a>\n      <a href=\"/78\">\n       <span>\n        121\n       </span>\n      </a>\n      <a href=\"/77\">\n       <span>\n        122\n       </span>\n      </a>\n      <a href=\"/76\">\n       <span>\n        123\n       </span>\n      </a>\n      <a>\n       <span>\n        ···\n       </span>\n      </a>\n      <a href=\"/1\">\n       <span>\n        196\n       </span>\n      </a>\n      <a class=\"next \" href=\"/79\">\n       다음\n      </a>\n     </div>\n    </article>\n   </section>\n   <hr/>\n   <footer id=\"footer\">\n    <p class=\"copyright\">\n     DESIGN BY\n     <a href=\"#\">\n      TISTORY\n     </a>\n     <a class=\"admin\" href=\"https://jeong-pro.tistory.com/manage\">\n      관리자\n     </a>\n    </p>\n   </footer>\n  </div>\n  <script src=\"https://tistory2.daumcdn.net/tistory/2756523/skin/images/script.js\">\n  </script>\n  <script>\n   (function(i,s,o,g,r,a,m){i['GoogleAnalyticsObject']=r;i[r]=i[r]||function(){\n\t\t\t(i[r].q=i[r].q||[]).push(arguments)},i[r].l=1*new Date();a=s.createElement(o),\n\t\tm=s.getElementsByTagName(o)[0];a.async=1;a.src=g;m.parentNode.insertBefore(a,m)\n\t})(window,document,'script','//www.google-analytics.com/analytics.js','ga');\n\tga('create', 'UA-107398111-1', 'auto');\n\tga('send', 'pageview');\n  </script>\n  <script src=\"//search1.daumcdn.net/search/statics/common/js/g/search_dragselection.min.js\">\n  </script>\n  <script>\n   (function($) {\n        $(\"body\").bind('copy', function (e) {\n\n            var url = document.location.href,\n                decodedUrl = decodeURI(url),\n                selection = window.getSelection();\n\n\n            if (typeof window.getSelection == \"undefined\") {//IE8 or earlier...\n                event.preventDefault();\n\n                var pagelink = '\n\n 출처: ' + decodedUrl,\n                    copytext = selection + pagelink;\n\n                if (window.clipboardData) {\n                    window.clipboardData.setData('Text', copytext);\n                }\n                return;\n            }\n            var body_element = document.getElementsByTagName('body')[0];\n\n            //if the selection is short let's not annoy our users\n            if ((\"\" + selection).length < 30) return;\n\n            //create a div outside of the visible area\n            var newdiv = document.createElement('div');\n            newdiv.style.position = 'absolute';\n            newdiv.style.left = '-99999px';\n            body_element.appendChild(newdiv);\n            newdiv.appendChild(selection.getRangeAt(0).cloneContents());\n\n            //we need a <pre> tag workaround\n            //otherwise the text inside \"pre\" loses all the line breaks!\n            if (selection.getRangeAt(0).commonAncestorContainer.nodeName == \"PRE\") {\n                newdiv.innerHTML = \"<pre>\" + newdiv.innerHTML + \"</pre>\";\n            }\n\n            newdiv.innerHTML += '<br /><br />출처: <a href=\"' + url + '\">' + escapeHTML(decodedUrl) + '</a> [기본기를 쌓는 정아마추어 코딩블로그]';\n\n            selection.selectAllChildren(newdiv);\n\n            window.setTimeout(function () {\n                body_element.removeChild(newdiv);\n            }, 200);\n        });\n    })(tjQuery);\n  </script>\n  <script>\n   lightbox.option({\n\t\t\t\"fadeDuration\": 200,\n\t\t    \"resizeDuration\": 200,\n\t\t    \"wrapAround\": false,\n\t\t\t\"albumLabel\": \"%1 / %2\",\n\t\t\t\"fitImagesInViewport\":true ,\n\t\t\t\"stopEvent\": false\n\t    })\n  </script>\n  <script type=\"text/javascript\">\n   var _tiq = 'undefined' !== typeof _tiq ? _tiq : [];\n_tiq.push(['__setConfig', {enableScroll:true, enableClick:true, enableButton:true}]);\n_tiq.push([\"__setParam\", \"svcdomain\", \"user.tistory.com\"]);\n(function(d) {\n\tvar se = d.createElement('script'); se.type = 'text/javascript'; se.async = true;\n\tse.src = location.protocol + '//m2.daumcdn.net/tiara/js/td.min.js';\n\tvar s = d.getElementsByTagName('head')[0]; s.appendChild(se);\n})(document);\n_tiq.push(['__setParam', 'param_ex', JSON.stringify({\"userId\":\"3685576\",\"blogId\":\"2756523\",\"role\":\"guest\",\"filterTarget\":false,\"entryId\":\"80\"})]);\n_tiq.push(['__trackPageview']);\n_tiq.push(['__content', 't_content', {\n'c_id':'2756523_80', \n'c_title':'Web - 쿠키와 세션의 차이, 용도, 사용법(cookie,session)', \n'type':'article', \n'author':'', \n'author_id':'3685576', \n'cp':'기본기를 쌓는 정아마추어 코딩블로그', \n'cp_id':'2756523', \n'regdata':'2017-10-21 23:27:59', \n'plink':'https://jeong-pro.tistory.com/80', \n'media':'pcweb', \n}]);\nvar addEvent = function (evt, fn) { window.addEventListener ? window.addEventListener(evt, fn, false) : window.attachEvent('on' + evt, fn); };\nvar removeEvent = function(evt, fn) { window.removeEventListener ? window.removeEventListener(evt, fn, false) : window.detachEvent('on' + evt, fn);};\nvar ua = navigator.userAgent.toLowerCase(); var isIOS = /iP[ao]d|iPhone/i.test(ua);\nvar contentExStat = function() {\n\t\t_tiq.push(['__content', 't_content_ex', {\n\t\t\t'data_type':'usage'\n, 'meta': {\n'c_id':'2756523_80', \n'c_title':'Web - 쿠키와 세션의 차이, 용도, 사용법(cookie,session)', \n'type':'article', \n'author':'', \n'author_id':'3685576', \n'cp':'기본기를 쌓는 정아마추어 코딩블로그', \n'cp_id':'2756523', \n'regdata':'2017-10-21 23:27:59', \n'plink':'https://jeong-pro.tistory.com/80', \n'media':'pcweb', \n}\n}]);\n\t\tremoveEvent(isIOS ? 'pagehide' : 'beforeunload', contentExStat);\n};\naddEvent(isIOS ? 'pagehide' : 'beforeunload', contentExStat);\n  </script>\n  <script type=\"text/javascript\">\n   window.roosevelt_params_queue = window.roosevelt_params_queue || []; window.roosevelt_params_queue.push({channel_id: \"dk\", channel_label: 'tistory'});\n  </script>\n  <script async=\"\" src=\"//t1.daumcdn.net/midas/rt/dk_bt/roosevelt_dk_bt.js\" type=\"text/javascript\">\n  </script>\n  <script type=\"text/javascript\">\n   if(window.console!=undefined){setTimeout(console.log.bind(console,\"%cTISTORY\",\"font:8em Arial;color:#EC6521;font-weight:bold\"),0);setTimeout(console.log.bind(console,\"%c  나를 표현하는 블로그\",\"font:2em sans-serif;color:#333;\"),0);}\n  </script>\n  <iframe id=\"editEntry\" src=\"//jeong-pro.tistory.com/api\" style=\"position:absolute;width:1px;height:1px;left:-100px;top:-100px\">\n  </iframe>\n  <div class=\"#menubar menu_toolbar toolbar_rc\">\n   <h2 class=\"screen_out\">\n    티스토리툴바\n   </h2>\n   <div class=\"btn_tool\">\n    <button class=\"btn_menu_toolbar btn_subscription #subscribe\" data-blog-id=\"2756523\" data-device=\"web_pc\" data-url=\"https://jeong-pro.tistory.com\">\n     <strong class=\"txt_tool_id\">\n      기본기를 쌓는 정아마추어 코딩블로그\n     </strong>\n     <em class=\"txt_state\">\n      구독하기\n     </em>\n     <span class=\"img_common_tistory ico_check_type1\">\n     </span>\n    </button>\n   </div>\n  </div>\n  <div class=\"#menubar menu_toolbar \">\n  </div>\n  <script src=\"https://t1.daumcdn.net/tistory_admin/assets/blog/cbaef5b36afa58209fd2fb20bcbd88c5494cdcba/blogs/script/menubar.min.js?_version_=cbaef5b36afa58209fd2fb20bcbd88c5494cdcba\" type=\"text/javascript\">\n  </script>\n  <div class=\"layer_tooltip\">\n   <div class=\"inner_layer_tooltip\">\n    <p class=\"desc_g\">\n    </p>\n   </div>\n  </div>\n  <div class=\"layer_post\" id=\"tistoryEtcLayer\">\n  </div>\n  <div class=\"layer_post\" id=\"tistorySnsLayer\">\n  </div>\n </body>\n</html>\n",
          "name": "stdout"
        }
      ]
    },
    {
      "metadata": {
        "trusted": true
      },
      "cell_type": "code",
      "source": "soup.title",
      "execution_count": 38,
      "outputs": [
        {
          "output_type": "execute_result",
          "execution_count": 38,
          "data": {
            "text/plain": "<title>Web - 쿠키와 세션의 차이, 용도, 사용법(cookie,session)</title>"
          },
          "metadata": {}
        }
      ]
    },
    {
      "metadata": {
        "trusted": true
      },
      "cell_type": "code",
      "source": "soup.title.name",
      "execution_count": 39,
      "outputs": [
        {
          "output_type": "execute_result",
          "execution_count": 39,
          "data": {
            "text/plain": "'title'"
          },
          "metadata": {}
        }
      ]
    },
    {
      "metadata": {
        "trusted": true
      },
      "cell_type": "code",
      "source": "print(soup.title.String)",
      "execution_count": 42,
      "outputs": [
        {
          "output_type": "stream",
          "text": "None\n",
          "name": "stdout"
        }
      ]
    },
    {
      "metadata": {
        "trusted": true
      },
      "cell_type": "code",
      "source": "soup.p",
      "execution_count": 43,
      "outputs": [
        {
          "output_type": "execute_result",
          "execution_count": 43,
          "data": {
            "text/plain": "<p><b><span style=\"font-size: 14pt;\">웹에서 쿠키와 세션 (Cookie &amp; Session</span><span style=\"font-size: 14pt;\">)</span></b><br/></p>"
          },
          "metadata": {}
        }
      ]
    },
    {
      "metadata": {
        "trusted": true
      },
      "cell_type": "code",
      "source": "soup.a",
      "execution_count": 44,
      "outputs": [
        {
          "output_type": "execute_result",
          "execution_count": 44,
          "data": {
            "text/plain": "<a href=\"#content\">본문 바로가기</a>"
          },
          "metadata": {}
        }
      ]
    },
    {
      "metadata": {
        "trusted": true
      },
      "cell_type": "code",
      "source": "soup.find_all('a')",
      "execution_count": 45,
      "outputs": [
        {
          "output_type": "execute_result",
          "execution_count": 45,
          "data": {
            "text/plain": "[<a href=\"#content\">본문 바로가기</a>,\n <a href=\"/\">기본기를 쌓는 정아마추어 코딩블로그</a>,\n <a class=\"link_tit\" href=\"/category\">\n \t\t\t전체보기\t\t\t\t\t\t\t<span class=\"c_cnt\">(196)</span>\n </a>,\n <a class=\"link_item\" href=\"/category/Java\">\n \t\t\t\t\t\tJava\t\t\t\t\t\t\t\t\t\t\t\t\t<span class=\"c_cnt\">(75)</span>\n </a>,\n <a class=\"link_sub_item\" href=\"/category/Java/JAVA\">\n \t\t\t\t\t\t\t\t\tJAVA\n \t\t\t\t\t\t\t\t\t\t\t\t\t\t\t\t\t\t\t<span class=\"c_cnt\">(41)</span>\n </a>,\n <a class=\"link_sub_item\" href=\"/category/Java/Spring\">\n \t\t\t\t\t\t\t\t\tSpring\n \t\t\t\t\t\t\t\t\t\t\t\t\t\t\t\t\t\t\t<span class=\"c_cnt\">(26)</span>\n </a>,\n <a class=\"link_sub_item\" href=\"/category/Java/Java%20IO%2BNIO\">\n \t\t\t\t\t\t\t\t\tJava IO+NIO\n \t\t\t\t\t\t\t\t\t\t\t\t\t\t\t\t\t\t\t<span class=\"c_cnt\">(6)</span>\n </a>,\n <a class=\"link_sub_item\" href=\"/category/Java/JPA\">\n \t\t\t\t\t\t\t\t\tJPA\n \t\t\t\t\t\t\t\t\t\t\t\t\t\t\t\t\t\t\t<span class=\"c_cnt\">(2)</span>\n </a>,\n <a class=\"link_item\" href=\"/category/Kotlin\">\n \t\t\t\t\t\tKotlin\t\t\t\t\t\t\t\t\t\t\t\t\t<span class=\"c_cnt\">(1)</span>\n </a>,\n <a class=\"link_item\" href=\"/category/Javascript\">\n \t\t\t\t\t\tJavascript\t\t\t\t\t\t\t\t\t\t\t\t\t<span class=\"c_cnt\">(43)</span>\n </a>,\n <a class=\"link_sub_item\" href=\"/category/Javascript/Javascript%28ES6%29\">\n \t\t\t\t\t\t\t\t\tJavascript(ES6)\n \t\t\t\t\t\t\t\t\t\t\t\t\t\t\t\t\t\t\t<span class=\"c_cnt\">(16)</span>\n </a>,\n <a class=\"link_sub_item\" href=\"/category/Javascript/%ED%95%A8%EC%88%98%ED%98%95%20%ED%94%84%EB%A1%9C%EA%B7%B8%EB%9E%98%EB%B0%8D\">\n \t\t\t\t\t\t\t\t\t함수형 프로그래밍\n \t\t\t\t\t\t\t\t\t\t\t\t\t\t\t\t\t\t\t<span class=\"c_cnt\">(6)</span>\n </a>,\n <a class=\"link_sub_item\" href=\"/category/Javascript/Node.js\">\n \t\t\t\t\t\t\t\t\tNode.js\n \t\t\t\t\t\t\t\t\t\t\t\t\t\t\t\t\t\t\t<span class=\"c_cnt\">(15)</span>\n </a>,\n <a class=\"link_sub_item\" href=\"/category/Javascript/Vue\">\n \t\t\t\t\t\t\t\t\tVue\n \t\t\t\t\t\t\t\t\t\t\t\t\t\t\t\t\t\t\t<span class=\"c_cnt\">(1)</span>\n </a>,\n <a class=\"link_sub_item\" href=\"/category/Javascript/React\">\n \t\t\t\t\t\t\t\t\tReact\n \t\t\t\t\t\t\t\t\t\t\t\t\t\t\t\t\t\t\t<span class=\"c_cnt\">(5)</span>\n </a>,\n <a class=\"link_item\" href=\"/category/DB\">\n \t\t\t\t\t\tDB\t\t\t\t\t\t\t\t\t\t\t\t\t<span class=\"c_cnt\">(24)</span>\n </a>,\n <a class=\"link_sub_item\" href=\"/category/DB/SQLD\">\n \t\t\t\t\t\t\t\t\tSQLD\n \t\t\t\t\t\t\t\t\t\t\t\t\t\t\t\t\t\t\t<span class=\"c_cnt\">(18)</span>\n </a>,\n <a class=\"link_sub_item\" href=\"/category/DB/SQLP\">\n \t\t\t\t\t\t\t\t\tSQLP\n \t\t\t\t\t\t\t\t\t\t\t\t\t\t\t\t\t\t\t<span class=\"c_cnt\">(3)</span>\n </a>,\n <a class=\"link_sub_item\" href=\"/category/DB/DB%20%ED%8A%9C%EB%8B%9D\">\n \t\t\t\t\t\t\t\t\tDB 튜닝\n \t\t\t\t\t\t\t\t\t\t\t\t\t\t\t\t\t\t\t<span class=\"c_cnt\">(2)</span>\n </a>,\n <a class=\"link_sub_item\" href=\"/category/DB/DB%20%ED%85%8C%EC%9D%B4%EB%B8%94%20%EC%84%A4%EA%B3%84\">\n \t\t\t\t\t\t\t\t\tDB 테이블 설계\n \t\t\t\t\t\t\t\t\t\t\t\t\t\t\t\t\t\t\t<span class=\"c_cnt\">(1)</span>\n </a>,\n <a class=\"link_item\" href=\"/category/C%23\">\n \t\t\t\t\t\tC#\t\t\t\t\t\t\t\t\t\t\t\t\t<span class=\"c_cnt\">(9)</span>\n </a>,\n <a class=\"link_item\" href=\"/category/%EC%8B%A0%EC%9E%85%20%EA%B0%9C%EB%B0%9C%EC%9E%90%20%EB%A9%B4%EC%A0%91%20%EA%B8%B0%EC%B4%88\">\n \t\t\t\t\t\t신입 개발자 면접 기초\t\t\t\t\t\t\t\t\t\t\t\t\t<span class=\"c_cnt\">(26)</span>\n </a>,\n <a class=\"link_item\" href=\"/category/%EA%B8%B0%ED%83%80%20%EA%B0%9C%EB%B0%9C%20%EC%8A%A4%ED%82%AC\">\n \t\t\t\t\t\t기타 개발 스킬\t\t\t\t\t\t\t\t\t\t\t\t\t<span class=\"c_cnt\">(7)</span>\n </a>,\n <a class=\"link_item\" href=\"/category/Git%2BGithub\">\n \t\t\t\t\t\tGit+Github\t\t\t\t\t\t\t\t\t\t\t\t\t<span class=\"c_cnt\">(7)</span>\n </a>,\n <a class=\"link_item\" href=\"/category/%ED%8B%B0%EC%8A%A4%ED%86%A0%EB%A6%AC%20%EC%B4%88%EB%8C%80%EC%9E%A5\">\n \t\t\t\t\t\t티스토리 초대장\t\t\t\t\t\t\t\t\t\t\t\t\t<span class=\"c_cnt\">(4)</span>\n </a>,\n <a class=\"link_ccl\" href=\"https://creativecommons.org/licenses/by-nc-nd/4.0/deed.ko\" target=\"_blank\">\n <span class=\"bundle_ccl\">\n <span class=\"ico_postbtn ico_ccl1\">저작자표시</span><span class=\"ico_postbtn ico_ccl2\">비영리</span><span class=\"ico_postbtn ico_ccl3\">변경금지</span> </span>\n </a>,\n <a href=\"javascript:;\" onclick=\"ShareEntryWithSNS.share('kakaostory', '80', 'Web%20-%20%EC%BF%A0%ED%82%A4%EC%99%80%20%EC%84%B8%EC%85%98%EC%9D%98%20%EC%B0%A8%EC%9D%B4%2C%20%EC%9A%A9%EB%8F%84%2C%20%EC%82%AC%EC%9A%A9%EB%B2%95%28cookie%2Csession%29');\">카카오스토리</a>,\n <a href=\"javascript:;\" onclick=\"ShareEntryWithSNS.share('twitter', '80', 'Web%20-%20%EC%BF%A0%ED%82%A4%EC%99%80%20%EC%84%B8%EC%85%98%EC%9D%98%20%EC%B0%A8%EC%9D%B4%2C%20%EC%9A%A9%EB%8F%84%2C%20%EC%82%AC%EC%9A%A9%EB%B2%95%28cookie%2Csession%29');\">트위터</a>,\n <a href=\"javascript:;\" onclick=\"ShareEntryWithSNS.share('facebook', '80', 'Web%20-%20%EC%BF%A0%ED%82%A4%EC%99%80%20%EC%84%B8%EC%85%98%EC%9D%98%20%EC%B0%A8%EC%9D%B4%2C%20%EC%9A%A9%EB%8F%84%2C%20%EC%82%AC%EC%9A%A9%EB%B2%95%28cookie%2Csession%29');\">페이스북</a>,\n <a href=\"/category/신입%20개발자%20면접%20기초\">신입 개발자 면접 기초</a>,\n <a href=\"/87?category=793347\">JAVA 컬렉션 (Vector, ArrayList, LinkedList, Set, Map)</a>,\n <a href=\"/86?category=793347\">싱글톤 패턴(Singleton pattern)을 쓰는 이유와 문제점</a>,\n <a href=\"/85?category=793347\">JAVA String, StringBuffer, StringBuilder 차이점</a>,\n <a href=\"/84?category=793347\">WAS 와 웹 서버 차이 (WAS,Web Server) 그리고 아파치, 톰캣</a>,\n <a href=\"/82?category=793347\">JAVA 인터페이스와 추상클래스 공통점, 차이점 정리</a>,\n <a class=\"current\" href=\"/80?category=793347\">Web - 쿠키와 세션의 차이, 용도, 사용법(cookie,session)</a>,\n <a href=\"https://defacto-standard.tistory.com\" onclick=\"return openLinkInNewWindow(this)\">defacto standard</a>,\n <a href=\"/toolbar/popup/abuseReport/?entryId=80&amp;commentId=13577199\" onclick=\"window.open(this.href, 'tistoryThisBlogPopup', 'width=550, height=510, toolbar=no, menubar=no, status=no, scrollbars=no'); return false;\">신고</a>,\n <a href=\"/80#comment13577199\">댓글주소</a>,\n <a href=\"#\" onclick=\"deleteComment(13577199);return false\">수정/삭제</a>,\n <a href=\"#\" onclick=\"commentComment(13577199); return false\">댓글쓰기</a>,\n <a href=\"https://jeong-pro.tistory.com\" onclick=\"return openLinkInNewWindow(this)\">정아마추어 JEONG_AMATEUR</a>,\n <a href=\"/toolbar/popup/abuseReport/?entryId=80&amp;commentId=13577390\" onclick=\"window.open(this.href, 'tistoryThisBlogPopup', 'width=550, height=510, toolbar=no, menubar=no, status=no, scrollbars=no'); return false;\">신고</a>,\n <a href=\"/80#comment13577390\">댓글주소</a>,\n <a href=\"#\" onclick=\"deleteComment(13577390); return false;\">수정/삭제</a>,\n <a href=\"/80#comment13608809\">댓글주소</a>,\n <a href=\"#\" onclick=\"deleteComment(13608809);return false\">수정/삭제</a>,\n <a href=\"#\" onclick=\"commentComment(13608809); return false\">댓글쓰기</a>,\n <a href=\"https://jeong-pro.tistory.com\" onclick=\"return openLinkInNewWindow(this)\">정아마추어 JEONG_AMATEUR</a>,\n <a href=\"/toolbar/popup/abuseReport/?entryId=80&amp;commentId=13610257\" onclick=\"window.open(this.href, 'tistoryThisBlogPopup', 'width=550, height=510, toolbar=no, menubar=no, status=no, scrollbars=no'); return false;\">신고</a>,\n <a href=\"/80#comment13610257\">댓글주소</a>,\n <a href=\"#\" onclick=\"deleteComment(13610257); return false;\">수정/삭제</a>,\n <a href=\"/80#comment13638101\">댓글주소</a>,\n <a href=\"#\" onclick=\"deleteComment(13638101);return false\">수정/삭제</a>,\n <a href=\"#\" onclick=\"commentComment(13638101); return false\">댓글쓰기</a>,\n <a href=\"https://jeong-pro.tistory.com\" onclick=\"return openLinkInNewWindow(this)\">정아마추어 JEONG_AMATEUR</a>,\n <a href=\"/toolbar/popup/abuseReport/?entryId=80&amp;commentId=13639344\" onclick=\"window.open(this.href, 'tistoryThisBlogPopup', 'width=550, height=510, toolbar=no, menubar=no, status=no, scrollbars=no'); return false;\">신고</a>,\n <a href=\"/80#comment13639344\">댓글주소</a>,\n <a href=\"#\" onclick=\"deleteComment(13639344); return false;\">수정/삭제</a>,\n <a href=\"https://devhoma.tistory.com\" onclick=\"return openLinkInNewWindow(this)\">dolhim</a>,\n <a href=\"/toolbar/popup/abuseReport/?entryId=80&amp;commentId=13655270\" onclick=\"window.open(this.href, 'tistoryThisBlogPopup', 'width=550, height=510, toolbar=no, menubar=no, status=no, scrollbars=no'); return false;\">신고</a>,\n <a href=\"/80#comment13655270\">댓글주소</a>,\n <a href=\"#\" onclick=\"deleteComment(13655270);return false\">수정/삭제</a>,\n <a href=\"#\" onclick=\"commentComment(13655270); return false\">댓글쓰기</a>,\n <a href=\"https://jeong-pro.tistory.com\" onclick=\"return openLinkInNewWindow(this)\">정아마추어 JEONG_AMATEUR</a>,\n <a href=\"/toolbar/popup/abuseReport/?entryId=80&amp;commentId=13655885\" onclick=\"window.open(this.href, 'tistoryThisBlogPopup', 'width=550, height=510, toolbar=no, menubar=no, status=no, scrollbars=no'); return false;\">신고</a>,\n <a href=\"/80#comment13655885\">댓글주소</a>,\n <a href=\"#\" onclick=\"deleteComment(13655885); return false;\">수정/삭제</a>,\n <a href=\"/80#comment13721032\">댓글주소</a>,\n <a href=\"#\" onclick=\"deleteComment(13721032);return false\">수정/삭제</a>,\n <a href=\"#\" onclick=\"commentComment(13721032); return false\">댓글쓰기</a>,\n <a href=\"https://jeong-pro.tistory.com\" onclick=\"return openLinkInNewWindow(this)\">정아마추어 JEONG_AMATEUR</a>,\n <a href=\"/toolbar/popup/abuseReport/?entryId=80&amp;commentId=13721053\" onclick=\"window.open(this.href, 'tistoryThisBlogPopup', 'width=550, height=510, toolbar=no, menubar=no, status=no, scrollbars=no'); return false;\">신고</a>,\n <a href=\"/80#comment13721053\">댓글주소</a>,\n <a href=\"#\" onclick=\"deleteComment(13721053); return false;\">수정/삭제</a>,\n <a href=\"/80#comment13751125\">댓글주소</a>,\n <a href=\"#\" onclick=\"deleteComment(13751125);return false\">수정/삭제</a>,\n <a href=\"#\" onclick=\"commentComment(13751125); return false\">댓글쓰기</a>,\n <a href=\"https://jeong-pro.tistory.com\" onclick=\"return openLinkInNewWindow(this)\">정아마추어 JEONG_AMATEUR</a>,\n <a href=\"/toolbar/popup/abuseReport/?entryId=80&amp;commentId=13751263\" onclick=\"window.open(this.href, 'tistoryThisBlogPopup', 'width=550, height=510, toolbar=no, menubar=no, status=no, scrollbars=no'); return false;\">신고</a>,\n <a href=\"/80#comment13751263\">댓글주소</a>,\n <a href=\"#\" onclick=\"deleteComment(13751263); return false;\">수정/삭제</a>,\n <a href=\"/80#comment13751287\">댓글주소</a>,\n <a href=\"#\" onclick=\"deleteComment(13751287);return false\">수정/삭제</a>,\n <a href=\"#\" onclick=\"commentComment(13751287); return false\">댓글쓰기</a>,\n <a href=\"https://jeong-pro.tistory.com\" onclick=\"return openLinkInNewWindow(this)\">정아마추어 JEONG_AMATEUR</a>,\n <a href=\"/toolbar/popup/abuseReport/?entryId=80&amp;commentId=13751519\" onclick=\"window.open(this.href, 'tistoryThisBlogPopup', 'width=550, height=510, toolbar=no, menubar=no, status=no, scrollbars=no'); return false;\">신고</a>,\n <a href=\"/80#comment13751519\">댓글주소</a>,\n <a href=\"#\" onclick=\"deleteComment(13751519); return false;\">수정/삭제</a>,\n <a href=\"/80#comment13751579\">댓글주소</a>,\n <a href=\"#\" onclick=\"deleteComment(13751579); return false;\">수정/삭제</a>,\n <a href=\"https://studychfhd.tistory.com\" onclick=\"return openLinkInNewWindow(this)\">초롱스쿨</a>,\n <a href=\"/toolbar/popup/abuseReport/?entryId=80&amp;commentId=13788723\" onclick=\"window.open(this.href, 'tistoryThisBlogPopup', 'width=550, height=510, toolbar=no, menubar=no, status=no, scrollbars=no'); return false;\">신고</a>,\n <a href=\"/80#comment13788723\">댓글주소</a>,\n <a href=\"#\" onclick=\"deleteComment(13788723);return false\">수정/삭제</a>,\n <a href=\"#\" onclick=\"commentComment(13788723); return false\">댓글쓰기</a>,\n <a href=\"https://jeong-pro.tistory.com\" onclick=\"return openLinkInNewWindow(this)\">정아마추어 JEONG_AMATEUR</a>,\n <a href=\"/toolbar/popup/abuseReport/?entryId=80&amp;commentId=13789423\" onclick=\"window.open(this.href, 'tistoryThisBlogPopup', 'width=550, height=510, toolbar=no, menubar=no, status=no, scrollbars=no'); return false;\">신고</a>,\n <a href=\"/80#comment13789423\">댓글주소</a>,\n <a href=\"#\" onclick=\"deleteComment(13789423); return false;\">수정/삭제</a>,\n <a href=\"/86?category=793347\">\n <span class=\"thum\">\n </span>\n <span class=\"title\">싱글톤 패턴(Singleton pattern)을 쓰는 이유와 문제점</span>\n </a>,\n <a href=\"/85?category=793347\">\n <span class=\"thum\">\n </span>\n <span class=\"title\">JAVA String, StringBuffer, StringBuilder 차이점</span>\n </a>,\n <a href=\"/84?category=793347\">\n <span class=\"thum\">\n </span>\n <span class=\"title\">WAS 와 웹 서버 차이 (WAS,Web Server) 그리고 아파치, 톰캣</span>\n </a>,\n <a href=\"/82?category=793347\">\n <span class=\"thum\">\n </span>\n <span class=\"title\">JAVA 인터페이스와 추상클래스 공통점, 차이점 정리</span>\n </a>,\n <a href=\"/tag/cookie\" rel=\"tag\">cookie</a>,\n <a href=\"/tag/Lifecycle\" rel=\"tag\">Lifecycle</a>,\n <a href=\"/tag/session\" rel=\"tag\">session</a>,\n <a href=\"/tag/web\" rel=\"tag\">web</a>,\n <a href=\"/tag/%EC%84%B8%EC%85%98\" rel=\"tag\">세션</a>,\n <a href=\"/tag/%EC%BF%A0%ED%82%A4\" rel=\"tag\">쿠키</a>,\n <a class=\"prev \" href=\"/81\">이전</a>,\n <a href=\"/201\"><span>1</span></a>,\n <a><span>···</span></a>,\n <a href=\"/84\"><span>115</span></a>,\n <a href=\"/83\"><span>116</span></a>,\n <a href=\"/82\"><span>117</span></a>,\n <a href=\"/81\"><span>118</span></a>,\n <a><span class=\"selected\">119</span></a>,\n <a href=\"/79\"><span>120</span></a>,\n <a href=\"/78\"><span>121</span></a>,\n <a href=\"/77\"><span>122</span></a>,\n <a href=\"/76\"><span>123</span></a>,\n <a><span>···</span></a>,\n <a href=\"/1\"><span>196</span></a>,\n <a class=\"next \" href=\"/79\">다음</a>,\n <a href=\"#\">TISTORY</a>,\n <a class=\"admin\" href=\"https://jeong-pro.tistory.com/manage\">관리자</a>]"
          },
          "metadata": {}
        }
      ]
    },
    {
      "metadata": {
        "trusted": true
      },
      "cell_type": "code",
      "source": "soup.find(class_ = 'link_tit')",
      "execution_count": 51,
      "outputs": [
        {
          "output_type": "execute_result",
          "execution_count": 51,
          "data": {
            "text/plain": "<a class=\"link_tit\" href=\"/category\">\n\t\t\t전체보기\t\t\t\t\t\t\t<span class=\"c_cnt\">(196)</span>\n</a>"
          },
          "metadata": {}
        }
      ]
    },
    {
      "metadata": {},
      "cell_type": "markdown",
      "source": "class_는 파이썬 예약어 class와 충돌을 피하기 위해 사용"
    },
    {
      "metadata": {
        "trusted": true
      },
      "cell_type": "code",
      "source": "for link in soup.find_all('a'):\n    print(link.get('href'))",
      "execution_count": 52,
      "outputs": [
        {
          "output_type": "stream",
          "text": "#content\n/\n/category\n/category/Java\n/category/Java/JAVA\n/category/Java/Spring\n/category/Java/Java%20IO%2BNIO\n/category/Java/JPA\n/category/Kotlin\n/category/Javascript\n/category/Javascript/Javascript%28ES6%29\n/category/Javascript/%ED%95%A8%EC%88%98%ED%98%95%20%ED%94%84%EB%A1%9C%EA%B7%B8%EB%9E%98%EB%B0%8D\n/category/Javascript/Node.js\n/category/Javascript/Vue\n/category/Javascript/React\n/category/DB\n/category/DB/SQLD\n/category/DB/SQLP\n/category/DB/DB%20%ED%8A%9C%EB%8B%9D\n/category/DB/DB%20%ED%85%8C%EC%9D%B4%EB%B8%94%20%EC%84%A4%EA%B3%84\n/category/C%23\n/category/%EC%8B%A0%EC%9E%85%20%EA%B0%9C%EB%B0%9C%EC%9E%90%20%EB%A9%B4%EC%A0%91%20%EA%B8%B0%EC%B4%88\n/category/%EA%B8%B0%ED%83%80%20%EA%B0%9C%EB%B0%9C%20%EC%8A%A4%ED%82%AC\n/category/Git%2BGithub\n/category/%ED%8B%B0%EC%8A%A4%ED%86%A0%EB%A6%AC%20%EC%B4%88%EB%8C%80%EC%9E%A5\nhttps://creativecommons.org/licenses/by-nc-nd/4.0/deed.ko\njavascript:;\njavascript:;\njavascript:;\n/category/신입%20개발자%20면접%20기초\n/87?category=793347\n/86?category=793347\n/85?category=793347\n/84?category=793347\n/82?category=793347\n/80?category=793347\nhttps://defacto-standard.tistory.com\n/toolbar/popup/abuseReport/?entryId=80&commentId=13577199\n/80#comment13577199\n#\n#\nhttps://jeong-pro.tistory.com\n/toolbar/popup/abuseReport/?entryId=80&commentId=13577390\n/80#comment13577390\n#\n/80#comment13608809\n#\n#\nhttps://jeong-pro.tistory.com\n/toolbar/popup/abuseReport/?entryId=80&commentId=13610257\n/80#comment13610257\n#\n/80#comment13638101\n#\n#\nhttps://jeong-pro.tistory.com\n/toolbar/popup/abuseReport/?entryId=80&commentId=13639344\n/80#comment13639344\n#\nhttps://devhoma.tistory.com\n/toolbar/popup/abuseReport/?entryId=80&commentId=13655270\n/80#comment13655270\n#\n#\nhttps://jeong-pro.tistory.com\n/toolbar/popup/abuseReport/?entryId=80&commentId=13655885\n/80#comment13655885\n#\n/80#comment13721032\n#\n#\nhttps://jeong-pro.tistory.com\n/toolbar/popup/abuseReport/?entryId=80&commentId=13721053\n/80#comment13721053\n#\n/80#comment13751125\n#\n#\nhttps://jeong-pro.tistory.com\n/toolbar/popup/abuseReport/?entryId=80&commentId=13751263\n/80#comment13751263\n#\n/80#comment13751287\n#\n#\nhttps://jeong-pro.tistory.com\n/toolbar/popup/abuseReport/?entryId=80&commentId=13751519\n/80#comment13751519\n#\n/80#comment13751579\n#\nhttps://studychfhd.tistory.com\n/toolbar/popup/abuseReport/?entryId=80&commentId=13788723\n/80#comment13788723\n#\n#\nhttps://jeong-pro.tistory.com\n/toolbar/popup/abuseReport/?entryId=80&commentId=13789423\n/80#comment13789423\n#\n/86?category=793347\n/85?category=793347\n/84?category=793347\n/82?category=793347\n/tag/cookie\n/tag/Lifecycle\n/tag/session\n/tag/web\n/tag/%EC%84%B8%EC%85%98\n/tag/%EC%BF%A0%ED%82%A4\n/81\n/201\nNone\n/84\n/83\n/82\n/81\nNone\n/79\n/78\n/77\n/76\nNone\n/1\n/79\n#\nhttps://jeong-pro.tistory.com/manage\n",
          "name": "stdout"
        }
      ]
    },
    {
      "metadata": {
        "trusted": true
      },
      "cell_type": "code",
      "source": "soup.find_all('ul')",
      "execution_count": 53,
      "outputs": [
        {
          "output_type": "execute_result",
          "execution_count": 53,
          "data": {
            "text/plain": "[<ul class=\"tt_category\">\n <li class=\"\">\n <a class=\"link_tit\" href=\"/category\">\n \t\t\t전체보기\t\t\t\t\t\t\t<span class=\"c_cnt\">(196)</span>\n </a>\n <ul class=\"category_list\">\n <li class=\"\">\n <a class=\"link_item\" href=\"/category/Java\">\n \t\t\t\t\t\tJava\t\t\t\t\t\t\t\t\t\t\t\t\t<span class=\"c_cnt\">(75)</span>\n </a>\n <ul class=\"sub_category_list\">\n <li class=\"\">\n <a class=\"link_sub_item\" href=\"/category/Java/JAVA\">\n \t\t\t\t\t\t\t\t\tJAVA\n \t\t\t\t\t\t\t\t\t\t\t\t\t\t\t\t\t\t\t<span class=\"c_cnt\">(41)</span>\n </a>\n </li>\n <li class=\"\">\n <a class=\"link_sub_item\" href=\"/category/Java/Spring\">\n \t\t\t\t\t\t\t\t\tSpring\n \t\t\t\t\t\t\t\t\t\t\t\t\t\t\t\t\t\t\t<span class=\"c_cnt\">(26)</span>\n </a>\n </li>\n <li class=\"\">\n <a class=\"link_sub_item\" href=\"/category/Java/Java%20IO%2BNIO\">\n \t\t\t\t\t\t\t\t\tJava IO+NIO\n \t\t\t\t\t\t\t\t\t\t\t\t\t\t\t\t\t\t\t<span class=\"c_cnt\">(6)</span>\n </a>\n </li>\n <li class=\"\">\n <a class=\"link_sub_item\" href=\"/category/Java/JPA\">\n \t\t\t\t\t\t\t\t\tJPA\n \t\t\t\t\t\t\t\t\t\t\t\t\t\t\t\t\t\t\t<span class=\"c_cnt\">(2)</span>\n </a>\n </li>\n </ul>\n </li>\n <li class=\"\">\n <a class=\"link_item\" href=\"/category/Kotlin\">\n \t\t\t\t\t\tKotlin\t\t\t\t\t\t\t\t\t\t\t\t\t<span class=\"c_cnt\">(1)</span>\n </a>\n </li>\n <li class=\"\">\n <a class=\"link_item\" href=\"/category/Javascript\">\n \t\t\t\t\t\tJavascript\t\t\t\t\t\t\t\t\t\t\t\t\t<span class=\"c_cnt\">(43)</span>\n </a>\n <ul class=\"sub_category_list\">\n <li class=\"\">\n <a class=\"link_sub_item\" href=\"/category/Javascript/Javascript%28ES6%29\">\n \t\t\t\t\t\t\t\t\tJavascript(ES6)\n \t\t\t\t\t\t\t\t\t\t\t\t\t\t\t\t\t\t\t<span class=\"c_cnt\">(16)</span>\n </a>\n </li>\n <li class=\"\">\n <a class=\"link_sub_item\" href=\"/category/Javascript/%ED%95%A8%EC%88%98%ED%98%95%20%ED%94%84%EB%A1%9C%EA%B7%B8%EB%9E%98%EB%B0%8D\">\n \t\t\t\t\t\t\t\t\t함수형 프로그래밍\n \t\t\t\t\t\t\t\t\t\t\t\t\t\t\t\t\t\t\t<span class=\"c_cnt\">(6)</span>\n </a>\n </li>\n <li class=\"\">\n <a class=\"link_sub_item\" href=\"/category/Javascript/Node.js\">\n \t\t\t\t\t\t\t\t\tNode.js\n \t\t\t\t\t\t\t\t\t\t\t\t\t\t\t\t\t\t\t<span class=\"c_cnt\">(15)</span>\n </a>\n </li>\n <li class=\"\">\n <a class=\"link_sub_item\" href=\"/category/Javascript/Vue\">\n \t\t\t\t\t\t\t\t\tVue\n \t\t\t\t\t\t\t\t\t\t\t\t\t\t\t\t\t\t\t<span class=\"c_cnt\">(1)</span>\n </a>\n </li>\n <li class=\"\">\n <a class=\"link_sub_item\" href=\"/category/Javascript/React\">\n \t\t\t\t\t\t\t\t\tReact\n \t\t\t\t\t\t\t\t\t\t\t\t\t\t\t\t\t\t\t<span class=\"c_cnt\">(5)</span>\n </a>\n </li>\n </ul>\n </li>\n <li class=\"\">\n <a class=\"link_item\" href=\"/category/DB\">\n \t\t\t\t\t\tDB\t\t\t\t\t\t\t\t\t\t\t\t\t<span class=\"c_cnt\">(24)</span>\n </a>\n <ul class=\"sub_category_list\">\n <li class=\"\">\n <a class=\"link_sub_item\" href=\"/category/DB/SQLD\">\n \t\t\t\t\t\t\t\t\tSQLD\n \t\t\t\t\t\t\t\t\t\t\t\t\t\t\t\t\t\t\t<span class=\"c_cnt\">(18)</span>\n </a>\n </li>\n <li class=\"\">\n <a class=\"link_sub_item\" href=\"/category/DB/SQLP\">\n \t\t\t\t\t\t\t\t\tSQLP\n \t\t\t\t\t\t\t\t\t\t\t\t\t\t\t\t\t\t\t<span class=\"c_cnt\">(3)</span>\n </a>\n </li>\n <li class=\"\">\n <a class=\"link_sub_item\" href=\"/category/DB/DB%20%ED%8A%9C%EB%8B%9D\">\n \t\t\t\t\t\t\t\t\tDB 튜닝\n \t\t\t\t\t\t\t\t\t\t\t\t\t\t\t\t\t\t\t<span class=\"c_cnt\">(2)</span>\n </a>\n </li>\n <li class=\"\">\n <a class=\"link_sub_item\" href=\"/category/DB/DB%20%ED%85%8C%EC%9D%B4%EB%B8%94%20%EC%84%A4%EA%B3%84\">\n \t\t\t\t\t\t\t\t\tDB 테이블 설계\n \t\t\t\t\t\t\t\t\t\t\t\t\t\t\t\t\t\t\t<span class=\"c_cnt\">(1)</span>\n </a>\n </li>\n </ul>\n </li>\n <li class=\"\">\n <a class=\"link_item\" href=\"/category/C%23\">\n \t\t\t\t\t\tC#\t\t\t\t\t\t\t\t\t\t\t\t\t<span class=\"c_cnt\">(9)</span>\n </a>\n </li>\n <li class=\"\">\n <a class=\"link_item\" href=\"/category/%EC%8B%A0%EC%9E%85%20%EA%B0%9C%EB%B0%9C%EC%9E%90%20%EB%A9%B4%EC%A0%91%20%EA%B8%B0%EC%B4%88\">\n \t\t\t\t\t\t신입 개발자 면접 기초\t\t\t\t\t\t\t\t\t\t\t\t\t<span class=\"c_cnt\">(26)</span>\n </a>\n </li>\n <li class=\"\">\n <a class=\"link_item\" href=\"/category/%EA%B8%B0%ED%83%80%20%EA%B0%9C%EB%B0%9C%20%EC%8A%A4%ED%82%AC\">\n \t\t\t\t\t\t기타 개발 스킬\t\t\t\t\t\t\t\t\t\t\t\t\t<span class=\"c_cnt\">(7)</span>\n </a>\n </li>\n <li class=\"\">\n <a class=\"link_item\" href=\"/category/Git%2BGithub\">\n \t\t\t\t\t\tGit+Github\t\t\t\t\t\t\t\t\t\t\t\t\t<span class=\"c_cnt\">(7)</span>\n </a>\n </li>\n <li class=\"\">\n <a class=\"link_item\" href=\"/category/%ED%8B%B0%EC%8A%A4%ED%86%A0%EB%A6%AC%20%EC%B4%88%EB%8C%80%EC%9E%A5\">\n \t\t\t\t\t\t티스토리 초대장\t\t\t\t\t\t\t\t\t\t\t\t\t<span class=\"c_cnt\">(4)</span>\n </a>\n </li>\n </ul>\n </li>\n </ul>, <ul class=\"category_list\">\n <li class=\"\">\n <a class=\"link_item\" href=\"/category/Java\">\n \t\t\t\t\t\tJava\t\t\t\t\t\t\t\t\t\t\t\t\t<span class=\"c_cnt\">(75)</span>\n </a>\n <ul class=\"sub_category_list\">\n <li class=\"\">\n <a class=\"link_sub_item\" href=\"/category/Java/JAVA\">\n \t\t\t\t\t\t\t\t\tJAVA\n \t\t\t\t\t\t\t\t\t\t\t\t\t\t\t\t\t\t\t<span class=\"c_cnt\">(41)</span>\n </a>\n </li>\n <li class=\"\">\n <a class=\"link_sub_item\" href=\"/category/Java/Spring\">\n \t\t\t\t\t\t\t\t\tSpring\n \t\t\t\t\t\t\t\t\t\t\t\t\t\t\t\t\t\t\t<span class=\"c_cnt\">(26)</span>\n </a>\n </li>\n <li class=\"\">\n <a class=\"link_sub_item\" href=\"/category/Java/Java%20IO%2BNIO\">\n \t\t\t\t\t\t\t\t\tJava IO+NIO\n \t\t\t\t\t\t\t\t\t\t\t\t\t\t\t\t\t\t\t<span class=\"c_cnt\">(6)</span>\n </a>\n </li>\n <li class=\"\">\n <a class=\"link_sub_item\" href=\"/category/Java/JPA\">\n \t\t\t\t\t\t\t\t\tJPA\n \t\t\t\t\t\t\t\t\t\t\t\t\t\t\t\t\t\t\t<span class=\"c_cnt\">(2)</span>\n </a>\n </li>\n </ul>\n </li>\n <li class=\"\">\n <a class=\"link_item\" href=\"/category/Kotlin\">\n \t\t\t\t\t\tKotlin\t\t\t\t\t\t\t\t\t\t\t\t\t<span class=\"c_cnt\">(1)</span>\n </a>\n </li>\n <li class=\"\">\n <a class=\"link_item\" href=\"/category/Javascript\">\n \t\t\t\t\t\tJavascript\t\t\t\t\t\t\t\t\t\t\t\t\t<span class=\"c_cnt\">(43)</span>\n </a>\n <ul class=\"sub_category_list\">\n <li class=\"\">\n <a class=\"link_sub_item\" href=\"/category/Javascript/Javascript%28ES6%29\">\n \t\t\t\t\t\t\t\t\tJavascript(ES6)\n \t\t\t\t\t\t\t\t\t\t\t\t\t\t\t\t\t\t\t<span class=\"c_cnt\">(16)</span>\n </a>\n </li>\n <li class=\"\">\n <a class=\"link_sub_item\" href=\"/category/Javascript/%ED%95%A8%EC%88%98%ED%98%95%20%ED%94%84%EB%A1%9C%EA%B7%B8%EB%9E%98%EB%B0%8D\">\n \t\t\t\t\t\t\t\t\t함수형 프로그래밍\n \t\t\t\t\t\t\t\t\t\t\t\t\t\t\t\t\t\t\t<span class=\"c_cnt\">(6)</span>\n </a>\n </li>\n <li class=\"\">\n <a class=\"link_sub_item\" href=\"/category/Javascript/Node.js\">\n \t\t\t\t\t\t\t\t\tNode.js\n \t\t\t\t\t\t\t\t\t\t\t\t\t\t\t\t\t\t\t<span class=\"c_cnt\">(15)</span>\n </a>\n </li>\n <li class=\"\">\n <a class=\"link_sub_item\" href=\"/category/Javascript/Vue\">\n \t\t\t\t\t\t\t\t\tVue\n \t\t\t\t\t\t\t\t\t\t\t\t\t\t\t\t\t\t\t<span class=\"c_cnt\">(1)</span>\n </a>\n </li>\n <li class=\"\">\n <a class=\"link_sub_item\" href=\"/category/Javascript/React\">\n \t\t\t\t\t\t\t\t\tReact\n \t\t\t\t\t\t\t\t\t\t\t\t\t\t\t\t\t\t\t<span class=\"c_cnt\">(5)</span>\n </a>\n </li>\n </ul>\n </li>\n <li class=\"\">\n <a class=\"link_item\" href=\"/category/DB\">\n \t\t\t\t\t\tDB\t\t\t\t\t\t\t\t\t\t\t\t\t<span class=\"c_cnt\">(24)</span>\n </a>\n <ul class=\"sub_category_list\">\n <li class=\"\">\n <a class=\"link_sub_item\" href=\"/category/DB/SQLD\">\n \t\t\t\t\t\t\t\t\tSQLD\n \t\t\t\t\t\t\t\t\t\t\t\t\t\t\t\t\t\t\t<span class=\"c_cnt\">(18)</span>\n </a>\n </li>\n <li class=\"\">\n <a class=\"link_sub_item\" href=\"/category/DB/SQLP\">\n \t\t\t\t\t\t\t\t\tSQLP\n \t\t\t\t\t\t\t\t\t\t\t\t\t\t\t\t\t\t\t<span class=\"c_cnt\">(3)</span>\n </a>\n </li>\n <li class=\"\">\n <a class=\"link_sub_item\" href=\"/category/DB/DB%20%ED%8A%9C%EB%8B%9D\">\n \t\t\t\t\t\t\t\t\tDB 튜닝\n \t\t\t\t\t\t\t\t\t\t\t\t\t\t\t\t\t\t\t<span class=\"c_cnt\">(2)</span>\n </a>\n </li>\n <li class=\"\">\n <a class=\"link_sub_item\" href=\"/category/DB/DB%20%ED%85%8C%EC%9D%B4%EB%B8%94%20%EC%84%A4%EA%B3%84\">\n \t\t\t\t\t\t\t\t\tDB 테이블 설계\n \t\t\t\t\t\t\t\t\t\t\t\t\t\t\t\t\t\t\t<span class=\"c_cnt\">(1)</span>\n </a>\n </li>\n </ul>\n </li>\n <li class=\"\">\n <a class=\"link_item\" href=\"/category/C%23\">\n \t\t\t\t\t\tC#\t\t\t\t\t\t\t\t\t\t\t\t\t<span class=\"c_cnt\">(9)</span>\n </a>\n </li>\n <li class=\"\">\n <a class=\"link_item\" href=\"/category/%EC%8B%A0%EC%9E%85%20%EA%B0%9C%EB%B0%9C%EC%9E%90%20%EB%A9%B4%EC%A0%91%20%EA%B8%B0%EC%B4%88\">\n \t\t\t\t\t\t신입 개발자 면접 기초\t\t\t\t\t\t\t\t\t\t\t\t\t<span class=\"c_cnt\">(26)</span>\n </a>\n </li>\n <li class=\"\">\n <a class=\"link_item\" href=\"/category/%EA%B8%B0%ED%83%80%20%EA%B0%9C%EB%B0%9C%20%EC%8A%A4%ED%82%AC\">\n \t\t\t\t\t\t기타 개발 스킬\t\t\t\t\t\t\t\t\t\t\t\t\t<span class=\"c_cnt\">(7)</span>\n </a>\n </li>\n <li class=\"\">\n <a class=\"link_item\" href=\"/category/Git%2BGithub\">\n \t\t\t\t\t\tGit+Github\t\t\t\t\t\t\t\t\t\t\t\t\t<span class=\"c_cnt\">(7)</span>\n </a>\n </li>\n <li class=\"\">\n <a class=\"link_item\" href=\"/category/%ED%8B%B0%EC%8A%A4%ED%86%A0%EB%A6%AC%20%EC%B4%88%EB%8C%80%EC%9E%A5\">\n \t\t\t\t\t\t티스토리 초대장\t\t\t\t\t\t\t\t\t\t\t\t\t<span class=\"c_cnt\">(4)</span>\n </a>\n </li>\n </ul>, <ul class=\"sub_category_list\">\n <li class=\"\">\n <a class=\"link_sub_item\" href=\"/category/Java/JAVA\">\n \t\t\t\t\t\t\t\t\tJAVA\n \t\t\t\t\t\t\t\t\t\t\t\t\t\t\t\t\t\t\t<span class=\"c_cnt\">(41)</span>\n </a>\n </li>\n <li class=\"\">\n <a class=\"link_sub_item\" href=\"/category/Java/Spring\">\n \t\t\t\t\t\t\t\t\tSpring\n \t\t\t\t\t\t\t\t\t\t\t\t\t\t\t\t\t\t\t<span class=\"c_cnt\">(26)</span>\n </a>\n </li>\n <li class=\"\">\n <a class=\"link_sub_item\" href=\"/category/Java/Java%20IO%2BNIO\">\n \t\t\t\t\t\t\t\t\tJava IO+NIO\n \t\t\t\t\t\t\t\t\t\t\t\t\t\t\t\t\t\t\t<span class=\"c_cnt\">(6)</span>\n </a>\n </li>\n <li class=\"\">\n <a class=\"link_sub_item\" href=\"/category/Java/JPA\">\n \t\t\t\t\t\t\t\t\tJPA\n \t\t\t\t\t\t\t\t\t\t\t\t\t\t\t\t\t\t\t<span class=\"c_cnt\">(2)</span>\n </a>\n </li>\n </ul>, <ul class=\"sub_category_list\">\n <li class=\"\">\n <a class=\"link_sub_item\" href=\"/category/Javascript/Javascript%28ES6%29\">\n \t\t\t\t\t\t\t\t\tJavascript(ES6)\n \t\t\t\t\t\t\t\t\t\t\t\t\t\t\t\t\t\t\t<span class=\"c_cnt\">(16)</span>\n </a>\n </li>\n <li class=\"\">\n <a class=\"link_sub_item\" href=\"/category/Javascript/%ED%95%A8%EC%88%98%ED%98%95%20%ED%94%84%EB%A1%9C%EA%B7%B8%EB%9E%98%EB%B0%8D\">\n \t\t\t\t\t\t\t\t\t함수형 프로그래밍\n \t\t\t\t\t\t\t\t\t\t\t\t\t\t\t\t\t\t\t<span class=\"c_cnt\">(6)</span>\n </a>\n </li>\n <li class=\"\">\n <a class=\"link_sub_item\" href=\"/category/Javascript/Node.js\">\n \t\t\t\t\t\t\t\t\tNode.js\n \t\t\t\t\t\t\t\t\t\t\t\t\t\t\t\t\t\t\t<span class=\"c_cnt\">(15)</span>\n </a>\n </li>\n <li class=\"\">\n <a class=\"link_sub_item\" href=\"/category/Javascript/Vue\">\n \t\t\t\t\t\t\t\t\tVue\n \t\t\t\t\t\t\t\t\t\t\t\t\t\t\t\t\t\t\t<span class=\"c_cnt\">(1)</span>\n </a>\n </li>\n <li class=\"\">\n <a class=\"link_sub_item\" href=\"/category/Javascript/React\">\n \t\t\t\t\t\t\t\t\tReact\n \t\t\t\t\t\t\t\t\t\t\t\t\t\t\t\t\t\t\t<span class=\"c_cnt\">(5)</span>\n </a>\n </li>\n </ul>, <ul class=\"sub_category_list\">\n <li class=\"\">\n <a class=\"link_sub_item\" href=\"/category/DB/SQLD\">\n \t\t\t\t\t\t\t\t\tSQLD\n \t\t\t\t\t\t\t\t\t\t\t\t\t\t\t\t\t\t\t<span class=\"c_cnt\">(18)</span>\n </a>\n </li>\n <li class=\"\">\n <a class=\"link_sub_item\" href=\"/category/DB/SQLP\">\n \t\t\t\t\t\t\t\t\tSQLP\n \t\t\t\t\t\t\t\t\t\t\t\t\t\t\t\t\t\t\t<span class=\"c_cnt\">(3)</span>\n </a>\n </li>\n <li class=\"\">\n <a class=\"link_sub_item\" href=\"/category/DB/DB%20%ED%8A%9C%EB%8B%9D\">\n \t\t\t\t\t\t\t\t\tDB 튜닝\n \t\t\t\t\t\t\t\t\t\t\t\t\t\t\t\t\t\t\t<span class=\"c_cnt\">(2)</span>\n </a>\n </li>\n <li class=\"\">\n <a class=\"link_sub_item\" href=\"/category/DB/DB%20%ED%85%8C%EC%9D%B4%EB%B8%94%20%EC%84%A4%EA%B3%84\">\n \t\t\t\t\t\t\t\t\tDB 테이블 설계\n \t\t\t\t\t\t\t\t\t\t\t\t\t\t\t\t\t\t\t<span class=\"c_cnt\">(1)</span>\n </a>\n </li>\n </ul>, <ul class=\"tt-sns-service-default\">\n <li class=\"tt-sns-service-kakaostory\"><a href=\"javascript:;\" onclick=\"ShareEntryWithSNS.share('kakaostory', '80', 'Web%20-%20%EC%BF%A0%ED%82%A4%EC%99%80%20%EC%84%B8%EC%85%98%EC%9D%98%20%EC%B0%A8%EC%9D%B4%2C%20%EC%9A%A9%EB%8F%84%2C%20%EC%82%AC%EC%9A%A9%EB%B2%95%28cookie%2Csession%29');\">카카오스토리</a></li>\n <li class=\"tt-sns-service-twitter\"><a href=\"javascript:;\" onclick=\"ShareEntryWithSNS.share('twitter', '80', 'Web%20-%20%EC%BF%A0%ED%82%A4%EC%99%80%20%EC%84%B8%EC%85%98%EC%9D%98%20%EC%B0%A8%EC%9D%B4%2C%20%EC%9A%A9%EB%8F%84%2C%20%EC%82%AC%EC%9A%A9%EB%B2%95%28cookie%2Csession%29');\">트위터</a></li>\n <li class=\"tt-sns-service-facebook\"><a href=\"javascript:;\" onclick=\"ShareEntryWithSNS.share('facebook', '80', 'Web%20-%20%EC%BF%A0%ED%82%A4%EC%99%80%20%EC%84%B8%EC%85%98%EC%9D%98%20%EC%B0%A8%EC%9D%B4%2C%20%EC%9A%A9%EB%8F%84%2C%20%EC%82%AC%EC%9A%A9%EB%B2%95%28cookie%2Csession%29');\">페이스북</a></li>\n </ul>, <ul>\n <li id=\"comment13577199\">\n <div class=\"author-meta\">\n <img alt=\"\" class=\"avatar\" src=\"https://tistory1.daumcdn.net/tistory/user/3702177/profile/profileImg?v=1504726983949\"/>\n <span class=\"nickname\"><img alt=\"Favicon of https://defacto-standard.tistory.com\" height=\"16\" onerror=\"this.onerror=null;this.parentNode.removeChild(this)\" src=\"https://defacto-standard.tistory.com/favicon.ico\" width=\"16\"> <img alt=\"BlogIcon\" height=\"16\" onerror=\"this.parentNode.removeChild(this)\" src=\"https://defacto-standard.tistory.com/index.gif\" width=\"16\"/> <a href=\"https://defacto-standard.tistory.com\" onclick=\"return openLinkInNewWindow(this)\">defacto standard</a><span class=\"tistoryProfileLayerTrigger\" onclick='TistoryProfile.show(event, this, {\"title\":\"DeFacto-Standard IT\",\"url\":\"https:\\/\\/defacto-standard.tistory.com\",\"nickname\":\"defacto standard\",\"items\":[]}); return false;'></span></img></span>\n <span class=\"date\">2018.03.29 21:49 <a href=\"/toolbar/popup/abuseReport/?entryId=80&amp;commentId=13577199\" onclick=\"window.open(this.href, 'tistoryThisBlogPopup', 'width=550, height=510, toolbar=no, menubar=no, status=no, scrollbars=no'); return false;\">신고</a></span>\n </div>\n <p>명확하네요  라이프 사이클이 중요한지는 몰랐습니다</p>\n <div class=\"control\">\n <a href=\"/80#comment13577199\">댓글주소</a>\n <a href=\"#\" onclick=\"deleteComment(13577199);return false\">수정/삭제</a>\n <a href=\"#\" onclick=\"commentComment(13577199); return false\">댓글쓰기</a>\n </div>\n <ul>\n <li id=\"comment13577390\">\n <div class=\"author-meta\">\n <img alt=\"\" class=\"avatar\" src=\"https://tistory1.daumcdn.net/tistory/user/3685576/profile/profileImg?v=1504354488608\"/>\n <span class=\"nickname\"><img alt=\"Favicon of https://jeong-pro.tistory.com\" height=\"16\" onerror=\"this.onerror=null;this.parentNode.removeChild(this)\" src=\"https://jeong-pro.tistory.com/favicon.ico\" width=\"16\"> <img alt=\"BlogIcon\" height=\"16\" onerror=\"this.parentNode.removeChild(this)\" src=\"https://jeong-pro.tistory.com/index.gif\" width=\"16\"/> <a href=\"https://jeong-pro.tistory.com\" onclick=\"return openLinkInNewWindow(this)\">정아마추어 JEONG_AMATEUR</a><span class=\"tistoryProfileLayerTrigger\" onclick='TistoryProfile.show(event, this, {\"title\":\"기본기를 쌓는 정아마추어 코딩블로그\",\"url\":\"https:\\/\\/jeong-pro.tistory.com\",\"nickname\":\"JEONG_AMATEUR\",\"items\":[]}); return false;'></span></img></span>\n <span class=\"date\">2018.03.30 11:50 <a href=\"/toolbar/popup/abuseReport/?entryId=80&amp;commentId=13577390\" onclick=\"window.open(this.href, 'tistoryThisBlogPopup', 'width=550, height=510, toolbar=no, menubar=no, status=no, scrollbars=no'); return false;\">신고</a></span>\n </div>\n <p>아는 지인이 다대다 면접볼 때 라이프사이클에 대해서 추가적으로 답변했다고 하더군요</p>\n <div class=\"control\">\n <a href=\"/80#comment13577390\">댓글주소</a>\n <a href=\"#\" onclick=\"deleteComment(13577390); return false;\">수정/삭제</a>\n </div>\n </li>\n </ul>\n </li>\n <li id=\"comment13608809\">\n <div class=\"author-meta\">\n <img alt=\"\" class=\"avatar\" src=\"https://t1.daumcdn.net/tistory_admin/blog/admin/profile_default_03.png\"/>\n <span class=\"nickname\">sam</span>\n <span class=\"date\">2018.05.31 15:25</span>\n </div>\n <p>감사합니다 :)</p>\n <div class=\"control\">\n <a href=\"/80#comment13608809\">댓글주소</a>\n <a href=\"#\" onclick=\"deleteComment(13608809);return false\">수정/삭제</a>\n <a href=\"#\" onclick=\"commentComment(13608809); return false\">댓글쓰기</a>\n </div>\n <ul>\n <li id=\"comment13610257\">\n <div class=\"author-meta\">\n <img alt=\"\" class=\"avatar\" src=\"https://tistory1.daumcdn.net/tistory/user/3685576/profile/profileImg?v=1504354488608\"/>\n <span class=\"nickname\"><img alt=\"Favicon of https://jeong-pro.tistory.com\" height=\"16\" onerror=\"this.onerror=null;this.parentNode.removeChild(this)\" src=\"https://jeong-pro.tistory.com/favicon.ico\" width=\"16\"> <img alt=\"BlogIcon\" height=\"16\" onerror=\"this.parentNode.removeChild(this)\" src=\"https://jeong-pro.tistory.com/index.gif\" width=\"16\"> <a href=\"https://jeong-pro.tistory.com\" onclick=\"return openLinkInNewWindow(this)\">정아마추어 JEONG_AMATEUR</a><span class=\"tistoryProfileLayerTrigger\" onclick='TistoryProfile.show(event, this, {\"title\":\"기본기를 쌓는 정아마추어 코딩블로그\",\"url\":\"https:\\/\\/jeong-pro.tistory.com\",\"nickname\":\"JEONG_AMATEUR\",\"items\":[]}); return false;'></span></img></img></span>\n <span class=\"date\">2018.06.02 13:28 <a href=\"/toolbar/popup/abuseReport/?entryId=80&amp;commentId=13610257\" onclick=\"window.open(this.href, 'tistoryThisBlogPopup', 'width=550, height=510, toolbar=no, menubar=no, status=no, scrollbars=no'); return false;\">신고</a></span>\n </div>\n <p>감사합니다ㅎ</p>\n <div class=\"control\">\n <a href=\"/80#comment13610257\">댓글주소</a>\n <a href=\"#\" onclick=\"deleteComment(13610257); return false;\">수정/삭제</a>\n </div>\n </li>\n </ul>\n </li>\n <li id=\"comment13638101\">\n <div class=\"author-meta\">\n <img alt=\"\" class=\"avatar\" src=\"https://t1.daumcdn.net/tistory_admin/blog/admin/profile_default_04.png\"/>\n <span class=\"nickname\">띵구</span>\n <span class=\"date\">2018.07.30 23:13</span>\n </div>\n <p>Node.js 서버구축부터 정말 잘 활용하고 있습니다. 가능하시다면 제가 정리하는 블로그에 세션 정의를 사용해도 될까요??</p>\n <div class=\"control\">\n <a href=\"/80#comment13638101\">댓글주소</a>\n <a href=\"#\" onclick=\"deleteComment(13638101);return false\">수정/삭제</a>\n <a href=\"#\" onclick=\"commentComment(13638101); return false\">댓글쓰기</a>\n </div>\n <ul>\n <li id=\"comment13639344\">\n <div class=\"author-meta\">\n <img alt=\"\" class=\"avatar\" src=\"https://tistory1.daumcdn.net/tistory/user/3685576/profile/profileImg?v=1504354488608\"/>\n <span class=\"nickname\"><img alt=\"Favicon of https://jeong-pro.tistory.com\" height=\"16\" onerror=\"this.onerror=null;this.parentNode.removeChild(this)\" src=\"https://jeong-pro.tistory.com/favicon.ico\" width=\"16\"> <img alt=\"BlogIcon\" height=\"16\" onerror=\"this.parentNode.removeChild(this)\" src=\"https://jeong-pro.tistory.com/index.gif\" width=\"16\"> <a href=\"https://jeong-pro.tistory.com\" onclick=\"return openLinkInNewWindow(this)\">정아마추어 JEONG_AMATEUR</a><span class=\"tistoryProfileLayerTrigger\" onclick='TistoryProfile.show(event, this, {\"title\":\"기본기를 쌓는 정아마추어 코딩블로그\",\"url\":\"https:\\/\\/jeong-pro.tistory.com\",\"nickname\":\"JEONG_AMATEUR\",\"items\":[]}); return false;'></span></img></img></span>\n <span class=\"date\">2018.08.01 09:32 <a href=\"/toolbar/popup/abuseReport/?entryId=80&amp;commentId=13639344\" onclick=\"window.open(this.href, 'tistoryThisBlogPopup', 'width=550, height=510, toolbar=no, menubar=no, status=no, scrollbars=no'); return false;\">신고</a></span>\n </div>\n <p>좋습니다.<br/>\n 블로그 구경가고 싶은데 링크좀 남겨주세요ㅎㅎ</p>\n <div class=\"control\">\n <a href=\"/80#comment13639344\">댓글주소</a>\n <a href=\"#\" onclick=\"deleteComment(13639344); return false;\">수정/삭제</a>\n </div>\n </li>\n </ul>\n </li>\n <li id=\"comment13655270\">\n <div class=\"author-meta\">\n <img alt=\"\" class=\"avatar\" src=\"https://t1.daumcdn.net/tistory_admin/blog/admin/profile_default_07.png\"/>\n <span class=\"nickname\"><img alt=\"Favicon of https://devhoma.tistory.com\" height=\"16\" onerror=\"this.onerror=null;this.parentNode.removeChild(this)\" src=\"https://devhoma.tistory.com/favicon.ico\" width=\"16\"> <img alt=\"BlogIcon\" height=\"16\" onerror=\"this.parentNode.removeChild(this)\" src=\"https://devhoma.tistory.com/index.gif\" width=\"16\"/> <a href=\"https://devhoma.tistory.com\" onclick=\"return openLinkInNewWindow(this)\">dolhim</a><span class=\"tistoryProfileLayerTrigger\" onclick='TistoryProfile.show(event, this, {\"title\":\"두번째 뇌\",\"url\":\"https:\\/\\/devhoma.tistory.com\",\"nickname\":\"호마\",\"items\":[]}); return false;'></span></img></span>\n <span class=\"date\">2018.08.30 13:59 <a href=\"/toolbar/popup/abuseReport/?entryId=80&amp;commentId=13655270\" onclick=\"window.open(this.href, 'tistoryThisBlogPopup', 'width=550, height=510, toolbar=no, menubar=no, status=no, scrollbars=no'); return false;\">신고</a></span>\n </div>\n <p>감사합니다 각 개념 이해하는데 도움이 되었어요!</p>\n <div class=\"control\">\n <a href=\"/80#comment13655270\">댓글주소</a>\n <a href=\"#\" onclick=\"deleteComment(13655270);return false\">수정/삭제</a>\n <a href=\"#\" onclick=\"commentComment(13655270); return false\">댓글쓰기</a>\n </div>\n <ul>\n <li id=\"comment13655885\">\n <div class=\"author-meta\">\n <img alt=\"\" class=\"avatar\" src=\"https://tistory1.daumcdn.net/tistory/user/3685576/profile/profileImg?v=1504354488608\"/>\n <span class=\"nickname\"><img alt=\"Favicon of https://jeong-pro.tistory.com\" height=\"16\" onerror=\"this.onerror=null;this.parentNode.removeChild(this)\" src=\"https://jeong-pro.tistory.com/favicon.ico\" width=\"16\"> <img alt=\"BlogIcon\" height=\"16\" onerror=\"this.parentNode.removeChild(this)\" src=\"https://jeong-pro.tistory.com/index.gif\" width=\"16\"/> <a href=\"https://jeong-pro.tistory.com\" onclick=\"return openLinkInNewWindow(this)\">정아마추어 JEONG_AMATEUR</a><span class=\"tistoryProfileLayerTrigger\" onclick='TistoryProfile.show(event, this, {\"title\":\"기본기를 쌓는 정아마추어 코딩블로그\",\"url\":\"https:\\/\\/jeong-pro.tistory.com\",\"nickname\":\"JEONG_AMATEUR\",\"items\":[]}); return false;'></span></img></span>\n <span class=\"date\">2018.08.31 13:29 <a href=\"/toolbar/popup/abuseReport/?entryId=80&amp;commentId=13655885\" onclick=\"window.open(this.href, 'tistoryThisBlogPopup', 'width=550, height=510, toolbar=no, menubar=no, status=no, scrollbars=no'); return false;\">신고</a></span>\n </div>\n <p>댓글 감사합니다^^</p>\n <div class=\"control\">\n <a href=\"/80#comment13655885\">댓글주소</a>\n <a href=\"#\" onclick=\"deleteComment(13655885); return false;\">수정/삭제</a>\n </div>\n </li>\n </ul>\n </li>\n <li id=\"comment13721032\">\n <div class=\"author-meta\">\n <img alt=\"\" class=\"avatar\" src=\"https://t1.daumcdn.net/tistory_admin/blog/admin/profile_default_02.png\"/>\n <span class=\"nickname\">Jaehee</span>\n <span class=\"date\">2019.01.08 20:07</span>\n </div>\n <p>감사합니다! 잘 정리해주셔서 이해하기 좋았습니다 :-) </p>\n <div class=\"control\">\n <a href=\"/80#comment13721032\">댓글주소</a>\n <a href=\"#\" onclick=\"deleteComment(13721032);return false\">수정/삭제</a>\n <a href=\"#\" onclick=\"commentComment(13721032); return false\">댓글쓰기</a>\n </div>\n <ul>\n <li id=\"comment13721053\">\n <div class=\"author-meta\">\n <img alt=\"\" class=\"avatar\" src=\"https://tistory1.daumcdn.net/tistory/user/3685576/profile/profileImg?v=1504354488608\"/>\n <span class=\"nickname\"><img alt=\"Favicon of https://jeong-pro.tistory.com\" height=\"16\" onerror=\"this.onerror=null;this.parentNode.removeChild(this)\" src=\"https://jeong-pro.tistory.com/favicon.ico\" width=\"16\"> <img alt=\"BlogIcon\" height=\"16\" onerror=\"this.parentNode.removeChild(this)\" src=\"https://jeong-pro.tistory.com/index.gif\" width=\"16\"> <a href=\"https://jeong-pro.tistory.com\" onclick=\"return openLinkInNewWindow(this)\">정아마추어 JEONG_AMATEUR</a><span class=\"tistoryProfileLayerTrigger\" onclick='TistoryProfile.show(event, this, {\"title\":\"기본기를 쌓는 정아마추어 코딩블로그\",\"url\":\"https:\\/\\/jeong-pro.tistory.com\",\"nickname\":\"JEONG_AMATEUR\",\"items\":[]}); return false;'></span></img></img></span>\n <span class=\"date\">2019.01.08 21:47 <a href=\"/toolbar/popup/abuseReport/?entryId=80&amp;commentId=13721053\" onclick=\"window.open(this.href, 'tistoryThisBlogPopup', 'width=550, height=510, toolbar=no, menubar=no, status=no, scrollbars=no'); return false;\">신고</a></span>\n </div>\n <p>많은 분들에게 도움이 되고 있는 것같아 기분이 좋습니다^^</p>\n <div class=\"control\">\n <a href=\"/80#comment13721053\">댓글주소</a>\n <a href=\"#\" onclick=\"deleteComment(13721053); return false;\">수정/삭제</a>\n </div>\n </li>\n </ul>\n </li>\n <li id=\"comment13751125\">\n <div class=\"author-meta\">\n <img alt=\"\" class=\"avatar\" src=\"https://t1.daumcdn.net/tistory_admin/blog/admin/profile_default_00.png\"/>\n <span class=\"nickname\">orionjeong</span>\n <span class=\"date\">2019.03.12 15:32</span>\n </div>\n <p>항상 내용 잘보고 있습니다. 감사합니다 ㅎㅎ 질문이 있는데요, 세션이 브라우저 종료시 삭제된다고 햇는데 서버에서 브라우저의 종료를 알아차리고 삭제한다는 얘기인가요? 아니면 쿠키(sessionid)가 삭제된다는 것인가요? 쿠키가 삭제된다는 말이면 위에서 쿠키에 대한 설명으로 브라우저가 종료되어도 정보가 남아있을 수 있다고 하셨는데, 그럼 이것도 세션Id처럼 삭제시킬 수 있는건 아닌가요?? 좋은 내용을 읽다 갑자기 궁금증이 생겨 질문드립니다.</p>\n <div class=\"control\">\n <a href=\"/80#comment13751125\">댓글주소</a>\n <a href=\"#\" onclick=\"deleteComment(13751125);return false\">수정/삭제</a>\n <a href=\"#\" onclick=\"commentComment(13751125); return false\">댓글쓰기</a>\n </div>\n <ul>\n <li id=\"comment13751263\">\n <div class=\"author-meta\">\n <img alt=\"\" class=\"avatar\" src=\"https://tistory1.daumcdn.net/tistory/user/3685576/profile/profileImg?v=1504354488608\"/>\n <span class=\"nickname\"><img alt=\"Favicon of https://jeong-pro.tistory.com\" height=\"16\" onerror=\"this.onerror=null;this.parentNode.removeChild(this)\" src=\"https://jeong-pro.tistory.com/favicon.ico\" width=\"16\"> <img alt=\"BlogIcon\" height=\"16\" onerror=\"this.parentNode.removeChild(this)\" src=\"https://jeong-pro.tistory.com/index.gif\" width=\"16\"> <a href=\"https://jeong-pro.tistory.com\" onclick=\"return openLinkInNewWindow(this)\">정아마추어 JEONG_AMATEUR</a><span class=\"tistoryProfileLayerTrigger\" onclick='TistoryProfile.show(event, this, {\"title\":\"기본기를 쌓는 정아마추어 코딩블로그\",\"url\":\"https:\\/\\/jeong-pro.tistory.com\",\"nickname\":\"JEONG_AMATEUR\",\"items\":[]}); return false;'></span></img></img></span>\n <span class=\"date\">2019.03.12 22:18 <a href=\"/toolbar/popup/abuseReport/?entryId=80&amp;commentId=13751263\" onclick=\"window.open(this.href, 'tistoryThisBlogPopup', 'width=550, height=510, toolbar=no, menubar=no, status=no, scrollbars=no'); return false;\">신고</a></span>\n </div>\n <p>위에 본문에서 설명드리지 않았습니다만 쿠키에도 종류가 있습니다.<br/>\n Session Cookie, persistent Cookie, Secure Cookie, Third-Party Cookie 이렇게 있습니다.<br/>\n <br/>\n Session 쿠키 -&gt; 브라우저 애플리케이션의 메모리에 저장됩니다. 메모리에 저장되기 때문에 브라우저 애플리케이션이 종료되면 사라지는 특성이 있습니다.<br/>\n Persistent 쿠키 -&gt; 오랜시간동안 유지되는 쿠키. 쿠키정보를 파일에 저장하기 때문에 브라우저가 종료되더라도 사용가능한 특성이 있습니다. (ex. 일주일동안 보지 않기, Max-Age 1주)<br/>\n <br/>\n 1. 세션이 브라우저 종료시 삭제된다고 한 것은 클라이언트 측면에서 브라우저에 있는 세션 정보(Session Cookie)가 종료때 사라지는 것으로 이해하신게 맞습니다.<br/>\n 서버입장에서는 브라우저가 닫혔는지 모릅니다.<br/>\n 서버는 발급한 세션아이디가 사용되지 않는지 확인하고 삭제해야하는 로직이 필요한 것이죠.<br/>\n <br/>\n 2. 브라우저가 종료되어도 사라지지 않는 쿠키는 persistent cookie로 등록된 것입니다.<br/>\n 네이버나 구글에 로그인하기 전과 하신 후에 쿠키를 확인하시고 직접 세션정보가 담긴 쿠키를 삭제해보시면 더 이해가 잘될 것입니다. 구글은 SID, SSID등을 지워보시면되고 네이버는 NID를 지워보세요. 브라우저도 종료해보셨다가 다시 쿠키도 확인해보시면 좋을 것 같습니다.<br/>\n * 참고로 Session Cookie인지 Persistent Cookie인지는 Expires를 명시하거나 Max-Age를 명시한 경우 Persistent Cookie로 보고, 명시하지 않은 경우 Session Cookie로 봅니다.<br/>\n * 정확한 정보가 아닐 수 있습니다.</p>\n <div class=\"control\">\n <a href=\"/80#comment13751263\">댓글주소</a>\n <a href=\"#\" onclick=\"deleteComment(13751263); return false;\">수정/삭제</a>\n </div>\n </li>\n </ul>\n </li>\n <li id=\"comment13751287\">\n <div class=\"author-meta\">\n <img alt=\"\" class=\"avatar\" src=\"https://t1.daumcdn.net/tistory_admin/blog/admin/profile_default_00.png\"/>\n <span class=\"nickname\">orionjeong</span>\n <span class=\"date\">2019.03.12 23:23</span>\n </div>\n <p>오 좋은 정보 감사합니다. ㅎㅎ 한 번에 의문이 해소되었습니다. 더 자세히 찾아보고 정리해보도록 하겠습니다. 제가 정씨라 호기심에 들어온 이 블로그에서 많은 지식들을 얻어갑니다. 포스트들을 한 번씩은 다 본거 같네요 ㅎㅎ 더 자주 들리겠습니다! </p>\n <div class=\"control\">\n <a href=\"/80#comment13751287\">댓글주소</a>\n <a href=\"#\" onclick=\"deleteComment(13751287);return false\">수정/삭제</a>\n <a href=\"#\" onclick=\"commentComment(13751287); return false\">댓글쓰기</a>\n </div>\n <ul>\n <li id=\"comment13751519\">\n <div class=\"author-meta\">\n <img alt=\"\" class=\"avatar\" src=\"https://tistory1.daumcdn.net/tistory/user/3685576/profile/profileImg?v=1504354488608\"/>\n <span class=\"nickname\"><img alt=\"Favicon of https://jeong-pro.tistory.com\" height=\"16\" onerror=\"this.onerror=null;this.parentNode.removeChild(this)\" src=\"https://jeong-pro.tistory.com/favicon.ico\" width=\"16\"> <img alt=\"BlogIcon\" height=\"16\" onerror=\"this.parentNode.removeChild(this)\" src=\"https://jeong-pro.tistory.com/index.gif\" width=\"16\"> <a href=\"https://jeong-pro.tistory.com\" onclick=\"return openLinkInNewWindow(this)\">정아마추어 JEONG_AMATEUR</a><span class=\"tistoryProfileLayerTrigger\" onclick='TistoryProfile.show(event, this, {\"title\":\"기본기를 쌓는 정아마추어 코딩블로그\",\"url\":\"https:\\/\\/jeong-pro.tistory.com\",\"nickname\":\"JEONG_AMATEUR\",\"items\":[]}); return false;'></span></img></img></span>\n <span class=\"date\">2019.03.13 13:39 <a href=\"/toolbar/popup/abuseReport/?entryId=80&amp;commentId=13751519\" onclick=\"window.open(this.href, 'tistoryThisBlogPopup', 'width=550, height=510, toolbar=no, menubar=no, status=no, scrollbars=no'); return false;\">신고</a></span>\n </div>\n <p>말씀만으로도 정말 정말 감사합니다:)<br/>\n 실례지만, 정리하시면서 여기에도 부족한 정보 흘려주실 수 있을까요?<br/>\n 저도 공부해서 추가할 수 있으면 좋을 것 같습니다!</p>\n <div class=\"control\">\n <a href=\"/80#comment13751519\">댓글주소</a>\n <a href=\"#\" onclick=\"deleteComment(13751519); return false;\">수정/삭제</a>\n </div>\n </li>\n <li id=\"comment13751579\">\n <div class=\"author-meta\">\n <img alt=\"\" class=\"avatar\" src=\"https://t1.daumcdn.net/tistory_admin/blog/admin/profile_default_00.png\"/>\n <span class=\"nickname\">orionjeong</span>\n <span class=\"date\">2019.03.13 17:47</span>\n </div>\n <p>네~ 정리해서 올리면 링크 적어두도록 할게요 ㅎㅎ</p>\n <div class=\"control\">\n <a href=\"/80#comment13751579\">댓글주소</a>\n <a href=\"#\" onclick=\"deleteComment(13751579); return false;\">수정/삭제</a>\n </div>\n </li>\n </ul>\n </li>\n <li id=\"comment13788723\">\n <div class=\"author-meta\">\n <img alt=\"\" class=\"avatar\" src=\"https://t1.daumcdn.net/tistory_admin/blog/admin/profile_default_01.png\"/>\n <span class=\"nickname\"><img alt=\"Favicon of https://studychfhd.tistory.com\" height=\"16\" onerror=\"this.onerror=null;this.parentNode.removeChild(this)\" src=\"https://studychfhd.tistory.com/favicon.ico\" width=\"16\"> <img alt=\"BlogIcon\" height=\"16\" onerror=\"this.parentNode.removeChild(this)\" src=\"https://studychfhd.tistory.com/index.gif\" width=\"16\"> <a href=\"https://studychfhd.tistory.com\" onclick=\"return openLinkInNewWindow(this)\">초롱스쿨</a></img></img></span>\n <span class=\"date\">2019.06.20 17:59 <a href=\"/toolbar/popup/abuseReport/?entryId=80&amp;commentId=13788723\" onclick=\"window.open(this.href, 'tistoryThisBlogPopup', 'width=550, height=510, toolbar=no, menubar=no, status=no, scrollbars=no'); return false;\">신고</a></span>\n </div>\n <p>웹 공부하면서 정의가 잘되어 있어서 제 블로그에  사용하고자 하는데 가능할까요?!</p>\n <div class=\"control\">\n <a href=\"/80#comment13788723\">댓글주소</a>\n <a href=\"#\" onclick=\"deleteComment(13788723);return false\">수정/삭제</a>\n <a href=\"#\" onclick=\"commentComment(13788723); return false\">댓글쓰기</a>\n </div>\n <ul>\n <li id=\"comment13789423\">\n <div class=\"author-meta\">\n <img alt=\"\" class=\"avatar\" src=\"https://tistory1.daumcdn.net/tistory/user/3685576/profile/profileImg?v=1504354488608\"/>\n <span class=\"nickname\"><img alt=\"Favicon of https://jeong-pro.tistory.com\" height=\"16\" onerror=\"this.onerror=null;this.parentNode.removeChild(this)\" src=\"https://jeong-pro.tistory.com/favicon.ico\" width=\"16\"> <img alt=\"BlogIcon\" height=\"16\" onerror=\"this.parentNode.removeChild(this)\" src=\"https://jeong-pro.tistory.com/index.gif\" width=\"16\"/> <a href=\"https://jeong-pro.tistory.com\" onclick=\"return openLinkInNewWindow(this)\">정아마추어 JEONG_AMATEUR</a><span class=\"tistoryProfileLayerTrigger\" onclick='TistoryProfile.show(event, this, {\"title\":\"기본기를 쌓는 정아마추어 코딩블로그\",\"url\":\"https:\\/\\/jeong-pro.tistory.com\",\"nickname\":\"JEONG_AMATEUR\",\"items\":[]}); return false;'></span></img></span>\n <span class=\"date\">2019.06.23 14:50 <a href=\"/toolbar/popup/abuseReport/?entryId=80&amp;commentId=13789423\" onclick=\"window.open(this.href, 'tistoryThisBlogPopup', 'width=550, height=510, toolbar=no, menubar=no, status=no, scrollbars=no'); return false;\">신고</a></span>\n </div>\n <p>출처 남겨주시면 가능합니다 :D</p>\n <div class=\"control\">\n <a href=\"/80#comment13789423\">댓글주소</a>\n <a href=\"#\" onclick=\"deleteComment(13789423); return false;\">수정/삭제</a>\n </div>\n </li>\n </ul>\n </li>\n </ul>, <ul>\n <li id=\"comment13577390\">\n <div class=\"author-meta\">\n <img alt=\"\" class=\"avatar\" src=\"https://tistory1.daumcdn.net/tistory/user/3685576/profile/profileImg?v=1504354488608\"/>\n <span class=\"nickname\"><img alt=\"Favicon of https://jeong-pro.tistory.com\" height=\"16\" onerror=\"this.onerror=null;this.parentNode.removeChild(this)\" src=\"https://jeong-pro.tistory.com/favicon.ico\" width=\"16\"> <img alt=\"BlogIcon\" height=\"16\" onerror=\"this.parentNode.removeChild(this)\" src=\"https://jeong-pro.tistory.com/index.gif\" width=\"16\"/> <a href=\"https://jeong-pro.tistory.com\" onclick=\"return openLinkInNewWindow(this)\">정아마추어 JEONG_AMATEUR</a><span class=\"tistoryProfileLayerTrigger\" onclick='TistoryProfile.show(event, this, {\"title\":\"기본기를 쌓는 정아마추어 코딩블로그\",\"url\":\"https:\\/\\/jeong-pro.tistory.com\",\"nickname\":\"JEONG_AMATEUR\",\"items\":[]}); return false;'></span></img></span>\n <span class=\"date\">2018.03.30 11:50 <a href=\"/toolbar/popup/abuseReport/?entryId=80&amp;commentId=13577390\" onclick=\"window.open(this.href, 'tistoryThisBlogPopup', 'width=550, height=510, toolbar=no, menubar=no, status=no, scrollbars=no'); return false;\">신고</a></span>\n </div>\n <p>아는 지인이 다대다 면접볼 때 라이프사이클에 대해서 추가적으로 답변했다고 하더군요</p>\n <div class=\"control\">\n <a href=\"/80#comment13577390\">댓글주소</a>\n <a href=\"#\" onclick=\"deleteComment(13577390); return false;\">수정/삭제</a>\n </div>\n </li>\n </ul>, <ul>\n <li id=\"comment13610257\">\n <div class=\"author-meta\">\n <img alt=\"\" class=\"avatar\" src=\"https://tistory1.daumcdn.net/tistory/user/3685576/profile/profileImg?v=1504354488608\"/>\n <span class=\"nickname\"><img alt=\"Favicon of https://jeong-pro.tistory.com\" height=\"16\" onerror=\"this.onerror=null;this.parentNode.removeChild(this)\" src=\"https://jeong-pro.tistory.com/favicon.ico\" width=\"16\"> <img alt=\"BlogIcon\" height=\"16\" onerror=\"this.parentNode.removeChild(this)\" src=\"https://jeong-pro.tistory.com/index.gif\" width=\"16\"> <a href=\"https://jeong-pro.tistory.com\" onclick=\"return openLinkInNewWindow(this)\">정아마추어 JEONG_AMATEUR</a><span class=\"tistoryProfileLayerTrigger\" onclick='TistoryProfile.show(event, this, {\"title\":\"기본기를 쌓는 정아마추어 코딩블로그\",\"url\":\"https:\\/\\/jeong-pro.tistory.com\",\"nickname\":\"JEONG_AMATEUR\",\"items\":[]}); return false;'></span></img></img></span>\n <span class=\"date\">2018.06.02 13:28 <a href=\"/toolbar/popup/abuseReport/?entryId=80&amp;commentId=13610257\" onclick=\"window.open(this.href, 'tistoryThisBlogPopup', 'width=550, height=510, toolbar=no, menubar=no, status=no, scrollbars=no'); return false;\">신고</a></span>\n </div>\n <p>감사합니다ㅎ</p>\n <div class=\"control\">\n <a href=\"/80#comment13610257\">댓글주소</a>\n <a href=\"#\" onclick=\"deleteComment(13610257); return false;\">수정/삭제</a>\n </div>\n </li>\n </ul>, <ul>\n <li id=\"comment13639344\">\n <div class=\"author-meta\">\n <img alt=\"\" class=\"avatar\" src=\"https://tistory1.daumcdn.net/tistory/user/3685576/profile/profileImg?v=1504354488608\"/>\n <span class=\"nickname\"><img alt=\"Favicon of https://jeong-pro.tistory.com\" height=\"16\" onerror=\"this.onerror=null;this.parentNode.removeChild(this)\" src=\"https://jeong-pro.tistory.com/favicon.ico\" width=\"16\"> <img alt=\"BlogIcon\" height=\"16\" onerror=\"this.parentNode.removeChild(this)\" src=\"https://jeong-pro.tistory.com/index.gif\" width=\"16\"> <a href=\"https://jeong-pro.tistory.com\" onclick=\"return openLinkInNewWindow(this)\">정아마추어 JEONG_AMATEUR</a><span class=\"tistoryProfileLayerTrigger\" onclick='TistoryProfile.show(event, this, {\"title\":\"기본기를 쌓는 정아마추어 코딩블로그\",\"url\":\"https:\\/\\/jeong-pro.tistory.com\",\"nickname\":\"JEONG_AMATEUR\",\"items\":[]}); return false;'></span></img></img></span>\n <span class=\"date\">2018.08.01 09:32 <a href=\"/toolbar/popup/abuseReport/?entryId=80&amp;commentId=13639344\" onclick=\"window.open(this.href, 'tistoryThisBlogPopup', 'width=550, height=510, toolbar=no, menubar=no, status=no, scrollbars=no'); return false;\">신고</a></span>\n </div>\n <p>좋습니다.<br/>\n 블로그 구경가고 싶은데 링크좀 남겨주세요ㅎㅎ</p>\n <div class=\"control\">\n <a href=\"/80#comment13639344\">댓글주소</a>\n <a href=\"#\" onclick=\"deleteComment(13639344); return false;\">수정/삭제</a>\n </div>\n </li>\n </ul>, <ul>\n <li id=\"comment13655885\">\n <div class=\"author-meta\">\n <img alt=\"\" class=\"avatar\" src=\"https://tistory1.daumcdn.net/tistory/user/3685576/profile/profileImg?v=1504354488608\"/>\n <span class=\"nickname\"><img alt=\"Favicon of https://jeong-pro.tistory.com\" height=\"16\" onerror=\"this.onerror=null;this.parentNode.removeChild(this)\" src=\"https://jeong-pro.tistory.com/favicon.ico\" width=\"16\"> <img alt=\"BlogIcon\" height=\"16\" onerror=\"this.parentNode.removeChild(this)\" src=\"https://jeong-pro.tistory.com/index.gif\" width=\"16\"/> <a href=\"https://jeong-pro.tistory.com\" onclick=\"return openLinkInNewWindow(this)\">정아마추어 JEONG_AMATEUR</a><span class=\"tistoryProfileLayerTrigger\" onclick='TistoryProfile.show(event, this, {\"title\":\"기본기를 쌓는 정아마추어 코딩블로그\",\"url\":\"https:\\/\\/jeong-pro.tistory.com\",\"nickname\":\"JEONG_AMATEUR\",\"items\":[]}); return false;'></span></img></span>\n <span class=\"date\">2018.08.31 13:29 <a href=\"/toolbar/popup/abuseReport/?entryId=80&amp;commentId=13655885\" onclick=\"window.open(this.href, 'tistoryThisBlogPopup', 'width=550, height=510, toolbar=no, menubar=no, status=no, scrollbars=no'); return false;\">신고</a></span>\n </div>\n <p>댓글 감사합니다^^</p>\n <div class=\"control\">\n <a href=\"/80#comment13655885\">댓글주소</a>\n <a href=\"#\" onclick=\"deleteComment(13655885); return false;\">수정/삭제</a>\n </div>\n </li>\n </ul>, <ul>\n <li id=\"comment13721053\">\n <div class=\"author-meta\">\n <img alt=\"\" class=\"avatar\" src=\"https://tistory1.daumcdn.net/tistory/user/3685576/profile/profileImg?v=1504354488608\"/>\n <span class=\"nickname\"><img alt=\"Favicon of https://jeong-pro.tistory.com\" height=\"16\" onerror=\"this.onerror=null;this.parentNode.removeChild(this)\" src=\"https://jeong-pro.tistory.com/favicon.ico\" width=\"16\"> <img alt=\"BlogIcon\" height=\"16\" onerror=\"this.parentNode.removeChild(this)\" src=\"https://jeong-pro.tistory.com/index.gif\" width=\"16\"> <a href=\"https://jeong-pro.tistory.com\" onclick=\"return openLinkInNewWindow(this)\">정아마추어 JEONG_AMATEUR</a><span class=\"tistoryProfileLayerTrigger\" onclick='TistoryProfile.show(event, this, {\"title\":\"기본기를 쌓는 정아마추어 코딩블로그\",\"url\":\"https:\\/\\/jeong-pro.tistory.com\",\"nickname\":\"JEONG_AMATEUR\",\"items\":[]}); return false;'></span></img></img></span>\n <span class=\"date\">2019.01.08 21:47 <a href=\"/toolbar/popup/abuseReport/?entryId=80&amp;commentId=13721053\" onclick=\"window.open(this.href, 'tistoryThisBlogPopup', 'width=550, height=510, toolbar=no, menubar=no, status=no, scrollbars=no'); return false;\">신고</a></span>\n </div>\n <p>많은 분들에게 도움이 되고 있는 것같아 기분이 좋습니다^^</p>\n <div class=\"control\">\n <a href=\"/80#comment13721053\">댓글주소</a>\n <a href=\"#\" onclick=\"deleteComment(13721053); return false;\">수정/삭제</a>\n </div>\n </li>\n </ul>, <ul>\n <li id=\"comment13751263\">\n <div class=\"author-meta\">\n <img alt=\"\" class=\"avatar\" src=\"https://tistory1.daumcdn.net/tistory/user/3685576/profile/profileImg?v=1504354488608\"/>\n <span class=\"nickname\"><img alt=\"Favicon of https://jeong-pro.tistory.com\" height=\"16\" onerror=\"this.onerror=null;this.parentNode.removeChild(this)\" src=\"https://jeong-pro.tistory.com/favicon.ico\" width=\"16\"> <img alt=\"BlogIcon\" height=\"16\" onerror=\"this.parentNode.removeChild(this)\" src=\"https://jeong-pro.tistory.com/index.gif\" width=\"16\"> <a href=\"https://jeong-pro.tistory.com\" onclick=\"return openLinkInNewWindow(this)\">정아마추어 JEONG_AMATEUR</a><span class=\"tistoryProfileLayerTrigger\" onclick='TistoryProfile.show(event, this, {\"title\":\"기본기를 쌓는 정아마추어 코딩블로그\",\"url\":\"https:\\/\\/jeong-pro.tistory.com\",\"nickname\":\"JEONG_AMATEUR\",\"items\":[]}); return false;'></span></img></img></span>\n <span class=\"date\">2019.03.12 22:18 <a href=\"/toolbar/popup/abuseReport/?entryId=80&amp;commentId=13751263\" onclick=\"window.open(this.href, 'tistoryThisBlogPopup', 'width=550, height=510, toolbar=no, menubar=no, status=no, scrollbars=no'); return false;\">신고</a></span>\n </div>\n <p>위에 본문에서 설명드리지 않았습니다만 쿠키에도 종류가 있습니다.<br/>\n Session Cookie, persistent Cookie, Secure Cookie, Third-Party Cookie 이렇게 있습니다.<br/>\n <br/>\n Session 쿠키 -&gt; 브라우저 애플리케이션의 메모리에 저장됩니다. 메모리에 저장되기 때문에 브라우저 애플리케이션이 종료되면 사라지는 특성이 있습니다.<br/>\n Persistent 쿠키 -&gt; 오랜시간동안 유지되는 쿠키. 쿠키정보를 파일에 저장하기 때문에 브라우저가 종료되더라도 사용가능한 특성이 있습니다. (ex. 일주일동안 보지 않기, Max-Age 1주)<br/>\n <br/>\n 1. 세션이 브라우저 종료시 삭제된다고 한 것은 클라이언트 측면에서 브라우저에 있는 세션 정보(Session Cookie)가 종료때 사라지는 것으로 이해하신게 맞습니다.<br/>\n 서버입장에서는 브라우저가 닫혔는지 모릅니다.<br/>\n 서버는 발급한 세션아이디가 사용되지 않는지 확인하고 삭제해야하는 로직이 필요한 것이죠.<br/>\n <br/>\n 2. 브라우저가 종료되어도 사라지지 않는 쿠키는 persistent cookie로 등록된 것입니다.<br/>\n 네이버나 구글에 로그인하기 전과 하신 후에 쿠키를 확인하시고 직접 세션정보가 담긴 쿠키를 삭제해보시면 더 이해가 잘될 것입니다. 구글은 SID, SSID등을 지워보시면되고 네이버는 NID를 지워보세요. 브라우저도 종료해보셨다가 다시 쿠키도 확인해보시면 좋을 것 같습니다.<br/>\n * 참고로 Session Cookie인지 Persistent Cookie인지는 Expires를 명시하거나 Max-Age를 명시한 경우 Persistent Cookie로 보고, 명시하지 않은 경우 Session Cookie로 봅니다.<br/>\n * 정확한 정보가 아닐 수 있습니다.</p>\n <div class=\"control\">\n <a href=\"/80#comment13751263\">댓글주소</a>\n <a href=\"#\" onclick=\"deleteComment(13751263); return false;\">수정/삭제</a>\n </div>\n </li>\n </ul>, <ul>\n <li id=\"comment13751519\">\n <div class=\"author-meta\">\n <img alt=\"\" class=\"avatar\" src=\"https://tistory1.daumcdn.net/tistory/user/3685576/profile/profileImg?v=1504354488608\"/>\n <span class=\"nickname\"><img alt=\"Favicon of https://jeong-pro.tistory.com\" height=\"16\" onerror=\"this.onerror=null;this.parentNode.removeChild(this)\" src=\"https://jeong-pro.tistory.com/favicon.ico\" width=\"16\"> <img alt=\"BlogIcon\" height=\"16\" onerror=\"this.parentNode.removeChild(this)\" src=\"https://jeong-pro.tistory.com/index.gif\" width=\"16\"> <a href=\"https://jeong-pro.tistory.com\" onclick=\"return openLinkInNewWindow(this)\">정아마추어 JEONG_AMATEUR</a><span class=\"tistoryProfileLayerTrigger\" onclick='TistoryProfile.show(event, this, {\"title\":\"기본기를 쌓는 정아마추어 코딩블로그\",\"url\":\"https:\\/\\/jeong-pro.tistory.com\",\"nickname\":\"JEONG_AMATEUR\",\"items\":[]}); return false;'></span></img></img></span>\n <span class=\"date\">2019.03.13 13:39 <a href=\"/toolbar/popup/abuseReport/?entryId=80&amp;commentId=13751519\" onclick=\"window.open(this.href, 'tistoryThisBlogPopup', 'width=550, height=510, toolbar=no, menubar=no, status=no, scrollbars=no'); return false;\">신고</a></span>\n </div>\n <p>말씀만으로도 정말 정말 감사합니다:)<br/>\n 실례지만, 정리하시면서 여기에도 부족한 정보 흘려주실 수 있을까요?<br/>\n 저도 공부해서 추가할 수 있으면 좋을 것 같습니다!</p>\n <div class=\"control\">\n <a href=\"/80#comment13751519\">댓글주소</a>\n <a href=\"#\" onclick=\"deleteComment(13751519); return false;\">수정/삭제</a>\n </div>\n </li>\n <li id=\"comment13751579\">\n <div class=\"author-meta\">\n <img alt=\"\" class=\"avatar\" src=\"https://t1.daumcdn.net/tistory_admin/blog/admin/profile_default_00.png\"/>\n <span class=\"nickname\">orionjeong</span>\n <span class=\"date\">2019.03.13 17:47</span>\n </div>\n <p>네~ 정리해서 올리면 링크 적어두도록 할게요 ㅎㅎ</p>\n <div class=\"control\">\n <a href=\"/80#comment13751579\">댓글주소</a>\n <a href=\"#\" onclick=\"deleteComment(13751579); return false;\">수정/삭제</a>\n </div>\n </li>\n </ul>, <ul>\n <li id=\"comment13789423\">\n <div class=\"author-meta\">\n <img alt=\"\" class=\"avatar\" src=\"https://tistory1.daumcdn.net/tistory/user/3685576/profile/profileImg?v=1504354488608\"/>\n <span class=\"nickname\"><img alt=\"Favicon of https://jeong-pro.tistory.com\" height=\"16\" onerror=\"this.onerror=null;this.parentNode.removeChild(this)\" src=\"https://jeong-pro.tistory.com/favicon.ico\" width=\"16\"> <img alt=\"BlogIcon\" height=\"16\" onerror=\"this.parentNode.removeChild(this)\" src=\"https://jeong-pro.tistory.com/index.gif\" width=\"16\"/> <a href=\"https://jeong-pro.tistory.com\" onclick=\"return openLinkInNewWindow(this)\">정아마추어 JEONG_AMATEUR</a><span class=\"tistoryProfileLayerTrigger\" onclick='TistoryProfile.show(event, this, {\"title\":\"기본기를 쌓는 정아마추어 코딩블로그\",\"url\":\"https:\\/\\/jeong-pro.tistory.com\",\"nickname\":\"JEONG_AMATEUR\",\"items\":[]}); return false;'></span></img></span>\n <span class=\"date\">2019.06.23 14:50 <a href=\"/toolbar/popup/abuseReport/?entryId=80&amp;commentId=13789423\" onclick=\"window.open(this.href, 'tistoryThisBlogPopup', 'width=550, height=510, toolbar=no, menubar=no, status=no, scrollbars=no'); return false;\">신고</a></span>\n </div>\n <p>출처 남겨주시면 가능합니다 :D</p>\n <div class=\"control\">\n <a href=\"/80#comment13789423\">댓글주소</a>\n <a href=\"#\" onclick=\"deleteComment(13789423); return false;\">수정/삭제</a>\n </div>\n </li>\n </ul>, <ul>\n <li>\n <a href=\"/86?category=793347\">\n <span class=\"thum\">\n </span>\n <span class=\"title\">싱글톤 패턴(Singleton pattern)을 쓰는 이유와 문제점</span>\n </a>\n </li>\n <li>\n <a href=\"/85?category=793347\">\n <span class=\"thum\">\n </span>\n <span class=\"title\">JAVA String, StringBuffer, StringBuilder 차이점</span>\n </a>\n </li>\n <li>\n <a href=\"/84?category=793347\">\n <span class=\"thum\">\n </span>\n <span class=\"title\">WAS 와 웹 서버 차이 (WAS,Web Server) 그리고 아파치, 톰캣</span>\n </a>\n </li>\n <li>\n <a href=\"/82?category=793347\">\n <span class=\"thum\">\n </span>\n <span class=\"title\">JAVA 인터페이스와 추상클래스 공통점, 차이점 정리</span>\n </a>\n </li>\n </ul>]"
          },
          "metadata": {}
        }
      ]
    },
    {
      "metadata": {},
      "cell_type": "markdown",
      "source": "# 정규 표현식"
    },
    {
      "metadata": {
        "trusted": true
      },
      "cell_type": "code",
      "source": "import re",
      "execution_count": 55,
      "outputs": []
    },
    {
      "metadata": {},
      "cell_type": "markdown",
      "source": "정규 표현식 \\d는 모든 숫자를 +는 한번 이상 있으면 찾아라"
    },
    {
      "metadata": {
        "trusted": true
      },
      "cell_type": "code",
      "source": "re.search(\"\\d+\", ' 12345 ')",
      "execution_count": 56,
      "outputs": [
        {
          "output_type": "execute_result",
          "execution_count": 56,
          "data": {
            "text/plain": "<_sre.SRE_Match object; span=(1, 6), match='12345'>"
          },
          "metadata": {}
        }
      ]
    },
    {
      "metadata": {
        "trusted": true
      },
      "cell_type": "code",
      "source": "re.match(\"\\d+\", ' 12345 ')",
      "execution_count": 57,
      "outputs": []
    },
    {
      "metadata": {
        "trusted": true
      },
      "cell_type": "code",
      "source": "re.match(\"\\d+\",'12345 ')",
      "execution_count": 58,
      "outputs": [
        {
          "output_type": "execute_result",
          "execution_count": 58,
          "data": {
            "text/plain": "<_sre.SRE_Match object; span=(0, 5), match='12345'>"
          },
          "metadata": {}
        }
      ]
    },
    {
      "metadata": {
        "trusted": true
      },
      "cell_type": "code",
      "source": "re.search(\"\\d+\", ' 12345 ').group()#실제 문자열로 추출",
      "execution_count": 64,
      "outputs": [
        {
          "output_type": "execute_result",
          "execution_count": 64,
          "data": {
            "text/plain": "'12345'"
          },
          "metadata": {}
        }
      ]
    },
    {
      "metadata": {
        "trusted": true
      },
      "cell_type": "code",
      "source": "re.search(\"\\d+\", ' 12345 ').group(0)",
      "execution_count": 65,
      "outputs": [
        {
          "output_type": "execute_result",
          "execution_count": 65,
          "data": {
            "text/plain": "'12345'"
          },
          "metadata": {}
        }
      ]
    },
    {
      "metadata": {
        "trusted": true
      },
      "cell_type": "code",
      "source": "re.search(\"\\d+\", ' 12345 ').start()# 시작 위치",
      "execution_count": 66,
      "outputs": [
        {
          "output_type": "execute_result",
          "execution_count": 66,
          "data": {
            "text/plain": "1"
          },
          "metadata": {}
        }
      ]
    },
    {
      "metadata": {
        "trusted": true
      },
      "cell_type": "code",
      "source": "re.search(\"\\d+\", ' 12345 ').end()#끝나는 위치",
      "execution_count": 67,
      "outputs": [
        {
          "output_type": "execute_result",
          "execution_count": 67,
          "data": {
            "text/plain": "6"
          },
          "metadata": {}
        }
      ]
    },
    {
      "metadata": {
        "trusted": true
      },
      "cell_type": "code",
      "source": "re.search(\"\\d+\", ' 12345 ').span()",
      "execution_count": 68,
      "outputs": [
        {
          "output_type": "execute_result",
          "execution_count": 68,
          "data": {
            "text/plain": "(1, 6)"
          },
          "metadata": {}
        }
      ]
    },
    {
      "metadata": {
        "trusted": true
      },
      "cell_type": "code",
      "source": "txt = \"\"\"201901 Dost thou love life? Then do not squander time, for that is the stuff life is made of. (Benjamin Franklin) 그대는 인생을 사랑하는가? 그렇다면 시간을 낭비하지 말라, 시간이야말로 인생을 형성하는 재료이기 때문이다. (벤자민 프랭클린)  \n201902 Life is like riding a bicycle. To keep your balance you must keep moving. (Albert Einstein) 인생은 자전거를 타는 것과 같다. 균형을 잡으려면 움직여야 한다. (알버트 아인슈타인) \n201903 Life is a tragedy when seen in close-up, but a comedy in long-shot. (Charlie Chaplin)  인생은 가까이서 보면 비극이지만 멀리서 보면 희극이다 (찰리 채플린) \n201904 Dream as if you'll live forever. Live as if you'll die today. (James Dean) 영원히 살 것처럼 꿈꾸고 오늘 죽을 것처럼 살아라. (제임스 딘) \n201905 Life is an endless series of trainwrecks with only brief commercial like breaks of happiness. (Deadpool) 인생이란 괴로움의 연속이고, 행복은 광고처럼 짧다. (데드풀)\"\"\"",
      "execution_count": 77,
      "outputs": []
    },
    {
      "metadata": {
        "trusted": true
      },
      "cell_type": "code",
      "source": "rt = re.search(\"Life.*\", txt)#Life로 시작하는 .(모든 문자) *(0번 이상)있으면 문장 출력",
      "execution_count": 82,
      "outputs": []
    },
    {
      "metadata": {
        "trusted": true,
        "scrolled": true
      },
      "cell_type": "code",
      "source": "rt.group()",
      "execution_count": 83,
      "outputs": [
        {
          "output_type": "execute_result",
          "execution_count": 83,
          "data": {
            "text/plain": "'Life is like riding a bicycle. To keep your balance you must keep moving. (Albert Einstein) 인생은 자전거를 타는 것과 같다. 균형을 잡으려면 움직여야 한다. (알버트 아인슈타인) '"
          },
          "metadata": {}
        }
      ]
    },
    {
      "metadata": {
        "trusted": true
      },
      "cell_type": "code",
      "source": "rt2 = re.compile(\"Life.*\")",
      "execution_count": 84,
      "outputs": []
    },
    {
      "metadata": {
        "trusted": true
      },
      "cell_type": "code",
      "source": "rt2.findall(txt)",
      "execution_count": 85,
      "outputs": [
        {
          "output_type": "execute_result",
          "execution_count": 85,
          "data": {
            "text/plain": "['Life is like riding a bicycle. To keep your balance you must keep moving. (Albert Einstein) 인생은 자전거를 타는 것과 같다. 균형을 잡으려면 움직여야 한다. (알버트 아인슈타인) ',\n 'Life is a tragedy when seen in close-up, but a comedy in long-shot. (Charlie Chaplin)  인생은 가까이서 보면 비극이지만 멀리서 보면 희극이다 (찰리 채플린) ',\n 'Life is an endless series of trainwrecks with only brief commercial like breaks of happiness. (Deadpool) 인생이란 괴로움의 연속이고, 행복은 광고처럼 짧다. (데드풀)']"
          },
          "metadata": {}
        }
      ]
    },
    {
      "metadata": {
        "trusted": true
      },
      "cell_type": "code",
      "source": "rt2_english = re.compile(\"[A-Za-z].+[A-Za-z][\\.\\?]\")",
      "execution_count": 86,
      "outputs": []
    },
    {
      "metadata": {
        "trusted": true
      },
      "cell_type": "code",
      "source": "rt2_english.findall(txt)",
      "execution_count": 87,
      "outputs": [
        {
          "output_type": "execute_result",
          "execution_count": 87,
          "data": {
            "text/plain": "['Dost thou love life? Then do not squander time, for that is the stuff life is made of.',\n 'Life is like riding a bicycle. To keep your balance you must keep moving.',\n 'Life is a tragedy when seen in close-up, but a comedy in long-shot.',\n \"Dream as if you'll live forever. Live as if you'll die today.\",\n 'Life is an endless series of trainwrecks with only brief commercial like breaks of happiness.']"
          },
          "metadata": {}
        }
      ]
    },
    {
      "metadata": {
        "trusted": true
      },
      "cell_type": "code",
      "source": "type(rt2_english)",
      "execution_count": 88,
      "outputs": [
        {
          "output_type": "execute_result",
          "execution_count": 88,
          "data": {
            "text/plain": "_sre.SRE_Pattern"
          },
          "metadata": {}
        }
      ]
    },
    {
      "metadata": {
        "trusted": true
      },
      "cell_type": "code",
      "source": "rt2_korea = re.compile(\"[가-힣].+[가-힣][\\.\\?]\")",
      "execution_count": 89,
      "outputs": []
    },
    {
      "metadata": {
        "trusted": true
      },
      "cell_type": "code",
      "source": "rt2_korea.findall(txt)",
      "execution_count": 90,
      "outputs": [
        {
          "output_type": "execute_result",
          "execution_count": 90,
          "data": {
            "text/plain": "['그대는 인생을 사랑하는가? 그렇다면 시간을 낭비하지 말라, 시간이야말로 인생을 형성하는 재료이기 때문이다.',\n '인생은 자전거를 타는 것과 같다. 균형을 잡으려면 움직여야 한다.',\n '영원히 살 것처럼 꿈꾸고 오늘 죽을 것처럼 살아라.',\n '인생이란 괴로움의 연속이고, 행복은 광고처럼 짧다.']"
          },
          "metadata": {}
        }
      ]
    },
    {
      "metadata": {
        "trusted": true
      },
      "cell_type": "markdown",
      "source": "# Selenium"
    },
    {
      "metadata": {
        "trusted": true
      },
      "cell_type": "code",
      "source": "!pip3 install selenium",
      "execution_count": 1,
      "outputs": [
        {
          "output_type": "stream",
          "text": "Collecting selenium\n\u001b[?25l  Downloading https://files.pythonhosted.org/packages/80/d6/4294f0b4bce4de0abf13e17190289f9d0613b0a44e5dd6a7f5ca98459853/selenium-3.141.0-py2.py3-none-any.whl (904kB)\n\u001b[K     |████████████████████████████████| 911kB 978kB/s eta 0:00:01\n\u001b[?25hRequirement already satisfied: urllib3 in /home/nbuser/anaconda3_501/lib/python3.6/site-packages (from selenium) (1.23)\nInstalling collected packages: selenium\nSuccessfully installed selenium-3.141.0\n",
          "name": "stdout"
        }
      ]
    },
    {
      "metadata": {
        "trusted": true
      },
      "cell_type": "code",
      "source": "!sudo apt-get install phantomjs ",
      "execution_count": null,
      "outputs": [
        {
          "output_type": "stream",
          "text": "[sudo] password for nbuser: ",
          "name": "stdout"
        }
      ]
    },
    {
      "metadata": {
        "trusted": true
      },
      "cell_type": "code",
      "source": "",
      "execution_count": null,
      "outputs": []
    },
    {
      "metadata": {
        "trusted": true
      },
      "cell_type": "code",
      "source": "",
      "execution_count": null,
      "outputs": []
    },
    {
      "metadata": {
        "trusted": true
      },
      "cell_type": "code",
      "source": "",
      "execution_count": null,
      "outputs": []
    },
    {
      "metadata": {
        "trusted": true
      },
      "cell_type": "code",
      "source": "",
      "execution_count": null,
      "outputs": []
    },
    {
      "metadata": {
        "trusted": true
      },
      "cell_type": "code",
      "source": "",
      "execution_count": null,
      "outputs": []
    },
    {
      "metadata": {
        "trusted": true
      },
      "cell_type": "code",
      "source": "",
      "execution_count": null,
      "outputs": []
    },
    {
      "metadata": {
        "trusted": true
      },
      "cell_type": "code",
      "source": "",
      "execution_count": null,
      "outputs": []
    },
    {
      "metadata": {
        "trusted": true
      },
      "cell_type": "code",
      "source": "",
      "execution_count": null,
      "outputs": []
    },
    {
      "metadata": {
        "trusted": true
      },
      "cell_type": "code",
      "source": "",
      "execution_count": null,
      "outputs": []
    },
    {
      "metadata": {
        "trusted": true
      },
      "cell_type": "code",
      "source": "",
      "execution_count": null,
      "outputs": []
    }
  ],
  "metadata": {
    "kernelspec": {
      "name": "python36",
      "display_name": "Python 3.6",
      "language": "python"
    },
    "language_info": {
      "mimetype": "text/x-python",
      "nbconvert_exporter": "python",
      "name": "python",
      "pygments_lexer": "ipython3",
      "version": "3.6.6",
      "file_extension": ".py",
      "codemirror_mode": {
        "version": 3,
        "name": "ipython"
      }
    }
  },
  "nbformat": 4,
  "nbformat_minor": 2
}