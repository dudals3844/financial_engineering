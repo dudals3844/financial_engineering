{
 "cells": [
  {
   "cell_type": "code",
   "execution_count": 1,
   "metadata": {},
   "outputs": [],
   "source": [
    "import requests\n",
    "import pandas as pd\n",
    "from bs4 import BeautifulSoup\n",
    "from selenium import webdriver\n",
    "from selenium.webdriver.common.keys import Keys"
   ]
  },
  {
   "cell_type": "code",
   "execution_count": 2,
   "metadata": {},
   "outputs": [
    {
     "name": "stderr",
     "output_type": "stream",
     "text": [
      "/usr/local/lib/python3.7/site-packages/ipykernel_launcher.py:6: DeprecationWarning: use options instead of chrome_options\n",
      "  \n"
     ]
    }
   ],
   "source": [
    "\n",
    "chrome_options = webdriver.ChromeOptions()\n",
    "chrome_options.add_argument('--headless')\n",
    "chrome_options.add_argument('--no-sandbox')\n",
    "chrome_options.add_argument('--disable-dev-shm-usage')\n",
    "\n",
    "driver = webdriver.Chrome('./chromedriver', chrome_options=chrome_options)"
   ]
  },
  {
   "cell_type": "code",
   "execution_count": 3,
   "metadata": {},
   "outputs": [],
   "source": [
    "us_stock = pd.read_excel(\"USA_Stock_List..xls\")"
   ]
  },
  {
   "cell_type": "code",
   "execution_count": 4,
   "metadata": {},
   "outputs": [
    {
     "data": {
      "text/html": [
       "<div>\n",
       "<style scoped>\n",
       "    .dataframe tbody tr th:only-of-type {\n",
       "        vertical-align: middle;\n",
       "    }\n",
       "\n",
       "    .dataframe tbody tr th {\n",
       "        vertical-align: top;\n",
       "    }\n",
       "\n",
       "    .dataframe thead th {\n",
       "        text-align: right;\n",
       "    }\n",
       "</style>\n",
       "<table border=\"1\" class=\"dataframe\">\n",
       "  <thead>\n",
       "    <tr style=\"text-align: right;\">\n",
       "      <th></th>\n",
       "      <th>0</th>\n",
       "      <th>1</th>\n",
       "      <th>2</th>\n",
       "      <th>3</th>\n",
       "    </tr>\n",
       "  </thead>\n",
       "  <tbody>\n",
       "    <tr>\n",
       "      <th>0</th>\n",
       "      <td>아마존닷컴</td>\n",
       "      <td>AMZN</td>\n",
       "      <td>나스닥</td>\n",
       "      <td>소매(카탈로그와 메일 주문)</td>\n",
       "    </tr>\n",
       "    <tr>\n",
       "      <th>1</th>\n",
       "      <td>애플</td>\n",
       "      <td>AAPL</td>\n",
       "      <td>나스닥</td>\n",
       "      <td>통신 장비</td>\n",
       "    </tr>\n",
       "    <tr>\n",
       "      <th>2</th>\n",
       "      <td>Alphabet C</td>\n",
       "      <td>GOOG</td>\n",
       "      <td>나스닥</td>\n",
       "      <td>컴퓨터 서비스</td>\n",
       "    </tr>\n",
       "    <tr>\n",
       "      <th>3</th>\n",
       "      <td>Alphabet A</td>\n",
       "      <td>GOOGL</td>\n",
       "      <td>나스닥</td>\n",
       "      <td>컴퓨터 서비스</td>\n",
       "    </tr>\n",
       "    <tr>\n",
       "      <th>4</th>\n",
       "      <td>페이스북</td>\n",
       "      <td>FB</td>\n",
       "      <td>나스닥</td>\n",
       "      <td>컴퓨터 서비스</td>\n",
       "    </tr>\n",
       "    <tr>\n",
       "      <th>...</th>\n",
       "      <td>...</td>\n",
       "      <td>...</td>\n",
       "      <td>...</td>\n",
       "      <td>...</td>\n",
       "    </tr>\n",
       "    <tr>\n",
       "      <th>9995</th>\n",
       "      <td>PureRay</td>\n",
       "      <td>PURY</td>\n",
       "      <td>OTC Markets</td>\n",
       "      <td>전자 장비와 제어기</td>\n",
       "    </tr>\n",
       "    <tr>\n",
       "      <th>9996</th>\n",
       "      <td>Makism 3D Corp</td>\n",
       "      <td>MDDD</td>\n",
       "      <td>OTC Markets</td>\n",
       "      <td>컴퓨터 주변기기</td>\n",
       "    </tr>\n",
       "    <tr>\n",
       "      <th>9997</th>\n",
       "      <td>ML Capital</td>\n",
       "      <td>MLCG</td>\n",
       "      <td>OTC Markets</td>\n",
       "      <td>다종 금융 서비스</td>\n",
       "    </tr>\n",
       "    <tr>\n",
       "      <th>9998</th>\n",
       "      <td>RIT Technologies</td>\n",
       "      <td>RITT</td>\n",
       "      <td>OTC Markets</td>\n",
       "      <td>통신 장비</td>\n",
       "    </tr>\n",
       "    <tr>\n",
       "      <th>9999</th>\n",
       "      <td>Glori Energy Inc</td>\n",
       "      <td>GLRI</td>\n",
       "      <td>OTC Markets</td>\n",
       "      <td>석유와 가스 – 통합</td>\n",
       "    </tr>\n",
       "  </tbody>\n",
       "</table>\n",
       "<p>10000 rows × 4 columns</p>\n",
       "</div>"
      ],
      "text/plain": [
       "                     0      1            2                3\n",
       "0                아마존닷컴   AMZN          나스닥  소매(카탈로그와 메일 주문)\n",
       "1                   애플   AAPL          나스닥            통신 장비\n",
       "2           Alphabet C   GOOG          나스닥          컴퓨터 서비스\n",
       "3           Alphabet A  GOOGL          나스닥          컴퓨터 서비스\n",
       "4                 페이스북     FB          나스닥          컴퓨터 서비스\n",
       "...                ...    ...          ...              ...\n",
       "9995           PureRay   PURY  OTC Markets       전자 장비와 제어기\n",
       "9996    Makism 3D Corp   MDDD  OTC Markets         컴퓨터 주변기기\n",
       "9997        ML Capital   MLCG  OTC Markets        다종 금융 서비스\n",
       "9998  RIT Technologies   RITT  OTC Markets            통신 장비\n",
       "9999  Glori Energy Inc   GLRI  OTC Markets      석유와 가스 – 통합\n",
       "\n",
       "[10000 rows x 4 columns]"
      ]
     },
     "execution_count": 4,
     "metadata": {},
     "output_type": "execute_result"
    }
   ],
   "source": [
    "us_stock"
   ]
  },
  {
   "cell_type": "code",
   "execution_count": 11,
   "metadata": {},
   "outputs": [],
   "source": [
    "driver.get('https://www.google.com/finance#scso=_3LQCXq-PBNLYhwO2hL-wCw5:0')"
   ]
  },
  {
   "cell_type": "code",
   "execution_count": 12,
   "metadata": {},
   "outputs": [],
   "source": [
    "driver.find_element_by_css_selector('#lst-ib').send_keys('AAPL')"
   ]
  },
  {
   "cell_type": "code",
   "execution_count": 14,
   "metadata": {},
   "outputs": [],
   "source": [
    "driver.find_element_by_css_selector('#mKlEF').click()"
   ]
  },
  {
   "cell_type": "code",
   "execution_count": 15,
   "metadata": {},
   "outputs": [],
   "source": [
    "tmp = driver.page_source"
   ]
  },
  {
   "cell_type": "code",
   "execution_count": 16,
   "metadata": {},
   "outputs": [],
   "source": [
    "bs = BeautifulSoup(tmp, 'html.parser')"
   ]
  },
  {
   "cell_type": "code",
   "execution_count": 25,
   "metadata": {},
   "outputs": [],
   "source": [
    "finance = bs.find('table', class_ = 'iF8z4d')"
   ]
  },
  {
   "cell_type": "code",
   "execution_count": 26,
   "metadata": {},
   "outputs": [
    {
     "data": {
      "text/plain": [
       "<table class=\"iF8z4d\"><tbody><tr><td class=\"kyITtb\">Revenue</td><td class=\"efHLT ckQqBf\">64.04B</td><td class=\"WlRRw Mk9Auc ckQqBf\"><span class=\"IsqQVc fw-price-up r-igdC_3_kWu3g\" data-rtid=\"igdC_3_kWu3g\" jsaction=\"fw_vcu:r.zO5uq4CqVlo\" jscontroller=\"\" jsl=\"$t t-cm6aRg81XLg;$x 0;\"><span aria-label=\"Up by 1.81%\"><span aria-hidden=\"true\" class=\"igdC_3_kWu3g-Y5HEJA6AmUY\">1.81%</span><span aria-hidden=\"true\" class=\"u47KMb\" style=\"height:10px;width:10px;padding-left:4px\"><svg version=\"1.1\" viewbox=\"0 0 12 12\" xmlns=\"http://www.w3.org/2000/svg\" xmlns:xlink=\"http://www.w3.org/1999/xlink\"><path d=\"M6,0.002L0 6.002 4.8 6.002 4.8 11.9996 7.2 11.9996 7.2 6.002 12 6.002z\"></path></svg></span></span></span></td></tr><tr><td class=\"kyITtb\">Net income</td><td class=\"efHLT ckQqBf\">13.69B</td><td class=\"WlRRw Mk9Auc ckQqBf\"><span class=\"IsqQVc fw-price-dn r-i4fEb_HRFE_Q\" data-rtid=\"i4fEb_HRFE_Q\" jsaction=\"fw_vcu:r.zO5uq4CqVlo\" jscontroller=\"\" jsl=\"$t t-cm6aRg81XLg;$x 0;\"><span aria-label=\"Down by  3.11%\"><span aria-hidden=\"true\" class=\"i4fEb_HRFE_Q-Y5HEJA6AmUY\"> 3.11%</span><span aria-hidden=\"true\" class=\"u47KMb\" style=\"height:10px;width:10px;padding-left:4px\"><svg version=\"1.1\" viewbox=\"0 0 12 12\" xmlns=\"http://www.w3.org/2000/svg\" xmlns:xlink=\"http://www.w3.org/1999/xlink\"><path d=\"M6,0.002L0 6.002 4.8 6.002 4.8 11.9996 7.2 11.9996 7.2 6.002 12 6.002z\"></path></svg></span></span></span></td></tr><tr><td class=\"kyITtb\">Diluted EPS</td><td class=\"efHLT ckQqBf\">3.03</td><td class=\"WlRRw Mk9Auc ckQqBf\"><span class=\"IsqQVc fw-price-up r-i14XBYFaSlyY\" data-rtid=\"i14XBYFaSlyY\" jsaction=\"fw_vcu:r.zO5uq4CqVlo\" jscontroller=\"\" jsl=\"$t t-cm6aRg81XLg;$x 0;\"><span aria-label=\"Up by 3.77%\"><span aria-hidden=\"true\" class=\"i14XBYFaSlyY-Y5HEJA6AmUY\">3.77%</span><span aria-hidden=\"true\" class=\"u47KMb\" style=\"height:10px;width:10px;padding-left:4px\"><svg version=\"1.1\" viewbox=\"0 0 12 12\" xmlns=\"http://www.w3.org/2000/svg\" xmlns:xlink=\"http://www.w3.org/1999/xlink\"><path d=\"M6,0.002L0 6.002 4.8 6.002 4.8 11.9996 7.2 11.9996 7.2 6.002 12 6.002z\"></path></svg></span></span></span></td></tr><tr><td class=\"kyITtb\">Net profit margin</td><td class=\"efHLT ckQqBf\">21.37%</td><td class=\"WlRRw Mk9Auc ckQqBf\"><span class=\"IsqQVc fw-price-dn r-ib6Y9QrcHEF8\" data-rtid=\"ib6Y9QrcHEF8\" jsaction=\"fw_vcu:r.zO5uq4CqVlo\" jscontroller=\"\" jsl=\"$t t-cm6aRg81XLg;$x 0;\"><span aria-label=\"Down by  4.85%\"><span aria-hidden=\"true\" class=\"ib6Y9QrcHEF8-Y5HEJA6AmUY\"> 4.85%</span><span aria-hidden=\"true\" class=\"u47KMb\" style=\"height:10px;width:10px;padding-left:4px\"><svg version=\"1.1\" viewbox=\"0 0 12 12\" xmlns=\"http://www.w3.org/2000/svg\" xmlns:xlink=\"http://www.w3.org/1999/xlink\"><path d=\"M6,0.002L0 6.002 4.8 6.002 4.8 11.9996 7.2 11.9996 7.2 6.002 12 6.002z\"></path></svg></span></span></span></td></tr></tbody></table>"
      ]
     },
     "execution_count": 26,
     "metadata": {},
     "output_type": "execute_result"
    }
   ],
   "source": [
    "finance"
   ]
  },
  {
   "cell_type": "code",
   "execution_count": 28,
   "metadata": {},
   "outputs": [
    {
     "data": {
      "text/html": [
       "<div>\n",
       "<style scoped>\n",
       "    .dataframe tbody tr th:only-of-type {\n",
       "        vertical-align: middle;\n",
       "    }\n",
       "\n",
       "    .dataframe tbody tr th {\n",
       "        vertical-align: top;\n",
       "    }\n",
       "\n",
       "    .dataframe thead th {\n",
       "        text-align: right;\n",
       "    }\n",
       "</style>\n",
       "<table border=\"1\" class=\"dataframe\">\n",
       "  <thead>\n",
       "    <tr style=\"text-align: right;\">\n",
       "      <th></th>\n",
       "      <th>0</th>\n",
       "      <th>1</th>\n",
       "      <th>2</th>\n",
       "    </tr>\n",
       "  </thead>\n",
       "  <tbody>\n",
       "    <tr>\n",
       "      <th>0</th>\n",
       "      <td>Revenue</td>\n",
       "      <td>64.04B</td>\n",
       "      <td>1.81%</td>\n",
       "    </tr>\n",
       "    <tr>\n",
       "      <th>1</th>\n",
       "      <td>Net income</td>\n",
       "      <td>13.69B</td>\n",
       "      <td>3.11%</td>\n",
       "    </tr>\n",
       "    <tr>\n",
       "      <th>2</th>\n",
       "      <td>Diluted EPS</td>\n",
       "      <td>3.03</td>\n",
       "      <td>3.77%</td>\n",
       "    </tr>\n",
       "    <tr>\n",
       "      <th>3</th>\n",
       "      <td>Net profit margin</td>\n",
       "      <td>21.37%</td>\n",
       "      <td>4.85%</td>\n",
       "    </tr>\n",
       "  </tbody>\n",
       "</table>\n",
       "</div>"
      ],
      "text/plain": [
       "                   0       1      2\n",
       "0            Revenue  64.04B  1.81%\n",
       "1         Net income  13.69B  3.11%\n",
       "2        Diluted EPS    3.03  3.77%\n",
       "3  Net profit margin  21.37%  4.85%"
      ]
     },
     "execution_count": 28,
     "metadata": {},
     "output_type": "execute_result"
    }
   ],
   "source": [
    "pd.read_html(str(finance))[0]"
   ]
  },
  {
   "cell_type": "markdown",
   "metadata": {},
   "source": [
    "# HTML 방식이 달라져서 "
   ]
  },
  {
   "cell_type": "code",
   "execution_count": null,
   "metadata": {},
   "outputs": [],
   "source": []
  }
 ],
 "metadata": {
  "kernelspec": {
   "display_name": "Python 3",
   "language": "python",
   "name": "python3"
  },
  "language_info": {
   "codemirror_mode": {
    "name": "ipython",
    "version": 3
   },
   "file_extension": ".py",
   "mimetype": "text/x-python",
   "name": "python",
   "nbconvert_exporter": "python",
   "pygments_lexer": "ipython3",
   "version": "3.7.4"
  }
 },
 "nbformat": 4,
 "nbformat_minor": 2
}
