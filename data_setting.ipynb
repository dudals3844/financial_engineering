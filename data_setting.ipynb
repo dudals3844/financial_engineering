{
  "cells": [
    {
      "metadata": {
        "trusted": true
      },
      "cell_type": "code",
      "source": "stock_dic = [{'날짜':'2019-05-07',\n              '종목':'삼성전자',\n              '시가':'45250',\n              '종가':'44850'},\n             {'날짜':'2019-05-07',\n              '종목':'LG전자',\n              '시가':'75200',\n              '종가':'77000'},\n             {'날짜':'2019-05-07',\n              '종목':'SK텔레콤',\n              '시가':'79200',\n              '종가':'79900'}]",
      "execution_count": 1,
      "outputs": []
    },
    {
      "metadata": {
        "trusted": true
      },
      "cell_type": "code",
      "source": "import pandas as pd",
      "execution_count": 2,
      "outputs": []
    },
    {
      "metadata": {
        "trusted": true
      },
      "cell_type": "code",
      "source": "data = pd.DataFrame(stock_dic, columns=['날짜','종목','시가','종가'])",
      "execution_count": 3,
      "outputs": []
    },
    {
      "metadata": {
        "trusted": true
      },
      "cell_type": "code",
      "source": "data.info()",
      "execution_count": 4,
      "outputs": [
        {
          "output_type": "stream",
          "text": "<class 'pandas.core.frame.DataFrame'>\nRangeIndex: 3 entries, 0 to 2\nData columns (total 4 columns):\n날짜    3 non-null object\n종목    3 non-null object\n시가    3 non-null object\n종가    3 non-null object\ndtypes: object(4)\nmemory usage: 176.0+ bytes\n",
          "name": "stdout"
        }
      ]
    },
    {
      "metadata": {
        "trusted": true
      },
      "cell_type": "code",
      "source": "data",
      "execution_count": 5,
      "outputs": [
        {
          "output_type": "execute_result",
          "execution_count": 5,
          "data": {
            "text/html": "<div>\n<style scoped>\n    .dataframe tbody tr th:only-of-type {\n        vertical-align: middle;\n    }\n\n    .dataframe tbody tr th {\n        vertical-align: top;\n    }\n\n    .dataframe thead th {\n        text-align: right;\n    }\n</style>\n<table border=\"1\" class=\"dataframe\">\n  <thead>\n    <tr style=\"text-align: right;\">\n      <th></th>\n      <th>날짜</th>\n      <th>종목</th>\n      <th>시가</th>\n      <th>종가</th>\n    </tr>\n  </thead>\n  <tbody>\n    <tr>\n      <th>0</th>\n      <td>2019-05-07</td>\n      <td>삼성전자</td>\n      <td>45250</td>\n      <td>44850</td>\n    </tr>\n    <tr>\n      <th>1</th>\n      <td>2019-05-07</td>\n      <td>LG전자</td>\n      <td>75200</td>\n      <td>77000</td>\n    </tr>\n    <tr>\n      <th>2</th>\n      <td>2019-05-07</td>\n      <td>SK텔레콤</td>\n      <td>79200</td>\n      <td>79900</td>\n    </tr>\n  </tbody>\n</table>\n</div>",
            "text/plain": "           날짜     종목     시가     종가\n0  2019-05-07   삼성전자  45250  44850\n1  2019-05-07   LG전자  75200  77000\n2  2019-05-07  SK텔레콤  79200  79900"
          },
          "metadata": {}
        }
      ]
    },
    {
      "metadata": {
        "trusted": true
      },
      "cell_type": "code",
      "source": "data['날짜']",
      "execution_count": 6,
      "outputs": [
        {
          "output_type": "execute_result",
          "execution_count": 6,
          "data": {
            "text/plain": "0    2019-05-07\n1    2019-05-07\n2    2019-05-07\nName: 날짜, dtype: object"
          },
          "metadata": {}
        }
      ]
    },
    {
      "metadata": {
        "trusted": true
      },
      "cell_type": "code",
      "source": "data2 = data.copy()",
      "execution_count": 7,
      "outputs": []
    },
    {
      "metadata": {
        "trusted": true
      },
      "cell_type": "code",
      "source": "data2.dropna(inplace=True)",
      "execution_count": 8,
      "outputs": []
    },
    {
      "metadata": {
        "trusted": true
      },
      "cell_type": "code",
      "source": "data2.info()",
      "execution_count": 9,
      "outputs": [
        {
          "output_type": "stream",
          "text": "<class 'pandas.core.frame.DataFrame'>\nInt64Index: 3 entries, 0 to 2\nData columns (total 4 columns):\n날짜    3 non-null object\n종목    3 non-null object\n시가    3 non-null object\n종가    3 non-null object\ndtypes: object(4)\nmemory usage: 120.0+ bytes\n",
          "name": "stdout"
        }
      ]
    },
    {
      "metadata": {
        "trusted": true
      },
      "cell_type": "code",
      "source": "data3 = data.copy()",
      "execution_count": 10,
      "outputs": []
    },
    {
      "metadata": {
        "trusted": true
      },
      "cell_type": "code",
      "source": "data3.info()",
      "execution_count": 11,
      "outputs": [
        {
          "output_type": "stream",
          "text": "<class 'pandas.core.frame.DataFrame'>\nRangeIndex: 3 entries, 0 to 2\nData columns (total 4 columns):\n날짜    3 non-null object\n종목    3 non-null object\n시가    3 non-null object\n종가    3 non-null object\ndtypes: object(4)\nmemory usage: 176.0+ bytes\n",
          "name": "stdout"
        }
      ]
    },
    {
      "metadata": {
        "trusted": true
      },
      "cell_type": "code",
      "source": "data3[['시가', '종가']] = data3[['시가', '종가']].applymap(lambda x : int(x.replace(\",\", \"\")))",
      "execution_count": 12,
      "outputs": []
    },
    {
      "metadata": {
        "trusted": true
      },
      "cell_type": "code",
      "source": "data3.info()",
      "execution_count": 13,
      "outputs": [
        {
          "output_type": "stream",
          "text": "<class 'pandas.core.frame.DataFrame'>\nRangeIndex: 3 entries, 0 to 2\nData columns (total 4 columns):\n날짜    3 non-null object\n종목    3 non-null object\n시가    3 non-null int64\n종가    3 non-null int64\ndtypes: int64(2), object(2)\nmemory usage: 176.0+ bytes\n",
          "name": "stdout"
        }
      ]
    },
    {
      "metadata": {
        "trusted": true
      },
      "cell_type": "code",
      "source": "data3['날짜'] = pd.to_datetime(data['날짜'], format='%Y-%m-%d %H:%M:%S')",
      "execution_count": 14,
      "outputs": []
    },
    {
      "metadata": {
        "trusted": true
      },
      "cell_type": "code",
      "source": "data3.info()",
      "execution_count": 15,
      "outputs": [
        {
          "output_type": "stream",
          "text": "<class 'pandas.core.frame.DataFrame'>\nRangeIndex: 3 entries, 0 to 2\nData columns (total 4 columns):\n날짜    3 non-null datetime64[ns]\n종목    3 non-null object\n시가    3 non-null int64\n종가    3 non-null int64\ndtypes: datetime64[ns](1), int64(2), object(1)\nmemory usage: 176.0+ bytes\n",
          "name": "stdout"
        }
      ]
    },
    {
      "metadata": {
        "trusted": true
      },
      "cell_type": "code",
      "source": "data3['종가'] = data3['종가'].astype('int32')",
      "execution_count": 16,
      "outputs": []
    },
    {
      "metadata": {
        "trusted": true
      },
      "cell_type": "code",
      "source": "data3.info()",
      "execution_count": 17,
      "outputs": [
        {
          "output_type": "stream",
          "text": "<class 'pandas.core.frame.DataFrame'>\nRangeIndex: 3 entries, 0 to 2\nData columns (total 4 columns):\n날짜    3 non-null datetime64[ns]\n종목    3 non-null object\n시가    3 non-null int64\n종가    3 non-null int32\ndtypes: datetime64[ns](1), int32(1), int64(1), object(1)\nmemory usage: 164.0+ bytes\n",
          "name": "stdout"
        }
      ]
    },
    {
      "metadata": {
        "trusted": true
      },
      "cell_type": "code",
      "source": "data3",
      "execution_count": 18,
      "outputs": [
        {
          "output_type": "execute_result",
          "execution_count": 18,
          "data": {
            "text/html": "<div>\n<style scoped>\n    .dataframe tbody tr th:only-of-type {\n        vertical-align: middle;\n    }\n\n    .dataframe tbody tr th {\n        vertical-align: top;\n    }\n\n    .dataframe thead th {\n        text-align: right;\n    }\n</style>\n<table border=\"1\" class=\"dataframe\">\n  <thead>\n    <tr style=\"text-align: right;\">\n      <th></th>\n      <th>날짜</th>\n      <th>종목</th>\n      <th>시가</th>\n      <th>종가</th>\n    </tr>\n  </thead>\n  <tbody>\n    <tr>\n      <th>0</th>\n      <td>2019-05-07</td>\n      <td>삼성전자</td>\n      <td>45250</td>\n      <td>44850</td>\n    </tr>\n    <tr>\n      <th>1</th>\n      <td>2019-05-07</td>\n      <td>LG전자</td>\n      <td>75200</td>\n      <td>77000</td>\n    </tr>\n    <tr>\n      <th>2</th>\n      <td>2019-05-07</td>\n      <td>SK텔레콤</td>\n      <td>79200</td>\n      <td>79900</td>\n    </tr>\n  </tbody>\n</table>\n</div>",
            "text/plain": "          날짜     종목     시가     종가\n0 2019-05-07   삼성전자  45250  44850\n1 2019-05-07   LG전자  75200  77000\n2 2019-05-07  SK텔레콤  79200  79900"
          },
          "metadata": {}
        }
      ]
    },
    {
      "metadata": {
        "trusted": true
      },
      "cell_type": "code",
      "source": "# stock_dict = [{'날짜':'2019-05-07',\n#               '종목':'삼성전자',\n#               '시가':'45250',\n#               '종가':'44850'},\n#              {'날짜':'2019-05-07',\n#               '종목':'LG전자',\n#               '시가':'75200',\n#               '종가':'77000'},\n#              {'날짜':'2019-05-07',\n#               '종목':'SK텔레콤',\n#               '시가':'254500',\n#                             },\n#              {'날짜':'2019-05-07',\n#               '종목':'SK하이닉스',\n#               '시가':'79200',\n#               '종가':'79900'}]",
      "execution_count": 19,
      "outputs": []
    },
    {
      "metadata": {
        "trusted": true
      },
      "cell_type": "code",
      "source": "# data = pd.DataFrame(stock_dict, columns=['날짜','종목','시가','종가'])",
      "execution_count": 20,
      "outputs": []
    },
    {
      "metadata": {
        "trusted": true
      },
      "cell_type": "code",
      "source": "data",
      "execution_count": 21,
      "outputs": [
        {
          "output_type": "execute_result",
          "execution_count": 21,
          "data": {
            "text/html": "<div>\n<style scoped>\n    .dataframe tbody tr th:only-of-type {\n        vertical-align: middle;\n    }\n\n    .dataframe tbody tr th {\n        vertical-align: top;\n    }\n\n    .dataframe thead th {\n        text-align: right;\n    }\n</style>\n<table border=\"1\" class=\"dataframe\">\n  <thead>\n    <tr style=\"text-align: right;\">\n      <th></th>\n      <th>날짜</th>\n      <th>종목</th>\n      <th>시가</th>\n      <th>종가</th>\n    </tr>\n  </thead>\n  <tbody>\n    <tr>\n      <th>0</th>\n      <td>2019-05-07</td>\n      <td>삼성전자</td>\n      <td>45250</td>\n      <td>44850</td>\n    </tr>\n    <tr>\n      <th>1</th>\n      <td>2019-05-07</td>\n      <td>LG전자</td>\n      <td>75200</td>\n      <td>77000</td>\n    </tr>\n    <tr>\n      <th>2</th>\n      <td>2019-05-07</td>\n      <td>SK텔레콤</td>\n      <td>79200</td>\n      <td>79900</td>\n    </tr>\n  </tbody>\n</table>\n</div>",
            "text/plain": "           날짜     종목     시가     종가\n0  2019-05-07   삼성전자  45250  44850\n1  2019-05-07   LG전자  75200  77000\n2  2019-05-07  SK텔레콤  79200  79900"
          },
          "metadata": {}
        }
      ]
    },
    {
      "metadata": {
        "trusted": true
      },
      "cell_type": "code",
      "source": "import requests",
      "execution_count": 22,
      "outputs": []
    },
    {
      "metadata": {
        "trusted": true
      },
      "cell_type": "code",
      "source": "url = 'http://finance.daum.net/api/market_index/days?page=1&perPage=100&market=KOSPI&pagination=true'\n# 헤더 정보 설정 수정\nheader = {'Accept' : 'application/json, text/javascript, */*; q=0.01',\n            'Referer' :'http://finance.daum.net/domestic/kospi',\n            'User-Agent' : 'Mozilla/5.0 (Windows NT 10.0; Win64; x64) AppleWebKit/537.36 (KHTML, like Gecko) Chrome/75.0.3770.100 Safari/537.36',\n            'X-Requested-With' : 'XMLHttpRequest'}\nr = requests.get(url, headers = header)",
      "execution_count": 23,
      "outputs": []
    },
    {
      "metadata": {
        "trusted": true
      },
      "cell_type": "code",
      "source": "r.status_code",
      "execution_count": 25,
      "outputs": [
        {
          "output_type": "execute_result",
          "execution_count": 25,
          "data": {
            "text/plain": "200"
          },
          "metadata": {}
        }
      ]
    },
    {
      "metadata": {
        "trusted": true
      },
      "cell_type": "code",
      "source": "import json",
      "execution_count": 26,
      "outputs": []
    },
    {
      "metadata": {
        "trusted": true
      },
      "cell_type": "code",
      "source": "json_r = json.loads(r.text)",
      "execution_count": 27,
      "outputs": []
    },
    {
      "metadata": {
        "trusted": true
      },
      "cell_type": "code",
      "source": "json_r.keys()",
      "execution_count": 28,
      "outputs": [
        {
          "output_type": "execute_result",
          "execution_count": 28,
          "data": {
            "text/plain": "dict_keys(['data', 'totalPages', 'currentPage', 'pageSize'])"
          },
          "metadata": {}
        }
      ]
    },
    {
      "metadata": {
        "trusted": true
      },
      "cell_type": "code",
      "source": "json_r['data']",
      "execution_count": 29,
      "outputs": [
        {
          "output_type": "execute_result",
          "execution_count": 29,
          "data": {
            "text/plain": "[{'date': '2019-12-13 00:00:00',\n  'tradePrice': 2170.25,\n  'change': 'RISE',\n  'changePrice': 32.9,\n  'accTradeVolume': 540027,\n  'accTradePrice': 6253215,\n  'individualStraightPurchasePrice': -989159288330,\n  'foreignStraightPurchasePrice': 513911365518,\n  'institutionStraightPurchasePrice': 479693826189},\n {'date': '2019-12-12 00:00:00',\n  'tradePrice': 2137.35,\n  'change': 'RISE',\n  'changePrice': 31.73,\n  'accTradeVolume': 584636,\n  'accTradePrice': 8339490,\n  'individualStraightPurchasePrice': -917451418826,\n  'foreignStraightPurchasePrice': 551191440405,\n  'institutionStraightPurchasePrice': 347309840463},\n {'date': '2019-12-11 00:00:00',\n  'tradePrice': 2105.62,\n  'change': 'RISE',\n  'changePrice': 7.62,\n  'accTradeVolume': 668731,\n  'accTradePrice': 4837220,\n  'individualStraightPurchasePrice': -176578748780,\n  'foreignStraightPurchasePrice': -7512087097,\n  'institutionStraightPurchasePrice': 144964259752},\n {'date': '2019-12-10 00:00:00',\n  'tradePrice': 2098.0,\n  'change': 'RISE',\n  'changePrice': 9.35,\n  'accTradeVolume': 500064,\n  'accTradePrice': 4172974,\n  'individualStraightPurchasePrice': -131064343422,\n  'foreignStraightPurchasePrice': -19309670716,\n  'institutionStraightPurchasePrice': 116910381394},\n {'date': '2019-12-09 00:00:00',\n  'tradePrice': 2088.65,\n  'change': 'RISE',\n  'changePrice': 6.8,\n  'accTradeVolume': 393126,\n  'accTradePrice': 3982512,\n  'individualStraightPurchasePrice': -81820163393,\n  'foreignStraightPurchasePrice': 64964399875,\n  'institutionStraightPurchasePrice': -19757968323},\n {'date': '2019-12-06 00:00:00',\n  'tradePrice': 2081.85,\n  'change': 'RISE',\n  'changePrice': 21.11,\n  'accTradeVolume': 440188,\n  'accTradePrice': 4215044,\n  'individualStraightPurchasePrice': -220119538277,\n  'foreignStraightPurchasePrice': 43006416008,\n  'institutionStraightPurchasePrice': 160346164515},\n {'date': '2019-12-05 00:00:00',\n  'tradePrice': 2060.74,\n  'change': 'FALL',\n  'changePrice': 8.15,\n  'accTradeVolume': 472188,\n  'accTradePrice': 4625010,\n  'individualStraightPurchasePrice': 58967578896,\n  'foreignStraightPurchasePrice': -67788796908,\n  'institutionStraightPurchasePrice': -24705056508},\n {'date': '2019-12-04 00:00:00',\n  'tradePrice': 2068.89,\n  'change': 'FALL',\n  'changePrice': 15.18,\n  'accTradeVolume': 347002,\n  'accTradePrice': 5085778,\n  'individualStraightPurchasePrice': 320188828334,\n  'foreignStraightPurchasePrice': -395335041350,\n  'institutionStraightPurchasePrice': 50796622698},\n {'date': '2019-12-03 00:00:00',\n  'tradePrice': 2084.07,\n  'change': 'FALL',\n  'changePrice': 7.85,\n  'accTradeVolume': 450039,\n  'accTradePrice': 4709539,\n  'individualStraightPurchasePrice': 127267305479,\n  'foreignStraightPurchasePrice': -269220100067,\n  'institutionStraightPurchasePrice': 114713957776},\n {'date': '2019-12-02 00:00:00',\n  'tradePrice': 2091.92,\n  'change': 'RISE',\n  'changePrice': 3.96,\n  'accTradeVolume': 385343,\n  'accTradePrice': 4515836,\n  'individualStraightPurchasePrice': 49685807232,\n  'foreignStraightPurchasePrice': -392000039710,\n  'institutionStraightPurchasePrice': 309396282888},\n {'date': '2019-11-29 00:00:00',\n  'tradePrice': 2087.96,\n  'change': 'FALL',\n  'changePrice': 30.64,\n  'accTradeVolume': 433260,\n  'accTradePrice': 5100926,\n  'individualStraightPurchasePrice': 443432758845,\n  'foreignStraightPurchasePrice': -449933226868,\n  'institutionStraightPurchasePrice': -48651688850},\n {'date': '2019-11-28 00:00:00',\n  'tradePrice': 2118.6,\n  'change': 'FALL',\n  'changePrice': 9.25,\n  'accTradeVolume': 335227,\n  'accTradePrice': 4483257,\n  'individualStraightPurchasePrice': 28204891052,\n  'foreignStraightPurchasePrice': -116674994355,\n  'institutionStraightPurchasePrice': 72029926788},\n {'date': '2019-11-27 00:00:00',\n  'tradePrice': 2127.85,\n  'change': 'RISE',\n  'changePrice': 6.5,\n  'accTradeVolume': 367796,\n  'accTradePrice': 4318299,\n  'individualStraightPurchasePrice': 18068550372,\n  'foreignStraightPurchasePrice': -143091070751,\n  'institutionStraightPurchasePrice': 94186142189},\n {'date': '2019-11-26 00:00:00',\n  'tradePrice': 2121.35,\n  'change': 'FALL',\n  'changePrice': 2.15,\n  'accTradeVolume': 532600,\n  'accTradePrice': 7636050,\n  'individualStraightPurchasePrice': 60411221037,\n  'foreignStraightPurchasePrice': -857333987264,\n  'institutionStraightPurchasePrice': 763069951315},\n {'date': '2019-11-25 00:00:00',\n  'tradePrice': 2123.5,\n  'change': 'RISE',\n  'changePrice': 21.54,\n  'accTradeVolume': 397676,\n  'accTradePrice': 4288509,\n  'individualStraightPurchasePrice': -140773018268,\n  'foreignStraightPurchasePrice': -259477724433,\n  'institutionStraightPurchasePrice': 358914415593},\n {'date': '2019-11-22 00:00:00',\n  'tradePrice': 2101.96,\n  'change': 'RISE',\n  'changePrice': 5.36,\n  'accTradeVolume': 519852,\n  'accTradePrice': 4310267,\n  'individualStraightPurchasePrice': 58259755778,\n  'foreignStraightPurchasePrice': -186042384719,\n  'institutionStraightPurchasePrice': 91181180853},\n {'date': '2019-11-21 00:00:00',\n  'tradePrice': 2096.6,\n  'change': 'FALL',\n  'changePrice': 28.72,\n  'accTradeVolume': 579554,\n  'accTradePrice': 5437430,\n  'individualStraightPurchasePrice': 253435776440,\n  'foreignStraightPurchasePrice': -570635361755,\n  'institutionStraightPurchasePrice': 264547309788},\n {'date': '2019-11-20 00:00:00',\n  'tradePrice': 2125.32,\n  'change': 'FALL',\n  'changePrice': 27.92,\n  'accTradeVolume': 581056,\n  'accTradePrice': 5583376,\n  'individualStraightPurchasePrice': 360583518252,\n  'foreignStraightPurchasePrice': -334143015722,\n  'institutionStraightPurchasePrice': -98121543144},\n {'date': '2019-11-19 00:00:00',\n  'tradePrice': 2153.24,\n  'change': 'FALL',\n  'changePrice': 7.45,\n  'accTradeVolume': 826885,\n  'accTradePrice': 5605578,\n  'individualStraightPurchasePrice': 96038130792,\n  'foreignStraightPurchasePrice': -12765303107,\n  'institutionStraightPurchasePrice': -120251143497},\n {'date': '2019-11-18 00:00:00',\n  'tradePrice': 2160.69,\n  'change': 'FALL',\n  'changePrice': 1.49,\n  'accTradeVolume': 489233,\n  'accTradePrice': 4450920,\n  'individualStraightPurchasePrice': 66501141822,\n  'foreignStraightPurchasePrice': -162737154221,\n  'institutionStraightPurchasePrice': 63444080729},\n {'date': '2019-11-15 00:00:00',\n  'tradePrice': 2162.18,\n  'change': 'RISE',\n  'changePrice': 22.95,\n  'accTradeVolume': 556246,\n  'accTradePrice': 5694837,\n  'individualStraightPurchasePrice': -656132858763,\n  'foreignStraightPurchasePrice': -141601319341,\n  'institutionStraightPurchasePrice': 785893880208},\n {'date': '2019-11-14 00:00:00',\n  'tradePrice': 2139.23,\n  'change': 'RISE',\n  'changePrice': 16.78,\n  'accTradeVolume': 521109,\n  'accTradePrice': 6080226,\n  'individualStraightPurchasePrice': -62021227512,\n  'foreignStraightPurchasePrice': -208654197370,\n  'institutionStraightPurchasePrice': 226055250656},\n {'date': '2019-11-13 00:00:00',\n  'tradePrice': 2122.45,\n  'change': 'FALL',\n  'changePrice': 18.47,\n  'accTradeVolume': 664365,\n  'accTradePrice': 5376790,\n  'individualStraightPurchasePrice': 227668475510,\n  'foreignStraightPurchasePrice': -27974666537,\n  'institutionStraightPurchasePrice': -241883637580},\n {'date': '2019-11-12 00:00:00',\n  'tradePrice': 2140.92,\n  'change': 'RISE',\n  'changePrice': 16.83,\n  'accTradeVolume': 610428,\n  'accTradePrice': 5743924,\n  'individualStraightPurchasePrice': 23751026367,\n  'foreignStraightPurchasePrice': -39480199447,\n  'institutionStraightPurchasePrice': -15128942148},\n {'date': '2019-11-11 00:00:00',\n  'tradePrice': 2124.09,\n  'change': 'FALL',\n  'changePrice': 13.14,\n  'accTradeVolume': 617265,\n  'accTradePrice': 5346845,\n  'individualStraightPurchasePrice': 140467729306,\n  'foreignStraightPurchasePrice': -172228741158,\n  'institutionStraightPurchasePrice': -906838044},\n {'date': '2019-11-08 00:00:00',\n  'tradePrice': 2137.23,\n  'change': 'FALL',\n  'changePrice': 7.06,\n  'accTradeVolume': 574127,\n  'accTradePrice': 5969290,\n  'individualStraightPurchasePrice': 6330602144,\n  'foreignStraightPurchasePrice': -103705132195,\n  'institutionStraightPurchasePrice': 62993794555},\n {'date': '2019-11-07 00:00:00',\n  'tradePrice': 2144.29,\n  'change': 'RISE',\n  'changePrice': 0.14,\n  'accTradeVolume': 425662,\n  'accTradePrice': 5134908,\n  'individualStraightPurchasePrice': 64250476063,\n  'foreignStraightPurchasePrice': -153251853630,\n  'institutionStraightPurchasePrice': 53549902288},\n {'date': '2019-11-06 00:00:00',\n  'tradePrice': 2144.15,\n  'change': 'RISE',\n  'changePrice': 1.51,\n  'accTradeVolume': 410084,\n  'accTradePrice': 5680104,\n  'individualStraightPurchasePrice': -66776165781,\n  'foreignStraightPurchasePrice': 236949812867,\n  'institutionStraightPurchasePrice': -213635443996},\n {'date': '2019-11-05 00:00:00',\n  'tradePrice': 2142.64,\n  'change': 'RISE',\n  'changePrice': 12.4,\n  'accTradeVolume': 400643,\n  'accTradePrice': 5181344,\n  'individualStraightPurchasePrice': -211157918083,\n  'foreignStraightPurchasePrice': 321611105712,\n  'institutionStraightPurchasePrice': -133513181420},\n {'date': '2019-11-04 00:00:00',\n  'tradePrice': 2130.24,\n  'change': 'RISE',\n  'changePrice': 30.04,\n  'accTradeVolume': 476256,\n  'accTradePrice': 5636693,\n  'individualStraightPurchasePrice': -512558096678,\n  'foreignStraightPurchasePrice': 68172775844,\n  'institutionStraightPurchasePrice': 464360806837},\n {'date': '2019-11-01 00:00:00',\n  'tradePrice': 2100.2,\n  'change': 'RISE',\n  'changePrice': 16.72,\n  'accTradeVolume': 418314,\n  'accTradePrice': 4599472,\n  'individualStraightPurchasePrice': -59365946305,\n  'foreignStraightPurchasePrice': 137809348775,\n  'institutionStraightPurchasePrice': -118443701845},\n {'date': '2019-10-31 00:00:00',\n  'tradePrice': 2083.48,\n  'change': 'RISE',\n  'changePrice': 3.21,\n  'accTradeVolume': 461322,\n  'accTradePrice': 5777340,\n  'individualStraightPurchasePrice': -149834107990,\n  'foreignStraightPurchasePrice': 34735932471,\n  'institutionStraightPurchasePrice': 59352159748},\n {'date': '2019-10-30 00:00:00',\n  'tradePrice': 2080.27,\n  'change': 'FALL',\n  'changePrice': 12.42,\n  'accTradeVolume': 415551,\n  'accTradePrice': 5051507,\n  'individualStraightPurchasePrice': 154415491858,\n  'foreignStraightPurchasePrice': 10091359734,\n  'institutionStraightPurchasePrice': -224860065364},\n {'date': '2019-10-29 00:00:00',\n  'tradePrice': 2092.69,\n  'change': 'FALL',\n  'changePrice': 0.91,\n  'accTradeVolume': 357662,\n  'accTradePrice': 4067889,\n  'individualStraightPurchasePrice': -16792808313,\n  'foreignStraightPurchasePrice': -99643916447,\n  'institutionStraightPurchasePrice': 73462745451},\n {'date': '2019-10-28 00:00:00',\n  'tradePrice': 2093.6,\n  'change': 'RISE',\n  'changePrice': 5.71,\n  'accTradeVolume': 269233,\n  'accTradePrice': 3853804,\n  'individualStraightPurchasePrice': -125464221480,\n  'foreignStraightPurchasePrice': -55958667346,\n  'institutionStraightPurchasePrice': 135903979345},\n {'date': '2019-10-25 00:00:00',\n  'tradePrice': 2087.89,\n  'change': 'RISE',\n  'changePrice': 2.23,\n  'accTradeVolume': 348686,\n  'accTradePrice': 4429328,\n  'individualStraightPurchasePrice': -107239103045,\n  'foreignStraightPurchasePrice': 57017451577,\n  'institutionStraightPurchasePrice': 41519411582},\n {'date': '2019-10-24 00:00:00',\n  'tradePrice': 2085.66,\n  'change': 'RISE',\n  'changePrice': 5.04,\n  'accTradeVolume': 367717,\n  'accTradePrice': 5208814,\n  'individualStraightPurchasePrice': -158707892576,\n  'foreignStraightPurchasePrice': 174125653978,\n  'institutionStraightPurchasePrice': -55967506872},\n {'date': '2019-10-23 00:00:00',\n  'tradePrice': 2080.62,\n  'change': 'FALL',\n  'changePrice': 8.24,\n  'accTradeVolume': 429453,\n  'accTradePrice': 5110883,\n  'individualStraightPurchasePrice': 30299871445,\n  'foreignStraightPurchasePrice': 116755434776,\n  'institutionStraightPurchasePrice': -150348286895},\n {'date': '2019-10-22 00:00:00',\n  'tradePrice': 2088.86,\n  'change': 'RISE',\n  'changePrice': 24.02,\n  'accTradeVolume': 504063,\n  'accTradePrice': 4811062,\n  'individualStraightPurchasePrice': -529237290627,\n  'foreignStraightPurchasePrice': 86059763079,\n  'institutionStraightPurchasePrice': 433521369236},\n {'date': '2019-10-21 00:00:00',\n  'tradePrice': 2064.84,\n  'change': 'RISE',\n  'changePrice': 4.15,\n  'accTradeVolume': 606108,\n  'accTradePrice': 3598365,\n  'individualStraightPurchasePrice': 44645087205,\n  'foreignStraightPurchasePrice': -120771694742,\n  'institutionStraightPurchasePrice': 54174054571},\n {'date': '2019-10-18 00:00:00',\n  'tradePrice': 2060.69,\n  'change': 'FALL',\n  'changePrice': 17.25,\n  'accTradeVolume': 516687,\n  'accTradePrice': 5429306,\n  'individualStraightPurchasePrice': 229220320065,\n  'foreignStraightPurchasePrice': -130164300963,\n  'institutionStraightPurchasePrice': -99977064496},\n {'date': '2019-10-17 00:00:00',\n  'tradePrice': 2077.94,\n  'change': 'FALL',\n  'changePrice': 4.89,\n  'accTradeVolume': 314177,\n  'accTradePrice': 3484053,\n  'individualStraightPurchasePrice': -9579471472,\n  'foreignStraightPurchasePrice': -94513433384,\n  'institutionStraightPurchasePrice': 84331383093},\n {'date': '2019-10-16 00:00:00',\n  'tradePrice': 2082.83,\n  'change': 'RISE',\n  'changePrice': 14.66,\n  'accTradeVolume': 524545,\n  'accTradePrice': 4463659,\n  'individualStraightPurchasePrice': -177394148252,\n  'foreignStraightPurchasePrice': 4577206853,\n  'institutionStraightPurchasePrice': 144702646598},\n {'date': '2019-10-15 00:00:00',\n  'tradePrice': 2068.17,\n  'change': 'RISE',\n  'changePrice': 0.77,\n  'accTradeVolume': 464533,\n  'accTradePrice': 4138985,\n  'individualStraightPurchasePrice': 27165428090,\n  'foreignStraightPurchasePrice': -60201552737,\n  'institutionStraightPurchasePrice': 10908800101},\n {'date': '2019-10-14 00:00:00',\n  'tradePrice': 2067.4,\n  'change': 'RISE',\n  'changePrice': 22.79,\n  'accTradeVolume': 511215,\n  'accTradePrice': 4579415,\n  'individualStraightPurchasePrice': -261208486935,\n  'foreignStraightPurchasePrice': 22134976452,\n  'institutionStraightPurchasePrice': 221866040613},\n {'date': '2019-10-11 00:00:00',\n  'tradePrice': 2044.61,\n  'change': 'RISE',\n  'changePrice': 16.46,\n  'accTradeVolume': 381147,\n  'accTradePrice': 3790613,\n  'individualStraightPurchasePrice': -156161212685,\n  'foreignStraightPurchasePrice': 109270821883,\n  'institutionStraightPurchasePrice': 43761467629},\n {'date': '2019-10-10 00:00:00',\n  'tradePrice': 2028.15,\n  'change': 'FALL',\n  'changePrice': 18.1,\n  'accTradeVolume': 445846,\n  'accTradePrice': 5612446,\n  'individualStraightPurchasePrice': 228096548281,\n  'foreignStraightPurchasePrice': -137561655865,\n  'institutionStraightPurchasePrice': -95443688689},\n {'date': '2019-10-08 00:00:00',\n  'tradePrice': 2046.25,\n  'change': 'RISE',\n  'changePrice': 24.52,\n  'accTradeVolume': 437517,\n  'accTradePrice': 4256283,\n  'individualStraightPurchasePrice': -255102756563,\n  'foreignStraightPurchasePrice': -46097194977,\n  'institutionStraightPurchasePrice': 303487802077},\n {'date': '2019-10-07 00:00:00',\n  'tradePrice': 2021.73,\n  'change': 'RISE',\n  'changePrice': 1.04,\n  'accTradeVolume': 322184,\n  'accTradePrice': 3412076,\n  'individualStraightPurchasePrice': -42333439977,\n  'foreignStraightPurchasePrice': -22884907049,\n  'institutionStraightPurchasePrice': 44012442552},\n {'date': '2019-10-04 00:00:00',\n  'tradePrice': 2020.69,\n  'change': 'FALL',\n  'changePrice': 11.22,\n  'accTradeVolume': 402940,\n  'accTradePrice': 3963264,\n  'individualStraightPurchasePrice': 100059578604,\n  'foreignStraightPurchasePrice': -149003748294,\n  'institutionStraightPurchasePrice': 24266249693},\n {'date': '2019-10-02 00:00:00',\n  'tradePrice': 2031.91,\n  'change': 'FALL',\n  'changePrice': 40.51,\n  'accTradeVolume': 414460,\n  'accTradePrice': 3933921,\n  'individualStraightPurchasePrice': 502162483818,\n  'foreignStraightPurchasePrice': -112448425614,\n  'institutionStraightPurchasePrice': -380898290327},\n {'date': '2019-10-01 00:00:00',\n  'tradePrice': 2072.42,\n  'change': 'RISE',\n  'changePrice': 9.37,\n  'accTradeVolume': 389336,\n  'accTradePrice': 3869998,\n  'individualStraightPurchasePrice': -158455229247,\n  'foreignStraightPurchasePrice': -142618642344,\n  'institutionStraightPurchasePrice': 295059996594},\n {'date': '2019-09-30 00:00:00',\n  'tradePrice': 2063.05,\n  'change': 'RISE',\n  'changePrice': 13.12,\n  'accTradeVolume': 327625,\n  'accTradePrice': 3709169,\n  'individualStraightPurchasePrice': -98097153737,\n  'foreignStraightPurchasePrice': -475545562,\n  'institutionStraightPurchasePrice': 81203653074},\n {'date': '2019-09-27 00:00:00',\n  'tradePrice': 2049.93,\n  'change': 'FALL',\n  'changePrice': 24.59,\n  'accTradeVolume': 285943,\n  'accTradePrice': 3489260,\n  'individualStraightPurchasePrice': 199478946968,\n  'foreignStraightPurchasePrice': -24901280381,\n  'institutionStraightPurchasePrice': -175507470047},\n {'date': '2019-09-26 00:00:00',\n  'tradePrice': 2074.52,\n  'change': 'RISE',\n  'changePrice': 1.13,\n  'accTradeVolume': 430577,\n  'accTradePrice': 4656831,\n  'individualStraightPurchasePrice': 51752933707,\n  'foreignStraightPurchasePrice': 315990133016,\n  'institutionStraightPurchasePrice': -384835849198},\n {'date': '2019-09-25 00:00:00',\n  'tradePrice': 2073.39,\n  'change': 'FALL',\n  'changePrice': 27.65,\n  'accTradeVolume': 651551,\n  'accTradePrice': 5181991,\n  'individualStraightPurchasePrice': 222585025966,\n  'foreignStraightPurchasePrice': -366056304034,\n  'institutionStraightPurchasePrice': 129146832772},\n {'date': '2019-09-24 00:00:00',\n  'tradePrice': 2101.04,\n  'change': 'RISE',\n  'changePrice': 9.34,\n  'accTradeVolume': 535771,\n  'accTradePrice': 4406729,\n  'individualStraightPurchasePrice': -162028737165,\n  'foreignStraightPurchasePrice': -216239549194,\n  'institutionStraightPurchasePrice': 377963881920},\n {'date': '2019-09-23 00:00:00',\n  'tradePrice': 2091.7,\n  'change': 'RISE',\n  'changePrice': 0.18,\n  'accTradeVolume': 420948,\n  'accTradePrice': 4095773,\n  'individualStraightPurchasePrice': -22347560033,\n  'foreignStraightPurchasePrice': -68884269086,\n  'institutionStraightPurchasePrice': 83893368149},\n {'date': '2019-09-20 00:00:00',\n  'tradePrice': 2091.52,\n  'change': 'RISE',\n  'changePrice': 11.17,\n  'accTradeVolume': 589919,\n  'accTradePrice': 5401656,\n  'individualStraightPurchasePrice': -214725021463,\n  'foreignStraightPurchasePrice': 44514968772,\n  'institutionStraightPurchasePrice': 181593332070},\n {'date': '2019-09-19 00:00:00',\n  'tradePrice': 2080.35,\n  'change': 'RISE',\n  'changePrice': 9.62,\n  'accTradeVolume': 493037,\n  'accTradePrice': 4796838,\n  'individualStraightPurchasePrice': -101076420785,\n  'foreignStraightPurchasePrice': 218143869174,\n  'institutionStraightPurchasePrice': -99305988401},\n {'date': '2019-09-18 00:00:00',\n  'tradePrice': 2070.73,\n  'change': 'RISE',\n  'changePrice': 8.4,\n  'accTradeVolume': 613147,\n  'accTradePrice': 4849403,\n  'individualStraightPurchasePrice': -161556343485,\n  'foreignStraightPurchasePrice': 55855959664,\n  'institutionStraightPurchasePrice': 107450902103},\n {'date': '2019-09-17 00:00:00',\n  'tradePrice': 2062.33,\n  'change': 'RISE',\n  'changePrice': 0.11,\n  'accTradeVolume': 507995,\n  'accTradePrice': 4572240,\n  'individualStraightPurchasePrice': -31324847676,\n  'foreignStraightPurchasePrice': -80498635244,\n  'institutionStraightPurchasePrice': 96187314534},\n {'date': '2019-09-16 00:00:00',\n  'tradePrice': 2062.22,\n  'change': 'RISE',\n  'changePrice': 13.02,\n  'accTradeVolume': 493516,\n  'accTradePrice': 5676634,\n  'individualStraightPurchasePrice': -45665662398,\n  'foreignStraightPurchasePrice': -160248644647,\n  'institutionStraightPurchasePrice': 198207559509},\n {'date': '2019-09-11 00:00:00',\n  'tradePrice': 2049.2,\n  'change': 'RISE',\n  'changePrice': 17.12,\n  'accTradeVolume': 429075,\n  'accTradePrice': 5997521,\n  'individualStraightPurchasePrice': -334422549307,\n  'foreignStraightPurchasePrice': -283727737999,\n  'institutionStraightPurchasePrice': 613450656344},\n {'date': '2019-09-10 00:00:00',\n  'tradePrice': 2032.08,\n  'change': 'RISE',\n  'changePrice': 12.53,\n  'accTradeVolume': 504390,\n  'accTradePrice': 4458784,\n  'individualStraightPurchasePrice': -191938842008,\n  'foreignStraightPurchasePrice': 14629865416,\n  'institutionStraightPurchasePrice': 171307182962},\n {'date': '2019-09-09 00:00:00',\n  'tradePrice': 2019.55,\n  'change': 'RISE',\n  'changePrice': 10.42,\n  'accTradeVolume': 511821,\n  'accTradePrice': 4401821,\n  'individualStraightPurchasePrice': -173010797338,\n  'foreignStraightPurchasePrice': 233532689344,\n  'institutionStraightPurchasePrice': -74667972573},\n {'date': '2019-09-06 00:00:00',\n  'tradePrice': 2009.13,\n  'change': 'RISE',\n  'changePrice': 4.38,\n  'accTradeVolume': 384440,\n  'accTradePrice': 3667155,\n  'individualStraightPurchasePrice': -33833975404,\n  'foreignStraightPurchasePrice': 48317361339,\n  'institutionStraightPurchasePrice': -19925504719},\n {'date': '2019-09-05 00:00:00',\n  'tradePrice': 2004.75,\n  'change': 'RISE',\n  'changePrice': 16.22,\n  'accTradeVolume': 488067,\n  'accTradePrice': 5556532,\n  'individualStraightPurchasePrice': -284403732799,\n  'foreignStraightPurchasePrice': 188025900794,\n  'institutionStraightPurchasePrice': 92947264356},\n {'date': '2019-09-04 00:00:00',\n  'tradePrice': 1988.53,\n  'change': 'RISE',\n  'changePrice': 22.84,\n  'accTradeVolume': 348722,\n  'accTradePrice': 4133684,\n  'individualStraightPurchasePrice': -149628132398,\n  'foreignStraightPurchasePrice': -350239221648,\n  'institutionStraightPurchasePrice': 482953130991},\n {'date': '2019-09-03 00:00:00',\n  'tradePrice': 1965.69,\n  'change': 'FALL',\n  'changePrice': 3.5,\n  'accTradeVolume': 342077,\n  'accTradePrice': 3916057,\n  'individualStraightPurchasePrice': 40405280337,\n  'foreignStraightPurchasePrice': -305062695357,\n  'institutionStraightPurchasePrice': 249135022693},\n {'date': '2019-09-02 00:00:00',\n  'tradePrice': 1969.19,\n  'change': 'RISE',\n  'changePrice': 1.4,\n  'accTradeVolume': 262154,\n  'accTradePrice': 2924232,\n  'individualStraightPurchasePrice': -19632365980,\n  'foreignStraightPurchasePrice': -124189500551,\n  'institutionStraightPurchasePrice': 132218528837},\n {'date': '2019-08-30 00:00:00',\n  'tradePrice': 1967.79,\n  'change': 'RISE',\n  'changePrice': 34.38,\n  'accTradeVolume': 317733,\n  'accTradePrice': 4371488,\n  'individualStraightPurchasePrice': -398216732876,\n  'foreignStraightPurchasePrice': 224313278883,\n  'institutionStraightPurchasePrice': 165158072830},\n {'date': '2019-08-29 00:00:00',\n  'tradePrice': 1933.41,\n  'change': 'FALL',\n  'changePrice': 7.68,\n  'accTradeVolume': 285103,\n  'accTradePrice': 3709595,\n  'individualStraightPurchasePrice': 52354071793,\n  'foreignStraightPurchasePrice': -112942804811,\n  'institutionStraightPurchasePrice': 45450492044},\n {'date': '2019-08-28 00:00:00',\n  'tradePrice': 1941.09,\n  'change': 'RISE',\n  'changePrice': 16.49,\n  'accTradeVolume': 284344,\n  'accTradePrice': 3288745,\n  'individualStraightPurchasePrice': -74887457987,\n  'foreignStraightPurchasePrice': -52144060447,\n  'institutionStraightPurchasePrice': 106188638593},\n {'date': '2019-08-27 00:00:00',\n  'tradePrice': 1924.6,\n  'change': 'RISE',\n  'changePrice': 8.29,\n  'accTradeVolume': 427042,\n  'accTradePrice': 5037419,\n  'individualStraightPurchasePrice': -30920547065,\n  'foreignStraightPurchasePrice': -118071560217,\n  'institutionStraightPurchasePrice': 131310675848},\n {'date': '2019-08-26 00:00:00',\n  'tradePrice': 1916.31,\n  'change': 'FALL',\n  'changePrice': 31.99,\n  'accTradeVolume': 324853,\n  'accTradePrice': 3751275,\n  'individualStraightPurchasePrice': 53432164770,\n  'foreignStraightPurchasePrice': -117499577116,\n  'institutionStraightPurchasePrice': 70914593951},\n {'date': '2019-08-23 00:00:00',\n  'tradePrice': 1948.3,\n  'change': 'FALL',\n  'changePrice': 2.71,\n  'accTradeVolume': 381086,\n  'accTradePrice': 3498464,\n  'individualStraightPurchasePrice': -91222239146,\n  'foreignStraightPurchasePrice': 7492820208,\n  'institutionStraightPurchasePrice': 66365573782},\n {'date': '2019-08-22 00:00:00',\n  'tradePrice': 1951.01,\n  'change': 'FALL',\n  'changePrice': 13.64,\n  'accTradeVolume': 435564,\n  'accTradePrice': 4095130,\n  'individualStraightPurchasePrice': 161865603724,\n  'foreignStraightPurchasePrice': -122875847809,\n  'institutionStraightPurchasePrice': -51246331463},\n {'date': '2019-08-21 00:00:00',\n  'tradePrice': 1964.65,\n  'change': 'RISE',\n  'changePrice': 4.4,\n  'accTradeVolume': 391567,\n  'accTradePrice': 3821800,\n  'individualStraightPurchasePrice': 100467451387,\n  'foreignStraightPurchasePrice': -127370846222,\n  'institutionStraightPurchasePrice': 4752606868},\n {'date': '2019-08-20 00:00:00',\n  'tradePrice': 1960.25,\n  'change': 'RISE',\n  'changePrice': 20.35,\n  'accTradeVolume': 463604,\n  'accTradePrice': 4130252,\n  'individualStraightPurchasePrice': -59971389966,\n  'foreignStraightPurchasePrice': 113008010709,\n  'institutionStraightPurchasePrice': -72294462481},\n {'date': '2019-08-19 00:00:00',\n  'tradePrice': 1939.9,\n  'change': 'RISE',\n  'changePrice': 12.73,\n  'accTradeVolume': 481022,\n  'accTradePrice': 3771542,\n  'individualStraightPurchasePrice': -57323479255,\n  'foreignStraightPurchasePrice': -139177830251,\n  'institutionStraightPurchasePrice': 186928491641},\n {'date': '2019-08-16 00:00:00',\n  'tradePrice': 1927.17,\n  'change': 'FALL',\n  'changePrice': 11.2,\n  'accTradeVolume': 421682,\n  'accTradePrice': 4274269,\n  'individualStraightPurchasePrice': 54935987001,\n  'foreignStraightPurchasePrice': -93656571037,\n  'institutionStraightPurchasePrice': 15260133268},\n {'date': '2019-08-14 00:00:00',\n  'tradePrice': 1938.37,\n  'change': 'RISE',\n  'changePrice': 12.54,\n  'accTradeVolume': 699585,\n  'accTradePrice': 5076486,\n  'individualStraightPurchasePrice': 51953202146,\n  'foreignStraightPurchasePrice': -50129997513,\n  'institutionStraightPurchasePrice': -24330176800},\n {'date': '2019-08-13 00:00:00',\n  'tradePrice': 1925.83,\n  'change': 'FALL',\n  'changePrice': 16.46,\n  'accTradeVolume': 660040,\n  'accTradePrice': 4340208,\n  'individualStraightPurchasePrice': 155826882552,\n  'foreignStraightPurchasePrice': -176459913402,\n  'institutionStraightPurchasePrice': -2380357390},\n {'date': '2019-08-12 00:00:00',\n  'tradePrice': 1942.29,\n  'change': 'RISE',\n  'changePrice': 4.54,\n  'accTradeVolume': 427140,\n  'accTradePrice': 3997754,\n  'individualStraightPurchasePrice': 184119206841,\n  'foreignStraightPurchasePrice': -2395929386,\n  'institutionStraightPurchasePrice': -185360740676},\n {'date': '2019-08-09 00:00:00',\n  'tradePrice': 1937.75,\n  'change': 'RISE',\n  'changePrice': 17.14,\n  'accTradeVolume': 654344,\n  'accTradePrice': 5051265,\n  'individualStraightPurchasePrice': 215206061014,\n  'foreignStraightPurchasePrice': -4334615152,\n  'institutionStraightPurchasePrice': -229155018247},\n {'date': '2019-08-08 00:00:00',\n  'tradePrice': 1920.61,\n  'change': 'RISE',\n  'changePrice': 10.9,\n  'accTradeVolume': 777165,\n  'accTradePrice': 6769546,\n  'individualStraightPurchasePrice': 238953911687,\n  'foreignStraightPurchasePrice': -101694690381,\n  'institutionStraightPurchasePrice': -141687955340},\n {'date': '2019-08-07 00:00:00',\n  'tradePrice': 1909.71,\n  'change': 'FALL',\n  'changePrice': 7.79,\n  'accTradeVolume': 760777,\n  'accTradePrice': 5373398,\n  'individualStraightPurchasePrice': 176924442075,\n  'foreignStraightPurchasePrice': -97980977628,\n  'institutionStraightPurchasePrice': -98993496249},\n {'date': '2019-08-06 00:00:00',\n  'tradePrice': 1917.5,\n  'change': 'FALL',\n  'changePrice': 29.48,\n  'accTradeVolume': 739588,\n  'accTradePrice': 7179083,\n  'individualStraightPurchasePrice': -443939223985,\n  'foreignStraightPurchasePrice': -605553038200,\n  'institutionStraightPurchasePrice': 1033727530027},\n {'date': '2019-08-05 00:00:00',\n  'tradePrice': 1946.98,\n  'change': 'FALL',\n  'changePrice': 51.15,\n  'accTradeVolume': 639603,\n  'accTradePrice': 6599770,\n  'individualStraightPurchasePrice': -443678573896,\n  'foreignStraightPurchasePrice': -316921730824,\n  'institutionStraightPurchasePrice': 735509370197},\n {'date': '2019-08-02 00:00:00',\n  'tradePrice': 1998.13,\n  'change': 'FALL',\n  'changePrice': 19.21,\n  'accTradeVolume': 438538,\n  'accTradePrice': 5338221,\n  'individualStraightPurchasePrice': 14287893269,\n  'foreignStraightPurchasePrice': -397933068513,\n  'institutionStraightPurchasePrice': 362568870372},\n {'date': '2019-08-01 00:00:00',\n  'tradePrice': 2017.34,\n  'change': 'FALL',\n  'changePrice': 7.21,\n  'accTradeVolume': 461743,\n  'accTradePrice': 4443149,\n  'individualStraightPurchasePrice': -87314908217,\n  'foreignStraightPurchasePrice': -5092952337,\n  'institutionStraightPurchasePrice': 83630987901},\n {'date': '2019-07-31 00:00:00',\n  'tradePrice': 2024.55,\n  'change': 'FALL',\n  'changePrice': 14.13,\n  'accTradeVolume': 589386,\n  'accTradePrice': 5532912,\n  'individualStraightPurchasePrice': -77404357141,\n  'foreignStraightPurchasePrice': -49583350880,\n  'institutionStraightPurchasePrice': 120876288754},\n {'date': '2019-07-30 00:00:00',\n  'tradePrice': 2038.68,\n  'change': 'RISE',\n  'changePrice': 9.2,\n  'accTradeVolume': 547029,\n  'accTradePrice': 3877489,\n  'individualStraightPurchasePrice': -146922035051,\n  'foreignStraightPurchasePrice': 141017930442,\n  'institutionStraightPurchasePrice': 3852103061},\n {'date': '2019-07-29 00:00:00',\n  'tradePrice': 2029.48,\n  'change': 'FALL',\n  'changePrice': 36.78,\n  'accTradeVolume': 608670,\n  'accTradePrice': 4681216,\n  'individualStraightPurchasePrice': -76722402182,\n  'foreignStraightPurchasePrice': -62489251406,\n  'institutionStraightPurchasePrice': 135001794966},\n {'date': '2019-07-26 00:00:00',\n  'tradePrice': 2066.26,\n  'change': 'FALL',\n  'changePrice': 8.22,\n  'accTradeVolume': 589074,\n  'accTradePrice': 5138752,\n  'individualStraightPurchasePrice': -22056026426,\n  'foreignStraightPurchasePrice': 118419478003,\n  'institutionStraightPurchasePrice': -103154160451},\n {'date': '2019-07-25 00:00:00',\n  'tradePrice': 2074.48,\n  'change': 'FALL',\n  'changePrice': 7.82,\n  'accTradeVolume': 598634,\n  'accTradePrice': 5207429,\n  'individualStraightPurchasePrice': 45734287679,\n  'foreignStraightPurchasePrice': 112419778174,\n  'institutionStraightPurchasePrice': -153627893831},\n {'date': '2019-07-24 00:00:00',\n  'tradePrice': 2082.3,\n  'change': 'FALL',\n  'changePrice': 19.15,\n  'accTradeVolume': 851392,\n  'accTradePrice': 4233306,\n  'individualStraightPurchasePrice': 53253266145,\n  'foreignStraightPurchasePrice': 58544880573,\n  'institutionStraightPurchasePrice': -113962559883},\n {'date': '2019-07-23 00:00:00',\n  'tradePrice': 2101.45,\n  'change': 'RISE',\n  'changePrice': 8.11,\n  'accTradeVolume': 648123,\n  'accTradePrice': 4601029,\n  'individualStraightPurchasePrice': -283310817272,\n  'foreignStraightPurchasePrice': 285705105671,\n  'institutionStraightPurchasePrice': 3663580547},\n {'date': '2019-07-22 00:00:00',\n  'tradePrice': 2093.34,\n  'change': 'FALL',\n  'changePrice': 1.02,\n  'accTradeVolume': 332629,\n  'accTradePrice': 3206206,\n  'individualStraightPurchasePrice': -64682614027,\n  'foreignStraightPurchasePrice': 233499184472,\n  'institutionStraightPurchasePrice': -168552083597}]"
          },
          "metadata": {}
        }
      ]
    },
    {
      "metadata": {
        "trusted": true,
        "scrolled": false
      },
      "cell_type": "code",
      "source": "for content in json_r['data']:\n    \n    \",\".join([str(x) for x in list(content.values())])\n    print(\",\".join([str(x) for x in list(content.values())]))",
      "execution_count": 35,
      "outputs": [
        {
          "output_type": "stream",
          "text": "2019-12-13 00:00:00,2170.25,RISE,32.9,540027,6253215,-989159288330,513911365518,479693826189\n2019-12-12 00:00:00,2137.35,RISE,31.73,584636,8339490,-917451418826,551191440405,347309840463\n2019-12-11 00:00:00,2105.62,RISE,7.62,668731,4837220,-176578748780,-7512087097,144964259752\n2019-12-10 00:00:00,2098.0,RISE,9.35,500064,4172974,-131064343422,-19309670716,116910381394\n2019-12-09 00:00:00,2088.65,RISE,6.8,393126,3982512,-81820163393,64964399875,-19757968323\n2019-12-06 00:00:00,2081.85,RISE,21.11,440188,4215044,-220119538277,43006416008,160346164515\n2019-12-05 00:00:00,2060.74,FALL,8.15,472188,4625010,58967578896,-67788796908,-24705056508\n2019-12-04 00:00:00,2068.89,FALL,15.18,347002,5085778,320188828334,-395335041350,50796622698\n2019-12-03 00:00:00,2084.07,FALL,7.85,450039,4709539,127267305479,-269220100067,114713957776\n2019-12-02 00:00:00,2091.92,RISE,3.96,385343,4515836,49685807232,-392000039710,309396282888\n2019-11-29 00:00:00,2087.96,FALL,30.64,433260,5100926,443432758845,-449933226868,-48651688850\n2019-11-28 00:00:00,2118.6,FALL,9.25,335227,4483257,28204891052,-116674994355,72029926788\n2019-11-27 00:00:00,2127.85,RISE,6.5,367796,4318299,18068550372,-143091070751,94186142189\n2019-11-26 00:00:00,2121.35,FALL,2.15,532600,7636050,60411221037,-857333987264,763069951315\n2019-11-25 00:00:00,2123.5,RISE,21.54,397676,4288509,-140773018268,-259477724433,358914415593\n2019-11-22 00:00:00,2101.96,RISE,5.36,519852,4310267,58259755778,-186042384719,91181180853\n2019-11-21 00:00:00,2096.6,FALL,28.72,579554,5437430,253435776440,-570635361755,264547309788\n2019-11-20 00:00:00,2125.32,FALL,27.92,581056,5583376,360583518252,-334143015722,-98121543144\n2019-11-19 00:00:00,2153.24,FALL,7.45,826885,5605578,96038130792,-12765303107,-120251143497\n2019-11-18 00:00:00,2160.69,FALL,1.49,489233,4450920,66501141822,-162737154221,63444080729\n2019-11-15 00:00:00,2162.18,RISE,22.95,556246,5694837,-656132858763,-141601319341,785893880208\n2019-11-14 00:00:00,2139.23,RISE,16.78,521109,6080226,-62021227512,-208654197370,226055250656\n2019-11-13 00:00:00,2122.45,FALL,18.47,664365,5376790,227668475510,-27974666537,-241883637580\n2019-11-12 00:00:00,2140.92,RISE,16.83,610428,5743924,23751026367,-39480199447,-15128942148\n2019-11-11 00:00:00,2124.09,FALL,13.14,617265,5346845,140467729306,-172228741158,-906838044\n2019-11-08 00:00:00,2137.23,FALL,7.06,574127,5969290,6330602144,-103705132195,62993794555\n2019-11-07 00:00:00,2144.29,RISE,0.14,425662,5134908,64250476063,-153251853630,53549902288\n2019-11-06 00:00:00,2144.15,RISE,1.51,410084,5680104,-66776165781,236949812867,-213635443996\n2019-11-05 00:00:00,2142.64,RISE,12.4,400643,5181344,-211157918083,321611105712,-133513181420\n2019-11-04 00:00:00,2130.24,RISE,30.04,476256,5636693,-512558096678,68172775844,464360806837\n2019-11-01 00:00:00,2100.2,RISE,16.72,418314,4599472,-59365946305,137809348775,-118443701845\n2019-10-31 00:00:00,2083.48,RISE,3.21,461322,5777340,-149834107990,34735932471,59352159748\n2019-10-30 00:00:00,2080.27,FALL,12.42,415551,5051507,154415491858,10091359734,-224860065364\n2019-10-29 00:00:00,2092.69,FALL,0.91,357662,4067889,-16792808313,-99643916447,73462745451\n2019-10-28 00:00:00,2093.6,RISE,5.71,269233,3853804,-125464221480,-55958667346,135903979345\n2019-10-25 00:00:00,2087.89,RISE,2.23,348686,4429328,-107239103045,57017451577,41519411582\n2019-10-24 00:00:00,2085.66,RISE,5.04,367717,5208814,-158707892576,174125653978,-55967506872\n2019-10-23 00:00:00,2080.62,FALL,8.24,429453,5110883,30299871445,116755434776,-150348286895\n2019-10-22 00:00:00,2088.86,RISE,24.02,504063,4811062,-529237290627,86059763079,433521369236\n2019-10-21 00:00:00,2064.84,RISE,4.15,606108,3598365,44645087205,-120771694742,54174054571\n2019-10-18 00:00:00,2060.69,FALL,17.25,516687,5429306,229220320065,-130164300963,-99977064496\n2019-10-17 00:00:00,2077.94,FALL,4.89,314177,3484053,-9579471472,-94513433384,84331383093\n2019-10-16 00:00:00,2082.83,RISE,14.66,524545,4463659,-177394148252,4577206853,144702646598\n2019-10-15 00:00:00,2068.17,RISE,0.77,464533,4138985,27165428090,-60201552737,10908800101\n2019-10-14 00:00:00,2067.4,RISE,22.79,511215,4579415,-261208486935,22134976452,221866040613\n2019-10-11 00:00:00,2044.61,RISE,16.46,381147,3790613,-156161212685,109270821883,43761467629\n2019-10-10 00:00:00,2028.15,FALL,18.1,445846,5612446,228096548281,-137561655865,-95443688689\n2019-10-08 00:00:00,2046.25,RISE,24.52,437517,4256283,-255102756563,-46097194977,303487802077\n2019-10-07 00:00:00,2021.73,RISE,1.04,322184,3412076,-42333439977,-22884907049,44012442552\n2019-10-04 00:00:00,2020.69,FALL,11.22,402940,3963264,100059578604,-149003748294,24266249693\n2019-10-02 00:00:00,2031.91,FALL,40.51,414460,3933921,502162483818,-112448425614,-380898290327\n2019-10-01 00:00:00,2072.42,RISE,9.37,389336,3869998,-158455229247,-142618642344,295059996594\n2019-09-30 00:00:00,2063.05,RISE,13.12,327625,3709169,-98097153737,-475545562,81203653074\n2019-09-27 00:00:00,2049.93,FALL,24.59,285943,3489260,199478946968,-24901280381,-175507470047\n2019-09-26 00:00:00,2074.52,RISE,1.13,430577,4656831,51752933707,315990133016,-384835849198\n2019-09-25 00:00:00,2073.39,FALL,27.65,651551,5181991,222585025966,-366056304034,129146832772\n2019-09-24 00:00:00,2101.04,RISE,9.34,535771,4406729,-162028737165,-216239549194,377963881920\n2019-09-23 00:00:00,2091.7,RISE,0.18,420948,4095773,-22347560033,-68884269086,83893368149\n2019-09-20 00:00:00,2091.52,RISE,11.17,589919,5401656,-214725021463,44514968772,181593332070\n2019-09-19 00:00:00,2080.35,RISE,9.62,493037,4796838,-101076420785,218143869174,-99305988401\n2019-09-18 00:00:00,2070.73,RISE,8.4,613147,4849403,-161556343485,55855959664,107450902103\n2019-09-17 00:00:00,2062.33,RISE,0.11,507995,4572240,-31324847676,-80498635244,96187314534\n2019-09-16 00:00:00,2062.22,RISE,13.02,493516,5676634,-45665662398,-160248644647,198207559509\n2019-09-11 00:00:00,2049.2,RISE,17.12,429075,5997521,-334422549307,-283727737999,613450656344\n2019-09-10 00:00:00,2032.08,RISE,12.53,504390,4458784,-191938842008,14629865416,171307182962\n2019-09-09 00:00:00,2019.55,RISE,10.42,511821,4401821,-173010797338,233532689344,-74667972573\n2019-09-06 00:00:00,2009.13,RISE,4.38,384440,3667155,-33833975404,48317361339,-19925504719\n2019-09-05 00:00:00,2004.75,RISE,16.22,488067,5556532,-284403732799,188025900794,92947264356\n2019-09-04 00:00:00,1988.53,RISE,22.84,348722,4133684,-149628132398,-350239221648,482953130991\n2019-09-03 00:00:00,1965.69,FALL,3.5,342077,3916057,40405280337,-305062695357,249135022693\n2019-09-02 00:00:00,1969.19,RISE,1.4,262154,2924232,-19632365980,-124189500551,132218528837\n2019-08-30 00:00:00,1967.79,RISE,34.38,317733,4371488,-398216732876,224313278883,165158072830\n2019-08-29 00:00:00,1933.41,FALL,7.68,285103,3709595,52354071793,-112942804811,45450492044\n2019-08-28 00:00:00,1941.09,RISE,16.49,284344,3288745,-74887457987,-52144060447,106188638593\n2019-08-27 00:00:00,1924.6,RISE,8.29,427042,5037419,-30920547065,-118071560217,131310675848\n2019-08-26 00:00:00,1916.31,FALL,31.99,324853,3751275,53432164770,-117499577116,70914593951\n2019-08-23 00:00:00,1948.3,FALL,2.71,381086,3498464,-91222239146,7492820208,66365573782\n2019-08-22 00:00:00,1951.01,FALL,13.64,435564,4095130,161865603724,-122875847809,-51246331463\n2019-08-21 00:00:00,1964.65,RISE,4.4,391567,3821800,100467451387,-127370846222,4752606868\n2019-08-20 00:00:00,1960.25,RISE,20.35,463604,4130252,-59971389966,113008010709,-72294462481\n2019-08-19 00:00:00,1939.9,RISE,12.73,481022,3771542,-57323479255,-139177830251,186928491641\n2019-08-16 00:00:00,1927.17,FALL,11.2,421682,4274269,54935987001,-93656571037,15260133268\n2019-08-14 00:00:00,1938.37,RISE,12.54,699585,5076486,51953202146,-50129997513,-24330176800\n2019-08-13 00:00:00,1925.83,FALL,16.46,660040,4340208,155826882552,-176459913402,-2380357390\n2019-08-12 00:00:00,1942.29,RISE,4.54,427140,3997754,184119206841,-2395929386,-185360740676\n2019-08-09 00:00:00,1937.75,RISE,17.14,654344,5051265,215206061014,-4334615152,-229155018247\n2019-08-08 00:00:00,1920.61,RISE,10.9,777165,6769546,238953911687,-101694690381,-141687955340\n2019-08-07 00:00:00,1909.71,FALL,7.79,760777,5373398,176924442075,-97980977628,-98993496249\n2019-08-06 00:00:00,1917.5,FALL,29.48,739588,7179083,-443939223985,-605553038200,1033727530027\n2019-08-05 00:00:00,1946.98,FALL,51.15,639603,6599770,-443678573896,-316921730824,735509370197\n2019-08-02 00:00:00,1998.13,FALL,19.21,438538,5338221,14287893269,-397933068513,362568870372\n2019-08-01 00:00:00,2017.34,FALL,7.21,461743,4443149,-87314908217,-5092952337,83630987901\n2019-07-31 00:00:00,2024.55,FALL,14.13,589386,5532912,-77404357141,-49583350880,120876288754\n2019-07-30 00:00:00,2038.68,RISE,9.2,547029,3877489,-146922035051,141017930442,3852103061\n2019-07-29 00:00:00,2029.48,FALL,36.78,608670,4681216,-76722402182,-62489251406,135001794966\n2019-07-26 00:00:00,2066.26,FALL,8.22,589074,5138752,-22056026426,118419478003,-103154160451\n2019-07-25 00:00:00,2074.48,FALL,7.82,598634,5207429,45734287679,112419778174,-153627893831\n2019-07-24 00:00:00,2082.3,FALL,19.15,851392,4233306,53253266145,58544880573,-113962559883\n2019-07-23 00:00:00,2101.45,RISE,8.11,648123,4601029,-283310817272,285705105671,3663580547\n2019-07-22 00:00:00,2093.34,FALL,1.02,332629,3206206,-64682614027,233499184472,-168552083597\n",
          "name": "stdout"
        }
      ]
    },
    {
      "metadata": {
        "trusted": true
      },
      "cell_type": "code",
      "source": "with open(\"./daum_kospi.csv\",'w', encoding='utf-8-sig') as f:\n    f.write(\",\".join(list(content.keys())) + \"\\n\")\n    for content in json_r['data']:\n        f.write(\",\".join([str(x) for x in list(content.values())]) + \"\\n\")",
      "execution_count": 37,
      "outputs": []
    },
    {
      "metadata": {
        "trusted": true
      },
      "cell_type": "code",
      "source": "pd.DataFrame(json_r['data']).to_csv(\"./dau,_kospi2.csv\", index = False)",
      "execution_count": 38,
      "outputs": []
    },
    {
      "metadata": {
        "trusted": true
      },
      "cell_type": "code",
      "source": "",
      "execution_count": null,
      "outputs": []
    },
    {
      "metadata": {
        "trusted": true
      },
      "cell_type": "code",
      "source": "",
      "execution_count": null,
      "outputs": []
    },
    {
      "metadata": {
        "trusted": true
      },
      "cell_type": "code",
      "source": "",
      "execution_count": null,
      "outputs": []
    },
    {
      "metadata": {
        "trusted": true
      },
      "cell_type": "code",
      "source": "",
      "execution_count": null,
      "outputs": []
    },
    {
      "metadata": {
        "trusted": true
      },
      "cell_type": "code",
      "source": "",
      "execution_count": null,
      "outputs": []
    },
    {
      "metadata": {
        "trusted": true
      },
      "cell_type": "code",
      "source": "",
      "execution_count": null,
      "outputs": []
    },
    {
      "metadata": {
        "trusted": true
      },
      "cell_type": "code",
      "source": "",
      "execution_count": null,
      "outputs": []
    },
    {
      "metadata": {
        "trusted": true
      },
      "cell_type": "code",
      "source": "",
      "execution_count": null,
      "outputs": []
    }
  ],
  "metadata": {
    "kernelspec": {
      "name": "python36",
      "display_name": "Python 3.6",
      "language": "python"
    },
    "language_info": {
      "mimetype": "text/x-python",
      "nbconvert_exporter": "python",
      "name": "python",
      "pygments_lexer": "ipython3",
      "version": "3.6.6",
      "file_extension": ".py",
      "codemirror_mode": {
        "version": 3,
        "name": "ipython"
      }
    }
  },
  "nbformat": 4,
  "nbformat_minor": 2
}